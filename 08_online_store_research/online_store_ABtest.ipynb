{
 "cells": [
  {
   "cell_type": "markdown",
   "id": "89141781",
   "metadata": {},
   "source": [
    "# Исследование результатов А/В-теста интернет магазина"
   ]
  },
  {
   "cell_type": "markdown",
   "id": "19401244",
   "metadata": {},
   "source": [
    "В ходе данного исследования необходимо приоритизировать гипотезы, подготовленные для увеличения выручки крупного интернет магазина, запустить А/В тест и проанализировать результаты.\n",
    "\n",
    "Для выполнения задачи предоставлены следующие датасеты:\n",
    "- список гипотез;\n",
    "- таблица заказов интернет магазина с разбивкой по группам;\n",
    "- таблица с указанием количества пользователей по датам с разбивкой по группам."
   ]
  },
  {
   "cell_type": "markdown",
   "id": "95f35ce5",
   "metadata": {},
   "source": [
    "## Изучение общей информации"
   ]
  },
  {
   "cell_type": "markdown",
   "id": "9659b2b2",
   "metadata": {},
   "source": [
    "Импортируем все необходимые для работы библиотеки."
   ]
  },
  {
   "cell_type": "code",
   "execution_count": 1,
   "id": "c9ace6fd",
   "metadata": {},
   "outputs": [],
   "source": [
    "import pandas as pd\n",
    "import numpy as np\n",
    "import scipy.stats as stats\n",
    "import datetime as dt\n",
    "\n",
    "from matplotlib import pyplot as plt"
   ]
  },
  {
   "cell_type": "markdown",
   "id": "4f0352f8",
   "metadata": {},
   "source": [
    "Загрузим датасеты. Для удоства работы названия столбцов приведем к нижнему регистру. Столбцы с датами приведем к типу `datetime`"
   ]
  },
  {
   "cell_type": "code",
   "execution_count": 2,
   "id": "c529eb17",
   "metadata": {},
   "outputs": [
    {
     "data": {
      "text/html": [
       "<div>\n",
       "<style scoped>\n",
       "    .dataframe tbody tr th:only-of-type {\n",
       "        vertical-align: middle;\n",
       "    }\n",
       "\n",
       "    .dataframe tbody tr th {\n",
       "        vertical-align: top;\n",
       "    }\n",
       "\n",
       "    .dataframe thead th {\n",
       "        text-align: right;\n",
       "    }\n",
       "</style>\n",
       "<table border=\"1\" class=\"dataframe\">\n",
       "  <thead>\n",
       "    <tr style=\"text-align: right;\">\n",
       "      <th></th>\n",
       "      <th>hypothesis</th>\n",
       "      <th>reach</th>\n",
       "      <th>impact</th>\n",
       "      <th>confidence</th>\n",
       "      <th>efforts</th>\n",
       "    </tr>\n",
       "  </thead>\n",
       "  <tbody>\n",
       "    <tr>\n",
       "      <th>0</th>\n",
       "      <td>Добавить два новых канала привлечения трафика,...</td>\n",
       "      <td>3</td>\n",
       "      <td>10</td>\n",
       "      <td>8</td>\n",
       "      <td>6</td>\n",
       "    </tr>\n",
       "    <tr>\n",
       "      <th>1</th>\n",
       "      <td>Запустить собственную службу доставки, что сок...</td>\n",
       "      <td>2</td>\n",
       "      <td>5</td>\n",
       "      <td>4</td>\n",
       "      <td>10</td>\n",
       "    </tr>\n",
       "    <tr>\n",
       "      <th>2</th>\n",
       "      <td>Добавить блоки рекомендаций товаров на сайт ин...</td>\n",
       "      <td>8</td>\n",
       "      <td>3</td>\n",
       "      <td>7</td>\n",
       "      <td>3</td>\n",
       "    </tr>\n",
       "    <tr>\n",
       "      <th>3</th>\n",
       "      <td>Изменить структура категорий, что увеличит кон...</td>\n",
       "      <td>8</td>\n",
       "      <td>3</td>\n",
       "      <td>3</td>\n",
       "      <td>8</td>\n",
       "    </tr>\n",
       "    <tr>\n",
       "      <th>4</th>\n",
       "      <td>Изменить цвет фона главной страницы, чтобы уве...</td>\n",
       "      <td>3</td>\n",
       "      <td>1</td>\n",
       "      <td>1</td>\n",
       "      <td>1</td>\n",
       "    </tr>\n",
       "    <tr>\n",
       "      <th>5</th>\n",
       "      <td>Добавить страницу отзывов клиентов о магазине,...</td>\n",
       "      <td>3</td>\n",
       "      <td>2</td>\n",
       "      <td>2</td>\n",
       "      <td>3</td>\n",
       "    </tr>\n",
       "    <tr>\n",
       "      <th>6</th>\n",
       "      <td>Показать на главной странице баннеры с актуаль...</td>\n",
       "      <td>5</td>\n",
       "      <td>3</td>\n",
       "      <td>8</td>\n",
       "      <td>3</td>\n",
       "    </tr>\n",
       "    <tr>\n",
       "      <th>7</th>\n",
       "      <td>Добавить форму подписки на все основные страни...</td>\n",
       "      <td>10</td>\n",
       "      <td>7</td>\n",
       "      <td>8</td>\n",
       "      <td>5</td>\n",
       "    </tr>\n",
       "    <tr>\n",
       "      <th>8</th>\n",
       "      <td>Запустить акцию, дающую скидку на товар в день...</td>\n",
       "      <td>1</td>\n",
       "      <td>9</td>\n",
       "      <td>9</td>\n",
       "      <td>5</td>\n",
       "    </tr>\n",
       "  </tbody>\n",
       "</table>\n",
       "</div>"
      ],
      "text/plain": [
       "                                          hypothesis  reach  impact  \\\n",
       "0  Добавить два новых канала привлечения трафика,...      3      10   \n",
       "1  Запустить собственную службу доставки, что сок...      2       5   \n",
       "2  Добавить блоки рекомендаций товаров на сайт ин...      8       3   \n",
       "3  Изменить структура категорий, что увеличит кон...      8       3   \n",
       "4  Изменить цвет фона главной страницы, чтобы уве...      3       1   \n",
       "5  Добавить страницу отзывов клиентов о магазине,...      3       2   \n",
       "6  Показать на главной странице баннеры с актуаль...      5       3   \n",
       "7  Добавить форму подписки на все основные страни...     10       7   \n",
       "8  Запустить акцию, дающую скидку на товар в день...      1       9   \n",
       "\n",
       "   confidence  efforts  \n",
       "0           8        6  \n",
       "1           4       10  \n",
       "2           7        3  \n",
       "3           3        8  \n",
       "4           1        1  \n",
       "5           2        3  \n",
       "6           8        3  \n",
       "7           8        5  \n",
       "8           9        5  "
      ]
     },
     "execution_count": 2,
     "metadata": {},
     "output_type": "execute_result"
    }
   ],
   "source": [
    "try:\n",
    "    hypothesis = pd.read_csv('/datasets/hypothesis.csv')\n",
    "except:\n",
    "    hypothesis = pd.read_csv('https://code.s3.yandex.net/datasets/hypothesis.csv')\n",
    "    \n",
    "hypothesis.columns = hypothesis.columns.str.lower()\n",
    "hypothesis"
   ]
  },
  {
   "cell_type": "markdown",
   "id": "a1146cd4",
   "metadata": {},
   "source": [
    "**Описание данных:**\n",
    "- `Hypothesis` — краткое описание гипотезы;\n",
    "- `Reach` — охват пользователей по 10-балльной шкале;\n",
    "- `Impact` — влияние на пользователей по 10-балльной шкале;\n",
    "- `Confidence` — уверенность в гипотезе по 10-балльной шкале;\n",
    "- `Efforts` — затраты ресурсов на проверку гипотезы по 10-балльной шкале. Чем больше значение Efforts, тем дороже проверка "
   ]
  },
  {
   "cell_type": "code",
   "execution_count": 3,
   "id": "8ea51848",
   "metadata": {},
   "outputs": [
    {
     "data": {
      "text/html": [
       "<div>\n",
       "<style scoped>\n",
       "    .dataframe tbody tr th:only-of-type {\n",
       "        vertical-align: middle;\n",
       "    }\n",
       "\n",
       "    .dataframe tbody tr th {\n",
       "        vertical-align: top;\n",
       "    }\n",
       "\n",
       "    .dataframe thead th {\n",
       "        text-align: right;\n",
       "    }\n",
       "</style>\n",
       "<table border=\"1\" class=\"dataframe\">\n",
       "  <thead>\n",
       "    <tr style=\"text-align: right;\">\n",
       "      <th></th>\n",
       "      <th>transactionId</th>\n",
       "      <th>visitorId</th>\n",
       "      <th>date</th>\n",
       "      <th>revenue</th>\n",
       "      <th>group</th>\n",
       "    </tr>\n",
       "  </thead>\n",
       "  <tbody>\n",
       "    <tr>\n",
       "      <th>0</th>\n",
       "      <td>3667963787</td>\n",
       "      <td>3312258926</td>\n",
       "      <td>2019-08-15</td>\n",
       "      <td>1650</td>\n",
       "      <td>B</td>\n",
       "    </tr>\n",
       "    <tr>\n",
       "      <th>1</th>\n",
       "      <td>2804400009</td>\n",
       "      <td>3642806036</td>\n",
       "      <td>2019-08-15</td>\n",
       "      <td>730</td>\n",
       "      <td>B</td>\n",
       "    </tr>\n",
       "    <tr>\n",
       "      <th>2</th>\n",
       "      <td>2961555356</td>\n",
       "      <td>4069496402</td>\n",
       "      <td>2019-08-15</td>\n",
       "      <td>400</td>\n",
       "      <td>A</td>\n",
       "    </tr>\n",
       "    <tr>\n",
       "      <th>3</th>\n",
       "      <td>3797467345</td>\n",
       "      <td>1196621759</td>\n",
       "      <td>2019-08-15</td>\n",
       "      <td>9759</td>\n",
       "      <td>B</td>\n",
       "    </tr>\n",
       "    <tr>\n",
       "      <th>4</th>\n",
       "      <td>2282983706</td>\n",
       "      <td>2322279887</td>\n",
       "      <td>2019-08-15</td>\n",
       "      <td>2308</td>\n",
       "      <td>B</td>\n",
       "    </tr>\n",
       "    <tr>\n",
       "      <th>...</th>\n",
       "      <td>...</td>\n",
       "      <td>...</td>\n",
       "      <td>...</td>\n",
       "      <td>...</td>\n",
       "      <td>...</td>\n",
       "    </tr>\n",
       "    <tr>\n",
       "      <th>1192</th>\n",
       "      <td>2662137336</td>\n",
       "      <td>3733762160</td>\n",
       "      <td>2019-08-14</td>\n",
       "      <td>6490</td>\n",
       "      <td>B</td>\n",
       "    </tr>\n",
       "    <tr>\n",
       "      <th>1193</th>\n",
       "      <td>2203539145</td>\n",
       "      <td>370388673</td>\n",
       "      <td>2019-08-14</td>\n",
       "      <td>3190</td>\n",
       "      <td>A</td>\n",
       "    </tr>\n",
       "    <tr>\n",
       "      <th>1194</th>\n",
       "      <td>1807773912</td>\n",
       "      <td>573423106</td>\n",
       "      <td>2019-08-14</td>\n",
       "      <td>10550</td>\n",
       "      <td>A</td>\n",
       "    </tr>\n",
       "    <tr>\n",
       "      <th>1195</th>\n",
       "      <td>1947021204</td>\n",
       "      <td>1614305549</td>\n",
       "      <td>2019-08-14</td>\n",
       "      <td>100</td>\n",
       "      <td>A</td>\n",
       "    </tr>\n",
       "    <tr>\n",
       "      <th>1196</th>\n",
       "      <td>3936777065</td>\n",
       "      <td>2108080724</td>\n",
       "      <td>2019-08-15</td>\n",
       "      <td>202740</td>\n",
       "      <td>B</td>\n",
       "    </tr>\n",
       "  </tbody>\n",
       "</table>\n",
       "<p>1197 rows × 5 columns</p>\n",
       "</div>"
      ],
      "text/plain": [
       "      transactionId   visitorId        date  revenue group\n",
       "0        3667963787  3312258926  2019-08-15     1650     B\n",
       "1        2804400009  3642806036  2019-08-15      730     B\n",
       "2        2961555356  4069496402  2019-08-15      400     A\n",
       "3        3797467345  1196621759  2019-08-15     9759     B\n",
       "4        2282983706  2322279887  2019-08-15     2308     B\n",
       "...             ...         ...         ...      ...   ...\n",
       "1192     2662137336  3733762160  2019-08-14     6490     B\n",
       "1193     2203539145   370388673  2019-08-14     3190     A\n",
       "1194     1807773912   573423106  2019-08-14    10550     A\n",
       "1195     1947021204  1614305549  2019-08-14      100     A\n",
       "1196     3936777065  2108080724  2019-08-15   202740     B\n",
       "\n",
       "[1197 rows x 5 columns]"
      ]
     },
     "execution_count": 3,
     "metadata": {},
     "output_type": "execute_result"
    }
   ],
   "source": [
    "try:\n",
    "    orders = pd.read_csv('/datasets/orders.csv')\n",
    "except:\n",
    "    orders = pd.read_csv('orders.csv')\n",
    "\n",
    "orders"
   ]
  },
  {
   "cell_type": "code",
   "execution_count": 4,
   "id": "66fa8e9b",
   "metadata": {},
   "outputs": [],
   "source": [
    "orders['date'] = pd.to_datetime(orders['date'], format='%Y-%m-%d')"
   ]
  },
  {
   "cell_type": "markdown",
   "id": "57cc0b06",
   "metadata": {},
   "source": [
    "**Описание данных:**\n",
    "- `transactionId` — идентификатор заказа;\n",
    "- `visitorId` — идентификатор пользователя, совершившего заказ;\n",
    "- `date` — дата, когда был совершён заказ;\n",
    "- `revenue` — выручка заказа;\n",
    "- `group` — группа A/B-теста, в которую попал заказ"
   ]
  },
  {
   "cell_type": "code",
   "execution_count": 5,
   "id": "8f3b6a8d",
   "metadata": {
    "scrolled": false
   },
   "outputs": [
    {
     "data": {
      "text/html": [
       "<div>\n",
       "<style scoped>\n",
       "    .dataframe tbody tr th:only-of-type {\n",
       "        vertical-align: middle;\n",
       "    }\n",
       "\n",
       "    .dataframe tbody tr th {\n",
       "        vertical-align: top;\n",
       "    }\n",
       "\n",
       "    .dataframe thead th {\n",
       "        text-align: right;\n",
       "    }\n",
       "</style>\n",
       "<table border=\"1\" class=\"dataframe\">\n",
       "  <thead>\n",
       "    <tr style=\"text-align: right;\">\n",
       "      <th></th>\n",
       "      <th>date</th>\n",
       "      <th>group</th>\n",
       "      <th>visitors</th>\n",
       "    </tr>\n",
       "  </thead>\n",
       "  <tbody>\n",
       "    <tr>\n",
       "      <th>0</th>\n",
       "      <td>2019-08-01</td>\n",
       "      <td>A</td>\n",
       "      <td>719</td>\n",
       "    </tr>\n",
       "    <tr>\n",
       "      <th>1</th>\n",
       "      <td>2019-08-02</td>\n",
       "      <td>A</td>\n",
       "      <td>619</td>\n",
       "    </tr>\n",
       "    <tr>\n",
       "      <th>2</th>\n",
       "      <td>2019-08-03</td>\n",
       "      <td>A</td>\n",
       "      <td>507</td>\n",
       "    </tr>\n",
       "    <tr>\n",
       "      <th>3</th>\n",
       "      <td>2019-08-04</td>\n",
       "      <td>A</td>\n",
       "      <td>717</td>\n",
       "    </tr>\n",
       "    <tr>\n",
       "      <th>4</th>\n",
       "      <td>2019-08-05</td>\n",
       "      <td>A</td>\n",
       "      <td>756</td>\n",
       "    </tr>\n",
       "    <tr>\n",
       "      <th>...</th>\n",
       "      <td>...</td>\n",
       "      <td>...</td>\n",
       "      <td>...</td>\n",
       "    </tr>\n",
       "    <tr>\n",
       "      <th>57</th>\n",
       "      <td>2019-08-27</td>\n",
       "      <td>B</td>\n",
       "      <td>720</td>\n",
       "    </tr>\n",
       "    <tr>\n",
       "      <th>58</th>\n",
       "      <td>2019-08-28</td>\n",
       "      <td>B</td>\n",
       "      <td>654</td>\n",
       "    </tr>\n",
       "    <tr>\n",
       "      <th>59</th>\n",
       "      <td>2019-08-29</td>\n",
       "      <td>B</td>\n",
       "      <td>531</td>\n",
       "    </tr>\n",
       "    <tr>\n",
       "      <th>60</th>\n",
       "      <td>2019-08-30</td>\n",
       "      <td>B</td>\n",
       "      <td>490</td>\n",
       "    </tr>\n",
       "    <tr>\n",
       "      <th>61</th>\n",
       "      <td>2019-08-31</td>\n",
       "      <td>B</td>\n",
       "      <td>718</td>\n",
       "    </tr>\n",
       "  </tbody>\n",
       "</table>\n",
       "<p>62 rows × 3 columns</p>\n",
       "</div>"
      ],
      "text/plain": [
       "          date group  visitors\n",
       "0   2019-08-01     A       719\n",
       "1   2019-08-02     A       619\n",
       "2   2019-08-03     A       507\n",
       "3   2019-08-04     A       717\n",
       "4   2019-08-05     A       756\n",
       "..         ...   ...       ...\n",
       "57  2019-08-27     B       720\n",
       "58  2019-08-28     B       654\n",
       "59  2019-08-29     B       531\n",
       "60  2019-08-30     B       490\n",
       "61  2019-08-31     B       718\n",
       "\n",
       "[62 rows x 3 columns]"
      ]
     },
     "execution_count": 5,
     "metadata": {},
     "output_type": "execute_result"
    }
   ],
   "source": [
    "try:\n",
    "    visitors = pd.read_csv('/datasets/visitors.csv')\n",
    "except:\n",
    "    visitors = pd.read_csv('visitors.csv')\n",
    "\n",
    "visitors"
   ]
  },
  {
   "cell_type": "code",
   "execution_count": 6,
   "id": "011309d4",
   "metadata": {},
   "outputs": [],
   "source": [
    "visitors['date'] = pd.to_datetime(visitors['date'], format='%Y-%m-%d')"
   ]
  },
  {
   "cell_type": "markdown",
   "id": "6ad6fd86",
   "metadata": {},
   "source": [
    "**Описание данных:**\n",
    "- `date` — дата;\n",
    "- `group` — группа A/B-теста;\n",
    "- `visitors` — количество пользователей в указанную дату в указанной группе A/B-теста"
   ]
  },
  {
   "cell_type": "markdown",
   "id": "1773bc92",
   "metadata": {},
   "source": [
    "Проверим качество распределения пользователей по группам. Сгруппируем заказы по пользователям и посчитаем для каждого количество уникальных значений присвоенной группы. Выведем количество пользователей которые попали в 2 группы одновременно."
   ]
  },
  {
   "cell_type": "code",
   "execution_count": 7,
   "id": "2cea2872",
   "metadata": {},
   "outputs": [
    {
     "data": {
      "text/plain": [
       "58"
      ]
     },
     "execution_count": 7,
     "metadata": {},
     "output_type": "execute_result"
    }
   ],
   "source": [
    "orders.groupby('visitorId', as_index=False)['group'].nunique().query('group > 1')['visitorId'].count()"
   ]
  },
  {
   "cell_type": "markdown",
   "id": "c400c8eb",
   "metadata": {},
   "source": [
    "Исключим таких пользователей, чтобы не искажать результаты теста."
   ]
  },
  {
   "cell_type": "code",
   "execution_count": 8,
   "id": "f314e240",
   "metadata": {},
   "outputs": [],
   "source": [
    "orders = orders[~(orders['visitorId'].isin(\n",
    "    orders.groupby('visitorId', as_index=False)['group']\n",
    "    .nunique().query('group > 1')['visitorId']))]"
   ]
  },
  {
   "cell_type": "markdown",
   "id": "3f958cec",
   "metadata": {},
   "source": [
    "Определим даты начала и окончания А/В-теста."
   ]
  },
  {
   "cell_type": "code",
   "execution_count": 9,
   "id": "214e4c49",
   "metadata": {
    "scrolled": true
   },
   "outputs": [
    {
     "name": "stdout",
     "output_type": "stream",
     "text": [
      "Дата начала А/В-теста: 2019-08-01\n",
      "Дата окончания А/В-теста 2019-08-31\n"
     ]
    }
   ],
   "source": [
    "print(f'''Дата начала А/В-теста: {orders.date.min().date()}\n",
    "Дата окончания А/В-теста {orders.date.max().date()}''')"
   ]
  },
  {
   "cell_type": "markdown",
   "id": "fc82cb82",
   "metadata": {},
   "source": [
    "Найдем суммарное количество уникальных пользователей, сделавших заказ для каждой группы."
   ]
  },
  {
   "cell_type": "code",
   "execution_count": 10,
   "id": "16796549",
   "metadata": {},
   "outputs": [
    {
     "data": {
      "text/plain": [
       "group\n",
       "A    445\n",
       "B    528\n",
       "Name: visitorId, dtype: int64"
      ]
     },
     "execution_count": 10,
     "metadata": {},
     "output_type": "execute_result"
    }
   ],
   "source": [
    "orders.groupby('group')['visitorId'].nunique()"
   ]
  },
  {
   "cell_type": "code",
   "execution_count": 11,
   "id": "60ae78d9",
   "metadata": {
    "scrolled": true
   },
   "outputs": [
    {
     "name": "stdout",
     "output_type": "stream",
     "text": [
      "Разница между группами составляет 0.1572\n"
     ]
    }
   ],
   "source": [
    "print('Разница между группами составляет',\\\n",
    "      abs(\n",
    "    round(\n",
    "        ((orders.groupby('group')['visitorId'].nunique()[0]/orders.groupby('group')['visitorId'].nunique()[1]) - 1), 4\n",
    "    )))"
   ]
  },
  {
   "cell_type": "markdown",
   "id": "f82e921a",
   "metadata": {},
   "source": [
    "А/В-тест парный. В группе А - 445 пользователей, в группе В - 528 пользователей. Разница между группами составляет 16%."
   ]
  },
  {
   "cell_type": "markdown",
   "id": "5e267c55",
   "metadata": {},
   "source": [
    "Проверим данные на наличие пропусков и дубликатов."
   ]
  },
  {
   "cell_type": "code",
   "execution_count": 12,
   "id": "654fc9e6",
   "metadata": {
    "scrolled": false
   },
   "outputs": [
    {
     "name": "stdout",
     "output_type": "stream",
     "text": [
      "hypothesis\n",
      "\n",
      "Количество дубликатов строк: 0\n",
      "\n",
      "Количество пропусков по столбцам:\n",
      "hypothesis    0\n",
      "reach         0\n",
      "impact        0\n",
      "confidence    0\n",
      "efforts       0\n",
      "dtype: int64\n",
      "------------------------------\n",
      "orders\n",
      "\n",
      "Количество дубликатов строк: 0\n",
      "\n",
      "Количество пропусков по столбцам:\n",
      "transactionId    0\n",
      "visitorId        0\n",
      "date             0\n",
      "revenue          0\n",
      "group            0\n",
      "dtype: int64\n",
      "------------------------------\n",
      "visitors\n",
      "\n",
      "Количество дубликатов строк: 0\n",
      "\n",
      "Количество пропусков по столбцам:\n",
      "date        0\n",
      "group       0\n",
      "visitors    0\n",
      "dtype: int64\n",
      "------------------------------\n"
     ]
    }
   ],
   "source": [
    "dict = {'hypothesis':hypothesis, 'orders':orders, 'visitors':visitors}\n",
    "for i in dict:\n",
    "    print(i)\n",
    "    print('')\n",
    "    print('Количество дубликатов строк:', dict[i].duplicated().sum())\n",
    "    print('')\n",
    "    print('Количество пропусков по столбцам:')\n",
    "    print(dict[i].isna().sum())\n",
    "    print('-'*30)"
   ]
  },
  {
   "cell_type": "markdown",
   "id": "71358f30",
   "metadata": {},
   "source": [
    "Пропуски и дубликаты строк в данных отсутствуют."
   ]
  },
  {
   "cell_type": "markdown",
   "id": "260abcb7",
   "metadata": {},
   "source": [
    "## Приоритизация гипотез"
   ]
  },
  {
   "cell_type": "code",
   "execution_count": 13,
   "id": "e4401fc5",
   "metadata": {},
   "outputs": [
    {
     "data": {
      "text/html": [
       "<div>\n",
       "<style scoped>\n",
       "    .dataframe tbody tr th:only-of-type {\n",
       "        vertical-align: middle;\n",
       "    }\n",
       "\n",
       "    .dataframe tbody tr th {\n",
       "        vertical-align: top;\n",
       "    }\n",
       "\n",
       "    .dataframe thead th {\n",
       "        text-align: right;\n",
       "    }\n",
       "</style>\n",
       "<table border=\"1\" class=\"dataframe\">\n",
       "  <thead>\n",
       "    <tr style=\"text-align: right;\">\n",
       "      <th></th>\n",
       "      <th>hypothesis</th>\n",
       "      <th>reach</th>\n",
       "      <th>impact</th>\n",
       "      <th>confidence</th>\n",
       "      <th>efforts</th>\n",
       "    </tr>\n",
       "  </thead>\n",
       "  <tbody>\n",
       "    <tr>\n",
       "      <th>0</th>\n",
       "      <td>Добавить два новых канала привлечения трафика,...</td>\n",
       "      <td>3</td>\n",
       "      <td>10</td>\n",
       "      <td>8</td>\n",
       "      <td>6</td>\n",
       "    </tr>\n",
       "    <tr>\n",
       "      <th>1</th>\n",
       "      <td>Запустить собственную службу доставки, что сок...</td>\n",
       "      <td>2</td>\n",
       "      <td>5</td>\n",
       "      <td>4</td>\n",
       "      <td>10</td>\n",
       "    </tr>\n",
       "    <tr>\n",
       "      <th>2</th>\n",
       "      <td>Добавить блоки рекомендаций товаров на сайт ин...</td>\n",
       "      <td>8</td>\n",
       "      <td>3</td>\n",
       "      <td>7</td>\n",
       "      <td>3</td>\n",
       "    </tr>\n",
       "    <tr>\n",
       "      <th>3</th>\n",
       "      <td>Изменить структура категорий, что увеличит кон...</td>\n",
       "      <td>8</td>\n",
       "      <td>3</td>\n",
       "      <td>3</td>\n",
       "      <td>8</td>\n",
       "    </tr>\n",
       "    <tr>\n",
       "      <th>4</th>\n",
       "      <td>Изменить цвет фона главной страницы, чтобы уве...</td>\n",
       "      <td>3</td>\n",
       "      <td>1</td>\n",
       "      <td>1</td>\n",
       "      <td>1</td>\n",
       "    </tr>\n",
       "    <tr>\n",
       "      <th>5</th>\n",
       "      <td>Добавить страницу отзывов клиентов о магазине,...</td>\n",
       "      <td>3</td>\n",
       "      <td>2</td>\n",
       "      <td>2</td>\n",
       "      <td>3</td>\n",
       "    </tr>\n",
       "    <tr>\n",
       "      <th>6</th>\n",
       "      <td>Показать на главной странице баннеры с актуаль...</td>\n",
       "      <td>5</td>\n",
       "      <td>3</td>\n",
       "      <td>8</td>\n",
       "      <td>3</td>\n",
       "    </tr>\n",
       "    <tr>\n",
       "      <th>7</th>\n",
       "      <td>Добавить форму подписки на все основные страни...</td>\n",
       "      <td>10</td>\n",
       "      <td>7</td>\n",
       "      <td>8</td>\n",
       "      <td>5</td>\n",
       "    </tr>\n",
       "    <tr>\n",
       "      <th>8</th>\n",
       "      <td>Запустить акцию, дающую скидку на товар в день...</td>\n",
       "      <td>1</td>\n",
       "      <td>9</td>\n",
       "      <td>9</td>\n",
       "      <td>5</td>\n",
       "    </tr>\n",
       "  </tbody>\n",
       "</table>\n",
       "</div>"
      ],
      "text/plain": [
       "                                          hypothesis  reach  impact  \\\n",
       "0  Добавить два новых канала привлечения трафика,...      3      10   \n",
       "1  Запустить собственную службу доставки, что сок...      2       5   \n",
       "2  Добавить блоки рекомендаций товаров на сайт ин...      8       3   \n",
       "3  Изменить структура категорий, что увеличит кон...      8       3   \n",
       "4  Изменить цвет фона главной страницы, чтобы уве...      3       1   \n",
       "5  Добавить страницу отзывов клиентов о магазине,...      3       2   \n",
       "6  Показать на главной странице баннеры с актуаль...      5       3   \n",
       "7  Добавить форму подписки на все основные страни...     10       7   \n",
       "8  Запустить акцию, дающую скидку на товар в день...      1       9   \n",
       "\n",
       "   confidence  efforts  \n",
       "0           8        6  \n",
       "1           4       10  \n",
       "2           7        3  \n",
       "3           3        8  \n",
       "4           1        1  \n",
       "5           2        3  \n",
       "6           8        3  \n",
       "7           8        5  \n",
       "8           9        5  "
      ]
     },
     "execution_count": 13,
     "metadata": {},
     "output_type": "execute_result"
    }
   ],
   "source": [
    "hypothesis"
   ]
  },
  {
   "cell_type": "markdown",
   "id": "0a199ce5",
   "metadata": {},
   "source": [
    "Применим фреймворки `ICE` и `RICE` для приоритизации гипотез для этого добавим в таблицу столбцы с рассчитанными показателями."
   ]
  },
  {
   "cell_type": "markdown",
   "id": "c823d131",
   "metadata": {},
   "source": [
    "Показатели фреймворков рассчитываются по следующим компонентам:\n",
    "\n",
    "* `Reach` — скольких пользователей затронет изменение, которое вы хотите внести;\n",
    "* `Impact` — насколько сильно изменение повлияет на пользователей, их опыт и удовлетворение от продукта;\n",
    "* `Confidence` — насколько вы уверены, что это изменение повлияет на пользователей именно так; \n",
    "* `Efforts` — сколько стоит протестировать эту гипотезу.\n",
    "\n",
    "В фреймворке `ICE` задействованы компоненты Impact, Confidence, Efforts. Фреймворк `RICE` дополнительно к ним задействует Reach."
   ]
  },
  {
   "cell_type": "code",
   "execution_count": 14,
   "id": "8acb61b1",
   "metadata": {},
   "outputs": [],
   "source": [
    "hypothesis['ICE'] = round((hypothesis['impact'] * hypothesis['confidence']) / hypothesis['efforts'], 2)\n",
    "hypothesis['RICE'] = round((hypothesis['reach'] * hypothesis['impact'] * hypothesis['confidence']) / hypothesis['efforts'], 2)"
   ]
  },
  {
   "cell_type": "code",
   "execution_count": 15,
   "id": "4e1df8ab",
   "metadata": {},
   "outputs": [],
   "source": [
    "pd.set_option('max_colwidth', 200) # Для полного отображения текста в ячейках установим параметры set_option"
   ]
  },
  {
   "cell_type": "code",
   "execution_count": 16,
   "id": "3d254405",
   "metadata": {
    "scrolled": true
   },
   "outputs": [
    {
     "data": {
      "text/html": [
       "<div>\n",
       "<style scoped>\n",
       "    .dataframe tbody tr th:only-of-type {\n",
       "        vertical-align: middle;\n",
       "    }\n",
       "\n",
       "    .dataframe tbody tr th {\n",
       "        vertical-align: top;\n",
       "    }\n",
       "\n",
       "    .dataframe thead th {\n",
       "        text-align: right;\n",
       "    }\n",
       "</style>\n",
       "<table border=\"1\" class=\"dataframe\">\n",
       "  <thead>\n",
       "    <tr style=\"text-align: right;\">\n",
       "      <th></th>\n",
       "      <th>hypothesis</th>\n",
       "      <th>RICE</th>\n",
       "      <th>ICE</th>\n",
       "    </tr>\n",
       "  </thead>\n",
       "  <tbody>\n",
       "    <tr>\n",
       "      <th>7</th>\n",
       "      <td>Добавить форму подписки на все основные страницы, чтобы собрать базу клиентов для email-рассылок</td>\n",
       "      <td>112.0</td>\n",
       "      <td>11.20</td>\n",
       "    </tr>\n",
       "    <tr>\n",
       "      <th>2</th>\n",
       "      <td>Добавить блоки рекомендаций товаров на сайт интернет магазина, чтобы повысить конверсию и средний чек заказа</td>\n",
       "      <td>56.0</td>\n",
       "      <td>7.00</td>\n",
       "    </tr>\n",
       "    <tr>\n",
       "      <th>0</th>\n",
       "      <td>Добавить два новых канала привлечения трафика, что позволит привлекать на 30% больше пользователей</td>\n",
       "      <td>40.0</td>\n",
       "      <td>13.33</td>\n",
       "    </tr>\n",
       "    <tr>\n",
       "      <th>6</th>\n",
       "      <td>Показать на главной странице баннеры с актуальными акциями и распродажами, чтобы увеличить конверсию</td>\n",
       "      <td>40.0</td>\n",
       "      <td>8.00</td>\n",
       "    </tr>\n",
       "    <tr>\n",
       "      <th>8</th>\n",
       "      <td>Запустить акцию, дающую скидку на товар в день рождения</td>\n",
       "      <td>16.2</td>\n",
       "      <td>16.20</td>\n",
       "    </tr>\n",
       "    <tr>\n",
       "      <th>3</th>\n",
       "      <td>Изменить структура категорий, что увеличит конверсию, т.к. пользователи быстрее найдут нужный товар</td>\n",
       "      <td>9.0</td>\n",
       "      <td>1.12</td>\n",
       "    </tr>\n",
       "    <tr>\n",
       "      <th>1</th>\n",
       "      <td>Запустить собственную службу доставки, что сократит срок доставки заказов</td>\n",
       "      <td>4.0</td>\n",
       "      <td>2.00</td>\n",
       "    </tr>\n",
       "    <tr>\n",
       "      <th>5</th>\n",
       "      <td>Добавить страницу отзывов клиентов о магазине, что позволит увеличить количество заказов</td>\n",
       "      <td>4.0</td>\n",
       "      <td>1.33</td>\n",
       "    </tr>\n",
       "    <tr>\n",
       "      <th>4</th>\n",
       "      <td>Изменить цвет фона главной страницы, чтобы увеличить вовлеченность пользователей</td>\n",
       "      <td>3.0</td>\n",
       "      <td>1.00</td>\n",
       "    </tr>\n",
       "  </tbody>\n",
       "</table>\n",
       "</div>"
      ],
      "text/plain": [
       "                                                                                                     hypothesis  \\\n",
       "7              Добавить форму подписки на все основные страницы, чтобы собрать базу клиентов для email-рассылок   \n",
       "2  Добавить блоки рекомендаций товаров на сайт интернет магазина, чтобы повысить конверсию и средний чек заказа   \n",
       "0            Добавить два новых канала привлечения трафика, что позволит привлекать на 30% больше пользователей   \n",
       "6          Показать на главной странице баннеры с актуальными акциями и распродажами, чтобы увеличить конверсию   \n",
       "8                                                       Запустить акцию, дающую скидку на товар в день рождения   \n",
       "3           Изменить структура категорий, что увеличит конверсию, т.к. пользователи быстрее найдут нужный товар   \n",
       "1                                     Запустить собственную службу доставки, что сократит срок доставки заказов   \n",
       "5                      Добавить страницу отзывов клиентов о магазине, что позволит увеличить количество заказов   \n",
       "4                              Изменить цвет фона главной страницы, чтобы увеличить вовлеченность пользователей   \n",
       "\n",
       "    RICE    ICE  \n",
       "7  112.0  11.20  \n",
       "2   56.0   7.00  \n",
       "0   40.0  13.33  \n",
       "6   40.0   8.00  \n",
       "8   16.2  16.20  \n",
       "3    9.0   1.12  \n",
       "1    4.0   2.00  \n",
       "5    4.0   1.33  \n",
       "4    3.0   1.00  "
      ]
     },
     "execution_count": 16,
     "metadata": {},
     "output_type": "execute_result"
    }
   ],
   "source": [
    "hypothesis[['hypothesis', 'RICE', 'ICE']].sort_values('RICE', ascending=False)"
   ]
  },
  {
   "cell_type": "markdown",
   "id": "d4b01857",
   "metadata": {},
   "source": [
    "Для оценки гипотезы одновременно по двум параметрам создадим столбец `weight`, где укажем сумму отношений показателей фреймворков для каждой гипотезы к суммарному количеству очков каждого фреймворка. По нему отсортируем данные и определим приоритет гипотез с учетом двух фреймворков одновременно."
   ]
  },
  {
   "cell_type": "code",
   "execution_count": 17,
   "id": "1aab3a05",
   "metadata": {},
   "outputs": [
    {
     "data": {
      "text/html": [
       "<div>\n",
       "<style scoped>\n",
       "    .dataframe tbody tr th:only-of-type {\n",
       "        vertical-align: middle;\n",
       "    }\n",
       "\n",
       "    .dataframe tbody tr th {\n",
       "        vertical-align: top;\n",
       "    }\n",
       "\n",
       "    .dataframe thead th {\n",
       "        text-align: right;\n",
       "    }\n",
       "</style>\n",
       "<table border=\"1\" class=\"dataframe\">\n",
       "  <thead>\n",
       "    <tr style=\"text-align: right;\">\n",
       "      <th></th>\n",
       "      <th>hypothesis</th>\n",
       "      <th>reach</th>\n",
       "      <th>impact</th>\n",
       "      <th>confidence</th>\n",
       "      <th>efforts</th>\n",
       "      <th>ICE</th>\n",
       "      <th>RICE</th>\n",
       "      <th>weight</th>\n",
       "    </tr>\n",
       "  </thead>\n",
       "  <tbody>\n",
       "    <tr>\n",
       "      <th>7</th>\n",
       "      <td>Добавить форму подписки на все основные страницы, чтобы собрать базу клиентов для email-рассылок</td>\n",
       "      <td>10</td>\n",
       "      <td>7</td>\n",
       "      <td>8</td>\n",
       "      <td>5</td>\n",
       "      <td>11.20</td>\n",
       "      <td>112.0</td>\n",
       "      <td>0.58</td>\n",
       "    </tr>\n",
       "    <tr>\n",
       "      <th>0</th>\n",
       "      <td>Добавить два новых канала привлечения трафика, что позволит привлекать на 30% больше пользователей</td>\n",
       "      <td>3</td>\n",
       "      <td>10</td>\n",
       "      <td>8</td>\n",
       "      <td>6</td>\n",
       "      <td>13.33</td>\n",
       "      <td>40.0</td>\n",
       "      <td>0.36</td>\n",
       "    </tr>\n",
       "    <tr>\n",
       "      <th>8</th>\n",
       "      <td>Запустить акцию, дающую скидку на товар в день рождения</td>\n",
       "      <td>1</td>\n",
       "      <td>9</td>\n",
       "      <td>9</td>\n",
       "      <td>5</td>\n",
       "      <td>16.20</td>\n",
       "      <td>16.2</td>\n",
       "      <td>0.32</td>\n",
       "    </tr>\n",
       "    <tr>\n",
       "      <th>2</th>\n",
       "      <td>Добавить блоки рекомендаций товаров на сайт интернет магазина, чтобы повысить конверсию и средний чек заказа</td>\n",
       "      <td>8</td>\n",
       "      <td>3</td>\n",
       "      <td>7</td>\n",
       "      <td>3</td>\n",
       "      <td>7.00</td>\n",
       "      <td>56.0</td>\n",
       "      <td>0.31</td>\n",
       "    </tr>\n",
       "    <tr>\n",
       "      <th>6</th>\n",
       "      <td>Показать на главной странице баннеры с актуальными акциями и распродажами, чтобы увеличить конверсию</td>\n",
       "      <td>5</td>\n",
       "      <td>3</td>\n",
       "      <td>8</td>\n",
       "      <td>3</td>\n",
       "      <td>8.00</td>\n",
       "      <td>40.0</td>\n",
       "      <td>0.27</td>\n",
       "    </tr>\n",
       "    <tr>\n",
       "      <th>1</th>\n",
       "      <td>Запустить собственную службу доставки, что сократит срок доставки заказов</td>\n",
       "      <td>2</td>\n",
       "      <td>5</td>\n",
       "      <td>4</td>\n",
       "      <td>10</td>\n",
       "      <td>2.00</td>\n",
       "      <td>4.0</td>\n",
       "      <td>0.05</td>\n",
       "    </tr>\n",
       "    <tr>\n",
       "      <th>3</th>\n",
       "      <td>Изменить структура категорий, что увеличит конверсию, т.к. пользователи быстрее найдут нужный товар</td>\n",
       "      <td>8</td>\n",
       "      <td>3</td>\n",
       "      <td>3</td>\n",
       "      <td>8</td>\n",
       "      <td>1.12</td>\n",
       "      <td>9.0</td>\n",
       "      <td>0.05</td>\n",
       "    </tr>\n",
       "    <tr>\n",
       "      <th>5</th>\n",
       "      <td>Добавить страницу отзывов клиентов о магазине, что позволит увеличить количество заказов</td>\n",
       "      <td>3</td>\n",
       "      <td>2</td>\n",
       "      <td>2</td>\n",
       "      <td>3</td>\n",
       "      <td>1.33</td>\n",
       "      <td>4.0</td>\n",
       "      <td>0.04</td>\n",
       "    </tr>\n",
       "    <tr>\n",
       "      <th>4</th>\n",
       "      <td>Изменить цвет фона главной страницы, чтобы увеличить вовлеченность пользователей</td>\n",
       "      <td>3</td>\n",
       "      <td>1</td>\n",
       "      <td>1</td>\n",
       "      <td>1</td>\n",
       "      <td>1.00</td>\n",
       "      <td>3.0</td>\n",
       "      <td>0.03</td>\n",
       "    </tr>\n",
       "  </tbody>\n",
       "</table>\n",
       "</div>"
      ],
      "text/plain": [
       "                                                                                                     hypothesis  \\\n",
       "7              Добавить форму подписки на все основные страницы, чтобы собрать базу клиентов для email-рассылок   \n",
       "0            Добавить два новых канала привлечения трафика, что позволит привлекать на 30% больше пользователей   \n",
       "8                                                       Запустить акцию, дающую скидку на товар в день рождения   \n",
       "2  Добавить блоки рекомендаций товаров на сайт интернет магазина, чтобы повысить конверсию и средний чек заказа   \n",
       "6          Показать на главной странице баннеры с актуальными акциями и распродажами, чтобы увеличить конверсию   \n",
       "1                                     Запустить собственную службу доставки, что сократит срок доставки заказов   \n",
       "3           Изменить структура категорий, что увеличит конверсию, т.к. пользователи быстрее найдут нужный товар   \n",
       "5                      Добавить страницу отзывов клиентов о магазине, что позволит увеличить количество заказов   \n",
       "4                              Изменить цвет фона главной страницы, чтобы увеличить вовлеченность пользователей   \n",
       "\n",
       "   reach  impact  confidence  efforts    ICE   RICE  weight  \n",
       "7     10       7           8        5  11.20  112.0    0.58  \n",
       "0      3      10           8        6  13.33   40.0    0.36  \n",
       "8      1       9           9        5  16.20   16.2    0.32  \n",
       "2      8       3           7        3   7.00   56.0    0.31  \n",
       "6      5       3           8        3   8.00   40.0    0.27  \n",
       "1      2       5           4       10   2.00    4.0    0.05  \n",
       "3      8       3           3        8   1.12    9.0    0.05  \n",
       "5      3       2           2        3   1.33    4.0    0.04  \n",
       "4      3       1           1        1   1.00    3.0    0.03  "
      ]
     },
     "execution_count": 17,
     "metadata": {},
     "output_type": "execute_result"
    }
   ],
   "source": [
    "hypothesis['weight'] = round((hypothesis['RICE']/hypothesis['RICE'].sum() + (hypothesis['ICE']/hypothesis['ICE'].sum())), 2)\n",
    "hypothesis.sort_values('weight', ascending=False)"
   ]
  },
  {
   "cell_type": "markdown",
   "id": "6b2b0295",
   "metadata": {},
   "source": [
    "По параметрам фреймворка ICE наиболее приоритетными являются гипотезы с индексами 8, 0, 7 и 6."
   ]
  },
  {
   "cell_type": "markdown",
   "id": "3eed786a",
   "metadata": {},
   "source": [
    "По параметрам фреймворка RICE приоритетны гипотезы с индексами 7, 2, 0, 6. Введение параметра, который зависит от охвата аудитории, значительно повлияло на приоритет гипотез."
   ]
  },
  {
   "cell_type": "markdown",
   "id": "e2af2988",
   "metadata": {},
   "source": [
    "**С учетом параметров фреймворков ICE и RICE для проверки выберем 2 гипотезы:**\n",
    "- Добавить форму подписки на все основные страницы, чтобы собрать базу клиентов для email-рассылок\n",
    "- Добавить два новых канала привлечения трафика, что позволит привлекать на 30% больше пользователей"
   ]
  },
  {
   "cell_type": "code",
   "execution_count": 18,
   "id": "0eecd00f",
   "metadata": {},
   "outputs": [],
   "source": [
    "pd.set_option('max_colwidth', 50) # Вернем исходные параметры отображения ячеек"
   ]
  },
  {
   "cell_type": "markdown",
   "id": "38c70ef0",
   "metadata": {},
   "source": [
    "## Анализ A/B-теста"
   ]
  },
  {
   "cell_type": "markdown",
   "id": "78722244",
   "metadata": {},
   "source": [
    "Проанализируем результаты проведенного A/B-теста. Для этого создадим датафрейм, который будет содержать кумулятивные показатели с разбивкой по группам."
   ]
  },
  {
   "cell_type": "code",
   "execution_count": 19,
   "id": "8770d8b2",
   "metadata": {
    "scrolled": true
   },
   "outputs": [
    {
     "data": {
      "text/html": [
       "<div>\n",
       "<style scoped>\n",
       "    .dataframe tbody tr th:only-of-type {\n",
       "        vertical-align: middle;\n",
       "    }\n",
       "\n",
       "    .dataframe tbody tr th {\n",
       "        vertical-align: top;\n",
       "    }\n",
       "\n",
       "    .dataframe thead th {\n",
       "        text-align: right;\n",
       "    }\n",
       "</style>\n",
       "<table border=\"1\" class=\"dataframe\">\n",
       "  <thead>\n",
       "    <tr style=\"text-align: right;\">\n",
       "      <th></th>\n",
       "      <th>date</th>\n",
       "      <th>ord_per_date_a</th>\n",
       "      <th>rev_per_date_a</th>\n",
       "      <th>ord_per_date_b</th>\n",
       "      <th>rev_per_date_b</th>\n",
       "      <th>ord_a_cumulative</th>\n",
       "      <th>rev_a_cumulative</th>\n",
       "      <th>ord_b_cumulative</th>\n",
       "      <th>rev_b_cumulative</th>\n",
       "      <th>vis_per_date_a</th>\n",
       "      <th>vis_per_date_b</th>\n",
       "      <th>vis_cumulative_a</th>\n",
       "      <th>vis_cumulative_b</th>\n",
       "    </tr>\n",
       "  </thead>\n",
       "  <tbody>\n",
       "    <tr>\n",
       "      <th>0</th>\n",
       "      <td>2019-08-01</td>\n",
       "      <td>23</td>\n",
       "      <td>142779</td>\n",
       "      <td>17</td>\n",
       "      <td>59758</td>\n",
       "      <td>23</td>\n",
       "      <td>142779</td>\n",
       "      <td>17</td>\n",
       "      <td>59758</td>\n",
       "      <td>719</td>\n",
       "      <td>713</td>\n",
       "      <td>719</td>\n",
       "      <td>713</td>\n",
       "    </tr>\n",
       "    <tr>\n",
       "      <th>1</th>\n",
       "      <td>2019-08-02</td>\n",
       "      <td>19</td>\n",
       "      <td>91602</td>\n",
       "      <td>23</td>\n",
       "      <td>162043</td>\n",
       "      <td>42</td>\n",
       "      <td>234381</td>\n",
       "      <td>40</td>\n",
       "      <td>221801</td>\n",
       "      <td>619</td>\n",
       "      <td>581</td>\n",
       "      <td>1338</td>\n",
       "      <td>1294</td>\n",
       "    </tr>\n",
       "    <tr>\n",
       "      <th>2</th>\n",
       "      <td>2019-08-03</td>\n",
       "      <td>24</td>\n",
       "      <td>112473</td>\n",
       "      <td>14</td>\n",
       "      <td>67049</td>\n",
       "      <td>66</td>\n",
       "      <td>346854</td>\n",
       "      <td>54</td>\n",
       "      <td>288850</td>\n",
       "      <td>507</td>\n",
       "      <td>509</td>\n",
       "      <td>1845</td>\n",
       "      <td>1803</td>\n",
       "    </tr>\n",
       "    <tr>\n",
       "      <th>3</th>\n",
       "      <td>2019-08-04</td>\n",
       "      <td>11</td>\n",
       "      <td>41176</td>\n",
       "      <td>14</td>\n",
       "      <td>96890</td>\n",
       "      <td>77</td>\n",
       "      <td>388030</td>\n",
       "      <td>68</td>\n",
       "      <td>385740</td>\n",
       "      <td>717</td>\n",
       "      <td>770</td>\n",
       "      <td>2562</td>\n",
       "      <td>2573</td>\n",
       "    </tr>\n",
       "    <tr>\n",
       "      <th>4</th>\n",
       "      <td>2019-08-05</td>\n",
       "      <td>22</td>\n",
       "      <td>86383</td>\n",
       "      <td>21</td>\n",
       "      <td>89908</td>\n",
       "      <td>99</td>\n",
       "      <td>474413</td>\n",
       "      <td>89</td>\n",
       "      <td>475648</td>\n",
       "      <td>756</td>\n",
       "      <td>707</td>\n",
       "      <td>3318</td>\n",
       "      <td>3280</td>\n",
       "    </tr>\n",
       "  </tbody>\n",
       "</table>\n",
       "</div>"
      ],
      "text/plain": [
       "        date  ord_per_date_a  rev_per_date_a  ord_per_date_b  rev_per_date_b  \\\n",
       "0 2019-08-01              23          142779              17           59758   \n",
       "1 2019-08-02              19           91602              23          162043   \n",
       "2 2019-08-03              24          112473              14           67049   \n",
       "3 2019-08-04              11           41176              14           96890   \n",
       "4 2019-08-05              22           86383              21           89908   \n",
       "\n",
       "   ord_a_cumulative  rev_a_cumulative  ord_b_cumulative  rev_b_cumulative  \\\n",
       "0                23            142779                17             59758   \n",
       "1                42            234381                40            221801   \n",
       "2                66            346854                54            288850   \n",
       "3                77            388030                68            385740   \n",
       "4                99            474413                89            475648   \n",
       "\n",
       "   vis_per_date_a  vis_per_date_b  vis_cumulative_a  vis_cumulative_b  \n",
       "0             719             713               719               713  \n",
       "1             619             581              1338              1294  \n",
       "2             507             509              1845              1803  \n",
       "3             717             770              2562              2573  \n",
       "4             756             707              3318              3280  "
      ]
     },
     "execution_count": 19,
     "metadata": {},
     "output_type": "execute_result"
    }
   ],
   "source": [
    "# создадим датафрейм с указанием количества посетителей группы А за каждый день\n",
    "visitors_a_daily = visitors.query('group == \"A\"')[['date', 'visitors']]\n",
    "visitors_a_daily.columns = ['date', 'vis_per_date_a']\n",
    "\n",
    "# создадим датафрейм с указанием количества посетителей группы А за каждый день с накоплением\n",
    "visitors_a_cumulative = (\n",
    "    visitors_a_daily.apply(lambda x: visitors_a_daily[visitors_a_daily['date'] <= x['date']]\n",
    "                           .agg({'date':'max', 'vis_per_date_a':'sum'}), axis=1)\n",
    ")\n",
    "visitors_a_cumulative.columns = ['date', 'vis_cumulative_a']\n",
    "\n",
    "# создадим датафрейм с указанием количества посетителей группы B за каждый день\n",
    "visitors_b_daily = visitors.query('group == \"B\"')[['date', 'visitors']]\n",
    "visitors_b_daily.columns = ['date', 'vis_per_date_b']\n",
    "\n",
    "# создадим датафрейм с указанием количества посетителей группы А за каждый день с накоплением\n",
    "visitors_b_cumulative = (\n",
    "    visitors_b_daily.apply(lambda x: visitors_b_daily[visitors_b_daily['date'] <= x['date']]\n",
    "                           .agg({'date':'max', 'vis_per_date_b':'sum'}), axis=1)\n",
    ")\n",
    "visitors_b_cumulative.columns = ['date', 'vis_cumulative_b']\n",
    "\n",
    "\n",
    "# создадим датафрейм с указанием количества заказов группы А за каждый день\n",
    "orders_a_daily = (\n",
    "    orders[orders['group'] == \"A\"][['transactionId', 'visitorId', 'date', 'revenue']]\n",
    "    .groupby('date', as_index=False).agg({'transactionId': 'nunique', 'revenue':'sum'})\n",
    "    .sort_values('date')\n",
    ")\n",
    "orders_a_daily.columns = ['date', 'ord_per_date_a', 'rev_per_date_a']\n",
    "\n",
    "# создадим датафрейм с указанием количества заказов группы А за каждый день с накоплением\n",
    "orders_a_cumulative = (\n",
    "    orders_a_daily.apply(lambda x: orders_a_daily[orders_a_daily['date'] <= x['date']]\n",
    "                        .agg({'date':'max', 'ord_per_date_a':'sum', 'rev_per_date_a':'sum'}), axis=1)\n",
    ")\n",
    "orders_a_cumulative.columns = ['date', 'ord_a_cumulative', 'rev_a_cumulative']\n",
    "\n",
    "# создадим датафрейм с указанием количества заказов группы B за каждый день\n",
    "orders_b_daily = (\n",
    "    orders[orders['group'] == \"B\"][['transactionId', 'visitorId', 'date', 'revenue']]\n",
    "    .groupby('date', as_index=False).agg({'transactionId': 'nunique', 'revenue':'sum'})\n",
    "    .sort_values('date')\n",
    ")\n",
    "orders_b_daily.columns = ['date', 'ord_per_date_b', 'rev_per_date_b']\n",
    "\n",
    "# создадим датафрейм с указанием количества заказов группы B за каждый день с накоплением\n",
    "orders_b_cumulative = (\n",
    "    orders_b_daily.apply(lambda x: orders_b_daily[orders_b_daily['date'] <= x['date']]\n",
    "                        .agg({'date':'max', 'ord_per_date_b':'sum', 'rev_per_date_b':'sum'}), axis=1)\n",
    ")\n",
    "orders_b_cumulative.columns = ['date', 'ord_b_cumulative', 'rev_b_cumulative']\n",
    "\n",
    "# создадим итоговую таблицу путем объединения всех созданных ранее\n",
    "data = (\n",
    "    orders_a_daily.merge(orders_b_daily, left_on='date', right_on='date', how='left')\n",
    "    .merge(orders_a_cumulative, left_on='date', right_on='date', how='left')\n",
    "    .merge(orders_b_cumulative, left_on='date', right_on='date', how='left')\n",
    "    .merge(visitors_a_daily, left_on='date', right_on='date', how='left')\n",
    "    .merge(visitors_b_daily, left_on='date', right_on='date', how='left')\n",
    "    .merge(visitors_a_cumulative, left_on='date', right_on='date', how='left')\n",
    "    .merge(visitors_b_cumulative, left_on='date', right_on='date', how='left')\n",
    ")\n",
    "\n",
    "data.head()"
   ]
  },
  {
   "cell_type": "markdown",
   "id": "980540cb",
   "metadata": {},
   "source": [
    "### Анализ результатов А/B-теста"
   ]
  },
  {
   "cell_type": "markdown",
   "id": "2f551d17",
   "metadata": {},
   "source": [
    "Построим и проанализируем **график кумулятивной выручки по группам.**"
   ]
  },
  {
   "cell_type": "code",
   "execution_count": 20,
   "id": "aebedde8",
   "metadata": {},
   "outputs": [
    {
     "data": {
      "image/png": "[encoded data removed]",
      "text/plain": [
       "<Figure size 720x360 with 1 Axes>"
      ]
     },
     "metadata": {
      "needs_background": "light"
     },
     "output_type": "display_data"
    }
   ],
   "source": [
    "plt.figure(figsize =(10, 5)) \n",
    "plt.plot(data.date, data.rev_a_cumulative, label='A')\n",
    "plt.plot(data.date, data.rev_b_cumulative, label='B')\n",
    "plt.title('Динамика кумулятивной выручки по группам')\n",
    "plt.xlabel('Дата')\n",
    "plt.ylabel('Сумма, млн')\n",
    "plt.legend()\n",
    "plt.show()"
   ]
  },
  {
   "cell_type": "markdown",
   "id": "5fe375e8",
   "metadata": {},
   "source": [
    "**Вывод:** после середины теста группа B резко вырвалась вперед и продолжала лидировать с одинаковым отрывом от группы А до конца теста. Возможно это произошло из-за присутствия в данных аномально дорогих заказов."
   ]
  },
  {
   "cell_type": "markdown",
   "id": "77231539",
   "metadata": {},
   "source": [
    "Построим и проанализируем **график кумулятивного среднего чека по группам.**"
   ]
  },
  {
   "cell_type": "code",
   "execution_count": 21,
   "id": "f15361f8",
   "metadata": {},
   "outputs": [
    {
     "data": {
      "image/png": "[encoded data removed]",
      "text/plain": [
       "<Figure size 720x360 with 1 Axes>"
      ]
     },
     "metadata": {
      "needs_background": "light"
     },
     "output_type": "display_data"
    }
   ],
   "source": [
    "plt.figure(figsize=(10, 5)) \n",
    "plt.plot(data.date, data.rev_a_cumulative/data.ord_a_cumulative, label='A')\n",
    "plt.plot(data.date, data.rev_b_cumulative/data.ord_b_cumulative, label='B')\n",
    "plt.title('Динамика кумулятивного среднего чека по группам')\n",
    "plt.xlabel('Дата')\n",
    "plt.ylabel('Сумма, млн')\n",
    "plt.legend()\n",
    "plt.show()"
   ]
  },
  {
   "cell_type": "markdown",
   "id": "7e9b0970",
   "metadata": {},
   "source": [
    "**Вывод:** значение кумулятивного среднего чека по сегментам сильно колеблется до середины теста. После середины кумулятивный средний чек группы В резко значительно вырос, что также подтверждает наличие аномально дорогих заказов в данных."
   ]
  },
  {
   "cell_type": "markdown",
   "id": "f07743d7",
   "metadata": {},
   "source": [
    "Построим и проанализируем **график изменения кумулятивного среднего чека группы B к группе A.**"
   ]
  },
  {
   "cell_type": "code",
   "execution_count": 22,
   "id": "053dfad0",
   "metadata": {},
   "outputs": [
    {
     "data": {
      "image/png": "[encoded data removed]",
      "text/plain": [
       "<Figure size 720x360 with 1 Axes>"
      ]
     },
     "metadata": {
      "needs_background": "light"
     },
     "output_type": "display_data"
    }
   ],
   "source": [
    "plt.figure(figsize=(10, 5)) \n",
    "plt.plot(data.date, ((data.rev_b_cumulative/data.ord_b_cumulative) / (data.rev_a_cumulative/data.ord_a_cumulative)) - 1, label='A')\n",
    "plt.title('Динамика относительного изменения кумулятивного среднего чека\\n пользователей группы B к группе A')\n",
    "plt.xlabel('Дата')\n",
    "plt.ylabel('Относительное различие кумулятивного среднего чека\\n пользователя группы B и A')\n",
    "plt.axhline(y=0, color='black', linestyle='--')\n",
    "plt.show()"
   ]
  },
  {
   "cell_type": "markdown",
   "id": "edcc0ef8",
   "metadata": {},
   "source": [
    "**Вывод:** на графике видны значительные колебания. Результаты теста сильно менялись, поэтому какие-либо выводы по данному графику сделать невозможно."
   ]
  },
  {
   "cell_type": "markdown",
   "id": "5a3ee3a5",
   "metadata": {},
   "source": [
    "Построим и проанализируем **график среднего кумулятивного количества заказов на посетителя по группам.**"
   ]
  },
  {
   "cell_type": "code",
   "execution_count": 23,
   "id": "258bdc06",
   "metadata": {},
   "outputs": [
    {
     "data": {
      "image/png": "[encoded data removed]",
      "text/plain": [
       "<Figure size 720x360 with 1 Axes>"
      ]
     },
     "metadata": {
      "needs_background": "light"
     },
     "output_type": "display_data"
    }
   ],
   "source": [
    "plt.figure(figsize=(10, 5)) \n",
    "plt.plot(data.date, data.ord_a_cumulative / data.vis_cumulative_a, label='A')\n",
    "plt.plot(data.date, data.ord_b_cumulative / data.vis_cumulative_b, label='B')\n",
    "plt.title('Динамика среднего кумулятивного количества заказов на посетителя по группам')\n",
    "plt.xlabel('Дата')\n",
    "plt.ylabel('Среднее количество заказов на посетителя')\n",
    "plt.legend()\n",
    "plt.show()"
   ]
  },
  {
   "cell_type": "markdown",
   "id": "26309452",
   "metadata": {},
   "source": [
    "**Вывод:** результаты сильно колебались в начале теста, после установились на стабильном уровне. Динамика среднего кумулятивного количества заказов на посетителя группы В выше, чем группы А, что в целом говорит о том, что в группе В стабильно больше заказов на 1 пользователя, чем в группе А."
   ]
  },
  {
   "cell_type": "markdown",
   "id": "4b1c52bd",
   "metadata": {},
   "source": [
    "Построим и проанализируем **график относительного изменения кумулятивного среднего количества заказов на посетителя группы B к группе A.**"
   ]
  },
  {
   "cell_type": "code",
   "execution_count": 24,
   "id": "dd53c0a3",
   "metadata": {},
   "outputs": [
    {
     "data": {
      "image/png": "[encoded data removed]",
      "text/plain": [
       "<Figure size 720x360 with 1 Axes>"
      ]
     },
     "metadata": {
      "needs_background": "light"
     },
     "output_type": "display_data"
    }
   ],
   "source": [
    "plt.figure(figsize=(10, 5)) \n",
    "plt.plot(data.date, ((data.ord_b_cumulative / data.vis_cumulative_b) / (data.ord_a_cumulative / data.vis_cumulative_a) - 1),\\\n",
    "         label='A')\n",
    "plt.title('Динамика относительного изменения кумулятивного среднего количества заказов\\n на посетителя группы B к группе A')\n",
    "plt.xlabel('Дата')\n",
    "plt.ylabel('Относительное различие кумулятивного\\n среднего количества заказов на посетителя групп B и A')\n",
    "plt.axhline(y=0, color='black', linestyle='--')\n",
    "plt.axhline(y=.15, color='grey', linestyle='--')\n",
    "plt.show()"
   ]
  },
  {
   "cell_type": "markdown",
   "id": "5fa9dd3c",
   "metadata": {},
   "source": [
    "**Вывод:** по графику заметен значительный рост относительного изменения кумулятивного среднего количества заказов на посетителя группы B к группе A в начале теста, который далее колеблется около значения 0.15. В группе В в среднем на 15% больше заказов на посетителя в день, чем в группе А."
   ]
  },
  {
   "cell_type": "markdown",
   "id": "68827c72",
   "metadata": {},
   "source": [
    "### Выявление аномальных значений"
   ]
  },
  {
   "cell_type": "markdown",
   "id": "dc8db6fb",
   "metadata": {},
   "source": [
    "Построим **точечный график количества заказов по пользователям.**"
   ]
  },
  {
   "cell_type": "markdown",
   "id": "c5e257e7",
   "metadata": {},
   "source": [
    "Для этого создадим датафрейм с рассчитанным количеством заказов для каждого пользователя."
   ]
  },
  {
   "cell_type": "code",
   "execution_count": 25,
   "id": "25b6ab23",
   "metadata": {},
   "outputs": [
    {
     "data": {
      "text/html": [
       "<div>\n",
       "<style scoped>\n",
       "    .dataframe tbody tr th:only-of-type {\n",
       "        vertical-align: middle;\n",
       "    }\n",
       "\n",
       "    .dataframe tbody tr th {\n",
       "        vertical-align: top;\n",
       "    }\n",
       "\n",
       "    .dataframe thead th {\n",
       "        text-align: right;\n",
       "    }\n",
       "</style>\n",
       "<table border=\"1\" class=\"dataframe\">\n",
       "  <thead>\n",
       "    <tr style=\"text-align: right;\">\n",
       "      <th></th>\n",
       "      <th>order_cnt</th>\n",
       "      <th>group</th>\n",
       "    </tr>\n",
       "    <tr>\n",
       "      <th>visitorId</th>\n",
       "      <th></th>\n",
       "      <th></th>\n",
       "    </tr>\n",
       "  </thead>\n",
       "  <tbody>\n",
       "    <tr>\n",
       "      <th>5114589</th>\n",
       "      <td>1</td>\n",
       "      <td>B</td>\n",
       "    </tr>\n",
       "    <tr>\n",
       "      <th>6958315</th>\n",
       "      <td>1</td>\n",
       "      <td>B</td>\n",
       "    </tr>\n",
       "    <tr>\n",
       "      <th>11685486</th>\n",
       "      <td>1</td>\n",
       "      <td>A</td>\n",
       "    </tr>\n",
       "    <tr>\n",
       "      <th>39475350</th>\n",
       "      <td>1</td>\n",
       "      <td>B</td>\n",
       "    </tr>\n",
       "    <tr>\n",
       "      <th>47206413</th>\n",
       "      <td>1</td>\n",
       "      <td>B</td>\n",
       "    </tr>\n",
       "    <tr>\n",
       "      <th>...</th>\n",
       "      <td>...</td>\n",
       "      <td>...</td>\n",
       "    </tr>\n",
       "    <tr>\n",
       "      <th>4259830713</th>\n",
       "      <td>1</td>\n",
       "      <td>A</td>\n",
       "    </tr>\n",
       "    <tr>\n",
       "      <th>4278982564</th>\n",
       "      <td>1</td>\n",
       "      <td>A</td>\n",
       "    </tr>\n",
       "    <tr>\n",
       "      <th>4279090005</th>\n",
       "      <td>1</td>\n",
       "      <td>B</td>\n",
       "    </tr>\n",
       "    <tr>\n",
       "      <th>4281247801</th>\n",
       "      <td>1</td>\n",
       "      <td>B</td>\n",
       "    </tr>\n",
       "    <tr>\n",
       "      <th>4283872382</th>\n",
       "      <td>1</td>\n",
       "      <td>B</td>\n",
       "    </tr>\n",
       "  </tbody>\n",
       "</table>\n",
       "<p>973 rows × 2 columns</p>\n",
       "</div>"
      ],
      "text/plain": [
       "            order_cnt group\n",
       "visitorId                  \n",
       "5114589             1     B\n",
       "6958315             1     B\n",
       "11685486            1     A\n",
       "39475350            1     B\n",
       "47206413            1     B\n",
       "...               ...   ...\n",
       "4259830713          1     A\n",
       "4278982564          1     A\n",
       "4279090005          1     B\n",
       "4281247801          1     B\n",
       "4283872382          1     B\n",
       "\n",
       "[973 rows x 2 columns]"
      ]
     },
     "execution_count": 25,
     "metadata": {},
     "output_type": "execute_result"
    }
   ],
   "source": [
    "ord_per_user = orders.groupby('visitorId').agg({'transactionId':'count', 'group':'max'})\n",
    "ord_per_user.columns = ['order_cnt', 'group']\n",
    "ord_per_user"
   ]
  },
  {
   "cell_type": "code",
   "execution_count": 26,
   "id": "a307c07a",
   "metadata": {},
   "outputs": [
    {
     "data": {
      "image/png": "[encoded data removed]",
      "text/plain": [
       "<Figure size 432x288 with 1 Axes>"
      ]
     },
     "metadata": {
      "needs_background": "light"
     },
     "output_type": "display_data"
    }
   ],
   "source": [
    "plt.scatter(pd.Series(range(len(ord_per_user))), ord_per_user['order_cnt'])\n",
    "plt.title('Распределение количества заказов по пользователям')\n",
    "plt.xlabel('Условный номер пользователя')\n",
    "plt.ylabel('Количество заказов')\n",
    "plt.show()"
   ]
  },
  {
   "cell_type": "markdown",
   "id": "e807f49f",
   "metadata": {},
   "source": [
    "**Вывод:** большинство пользователей сделало 1 заказ. Пользователей с количеством заказов 2 и 3 значительно меньше.\n",
    "\n",
    "Посчитаем 95-й и 99-й перцентили количества заказов на пользователя."
   ]
  },
  {
   "cell_type": "code",
   "execution_count": 27,
   "id": "ff930c98",
   "metadata": {},
   "outputs": [
    {
     "data": {
      "text/plain": [
       "array([1., 2.])"
      ]
     },
     "execution_count": 27,
     "metadata": {},
     "output_type": "execute_result"
    }
   ],
   "source": [
    "np.percentile(ord_per_user['order_cnt'], [95, 99])"
   ]
  },
  {
   "cell_type": "markdown",
   "id": "22ad89af",
   "metadata": {},
   "source": [
    "Отметим, что 5% пользователей сделали более 1 заказа и 1% пользователей сделали более 2 заказов. На основании этого будем считать количество заказов на одного пользователя более 2 аномальным значением."
   ]
  },
  {
   "cell_type": "markdown",
   "id": "6f5676b2",
   "metadata": {},
   "source": [
    "Построим **точечный график стоимостей заказов.**"
   ]
  },
  {
   "cell_type": "code",
   "execution_count": 28,
   "id": "47e4d3e0",
   "metadata": {},
   "outputs": [
    {
     "data": {
      "image/png": "[encoded data removed]",
      "text/plain": [
       "<Figure size 576x504 with 1 Axes>"
      ]
     },
     "metadata": {
      "needs_background": "light"
     },
     "output_type": "display_data"
    }
   ],
   "source": [
    "plt.figure(figsize=(8, 7)) \n",
    "plt.scatter(pd.Series(range(len(orders))), orders.revenue)\n",
    "plt.title('Распределение стоимостей заказов')\n",
    "plt.xlabel('Условный номер заказа')\n",
    "plt.ylabel('Стоимость, млн.')\n",
    "plt.show()"
   ]
  },
  {
   "cell_type": "markdown",
   "id": "620427d8",
   "metadata": {},
   "source": [
    "Из-за двух очень крупных заказов масштаб графика установился очень большим. Посмотрим более делатьно на заказы стоимостью от 0 до 100000."
   ]
  },
  {
   "cell_type": "code",
   "execution_count": 29,
   "id": "72e6366a",
   "metadata": {},
   "outputs": [
    {
     "data": {
      "image/png": "[encoded data removed]",
      "text/plain": [
       "<Figure size 576x504 with 1 Axes>"
      ]
     },
     "metadata": {
      "needs_background": "light"
     },
     "output_type": "display_data"
    }
   ],
   "source": [
    "plt.figure(figsize=(8, 7)) \n",
    "plt.scatter(pd.Series(range(len(orders))), orders.revenue)\n",
    "plt.title('Распределение стоимостей заказов')\n",
    "plt.xlabel('Условный номер заказа')\n",
    "plt.ylabel('Стоимость, млн.')\n",
    "plt.axhline(y=30000, color='grey', linestyle='--')\n",
    "plt.ylim(0, 100000)\n",
    "plt.show()"
   ]
  },
  {
   "cell_type": "markdown",
   "id": "54a27332",
   "metadata": {},
   "source": [
    "**Вывод:** большинство заказов имеет стоимость не более 30000. \n",
    "    \n",
    "Посчитаем 95-й и 99-й перцентили стоимости заказов."
   ]
  },
  {
   "cell_type": "code",
   "execution_count": 30,
   "id": "e91e4e00",
   "metadata": {},
   "outputs": [
    {
     "data": {
      "text/plain": [
       "array([26785., 53904.])"
      ]
     },
     "execution_count": 30,
     "metadata": {},
     "output_type": "execute_result"
    }
   ],
   "source": [
    "np.percentile(orders.revenue, [95, 99])"
   ]
  },
  {
   "cell_type": "markdown",
   "id": "38aa40b1",
   "metadata": {},
   "source": [
    "Отметим, что 5% заказов имеют стоимость более 26785 и 1% заказов имеют стоимость более 53904. На основании этого будем считать сумму заказа более 26785 аномальным значением."
   ]
  },
  {
   "cell_type": "markdown",
   "id": "a9164f3b",
   "metadata": {},
   "source": [
    "### Проверка гипотез"
   ]
  },
  {
   "cell_type": "markdown",
   "id": "9f6f9602",
   "metadata": {},
   "source": [
    "В ходе проверки гипотез будем искать различия в следующих метриках:\n",
    "- среднее число заказов на посетителя\n",
    "- средний чек посетителя\n",
    "\n",
    "Установим нулевую и альтернативную гипотезы:\n",
    "\n",
    "*Н0 - Нет различий между группами А и В.\\\n",
    "Н1 - Есть различия между группами А и В.*\n",
    "\n",
    "По отображенным выше диаграммам рассеивания числа заказов на посетителя и суммы заказа видно, что большинство точек расположено у минимальных отметок и чем больше значение переменной, тем меньше количество точек на графике. В таком случае, поскольку рассматриваемые переменные не распределены нормально и имеют много выбросов, для проверки гипотез будем использовать непараметрический тест Уилкоксона-Манна-Уитни.\n",
    "\n",
    "Для статистических тестов зададим параметр статистической значимости *alpha* равным *0.05*."
   ]
  },
  {
   "cell_type": "markdown",
   "id": "5d98150c",
   "metadata": {},
   "source": [
    "Создадим для каждой из групп датасет, в котором будет указано количество заказов для каждого пользователя. Для пользователей, которые ничего не заказали, укажем ноль."
   ]
  },
  {
   "cell_type": "code",
   "execution_count": 31,
   "id": "3cebf35f",
   "metadata": {},
   "outputs": [],
   "source": [
    "# соединим объект с данными о количестве заказов бользователей и пустой объект, \n",
    "# в котором количество нулей будет равно количеству пользователей, не сделавших заказ\n",
    "sample_a = (pd.concat(\n",
    "    [ord_per_user.query('group == \"A\"')['order_cnt'],\n",
    "     pd.Series(0, index=np.arange(\n",
    "         data.vis_per_date_a.sum() - len(ord_per_user.query('group == \"A\"')['order_cnt'])), name='orders')],\n",
    "    axis=0))\n",
    "\n",
    "sample_b = (pd.concat(\n",
    "    [ord_per_user.query('group == \"B\"')['order_cnt'],\n",
    "     pd.Series(0, index=np.arange(\n",
    "         data.vis_per_date_b.sum() - len(ord_per_user.query('group == \"B\"')['order_cnt'])), name='orders')],\n",
    "    axis=0))"
   ]
  },
  {
   "cell_type": "markdown",
   "id": "835f91c0",
   "metadata": {},
   "source": [
    "**Посчитаем статистическую значимость различий в среднем количестве заказов на посетителя между группами по «сырым» данным.**"
   ]
  },
  {
   "cell_type": "code",
   "execution_count": 32,
   "id": "68ec1815",
   "metadata": {
    "scrolled": true
   },
   "outputs": [
    {
     "name": "stdout",
     "output_type": "stream",
     "text": [
      "P-value: 0.011\n",
      "Разница между средним количеством заказов группы В и средним группы А: 0.160\n"
     ]
    }
   ],
   "source": [
    "print('P-value:', '{0:.3f}'.format(stats.mannwhitneyu(sample_a,sample_b)[1]))\n",
    "print('Разница между средним количеством заказов группы В и средним группы А:', '{0:.3f}'\n",
    "      .format(((sample_b.mean() / sample_a.mean()) - 1)))"
   ]
  },
  {
   "cell_type": "markdown",
   "id": "13080c06",
   "metadata": {},
   "source": [
    "Результаты показывают, что имеются значимые различия между группами по «сырым» данным, т.к. p-value (0.011) ниже значения alpha (0.05). В группе B среднее количество заказов на пользователя на 16% больше, чем в группе A."
   ]
  },
  {
   "cell_type": "markdown",
   "id": "62848912",
   "metadata": {},
   "source": [
    "**Посчитаем статистическую значимость различий в среднем чеке заказа между группами по «сырым» данным.**"
   ]
  },
  {
   "cell_type": "code",
   "execution_count": 33,
   "id": "ad0d0b96",
   "metadata": {},
   "outputs": [
    {
     "name": "stdout",
     "output_type": "stream",
     "text": [
      "P-value: 0.829\n",
      "Разница между средним чеком группы В и средним чеком группы А: 0.287\n"
     ]
    }
   ],
   "source": [
    "print('P-value:', '{0:.3f}'.format(stats.mannwhitneyu(\n",
    "        orders.query('group == \"A\"')['revenue'],\n",
    "        orders.query('group == \"B\"')['revenue']\n",
    ")[1]))\n",
    "\n",
    "print('Разница между средним чеком группы В и средним чеком группы А:', '{0:.3f}'.format(\n",
    "        (orders.query('group == \"B\"')['revenue'].mean() / orders.query('group == \"A\"')['revenue'].mean()) - 1\n",
    "))"
   ]
  },
  {
   "cell_type": "markdown",
   "id": "bdd103e8",
   "metadata": {},
   "source": [
    "Результаты показывают, что значимых различий между группами по «сырым» данным нет, т.к. p-value (0.829) выше значения alpha (0.05). В группе B средний чек пользователя на 28.7% больше, чем в группе A."
   ]
  },
  {
   "cell_type": "markdown",
   "id": "8d2c563f",
   "metadata": {},
   "source": [
    "Для того, чтобы проверить гипотезы по «очищеным» данным отберем id пользователей, совершивших более 2 заказов и id пользователей, заказавших на сумму более 26785. Объединим найденных (аномальных) пользователей в один датафрейм."
   ]
  },
  {
   "cell_type": "code",
   "execution_count": 34,
   "id": "13f3233c",
   "metadata": {},
   "outputs": [],
   "source": [
    "# найдем пользователей с количеством заказов больше 2\n",
    "us_many_ord = orders.groupby('visitorId', as_index=False)['transactionId'].count()\n",
    "us_many_ord = us_many_ord[us_many_ord['transactionId'] > np.percentile(ord_per_user['order_cnt'], 99)]['visitorId']\n",
    "\n",
    "# найдем пользователей с суммой заказа больше 26785\n",
    "us_exp_ord = orders[orders['revenue'] > np.percentile(orders['revenue'], 95)]['visitorId']\n",
    "\n",
    "# объединим найденных пользователей в один объект\n",
    "anomal_users = pd.concat([us_many_ord, us_exp_ord], axis=0).drop_duplicates()"
   ]
  },
  {
   "cell_type": "markdown",
   "id": "5c65594b",
   "metadata": {},
   "source": [
    "Найдем количество анолмальных пользователей. Также посмотрим, какая доля аномальных пользователей относительно всех пользователей, сделавших заказ."
   ]
  },
  {
   "cell_type": "code",
   "execution_count": 35,
   "id": "e8fa2489",
   "metadata": {},
   "outputs": [
    {
     "name": "stdout",
     "output_type": "stream",
     "text": [
      "Число аномальных пользователей: 58\n",
      "Доля аномальных пользователей относительно всех пользователей, сделавших заказ: 0.06\n"
     ]
    }
   ],
   "source": [
    "print('Число аномальных пользователей:', len(anomal_users))\n",
    "print('Доля аномальных пользователей относительно всех пользователей, сделавших заказ:',\\\n",
    "     round(len(anomal_users) / orders.visitorId.nunique(), 2))"
   ]
  },
  {
   "cell_type": "markdown",
   "id": "f6d64347",
   "metadata": {},
   "source": [
    "**Посчитаем статистическую значимость различий в среднем количестве заказов на посетителя между группами по «очищенным» данным.**"
   ]
  },
  {
   "cell_type": "code",
   "execution_count": 36,
   "id": "4b680a7a",
   "metadata": {},
   "outputs": [
    {
     "name": "stdout",
     "output_type": "stream",
     "text": [
      "P-value: 0.012\n",
      "Разница между средним количеством заказов группы В и средним группы А: 0.182\n"
     ]
    }
   ],
   "source": [
    "print('P-value:', '{0:.3f}'.format(stats.mannwhitneyu(\n",
    "    sample_a[~(sample_a.index.isin(anomal_users))],sample_b[~(sample_b.index.isin(anomal_users))]\n",
    ")[1]))\n",
    "\n",
    "print('Разница между средним количеством заказов группы В и средним группы А:', '{0:.3f}'.format(((\n",
    "    sample_b[~(sample_b.index.isin(anomal_users))].mean() / sample_a[~(sample_a.index.isin(anomal_users))].mean()\n",
    ") - 1)))"
   ]
  },
  {
   "cell_type": "markdown",
   "id": "b33141e1",
   "metadata": {},
   "source": [
    "Результаты показывают, что имеются значимые различия между группами по «очищеным» данным, т.к. p-value (0.012) ниже значения alpha (0.05). В группе B среднее количество заказов на пользователя на 18.2% больше, чем в группе A."
   ]
  },
  {
   "cell_type": "markdown",
   "id": "93b25878",
   "metadata": {},
   "source": [
    "**Посчитаем статистическую значимость различий в среднем чеке заказа между группами по «очищенным» данным.**"
   ]
  },
  {
   "cell_type": "code",
   "execution_count": 37,
   "id": "03e1a599",
   "metadata": {},
   "outputs": [
    {
     "name": "stdout",
     "output_type": "stream",
     "text": [
      "P-value: 0.646\n",
      "Разница между средним количеством заказов группы В и средним группы А: -0.048\n"
     ]
    }
   ],
   "source": [
    "print('P-value:', '{0:.3f}'.format(stats.mannwhitneyu(\n",
    "        orders[(orders['group'] == \"A\") & ~(orders['visitorId'].isin(anomal_users))]['revenue'],\n",
    "        orders[(orders['group'] == \"B\") & ~(orders['visitorId'].isin(anomal_users))]['revenue']\n",
    ")[1]))\n",
    "\n",
    "print('Разница между средним количеством заказов группы В и средним группы А:', '{0:.3f}'.format(\n",
    "        (orders[(orders['group'] == \"B\") & ~(orders['visitorId'].isin(anomal_users))]['revenue'].mean() /\n",
    "         orders[(orders['group'] == \"A\") & ~(orders['visitorId'].isin(anomal_users))]['revenue'].mean()) - 1\n",
    "))"
   ]
  },
  {
   "cell_type": "markdown",
   "id": "df42d1a1",
   "metadata": {},
   "source": [
    "Результаты показывают, что значимых различий между группами по «очищенным» данным нет, т.к. p-value (0.829) выше значения alpha (0.05). В группе А средний чек пользователя на 4.8% больше, чем в группе В."
   ]
  },
  {
   "cell_type": "markdown",
   "id": "a297e743",
   "metadata": {},
   "source": [
    "Убедимся в том, что, если исключить заказы с аномальными значениями стоимости из данных A/B-теста, динамика изменения кумулятивного среднего чека группы B к группе A к установилась на одном уровне. Для этого воспользуемся ранее написанным кодом и создадим датафрейм `filt_data`, при создании которого не будем учитывать заказы стоимостью более 26785."
   ]
  },
  {
   "cell_type": "code",
   "execution_count": 38,
   "id": "53e94405",
   "metadata": {
    "scrolled": false
   },
   "outputs": [],
   "source": [
    "filt_orders = orders[~(orders['visitorId'].isin(anomal_users))].copy()\n",
    "\n",
    "# создадим датафрейм с указанием количества посетителей группы А за каждый день\n",
    "visitors_a_daily = visitors.query('group == \"A\"')[['date', 'visitors']]\n",
    "visitors_a_daily.columns = ['date', 'vis_per_date_a']\n",
    "# создадим датафрейм с указанием количества посетителей группы А за каждый день с накоплением\n",
    "visitors_a_cumulative = (\n",
    "    visitors_a_daily.apply(lambda x: visitors_a_daily[visitors_a_daily['date'] <= x['date']]\n",
    "                           .agg({'date':'max', 'vis_per_date_a':'sum'}), axis=1)\n",
    ")\n",
    "visitors_a_cumulative.columns = ['date', 'vis_cumulative_a']\n",
    "# создадим датафрейм с указанием количества посетителей группы B за каждый день\n",
    "visitors_b_daily = visitors.query('group == \"B\"')[['date', 'visitors']]\n",
    "visitors_b_daily.columns = ['date', 'vis_per_date_b']\n",
    "# создадим датафрейм с указанием количества посетителей группы А за каждый день с накоплением\n",
    "visitors_b_cumulative = (\n",
    "    visitors_b_daily.apply(lambda x: visitors_b_daily[visitors_b_daily['date'] <= x['date']]\n",
    "                           .agg({'date':'max', 'vis_per_date_b':'sum'}), axis=1)\n",
    ")\n",
    "visitors_b_cumulative.columns = ['date', 'vis_cumulative_b']\n",
    "# создадим датафрейм с указанием количества заказов группы А за каждый день\n",
    "orders_a_daily = (\n",
    "    filt_orders[filt_orders['group'] == \"A\"][['transactionId', 'visitorId', 'date', 'revenue']]\n",
    "    .groupby('date', as_index=False).agg({'transactionId': 'nunique', 'revenue':'sum'})\n",
    "    .sort_values('date')\n",
    ")\n",
    "orders_a_daily.columns = ['date', 'ord_per_date_a', 'rev_per_date_a']\n",
    "# создадим датафрейм с указанием количества заказов группы А за каждый день с накоплением\n",
    "orders_a_cumulative = (\n",
    "    orders_a_daily.apply(lambda x: orders_a_daily[orders_a_daily['date'] <= x['date']]\n",
    "                        .agg({'date':'max', 'ord_per_date_a':'sum', 'rev_per_date_a':'sum'}), axis=1)\n",
    ")\n",
    "orders_a_cumulative.columns = ['date', 'ord_a_cumulative', 'rev_a_cumulative']\n",
    "# создадим датафрейм с указанием количества заказов группы B за каждый день\n",
    "orders_b_daily = (\n",
    "    filt_orders[filt_orders['group'] == \"B\"][['transactionId', 'visitorId', 'date', 'revenue']]\n",
    "    .groupby('date', as_index=False).agg({'transactionId': 'nunique', 'revenue':'sum'})\n",
    "    .sort_values('date')\n",
    ")\n",
    "orders_b_daily.columns = ['date', 'ord_per_date_b', 'rev_per_date_b']\n",
    "# создадим датафрейм с указанием количества заказов группы B за каждый день с накоплением\n",
    "orders_b_cumulative = (\n",
    "    orders_b_daily.apply(lambda x: orders_b_daily[orders_b_daily['date'] <= x['date']]\n",
    "                        .agg({'date':'max', 'ord_per_date_b':'sum', 'rev_per_date_b':'sum'}), axis=1)\n",
    ")\n",
    "orders_b_cumulative.columns = ['date', 'ord_b_cumulative', 'rev_b_cumulative']\n",
    "# создадим итоговую таблицу путем объединения всех созданных ранее\n",
    "filt_data = (\n",
    "    orders_a_daily.merge(orders_b_daily, left_on='date', right_on='date', how='left')\n",
    "    .merge(orders_a_cumulative, left_on='date', right_on='date', how='left')\n",
    "    .merge(orders_b_cumulative, left_on='date', right_on='date', how='left')\n",
    "    .merge(visitors_a_daily, left_on='date', right_on='date', how='left')\n",
    "    .merge(visitors_b_daily, left_on='date', right_on='date', how='left')\n",
    "    .merge(visitors_a_cumulative, left_on='date', right_on='date', how='left')\n",
    "    .merge(visitors_b_cumulative, left_on='date', right_on='date', how='left')\n",
    ")"
   ]
  },
  {
   "cell_type": "markdown",
   "id": "9d3013f7",
   "metadata": {},
   "source": [
    "До корректировки отсеивание заказов с аномальным значением стоимости было выполнено по границе более 30000 и график относительного изменения кумулятивного среднего чека группы B к группе A по очищенным данным имел следующий вид:"
   ]
  },
  {
   "cell_type": "code",
   "execution_count": 39,
   "id": "a8b2edce",
   "metadata": {
    "scrolled": false
   },
   "outputs": [
    {
     "data": {
      "image/png": "[encoded data removed]",
      "text/plain": [
       "<Figure size 720x360 with 1 Axes>"
      ]
     },
     "metadata": {
      "needs_background": "light"
     },
     "output_type": "display_data"
    }
   ],
   "source": [
    "plt.figure(figsize=(10, 5)) \n",
    "plt.plot(filt_data.date, ((filt_data.rev_b_cumulative/filt_data.ord_b_cumulative) /\n",
    "                          (filt_data.rev_a_cumulative/filt_data.ord_a_cumulative)) - 1, label='A')\n",
    "plt.title('Динамика относительного изменения кумулятивного\\n среднего чека группы B к группе A по очищенным данным')\n",
    "plt.xlabel('Дата')\n",
    "plt.ylabel('Относительное различие кумулятивного\\n среднего чека пользователя групп B и A')\n",
    "plt.axhline(y=0, color='black', linestyle='--')\n",
    "plt.show()"
   ]
  },
  {
   "cell_type": "markdown",
   "id": "1653eccf",
   "metadata": {},
   "source": [
    "Можно было сказать, что относительные изменения установились на одном уровне и принять решение о завершении теста.\n",
    "    \n",
    "После установления границы по 95 перцентилю (более 26785) график (тот, что выше комментария) изменился, относительные изменения продолжают колебания."
   ]
  },
  {
   "cell_type": "markdown",
   "id": "4d457b98",
   "metadata": {},
   "source": [
    "**Вывод:** динамика относительного изменения кумулятивного среднего чека группы B к группе A на момент окончания теста продолжает колебания в пределах +-5%, в целом можно признать метрику стабилизировавшейся."
   ]
  },
  {
   "cell_type": "markdown",
   "id": "1b8186bb",
   "metadata": {},
   "source": [
    "### Итоги A/B теста"
   ]
  },
  {
   "cell_type": "markdown",
   "id": "b9a61f92",
   "metadata": {},
   "source": [
    "В результате проверке гипотез установлено следующее:\n",
    "- по «сырым» данным **в группе B среднее количество заказов на пользователя на 16% больше, чем в группе A**, различия являются статистически значимымыми\n",
    "-  по «очищеным» данным также **в группе B среднее количество заказов на пользователя на 18.2% больше, чем в группе A**, различия являются статистически значимымыми\n",
    "- по «сырым» данным **в группе B средний чек пользователя на 28.7% больше, чем в группе A**, однако по причине присутствия аномальных значений эти различия не являются статистически значимыми\n",
    "- по «очищенным» данным **в группе А средний чек пользователя на 4.8% больше, чем в группе В**, различия не являются статистически значимыми.\n",
    "\n",
    "Следует отметить, что динамика относительного изменения количества заказов на пользователя группы В к группе А установились на одном уровне. Динамика относительного изменения кумулятивного среднего чека группы B к группе A на момент окончания теста продолжает колебания в пределах +-5%, в целом можно признать метрику стабилизировавшейся.\n",
    "\n",
    "**На основании результатов теста можно признать победу группы В над группой А**, т.к. в группе B среднее количество заказов на пользователя на 18.2% больше, чем в группе A. Статистически значимые различия в среднем чеке пользователя между группами отсутствуют.\n",
    "\n",
    "**Цель теста достигнута, все изменения метрик зафиксированы. Тест целесообразно остановить.**"
   ]
  },
  {
   "cell_type": "markdown",
   "id": "b62c7ae7",
   "metadata": {},
   "source": [
    "## Общий вывод"
   ]
  },
  {
   "cell_type": "markdown",
   "id": "31e55649",
   "metadata": {},
   "source": [
    "В результате данного исследования приоритизированы гипотезы, подготовленные для увеличения выручки крупного интернет магазина, запущен А/В тест и проанализированы его результаты.\n",
    "\n",
    "Для выполнения задачи предоставлены следующие датасеты:\n",
    "\n",
    "- список гипотез;\n",
    "- таблица заказов интернет магазина с разбивкой по группам;\n",
    "- таблица с указанием количества пользователей по датам с разбивкой по группам.\n",
    "\n",
    "Пропуски и дубликаты строк в исходных данных отсутствуют.\n",
    "\n",
    "Длительность теста 1 месяц: с 1 августа 2019г. по 31 августа 2019г.\n",
    "\n",
    "Разбивка пользователей на группы произведена в неравной пропорции, разница в пользователях, оформивших хотя бы один заказ между группами равна 16% (в группе В пользователей на 16% больше). Выявлено 58 пользователей, состоящие одновременно в двух группах, такие пользователи исключены из анализа, чтобы не искажать результаты теста.\n",
    "\n",
    "**Приоритизация гипотез**\n",
    "\n",
    "Для приоритизации гипотез выбраны фреймворки ICE и RICE. ICE определяет приоритет с учетом следующих параметров: насколько сильно изменение повлияет на пользователей, их опыт и удовлетворение от продукта; насколько вы уверены, что это изменение повлияет на пользователей именно так; сколько стоит протестировать эту гипотезу. Фреймворка RICE дополнительно ко всем параметрам фреймворка ICE применяет параметр, учитывающий охват аудитории.\n",
    "\n",
    "*С учетом параметров одновременно фреймворков ICE и RICE для проверки выбераны 2 гипотезы:*\n",
    "- Добавить форму подписки на все основные страницы, чтобы собрать базу клиентов для email-рассылок\n",
    "- Добавить два новых канала привлечения трафика, что позволит привлекать на 30% больше пользователей\t\n",
    "\n",
    "**Анализ результатов А/В-теста**\n",
    "\n",
    "А/В-тест парный. В группе А - 445 пользователей, в группе В - 528 пользователей. Разница между группами составляет 16%.\n",
    "\n",
    "В ходе проверки гипотез рассмотрены изменения следующих метрик:\n",
    "- среднее число заказов на посетителя\n",
    "- средний чек посетителя.\n",
    "\n",
    "Проверка гипотез выполнялась с помощью непараметрического теста Уилкоксона-Манна-Уитни. Для статистических тестов задан параметр статистической значимости *alpha* равным *0.05*.\n",
    "\n",
    "При анализе результатов теста выявлено значительное влияние аномальных значений суммы заказа и количества заказов на одного пользователя на показатели теста. Для выполнения анализа без учета аномальных значений установлен порог в количество заказов на кользователя не более 2 и сумму заказа не более 26785.\n",
    "\n",
    "Число аномальных пользователей, сделавших более 2 заказов или совершивших заказ на сумму более 26758 составляет 58.\n",
    "Доля аномальных пользователей относительно всех пользователей, сделавших заказ - 0.06%.\n",
    "\n",
    "Проверка гипотез производилась по «сырым» данным (с учетом аномальных значений суммы заказа и количества заказов на одного пользователя) и по «очищенным» данным (без учета аномальных значений)\n",
    "\n",
    "В результате проверке гипотез установлено следующее:\n",
    "- по «сырым» данным **в группе B среднее количество заказов на пользователя на 16% больше, чем в группе A**, различия являются статистически значимымыми\n",
    "-  по «очищеным» данным также **в группе B среднее количество заказов на пользователя на 18.2% больше, чем в группе A**, различия являются статистически значимымыми\n",
    "- по «сырым» данным **в группе B средний чек пользователя на 28.7% больше, чем в группе A**, однако по причине присутствия аномальных значений эти различия не являются статистически значимыми\n",
    "- по «очищенным» данным **в группе А средний чек пользователя на 4.8% больше, чем в группе В**, различия не являются статистически значимыми.\n",
    "\n",
    "Динамика относительного изменения количества заказов на пользователя группы В к группе А установились на одном уровне. Динамика относительного изменения кумулятивного среднего чека группы B к группе A на момент окончания теста продолжает колебания в пределах +-5%, в целом можно признать метрику стабилизировавшейся.\n",
    "\n",
    "**На основании результатов теста можно признать победу группы В над группой А**, т.к. в группе B среднее количество заказов на пользователя на 18.2% больше, чем в группе A. Статистически значимые различия в среднем чеке пользователя между группами отсутствуют.\n",
    "\n",
    "**Цель теста достигнута, все изменения метрик зафиксированы. Тест целесообразно остановить.**"
   ]
  }
 ],
 "metadata": {
  "ExecuteTimeLog": [
   {
    "duration": 1168,
    "start_time": "2023-04-02T22:46:34.071Z"
   },
   {
    "duration": 93,
    "start_time": "2023-04-02T22:46:35.241Z"
   },
   {
    "duration": 44,
    "start_time": "2023-04-02T22:46:35.336Z"
   },
   {
    "duration": 6,
    "start_time": "2023-04-02T22:46:35.383Z"
   },
   {
    "duration": 33,
    "start_time": "2023-04-02T22:46:35.390Z"
   },
   {
    "duration": 5,
    "start_time": "2023-04-02T22:46:35.425Z"
   },
   {
    "duration": 15,
    "start_time": "2023-04-02T22:46:35.432Z"
   },
   {
    "duration": 13,
    "start_time": "2023-04-02T22:46:35.449Z"
   },
   {
    "duration": 7,
    "start_time": "2023-04-02T22:46:35.464Z"
   },
   {
    "duration": 9,
    "start_time": "2023-04-02T22:46:35.475Z"
   },
   {
    "duration": 43,
    "start_time": "2023-04-02T22:46:35.487Z"
   },
   {
    "duration": 32,
    "start_time": "2023-04-02T22:46:35.532Z"
   },
   {
    "duration": 10,
    "start_time": "2023-04-02T22:46:35.566Z"
   },
   {
    "duration": 24,
    "start_time": "2023-04-02T22:46:35.579Z"
   },
   {
    "duration": 22,
    "start_time": "2023-04-02T22:46:35.605Z"
   },
   {
    "duration": 15,
    "start_time": "2023-04-02T22:46:35.629Z"
   },
   {
    "duration": 22,
    "start_time": "2023-04-02T22:46:35.647Z"
   },
   {
    "duration": 6,
    "start_time": "2023-04-02T22:46:35.671Z"
   },
   {
    "duration": 256,
    "start_time": "2023-04-02T22:46:35.679Z"
   },
   {
    "duration": 310,
    "start_time": "2023-04-02T22:46:35.936Z"
   },
   {
    "duration": 225,
    "start_time": "2023-04-02T22:46:36.248Z"
   },
   {
    "duration": 319,
    "start_time": "2023-04-02T22:46:36.476Z"
   },
   {
    "duration": 242,
    "start_time": "2023-04-02T22:46:36.797Z"
   },
   {
    "duration": 321,
    "start_time": "2023-04-02T22:46:37.041Z"
   },
   {
    "duration": 119,
    "start_time": "2023-04-02T22:46:37.364Z"
   },
   {
    "duration": 177,
    "start_time": "2023-04-02T22:46:37.485Z"
   },
   {
    "duration": 5,
    "start_time": "2023-04-02T22:46:37.664Z"
   },
   {
    "duration": 182,
    "start_time": "2023-04-02T22:46:37.674Z"
   },
   {
    "duration": 265,
    "start_time": "2023-04-02T22:46:37.858Z"
   },
   {
    "duration": 6,
    "start_time": "2023-04-02T22:46:38.125Z"
   },
   {
    "duration": 19,
    "start_time": "2023-04-02T22:46:38.132Z"
   },
   {
    "duration": 30,
    "start_time": "2023-04-02T22:46:38.153Z"
   },
   {
    "duration": 42,
    "start_time": "2023-04-02T22:46:38.185Z"
   },
   {
    "duration": 9,
    "start_time": "2023-04-02T22:46:38.229Z"
   },
   {
    "duration": 5,
    "start_time": "2023-04-02T22:46:38.240Z"
   },
   {
    "duration": 28,
    "start_time": "2023-04-02T22:46:38.246Z"
   },
   {
    "duration": 48,
    "start_time": "2023-04-02T22:46:38.276Z"
   },
   {
    "duration": 239,
    "start_time": "2023-04-02T22:46:38.326Z"
   },
   {
    "duration": 312,
    "start_time": "2023-04-02T22:46:38.567Z"
   }
  ],
  "kernelspec": {
   "display_name": "Python 3 (ipykernel)",
   "language": "python",
   "name": "python3"
  },
  "language_info": {
   "codemirror_mode": {
    "name": "ipython",
    "version": 3
   },
   "file_extension": ".py",
   "mimetype": "text/x-python",
   "name": "python",
   "nbconvert_exporter": "python",
   "pygments_lexer": "ipython3",
   "version": "3.9.12"
  },
  "toc": {
   "base_numbering": 1,
   "nav_menu": {},
   "number_sections": true,
   "sideBar": true,
   "skip_h1_title": true,
   "title_cell": "Table of Contents",
   "title_sidebar": "Contents",
   "toc_cell": false,
   "toc_position": {
    "height": "calc(100% - 180px)",
    "left": "10px",
    "top": "150px",
    "width": "384px"
   },
   "toc_section_display": true,
   "toc_window_display": true
  }
 },
 "nbformat": 4,
 "nbformat_minor": 5
}
