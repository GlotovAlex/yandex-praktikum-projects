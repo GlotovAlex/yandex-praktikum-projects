{
 "cells": [
  {
   "cell_type": "markdown",
   "id": "d4cdbbbd",
   "metadata": {},
   "source": [
    "# Оценка результатов А/В-теста"
   ]
  },
  {
   "cell_type": "markdown",
   "id": "98c77666",
   "metadata": {},
   "source": [
    "Задача исследования — провести оценку результатов A/B-теста. В нашем распоряжении есть датасет с действиями пользователей, техническое задание и несколько вспомогательных датасетов.\n",
    "\n",
    "В ходе работы необходимо оценить корректность проведения теста и проанализировать его результаты. Удостовериться, что нет пересечений с конкурирующим тестом и нет пользователей, участвующих в двух группах теста одновременно. Проверить равномерность распределения пользователей по тестовым группам и правильность их формирования.\n",
    "\n",
    "**Техническое задание**\n",
    "\n",
    "- Название теста: `recommender_system_test`;\n",
    "- группы: А — контрольная, B — новая платежная воронка;\n",
    "- дата запуска: 2020-12-07;\n",
    "- дата остановки набора новых пользователей: 2020-12-21;\n",
    "- дата остановки: 2021-01-04;\n",
    "- аудитория: в тест должно быть отобрано 15% новых пользователей из региона EU;\n",
    "- назначение теста: тестирование изменений, связанных с внедрением улучшенной рекомендательной системы;\n",
    "- ожидаемое количество участников теста: 6000.\n",
    "- ожидаемый эффект: за 14 дней с момента регистрации пользователи покажут улучшение каждой метрики не менее, чем на 10%:\n",
    "    - конверсии в просмотр карточек товаров — событие `product_page`,\n",
    "    - просмотры корзины — `product_cart`,\n",
    "    - покупки — `purchase`."
   ]
  },
  {
   "cell_type": "markdown",
   "id": "20247d9e",
   "metadata": {},
   "source": [
    "## Загрузка данных и изучение общей информации"
   ]
  },
  {
   "cell_type": "markdown",
   "id": "bd359aef",
   "metadata": {},
   "source": [
    "Загрузим датасеты, подготовим описание данных и изучим основную информацию о датасетах (типы переменных в каждом столбце, количество пропусков и полных дубликатов строк, описательные статистики по числовым переменным, значения категориальных переменных)."
   ]
  },
  {
   "cell_type": "markdown",
   "id": "d9b442fe",
   "metadata": {},
   "source": [
    "Импортируем все необходимые библиотеки для работы с данными."
   ]
  },
  {
   "cell_type": "code",
   "execution_count": 1,
   "id": "e6ac7cfc",
   "metadata": {},
   "outputs": [],
   "source": [
    "import pandas as pd\n",
    "import numpy as np\n",
    "import seaborn as sns\n",
    "import statistics as st\n",
    "import plotly.graph_objects as go\n",
    "import math as mth\n",
    "import scipy.stats as stats\n",
    "\n",
    "from plotly.subplots import make_subplots\n",
    "from datetime import datetime, timedelta\n",
    "from scipy import stats as st\n",
    "from matplotlib import pyplot as plt\n",
    "from scipy import stats as st\n",
    "\n",
    "import plotly.io as pio\n",
    "pio.renderers.default = 'png'\n",
    "pio.renderers['png'].scale = 1."
   ]
  },
  {
   "cell_type": "markdown",
   "id": "9548ad1f",
   "metadata": {},
   "source": [
    "Загрузим предоставленные датасеты. На этом же этаже приведем столбцы с датами к типу `datetime`."
   ]
  },
  {
   "cell_type": "code",
   "execution_count": 2,
   "id": "ba6631ea",
   "metadata": {},
   "outputs": [],
   "source": [
    "final_ab_events = pd.read_csv(\n",
    "    'https://code.s3.yandex.net/datasets/final_ab_events.csv', parse_dates=['event_dt']\n",
    ")\n",
    "\n",
    "ab_project_marketing_events = pd.read_csv(\n",
    "    'https://code.s3.yandex.net/datasets/ab_project_marketing_events.csv', parse_dates=['start_dt', 'finish_dt']\n",
    ")\n",
    "\n",
    "final_ab_new_users = pd.read_csv(\n",
    "    'https://code.s3.yandex.net/datasets/final_ab_new_users.csv', parse_dates=['first_date']\n",
    ")\n",
    "\n",
    "final_ab_participants = pd.read_csv('https://code.s3.yandex.net/datasets/final_ab_participants.csv')"
   ]
  },
  {
   "cell_type": "markdown",
   "id": "94b1aa05",
   "metadata": {},
   "source": [
    "Выведем первые 5 строк для каждого датасета и приведем описание данных."
   ]
  },
  {
   "cell_type": "code",
   "execution_count": 3,
   "id": "94734a39",
   "metadata": {},
   "outputs": [
    {
     "data": {
      "text/html": [
       "<div>\n",
       "<style scoped>\n",
       "    .dataframe tbody tr th:only-of-type {\n",
       "        vertical-align: middle;\n",
       "    }\n",
       "\n",
       "    .dataframe tbody tr th {\n",
       "        vertical-align: top;\n",
       "    }\n",
       "\n",
       "    .dataframe thead th {\n",
       "        text-align: right;\n",
       "    }\n",
       "</style>\n",
       "<table border=\"1\" class=\"dataframe\">\n",
       "  <thead>\n",
       "    <tr style=\"text-align: right;\">\n",
       "      <th></th>\n",
       "      <th>user_id</th>\n",
       "      <th>event_dt</th>\n",
       "      <th>event_name</th>\n",
       "      <th>details</th>\n",
       "    </tr>\n",
       "  </thead>\n",
       "  <tbody>\n",
       "    <tr>\n",
       "      <th>0</th>\n",
       "      <td>E1BDDCE0DAFA2679</td>\n",
       "      <td>2020-12-07 20:22:03</td>\n",
       "      <td>purchase</td>\n",
       "      <td>99.99</td>\n",
       "    </tr>\n",
       "    <tr>\n",
       "      <th>1</th>\n",
       "      <td>7B6452F081F49504</td>\n",
       "      <td>2020-12-07 09:22:53</td>\n",
       "      <td>purchase</td>\n",
       "      <td>9.99</td>\n",
       "    </tr>\n",
       "    <tr>\n",
       "      <th>2</th>\n",
       "      <td>9CD9F34546DF254C</td>\n",
       "      <td>2020-12-07 12:59:29</td>\n",
       "      <td>purchase</td>\n",
       "      <td>4.99</td>\n",
       "    </tr>\n",
       "    <tr>\n",
       "      <th>3</th>\n",
       "      <td>96F27A054B191457</td>\n",
       "      <td>2020-12-07 04:02:40</td>\n",
       "      <td>purchase</td>\n",
       "      <td>4.99</td>\n",
       "    </tr>\n",
       "    <tr>\n",
       "      <th>4</th>\n",
       "      <td>1FD7660FDF94CA1F</td>\n",
       "      <td>2020-12-07 10:15:09</td>\n",
       "      <td>purchase</td>\n",
       "      <td>4.99</td>\n",
       "    </tr>\n",
       "  </tbody>\n",
       "</table>\n",
       "</div>"
      ],
      "text/plain": [
       "            user_id            event_dt event_name  details\n",
       "0  E1BDDCE0DAFA2679 2020-12-07 20:22:03   purchase    99.99\n",
       "1  7B6452F081F49504 2020-12-07 09:22:53   purchase     9.99\n",
       "2  9CD9F34546DF254C 2020-12-07 12:59:29   purchase     4.99\n",
       "3  96F27A054B191457 2020-12-07 04:02:40   purchase     4.99\n",
       "4  1FD7660FDF94CA1F 2020-12-07 10:15:09   purchase     4.99"
      ]
     },
     "execution_count": 3,
     "metadata": {},
     "output_type": "execute_result"
    }
   ],
   "source": [
    "final_ab_events.head()"
   ]
  },
  {
   "cell_type": "markdown",
   "id": "9e3f1093",
   "metadata": {},
   "source": [
    "`final_ab_events.csv` — действия новых пользователей в период с 7 декабря 2020 по 4 января 2021 года.\n",
    "\n",
    "Структура файла:\n",
    "\n",
    "- `user_id` — идентификатор пользователя;\n",
    "- `event_dt` — дата и время события;\n",
    "- `event_name` — тип события;\n",
    "- `details` — дополнительные данные о событии. Например, для покупок, `purchase,` в этом поле хранится стоимость покупки в долларах."
   ]
  },
  {
   "cell_type": "code",
   "execution_count": 4,
   "id": "00c5bdd1",
   "metadata": {},
   "outputs": [
    {
     "data": {
      "text/html": [
       "<div>\n",
       "<style scoped>\n",
       "    .dataframe tbody tr th:only-of-type {\n",
       "        vertical-align: middle;\n",
       "    }\n",
       "\n",
       "    .dataframe tbody tr th {\n",
       "        vertical-align: top;\n",
       "    }\n",
       "\n",
       "    .dataframe thead th {\n",
       "        text-align: right;\n",
       "    }\n",
       "</style>\n",
       "<table border=\"1\" class=\"dataframe\">\n",
       "  <thead>\n",
       "    <tr style=\"text-align: right;\">\n",
       "      <th></th>\n",
       "      <th>name</th>\n",
       "      <th>regions</th>\n",
       "      <th>start_dt</th>\n",
       "      <th>finish_dt</th>\n",
       "    </tr>\n",
       "  </thead>\n",
       "  <tbody>\n",
       "    <tr>\n",
       "      <th>0</th>\n",
       "      <td>Christmas&amp;New Year Promo</td>\n",
       "      <td>EU, N.America</td>\n",
       "      <td>2020-12-25</td>\n",
       "      <td>2021-01-03</td>\n",
       "    </tr>\n",
       "    <tr>\n",
       "      <th>1</th>\n",
       "      <td>St. Valentine's Day Giveaway</td>\n",
       "      <td>EU, CIS, APAC, N.America</td>\n",
       "      <td>2020-02-14</td>\n",
       "      <td>2020-02-16</td>\n",
       "    </tr>\n",
       "    <tr>\n",
       "      <th>2</th>\n",
       "      <td>St. Patric's Day Promo</td>\n",
       "      <td>EU, N.America</td>\n",
       "      <td>2020-03-17</td>\n",
       "      <td>2020-03-19</td>\n",
       "    </tr>\n",
       "    <tr>\n",
       "      <th>3</th>\n",
       "      <td>Easter Promo</td>\n",
       "      <td>EU, CIS, APAC, N.America</td>\n",
       "      <td>2020-04-12</td>\n",
       "      <td>2020-04-19</td>\n",
       "    </tr>\n",
       "    <tr>\n",
       "      <th>4</th>\n",
       "      <td>4th of July Promo</td>\n",
       "      <td>N.America</td>\n",
       "      <td>2020-07-04</td>\n",
       "      <td>2020-07-11</td>\n",
       "    </tr>\n",
       "  </tbody>\n",
       "</table>\n",
       "</div>"
      ],
      "text/plain": [
       "                           name                   regions   start_dt  \\\n",
       "0      Christmas&New Year Promo             EU, N.America 2020-12-25   \n",
       "1  St. Valentine's Day Giveaway  EU, CIS, APAC, N.America 2020-02-14   \n",
       "2        St. Patric's Day Promo             EU, N.America 2020-03-17   \n",
       "3                  Easter Promo  EU, CIS, APAC, N.America 2020-04-12   \n",
       "4             4th of July Promo                 N.America 2020-07-04   \n",
       "\n",
       "   finish_dt  \n",
       "0 2021-01-03  \n",
       "1 2020-02-16  \n",
       "2 2020-03-19  \n",
       "3 2020-04-19  \n",
       "4 2020-07-11  "
      ]
     },
     "execution_count": 4,
     "metadata": {},
     "output_type": "execute_result"
    }
   ],
   "source": [
    "ab_project_marketing_events.head()"
   ]
  },
  {
   "cell_type": "markdown",
   "id": "e0e1bc6e",
   "metadata": {},
   "source": [
    "`ab_project_marketing_events.csv` — календарь маркетинговых событий на 2020 год.\n",
    "\n",
    "Структура файла:\n",
    "\n",
    "- `name` — название маркетингового события;\n",
    "- `regions` — регионы, в которых будет проводиться рекламная кампания;\n",
    "- `start_dt` — дата начала кампании;\n",
    "- `finish_dt` — дата завершения кампании."
   ]
  },
  {
   "cell_type": "code",
   "execution_count": 5,
   "id": "f027884c",
   "metadata": {},
   "outputs": [
    {
     "data": {
      "text/html": [
       "<div>\n",
       "<style scoped>\n",
       "    .dataframe tbody tr th:only-of-type {\n",
       "        vertical-align: middle;\n",
       "    }\n",
       "\n",
       "    .dataframe tbody tr th {\n",
       "        vertical-align: top;\n",
       "    }\n",
       "\n",
       "    .dataframe thead th {\n",
       "        text-align: right;\n",
       "    }\n",
       "</style>\n",
       "<table border=\"1\" class=\"dataframe\">\n",
       "  <thead>\n",
       "    <tr style=\"text-align: right;\">\n",
       "      <th></th>\n",
       "      <th>user_id</th>\n",
       "      <th>first_date</th>\n",
       "      <th>region</th>\n",
       "      <th>device</th>\n",
       "    </tr>\n",
       "  </thead>\n",
       "  <tbody>\n",
       "    <tr>\n",
       "      <th>0</th>\n",
       "      <td>D72A72121175D8BE</td>\n",
       "      <td>2020-12-07</td>\n",
       "      <td>EU</td>\n",
       "      <td>PC</td>\n",
       "    </tr>\n",
       "    <tr>\n",
       "      <th>1</th>\n",
       "      <td>F1C668619DFE6E65</td>\n",
       "      <td>2020-12-07</td>\n",
       "      <td>N.America</td>\n",
       "      <td>Android</td>\n",
       "    </tr>\n",
       "    <tr>\n",
       "      <th>2</th>\n",
       "      <td>2E1BF1D4C37EA01F</td>\n",
       "      <td>2020-12-07</td>\n",
       "      <td>EU</td>\n",
       "      <td>PC</td>\n",
       "    </tr>\n",
       "    <tr>\n",
       "      <th>3</th>\n",
       "      <td>50734A22C0C63768</td>\n",
       "      <td>2020-12-07</td>\n",
       "      <td>EU</td>\n",
       "      <td>iPhone</td>\n",
       "    </tr>\n",
       "    <tr>\n",
       "      <th>4</th>\n",
       "      <td>E1BDDCE0DAFA2679</td>\n",
       "      <td>2020-12-07</td>\n",
       "      <td>N.America</td>\n",
       "      <td>iPhone</td>\n",
       "    </tr>\n",
       "  </tbody>\n",
       "</table>\n",
       "</div>"
      ],
      "text/plain": [
       "            user_id first_date     region   device\n",
       "0  D72A72121175D8BE 2020-12-07         EU       PC\n",
       "1  F1C668619DFE6E65 2020-12-07  N.America  Android\n",
       "2  2E1BF1D4C37EA01F 2020-12-07         EU       PC\n",
       "3  50734A22C0C63768 2020-12-07         EU   iPhone\n",
       "4  E1BDDCE0DAFA2679 2020-12-07  N.America   iPhone"
      ]
     },
     "execution_count": 5,
     "metadata": {},
     "output_type": "execute_result"
    }
   ],
   "source": [
    "final_ab_new_users.head()"
   ]
  },
  {
   "cell_type": "markdown",
   "id": "cda1ff30",
   "metadata": {},
   "source": [
    "`final_ab_new_users.csv` — пользователи, зарегистрировавшиеся с 7 до 21 декабря 2020 года.\n",
    "\n",
    "Структура файла:\n",
    "\n",
    "- `user_id` — идентификатор пользователя;\n",
    "- `first_date` — дата регистрации;\n",
    "- `region` — регион пользователя;\n",
    "- `device` — устройство, с которого происходила регистрация."
   ]
  },
  {
   "cell_type": "code",
   "execution_count": 6,
   "id": "5c84aca3",
   "metadata": {},
   "outputs": [
    {
     "data": {
      "text/html": [
       "<div>\n",
       "<style scoped>\n",
       "    .dataframe tbody tr th:only-of-type {\n",
       "        vertical-align: middle;\n",
       "    }\n",
       "\n",
       "    .dataframe tbody tr th {\n",
       "        vertical-align: top;\n",
       "    }\n",
       "\n",
       "    .dataframe thead th {\n",
       "        text-align: right;\n",
       "    }\n",
       "</style>\n",
       "<table border=\"1\" class=\"dataframe\">\n",
       "  <thead>\n",
       "    <tr style=\"text-align: right;\">\n",
       "      <th></th>\n",
       "      <th>user_id</th>\n",
       "      <th>group</th>\n",
       "      <th>ab_test</th>\n",
       "    </tr>\n",
       "  </thead>\n",
       "  <tbody>\n",
       "    <tr>\n",
       "      <th>0</th>\n",
       "      <td>D1ABA3E2887B6A73</td>\n",
       "      <td>A</td>\n",
       "      <td>recommender_system_test</td>\n",
       "    </tr>\n",
       "    <tr>\n",
       "      <th>1</th>\n",
       "      <td>A7A3664BD6242119</td>\n",
       "      <td>A</td>\n",
       "      <td>recommender_system_test</td>\n",
       "    </tr>\n",
       "    <tr>\n",
       "      <th>2</th>\n",
       "      <td>DABC14FDDFADD29E</td>\n",
       "      <td>A</td>\n",
       "      <td>recommender_system_test</td>\n",
       "    </tr>\n",
       "    <tr>\n",
       "      <th>3</th>\n",
       "      <td>04988C5DF189632E</td>\n",
       "      <td>A</td>\n",
       "      <td>recommender_system_test</td>\n",
       "    </tr>\n",
       "    <tr>\n",
       "      <th>4</th>\n",
       "      <td>482F14783456D21B</td>\n",
       "      <td>B</td>\n",
       "      <td>recommender_system_test</td>\n",
       "    </tr>\n",
       "  </tbody>\n",
       "</table>\n",
       "</div>"
      ],
      "text/plain": [
       "            user_id group                  ab_test\n",
       "0  D1ABA3E2887B6A73     A  recommender_system_test\n",
       "1  A7A3664BD6242119     A  recommender_system_test\n",
       "2  DABC14FDDFADD29E     A  recommender_system_test\n",
       "3  04988C5DF189632E     A  recommender_system_test\n",
       "4  482F14783456D21B     B  recommender_system_test"
      ]
     },
     "execution_count": 6,
     "metadata": {},
     "output_type": "execute_result"
    }
   ],
   "source": [
    "final_ab_participants.head()"
   ]
  },
  {
   "cell_type": "markdown",
   "id": "4e975882",
   "metadata": {},
   "source": [
    "`final_ab_participants.csv` — таблица участников тестов.\n",
    "\n",
    "Структура файла:\n",
    "\n",
    "- `user_id` — идентификатор пользователя;\n",
    "- `ab_test` — название теста;\n",
    "- `group` — группа пользователя."
   ]
  },
  {
   "cell_type": "markdown",
   "id": "b2b3a563",
   "metadata": {},
   "source": [
    "Посмотрим всю информацию о датафреймах. Для этого воспользуемся ранее созданной функцией."
   ]
  },
  {
   "cell_type": "code",
   "execution_count": 7,
   "id": "480a24c6",
   "metadata": {},
   "outputs": [],
   "source": [
    "def describe_all(data, unique_vals=20):\n",
    "    '''Функция, которая выводит подробное описание данных датафрейма.\n",
    "    \n",
    "    Функция принимает на вход датафрейм и выводит информацию о датафрейме, описание переменных,\n",
    "    количество полных дубликатов строк, а также количество уникальных значений в каждом из столбцов,\n",
    "    содержащих переменные типа 'object'. Количество уникальных значений можно указать во втором параметре функции\n",
    "    (по умолчанию 20).\n",
    "    '''\n",
    "    \n",
    "    print('Информация о датафрейме')\n",
    "    data.info()\n",
    "    print('-'*20)\n",
    "    print()\n",
    "    \n",
    "    print('Описание датафрейма')\n",
    "    display(data.describe(datetime_is_numeric=True))\n",
    "    print('-'*20)\n",
    "    print()\n",
    "    \n",
    "    print('Количество полных дубликатов строк:', data.duplicated().sum())\n",
    "    print('-'*20)\n",
    "    print()\n",
    "    \n",
    "    for i in data.select_dtypes(include=['object']).columns:\n",
    "        print(f'Количество уникальных значений в столбце {i}: {data[i].nunique()}')\n",
    "        if data[i].nunique() <= unique_vals:\n",
    "            print(f'Список уникальных значений {data[i].unique()}')\n",
    "        print('- '*10)\n"
   ]
  },
  {
   "cell_type": "code",
   "execution_count": 8,
   "id": "8eb70f23",
   "metadata": {},
   "outputs": [
    {
     "name": "stdout",
     "output_type": "stream",
     "text": [
      "Информация о датафрейме\n",
      "<class 'pandas.core.frame.DataFrame'>\n",
      "RangeIndex: 440317 entries, 0 to 440316\n",
      "Data columns (total 4 columns):\n",
      " #   Column      Non-Null Count   Dtype         \n",
      "---  ------      --------------   -----         \n",
      " 0   user_id     440317 non-null  object        \n",
      " 1   event_dt    440317 non-null  datetime64[ns]\n",
      " 2   event_name  440317 non-null  object        \n",
      " 3   details     62740 non-null   float64       \n",
      "dtypes: datetime64[ns](1), float64(1), object(2)\n",
      "memory usage: 13.4+ MB\n",
      "--------------------\n",
      "\n",
      "Описание датафрейма\n"
     ]
    },
    {
     "data": {
      "text/html": [
       "<div>\n",
       "<style scoped>\n",
       "    .dataframe tbody tr th:only-of-type {\n",
       "        vertical-align: middle;\n",
       "    }\n",
       "\n",
       "    .dataframe tbody tr th {\n",
       "        vertical-align: top;\n",
       "    }\n",
       "\n",
       "    .dataframe thead th {\n",
       "        text-align: right;\n",
       "    }\n",
       "</style>\n",
       "<table border=\"1\" class=\"dataframe\">\n",
       "  <thead>\n",
       "    <tr style=\"text-align: right;\">\n",
       "      <th></th>\n",
       "      <th>event_dt</th>\n",
       "      <th>details</th>\n",
       "    </tr>\n",
       "  </thead>\n",
       "  <tbody>\n",
       "    <tr>\n",
       "      <th>count</th>\n",
       "      <td>440317</td>\n",
       "      <td>62740.000000</td>\n",
       "    </tr>\n",
       "    <tr>\n",
       "      <th>mean</th>\n",
       "      <td>2020-12-18 16:33:30.344980992</td>\n",
       "      <td>23.877631</td>\n",
       "    </tr>\n",
       "    <tr>\n",
       "      <th>min</th>\n",
       "      <td>2020-12-07 00:00:33</td>\n",
       "      <td>4.990000</td>\n",
       "    </tr>\n",
       "    <tr>\n",
       "      <th>25%</th>\n",
       "      <td>2020-12-14 06:38:31</td>\n",
       "      <td>4.990000</td>\n",
       "    </tr>\n",
       "    <tr>\n",
       "      <th>50%</th>\n",
       "      <td>2020-12-19 02:14:36</td>\n",
       "      <td>4.990000</td>\n",
       "    </tr>\n",
       "    <tr>\n",
       "      <th>75%</th>\n",
       "      <td>2020-12-22 23:47:03</td>\n",
       "      <td>9.990000</td>\n",
       "    </tr>\n",
       "    <tr>\n",
       "      <th>max</th>\n",
       "      <td>2020-12-30 23:36:33</td>\n",
       "      <td>499.990000</td>\n",
       "    </tr>\n",
       "    <tr>\n",
       "      <th>std</th>\n",
       "      <td>NaN</td>\n",
       "      <td>72.180465</td>\n",
       "    </tr>\n",
       "  </tbody>\n",
       "</table>\n",
       "</div>"
      ],
      "text/plain": [
       "                            event_dt       details\n",
       "count                         440317  62740.000000\n",
       "mean   2020-12-18 16:33:30.344980992     23.877631\n",
       "min              2020-12-07 00:00:33      4.990000\n",
       "25%              2020-12-14 06:38:31      4.990000\n",
       "50%              2020-12-19 02:14:36      4.990000\n",
       "75%              2020-12-22 23:47:03      9.990000\n",
       "max              2020-12-30 23:36:33    499.990000\n",
       "std                              NaN     72.180465"
      ]
     },
     "metadata": {},
     "output_type": "display_data"
    },
    {
     "name": "stdout",
     "output_type": "stream",
     "text": [
      "--------------------\n",
      "\n",
      "Количество полных дубликатов строк: 0\n",
      "--------------------\n",
      "\n",
      "Количество уникальных значений в столбце user_id: 58703\n",
      "- - - - - - - - - - \n",
      "Количество уникальных значений в столбце event_name: 4\n",
      "Список уникальных значений ['purchase' 'product_cart' 'product_page' 'login']\n",
      "- - - - - - - - - - \n"
     ]
    }
   ],
   "source": [
    "describe_all(final_ab_events)"
   ]
  },
  {
   "cell_type": "markdown",
   "id": "481eceaa",
   "metadata": {},
   "source": [
    "Столбец `details` содержит пропуски. В таблице содержатся данные по 58703 пользователям. Всего видов событий 4: `purchase` `product_cart` `product_page` `login`"
   ]
  },
  {
   "cell_type": "code",
   "execution_count": 9,
   "id": "d40e700a",
   "metadata": {
    "scrolled": false
   },
   "outputs": [
    {
     "name": "stdout",
     "output_type": "stream",
     "text": [
      "Информация о датафрейме\n",
      "<class 'pandas.core.frame.DataFrame'>\n",
      "RangeIndex: 14 entries, 0 to 13\n",
      "Data columns (total 4 columns):\n",
      " #   Column     Non-Null Count  Dtype         \n",
      "---  ------     --------------  -----         \n",
      " 0   name       14 non-null     object        \n",
      " 1   regions    14 non-null     object        \n",
      " 2   start_dt   14 non-null     datetime64[ns]\n",
      " 3   finish_dt  14 non-null     datetime64[ns]\n",
      "dtypes: datetime64[ns](2), object(2)\n",
      "memory usage: 576.0+ bytes\n",
      "--------------------\n",
      "\n",
      "Описание датафрейма\n"
     ]
    },
    {
     "data": {
      "text/html": [
       "<div>\n",
       "<style scoped>\n",
       "    .dataframe tbody tr th:only-of-type {\n",
       "        vertical-align: middle;\n",
       "    }\n",
       "\n",
       "    .dataframe tbody tr th {\n",
       "        vertical-align: top;\n",
       "    }\n",
       "\n",
       "    .dataframe thead th {\n",
       "        text-align: right;\n",
       "    }\n",
       "</style>\n",
       "<table border=\"1\" class=\"dataframe\">\n",
       "  <thead>\n",
       "    <tr style=\"text-align: right;\">\n",
       "      <th></th>\n",
       "      <th>start_dt</th>\n",
       "      <th>finish_dt</th>\n",
       "    </tr>\n",
       "  </thead>\n",
       "  <tbody>\n",
       "    <tr>\n",
       "      <th>count</th>\n",
       "      <td>14</td>\n",
       "      <td>14</td>\n",
       "    </tr>\n",
       "    <tr>\n",
       "      <th>mean</th>\n",
       "      <td>2020-07-02 06:51:25.714285824</td>\n",
       "      <td>2020-07-07 10:17:08.571428608</td>\n",
       "    </tr>\n",
       "    <tr>\n",
       "      <th>min</th>\n",
       "      <td>2020-01-25 00:00:00</td>\n",
       "      <td>2020-02-07 00:00:00</td>\n",
       "    </tr>\n",
       "    <tr>\n",
       "      <th>25%</th>\n",
       "      <td>2020-03-23 12:00:00</td>\n",
       "      <td>2020-03-26 18:00:00</td>\n",
       "    </tr>\n",
       "    <tr>\n",
       "      <th>50%</th>\n",
       "      <td>2020-06-01 12:00:00</td>\n",
       "      <td>2020-06-05 12:00:00</td>\n",
       "    </tr>\n",
       "    <tr>\n",
       "      <th>75%</th>\n",
       "      <td>2020-10-31 18:00:00</td>\n",
       "      <td>2020-11-03 00:00:00</td>\n",
       "    </tr>\n",
       "    <tr>\n",
       "      <th>max</th>\n",
       "      <td>2020-12-30 00:00:00</td>\n",
       "      <td>2021-01-07 00:00:00</td>\n",
       "    </tr>\n",
       "  </tbody>\n",
       "</table>\n",
       "</div>"
      ],
      "text/plain": [
       "                            start_dt                      finish_dt\n",
       "count                             14                             14\n",
       "mean   2020-07-02 06:51:25.714285824  2020-07-07 10:17:08.571428608\n",
       "min              2020-01-25 00:00:00            2020-02-07 00:00:00\n",
       "25%              2020-03-23 12:00:00            2020-03-26 18:00:00\n",
       "50%              2020-06-01 12:00:00            2020-06-05 12:00:00\n",
       "75%              2020-10-31 18:00:00            2020-11-03 00:00:00\n",
       "max              2020-12-30 00:00:00            2021-01-07 00:00:00"
      ]
     },
     "metadata": {},
     "output_type": "display_data"
    },
    {
     "name": "stdout",
     "output_type": "stream",
     "text": [
      "--------------------\n",
      "\n",
      "Количество полных дубликатов строк: 0\n",
      "--------------------\n",
      "\n",
      "Количество уникальных значений в столбце name: 14\n",
      "Список уникальных значений ['Christmas&New Year Promo' \"St. Valentine's Day Giveaway\"\n",
      " \"St. Patric's Day Promo\" 'Easter Promo' '4th of July Promo'\n",
      " 'Black Friday Ads Campaign' 'Chinese New Year Promo'\n",
      " 'Labor day (May 1st) Ads Campaign' \"International Women's Day Promo\"\n",
      " 'Victory Day CIS (May 9th) Event' 'CIS New Year Gift Lottery'\n",
      " 'Dragon Boat Festival Giveaway' \"Single's Day Gift Promo\"\n",
      " 'Chinese Moon Festival']\n",
      "- - - - - - - - - - \n",
      "Количество уникальных значений в столбце regions: 6\n",
      "Список уникальных значений ['EU, N.America' 'EU, CIS, APAC, N.America' 'N.America' 'APAC'\n",
      " 'EU, CIS, APAC' 'CIS']\n",
      "- - - - - - - - - - \n"
     ]
    }
   ],
   "source": [
    "describe_all(ab_project_marketing_events)"
   ]
  },
  {
   "cell_type": "markdown",
   "id": "9d43dcaf",
   "metadata": {},
   "source": [
    "Посмотрим, в каких регионах проводились рекламные компании."
   ]
  },
  {
   "cell_type": "code",
   "execution_count": 10,
   "id": "597fc442",
   "metadata": {},
   "outputs": [
    {
     "data": {
      "text/plain": [
       "['N.America', 'EU', 'APAC', 'CIS']"
      ]
     },
     "execution_count": 10,
     "metadata": {},
     "output_type": "execute_result"
    }
   ],
   "source": [
    "regions = []\n",
    "\n",
    "for i in ab_project_marketing_events.regions.unique():\n",
    "    regions += (i.split(', '))\n",
    "    \n",
    "list(set(regions))"
   ]
  },
  {
   "cell_type": "markdown",
   "id": "0edeeecf",
   "metadata": {},
   "source": [
    "Рекламные компании проводились в 4 регионах: `EU`, `N.America`, `APAC`, `CIS`. В датафрейме содежатся данные по 14 рекламным компаниям."
   ]
  },
  {
   "cell_type": "code",
   "execution_count": 11,
   "id": "6b860477",
   "metadata": {},
   "outputs": [
    {
     "name": "stdout",
     "output_type": "stream",
     "text": [
      "Информация о датафрейме\n",
      "<class 'pandas.core.frame.DataFrame'>\n",
      "RangeIndex: 61733 entries, 0 to 61732\n",
      "Data columns (total 4 columns):\n",
      " #   Column      Non-Null Count  Dtype         \n",
      "---  ------      --------------  -----         \n",
      " 0   user_id     61733 non-null  object        \n",
      " 1   first_date  61733 non-null  datetime64[ns]\n",
      " 2   region      61733 non-null  object        \n",
      " 3   device      61733 non-null  object        \n",
      "dtypes: datetime64[ns](1), object(3)\n",
      "memory usage: 1.9+ MB\n",
      "--------------------\n",
      "\n",
      "Описание датафрейма\n"
     ]
    },
    {
     "data": {
      "text/html": [
       "<div>\n",
       "<style scoped>\n",
       "    .dataframe tbody tr th:only-of-type {\n",
       "        vertical-align: middle;\n",
       "    }\n",
       "\n",
       "    .dataframe tbody tr th {\n",
       "        vertical-align: top;\n",
       "    }\n",
       "\n",
       "    .dataframe thead th {\n",
       "        text-align: right;\n",
       "    }\n",
       "</style>\n",
       "<table border=\"1\" class=\"dataframe\">\n",
       "  <thead>\n",
       "    <tr style=\"text-align: right;\">\n",
       "      <th></th>\n",
       "      <th>first_date</th>\n",
       "    </tr>\n",
       "  </thead>\n",
       "  <tbody>\n",
       "    <tr>\n",
       "      <th>count</th>\n",
       "      <td>61733</td>\n",
       "    </tr>\n",
       "    <tr>\n",
       "      <th>mean</th>\n",
       "      <td>2020-12-14 23:38:12.796397568</td>\n",
       "    </tr>\n",
       "    <tr>\n",
       "      <th>min</th>\n",
       "      <td>2020-12-07 00:00:00</td>\n",
       "    </tr>\n",
       "    <tr>\n",
       "      <th>25%</th>\n",
       "      <td>2020-12-11 00:00:00</td>\n",
       "    </tr>\n",
       "    <tr>\n",
       "      <th>50%</th>\n",
       "      <td>2020-12-15 00:00:00</td>\n",
       "    </tr>\n",
       "    <tr>\n",
       "      <th>75%</th>\n",
       "      <td>2020-12-20 00:00:00</td>\n",
       "    </tr>\n",
       "    <tr>\n",
       "      <th>max</th>\n",
       "      <td>2020-12-23 00:00:00</td>\n",
       "    </tr>\n",
       "  </tbody>\n",
       "</table>\n",
       "</div>"
      ],
      "text/plain": [
       "                          first_date\n",
       "count                          61733\n",
       "mean   2020-12-14 23:38:12.796397568\n",
       "min              2020-12-07 00:00:00\n",
       "25%              2020-12-11 00:00:00\n",
       "50%              2020-12-15 00:00:00\n",
       "75%              2020-12-20 00:00:00\n",
       "max              2020-12-23 00:00:00"
      ]
     },
     "metadata": {},
     "output_type": "display_data"
    },
    {
     "name": "stdout",
     "output_type": "stream",
     "text": [
      "--------------------\n",
      "\n",
      "Количество полных дубликатов строк: 0\n",
      "--------------------\n",
      "\n",
      "Количество уникальных значений в столбце user_id: 61733\n",
      "- - - - - - - - - - \n",
      "Количество уникальных значений в столбце region: 4\n",
      "Список уникальных значений ['EU' 'N.America' 'APAC' 'CIS']\n",
      "- - - - - - - - - - \n",
      "Количество уникальных значений в столбце device: 4\n",
      "Список уникальных значений ['PC' 'Android' 'iPhone' 'Mac']\n",
      "- - - - - - - - - - \n"
     ]
    }
   ],
   "source": [
    "describe_all(final_ab_new_users)"
   ]
  },
  {
   "cell_type": "markdown",
   "id": "7666d205",
   "metadata": {},
   "source": [
    "В датафрейме содержатся данные по 61733 пользователям. Всего регионов 4: `EU`, `N.America`, `APAC`, `CIS`. Устройств, с которых происходила регистрация пользователя содержится 4 вида: `PC` `Android` `iPhone` `Mac`. Все значения `user_id` уникальны."
   ]
  },
  {
   "cell_type": "code",
   "execution_count": 12,
   "id": "19f21026",
   "metadata": {},
   "outputs": [
    {
     "name": "stdout",
     "output_type": "stream",
     "text": [
      "Информация о датафрейме\n",
      "<class 'pandas.core.frame.DataFrame'>\n",
      "RangeIndex: 18268 entries, 0 to 18267\n",
      "Data columns (total 3 columns):\n",
      " #   Column   Non-Null Count  Dtype \n",
      "---  ------   --------------  ----- \n",
      " 0   user_id  18268 non-null  object\n",
      " 1   group    18268 non-null  object\n",
      " 2   ab_test  18268 non-null  object\n",
      "dtypes: object(3)\n",
      "memory usage: 428.3+ KB\n",
      "--------------------\n",
      "\n",
      "Описание датафрейма\n"
     ]
    },
    {
     "data": {
      "text/html": [
       "<div>\n",
       "<style scoped>\n",
       "    .dataframe tbody tr th:only-of-type {\n",
       "        vertical-align: middle;\n",
       "    }\n",
       "\n",
       "    .dataframe tbody tr th {\n",
       "        vertical-align: top;\n",
       "    }\n",
       "\n",
       "    .dataframe thead th {\n",
       "        text-align: right;\n",
       "    }\n",
       "</style>\n",
       "<table border=\"1\" class=\"dataframe\">\n",
       "  <thead>\n",
       "    <tr style=\"text-align: right;\">\n",
       "      <th></th>\n",
       "      <th>user_id</th>\n",
       "      <th>group</th>\n",
       "      <th>ab_test</th>\n",
       "    </tr>\n",
       "  </thead>\n",
       "  <tbody>\n",
       "    <tr>\n",
       "      <th>count</th>\n",
       "      <td>18268</td>\n",
       "      <td>18268</td>\n",
       "      <td>18268</td>\n",
       "    </tr>\n",
       "    <tr>\n",
       "      <th>unique</th>\n",
       "      <td>16666</td>\n",
       "      <td>2</td>\n",
       "      <td>2</td>\n",
       "    </tr>\n",
       "    <tr>\n",
       "      <th>top</th>\n",
       "      <td>0FDFDA0B2DEC2D91</td>\n",
       "      <td>A</td>\n",
       "      <td>interface_eu_test</td>\n",
       "    </tr>\n",
       "    <tr>\n",
       "      <th>freq</th>\n",
       "      <td>2</td>\n",
       "      <td>9655</td>\n",
       "      <td>11567</td>\n",
       "    </tr>\n",
       "  </tbody>\n",
       "</table>\n",
       "</div>"
      ],
      "text/plain": [
       "                 user_id  group            ab_test\n",
       "count              18268  18268              18268\n",
       "unique             16666      2                  2\n",
       "top     0FDFDA0B2DEC2D91      A  interface_eu_test\n",
       "freq                   2   9655              11567"
      ]
     },
     "metadata": {},
     "output_type": "display_data"
    },
    {
     "name": "stdout",
     "output_type": "stream",
     "text": [
      "--------------------\n",
      "\n",
      "Количество полных дубликатов строк: 0\n",
      "--------------------\n",
      "\n",
      "Количество уникальных значений в столбце user_id: 16666\n",
      "- - - - - - - - - - \n",
      "Количество уникальных значений в столбце group: 2\n",
      "Список уникальных значений ['A' 'B']\n",
      "- - - - - - - - - - \n",
      "Количество уникальных значений в столбце ab_test: 2\n",
      "Список уникальных значений ['recommender_system_test' 'interface_eu_test']\n",
      "- - - - - - - - - - \n"
     ]
    }
   ],
   "source": [
    "describe_all(final_ab_participants)"
   ]
  },
  {
   "cell_type": "markdown",
   "id": "fba6bf40",
   "metadata": {},
   "source": [
    "Уникальных значений `user_id` 16666, всего записей `user_id` 18268. Это говорит о том, что в данном столбце имеются дубликаты."
   ]
  },
  {
   "cell_type": "code",
   "execution_count": 13,
   "id": "1b9fc67d",
   "metadata": {},
   "outputs": [
    {
     "data": {
      "text/html": [
       "<div>\n",
       "<style scoped>\n",
       "    .dataframe tbody tr th:only-of-type {\n",
       "        vertical-align: middle;\n",
       "    }\n",
       "\n",
       "    .dataframe tbody tr th {\n",
       "        vertical-align: top;\n",
       "    }\n",
       "\n",
       "    .dataframe thead th {\n",
       "        text-align: right;\n",
       "    }\n",
       "</style>\n",
       "<table border=\"1\" class=\"dataframe\">\n",
       "  <thead>\n",
       "    <tr style=\"text-align: right;\">\n",
       "      <th></th>\n",
       "      <th>ab_test</th>\n",
       "      <th>group</th>\n",
       "      <th>user_id</th>\n",
       "    </tr>\n",
       "  </thead>\n",
       "  <tbody>\n",
       "    <tr>\n",
       "      <th>0</th>\n",
       "      <td>interface_eu_test</td>\n",
       "      <td>A</td>\n",
       "      <td>5831</td>\n",
       "    </tr>\n",
       "    <tr>\n",
       "      <th>1</th>\n",
       "      <td>interface_eu_test</td>\n",
       "      <td>B</td>\n",
       "      <td>5736</td>\n",
       "    </tr>\n",
       "    <tr>\n",
       "      <th>2</th>\n",
       "      <td>recommender_system_test</td>\n",
       "      <td>A</td>\n",
       "      <td>3824</td>\n",
       "    </tr>\n",
       "    <tr>\n",
       "      <th>3</th>\n",
       "      <td>recommender_system_test</td>\n",
       "      <td>B</td>\n",
       "      <td>2877</td>\n",
       "    </tr>\n",
       "  </tbody>\n",
       "</table>\n",
       "</div>"
      ],
      "text/plain": [
       "                   ab_test group  user_id\n",
       "0        interface_eu_test     A     5831\n",
       "1        interface_eu_test     B     5736\n",
       "2  recommender_system_test     A     3824\n",
       "3  recommender_system_test     B     2877"
      ]
     },
     "execution_count": 13,
     "metadata": {},
     "output_type": "execute_result"
    }
   ],
   "source": [
    "final_ab_participants.groupby(['ab_test', 'group'], as_index=False)['user_id'].count()"
   ]
  },
  {
   "cell_type": "markdown",
   "id": "ae86241c",
   "metadata": {},
   "source": [
    "В датаферйме содержатся данные по 16666 пользователям. По две группы (А и В) для каждого теста (`interface_eu_test` и `recommender_system_test`). "
   ]
  },
  {
   "cell_type": "markdown",
   "id": "b1a72e94",
   "metadata": {},
   "source": [
    "## Предобработка данных"
   ]
  },
  {
   "cell_type": "markdown",
   "id": "6959ffb3",
   "metadata": {},
   "source": [
    "### Обработка пропусков"
   ]
  },
  {
   "cell_type": "markdown",
   "id": "155a7091",
   "metadata": {},
   "source": [
    "В столбце `details` таблицы `final_ab_events` содержатся пропуски. Выведем количество ненулевых значений в данном столбце для каждого из событий."
   ]
  },
  {
   "cell_type": "code",
   "execution_count": 14,
   "id": "c2bee092",
   "metadata": {},
   "outputs": [
    {
     "data": {
      "text/html": [
       "<div>\n",
       "<style scoped>\n",
       "    .dataframe tbody tr th:only-of-type {\n",
       "        vertical-align: middle;\n",
       "    }\n",
       "\n",
       "    .dataframe tbody tr th {\n",
       "        vertical-align: top;\n",
       "    }\n",
       "\n",
       "    .dataframe thead th {\n",
       "        text-align: right;\n",
       "    }\n",
       "</style>\n",
       "<table border=\"1\" class=\"dataframe\">\n",
       "  <thead>\n",
       "    <tr style=\"text-align: right;\">\n",
       "      <th></th>\n",
       "      <th>total_count</th>\n",
       "      <th>notna_count</th>\n",
       "    </tr>\n",
       "    <tr>\n",
       "      <th>event_name</th>\n",
       "      <th></th>\n",
       "      <th></th>\n",
       "    </tr>\n",
       "  </thead>\n",
       "  <tbody>\n",
       "    <tr>\n",
       "      <th>login</th>\n",
       "      <td>189552</td>\n",
       "      <td>0</td>\n",
       "    </tr>\n",
       "    <tr>\n",
       "      <th>product_cart</th>\n",
       "      <td>62462</td>\n",
       "      <td>0</td>\n",
       "    </tr>\n",
       "    <tr>\n",
       "      <th>product_page</th>\n",
       "      <td>125563</td>\n",
       "      <td>0</td>\n",
       "    </tr>\n",
       "    <tr>\n",
       "      <th>purchase</th>\n",
       "      <td>62740</td>\n",
       "      <td>62740</td>\n",
       "    </tr>\n",
       "  </tbody>\n",
       "</table>\n",
       "</div>"
      ],
      "text/plain": [
       "              total_count  notna_count\n",
       "event_name                            \n",
       "login              189552            0\n",
       "product_cart        62462            0\n",
       "product_page       125563            0\n",
       "purchase            62740        62740"
      ]
     },
     "execution_count": 14,
     "metadata": {},
     "output_type": "execute_result"
    }
   ],
   "source": [
    "(\n",
    "    final_ab_events.groupby('event_name').agg({'user_id': 'count', 'details': 'count'})\n",
    "    .rename(columns=({'user_id': 'total_count', 'details': 'notna_count'}))\n",
    ")"
   ]
  },
  {
   "cell_type": "markdown",
   "id": "f3fe4400",
   "metadata": {},
   "source": [
    "Пропуски содержатся для всех событий, за исключением `purchase`, поскольку по ним отсутствует дополнительная информация. Пропуски относятся к категории MNAR (отсутствуют не случайно), их обработка не требуется."
   ]
  },
  {
   "cell_type": "markdown",
   "id": "a388cafa",
   "metadata": {},
   "source": [
    "## Оценка корректности проведения теста"
   ]
  },
  {
   "cell_type": "markdown",
   "id": "3ce24b3d",
   "metadata": {},
   "source": [
    "### Проверка на соответстиве требованиям технического задания"
   ]
  },
  {
   "cell_type": "markdown",
   "id": "ae4b516f",
   "metadata": {},
   "source": [
    "Проверим данные на соответствие техническому заданию."
   ]
  },
  {
   "cell_type": "markdown",
   "id": "d1041a50",
   "metadata": {},
   "source": [
    "**Техническое задание**\n",
    "\n",
    "- Название теста: `recommender_system_test`;\n",
    "- группы: А — контрольная, B — новая платежная воронка;\n",
    "- дата запуска: 2020-12-07;\n",
    "- дата остановки набора новых пользователей: 2020-12-21;\n",
    "- дата остановки: 2021-01-04;\n",
    "- аудитория: в тест должно быть отобрано 15% новых пользователей из региона EU;\n",
    "- назначение теста: тестирование изменений, связанных с внедрением улучшенной рекомендательной системы;\n",
    "- ожидаемое количество участников теста: 6000.\n",
    "- ожидаемый эффект: за 14 дней с момента регистрации пользователи покажут улучшение каждой метрики не менее, чем на 10%:\n",
    "    - конверсии в просмотр карточек товаров — событие `product_page`,\n",
    "    - просмотры корзины — `product_cart`,\n",
    "    - покупки — `purchase`."
   ]
  },
  {
   "cell_type": "markdown",
   "id": "2b3e9429",
   "metadata": {},
   "source": [
    "Посмотрим, за какой период содержится информация для пользователей-участников теста recommender_system_test в датасете `final_ab_new_users`."
   ]
  },
  {
   "cell_type": "code",
   "execution_count": 15,
   "id": "061a0eac",
   "metadata": {},
   "outputs": [
    {
     "data": {
      "text/plain": [
       "min   2020-12-07\n",
       "max   2020-12-21\n",
       "Name: first_date, dtype: datetime64[ns]"
      ]
     },
     "execution_count": 15,
     "metadata": {},
     "output_type": "execute_result"
    }
   ],
   "source": [
    "(\n",
    "    final_ab_new_users.merge(final_ab_participants.query('ab_test == \"recommender_system_test\"'), how='right', on='user_id')\n",
    "    .first_date.agg(['min', 'max'])\n",
    ")"
   ]
  },
  {
   "cell_type": "markdown",
   "id": "ac4452c6",
   "metadata": {},
   "source": [
    "Участниками теста являются пользователи, зарегистрированные в период с 2020-12-07 по 2020-12-21, что соответствует требованиям ТЗ."
   ]
  },
  {
   "cell_type": "markdown",
   "id": "413b5058",
   "metadata": {},
   "source": [
    "Посмотрим, за какой период содержится информация в датасете `final_ab_events`."
   ]
  },
  {
   "cell_type": "code",
   "execution_count": 16,
   "id": "69f41f1c",
   "metadata": {},
   "outputs": [
    {
     "data": {
      "text/plain": [
       "min   2020-12-07 00:00:33\n",
       "max   2020-12-30 23:36:33\n",
       "Name: event_dt, dtype: datetime64[ns]"
      ]
     },
     "execution_count": 16,
     "metadata": {},
     "output_type": "execute_result"
    }
   ],
   "source": [
    "final_ab_events['event_dt'].agg(['min', 'max'])"
   ]
  },
  {
   "cell_type": "markdown",
   "id": "6f632392",
   "metadata": {},
   "source": [
    "По условиям ТЗ дата остановки теста: 2021-01-04. Тест остановлен 2020-12-30 - раньше запланированной даты."
   ]
  },
  {
   "cell_type": "markdown",
   "id": "cda85fa4",
   "metadata": {},
   "source": [
    "Каждому пользователю из датасета `final_ab_participants` добавим информацию о регионе из датасета `final_ab_new_users`. И проверим, соответствует ли доля пользователей из Европы условиям ТЗ."
   ]
  },
  {
   "cell_type": "code",
   "execution_count": 17,
   "id": "4ae60eba",
   "metadata": {},
   "outputs": [
    {
     "data": {
      "text/html": [
       "<div>\n",
       "<style scoped>\n",
       "    .dataframe tbody tr th:only-of-type {\n",
       "        vertical-align: middle;\n",
       "    }\n",
       "\n",
       "    .dataframe tbody tr th {\n",
       "        vertical-align: top;\n",
       "    }\n",
       "\n",
       "    .dataframe thead th {\n",
       "        text-align: right;\n",
       "    }\n",
       "</style>\n",
       "<table border=\"1\" class=\"dataframe\">\n",
       "  <thead>\n",
       "    <tr style=\"text-align: right;\">\n",
       "      <th></th>\n",
       "      <th>user_id</th>\n",
       "      <th>group</th>\n",
       "      <th>ab_test</th>\n",
       "      <th>region</th>\n",
       "    </tr>\n",
       "  </thead>\n",
       "  <tbody>\n",
       "    <tr>\n",
       "      <th>0</th>\n",
       "      <td>D1ABA3E2887B6A73</td>\n",
       "      <td>A</td>\n",
       "      <td>recommender_system_test</td>\n",
       "      <td>EU</td>\n",
       "    </tr>\n",
       "    <tr>\n",
       "      <th>1</th>\n",
       "      <td>A7A3664BD6242119</td>\n",
       "      <td>A</td>\n",
       "      <td>recommender_system_test</td>\n",
       "      <td>EU</td>\n",
       "    </tr>\n",
       "    <tr>\n",
       "      <th>2</th>\n",
       "      <td>DABC14FDDFADD29E</td>\n",
       "      <td>A</td>\n",
       "      <td>recommender_system_test</td>\n",
       "      <td>EU</td>\n",
       "    </tr>\n",
       "    <tr>\n",
       "      <th>3</th>\n",
       "      <td>04988C5DF189632E</td>\n",
       "      <td>A</td>\n",
       "      <td>recommender_system_test</td>\n",
       "      <td>EU</td>\n",
       "    </tr>\n",
       "    <tr>\n",
       "      <th>4</th>\n",
       "      <td>482F14783456D21B</td>\n",
       "      <td>B</td>\n",
       "      <td>recommender_system_test</td>\n",
       "      <td>EU</td>\n",
       "    </tr>\n",
       "    <tr>\n",
       "      <th>...</th>\n",
       "      <td>...</td>\n",
       "      <td>...</td>\n",
       "      <td>...</td>\n",
       "      <td>...</td>\n",
       "    </tr>\n",
       "    <tr>\n",
       "      <th>18263</th>\n",
       "      <td>1D302F8688B91781</td>\n",
       "      <td>B</td>\n",
       "      <td>interface_eu_test</td>\n",
       "      <td>EU</td>\n",
       "    </tr>\n",
       "    <tr>\n",
       "      <th>18264</th>\n",
       "      <td>3DE51B726983B657</td>\n",
       "      <td>A</td>\n",
       "      <td>interface_eu_test</td>\n",
       "      <td>EU</td>\n",
       "    </tr>\n",
       "    <tr>\n",
       "      <th>18265</th>\n",
       "      <td>F501F79D332BE86C</td>\n",
       "      <td>A</td>\n",
       "      <td>interface_eu_test</td>\n",
       "      <td>EU</td>\n",
       "    </tr>\n",
       "    <tr>\n",
       "      <th>18266</th>\n",
       "      <td>63FBE257B05F2245</td>\n",
       "      <td>A</td>\n",
       "      <td>interface_eu_test</td>\n",
       "      <td>EU</td>\n",
       "    </tr>\n",
       "    <tr>\n",
       "      <th>18267</th>\n",
       "      <td>79F9ABFB029CF724</td>\n",
       "      <td>B</td>\n",
       "      <td>interface_eu_test</td>\n",
       "      <td>EU</td>\n",
       "    </tr>\n",
       "  </tbody>\n",
       "</table>\n",
       "<p>18268 rows × 4 columns</p>\n",
       "</div>"
      ],
      "text/plain": [
       "                user_id group                  ab_test region\n",
       "0      D1ABA3E2887B6A73     A  recommender_system_test     EU\n",
       "1      A7A3664BD6242119     A  recommender_system_test     EU\n",
       "2      DABC14FDDFADD29E     A  recommender_system_test     EU\n",
       "3      04988C5DF189632E     A  recommender_system_test     EU\n",
       "4      482F14783456D21B     B  recommender_system_test     EU\n",
       "...                 ...   ...                      ...    ...\n",
       "18263  1D302F8688B91781     B        interface_eu_test     EU\n",
       "18264  3DE51B726983B657     A        interface_eu_test     EU\n",
       "18265  F501F79D332BE86C     A        interface_eu_test     EU\n",
       "18266  63FBE257B05F2245     A        interface_eu_test     EU\n",
       "18267  79F9ABFB029CF724     B        interface_eu_test     EU\n",
       "\n",
       "[18268 rows x 4 columns]"
      ]
     },
     "execution_count": 17,
     "metadata": {},
     "output_type": "execute_result"
    }
   ],
   "source": [
    "final_ab_participants_reg = final_ab_participants.merge(final_ab_new_users[['region', 'user_id']], on='user_id', how='left')\n",
    "\n",
    "final_ab_participants_reg"
   ]
  },
  {
   "cell_type": "markdown",
   "id": "8c83a520",
   "metadata": {},
   "source": [
    "Согласно ТЗ, в тест должно быть отобрано 15% новых пользователей из региона EU. Проверим, выполняется ли данное условие."
   ]
  },
  {
   "cell_type": "code",
   "execution_count": 18,
   "id": "349727f7",
   "metadata": {},
   "outputs": [
    {
     "data": {
      "text/plain": [
       "0.15"
      ]
     },
     "execution_count": 18,
     "metadata": {},
     "output_type": "execute_result"
    }
   ],
   "source": [
    "(\n",
    "    final_ab_participants_reg.query('ab_test == \"recommender_system_test\" & region ==\"EU\"').shape[0] /\n",
    "    final_ab_new_users.query('region ==\"EU\" & first_date >= \"2020-12-07\" & first_date <= \"2020-12-21\"').shape[0]\n",
    ")"
   ]
  },
  {
   "cell_type": "markdown",
   "id": "9ade3923",
   "metadata": {},
   "source": [
    "Условие ТЗ выполняется."
   ]
  },
  {
   "cell_type": "markdown",
   "id": "4be53269",
   "metadata": {},
   "source": [
    "По условиям ТЗ ожидаемое количество участников теста: 6000. Проверим, выполняется ли данное условие."
   ]
  },
  {
   "cell_type": "code",
   "execution_count": 19,
   "id": "e07050b6",
   "metadata": {},
   "outputs": [
    {
     "data": {
      "text/plain": [
       "6701"
      ]
     },
     "execution_count": 19,
     "metadata": {},
     "output_type": "execute_result"
    }
   ],
   "source": [
    "final_ab_participants_reg.query('ab_test == \"recommender_system_test\"').shape[0]"
   ]
  },
  {
   "cell_type": "markdown",
   "id": "78b3d286",
   "metadata": {},
   "source": [
    "Условие ТЗ выполняется. Однако также стоит учитывать, что не все участников теста совершали действия."
   ]
  },
  {
   "cell_type": "markdown",
   "id": "0999b124",
   "metadata": {},
   "source": [
    "**Вывод:** формально все требования ТЗ, за исключением даты окончания теста, выполняются. Однако часть пользователей, походящих под заданные условия могут не совершить целевых действий, могут участвовать в тестовой группе конкурирующего теста (то есть быть подверженным влиянию изменений конкурирующего теста).\n",
    "\n",
    "Однако окончание теста раньше запланированной даты (установленной с учетом набора необходимой аудитории и минимального обнаруживаемого изменения показателей)  может сделать результаты теста недействительными (не все зарегистрированные пользователи прожили требуемые 14 дней к моменту окончания теста, что сокращает его аудиторию)."
   ]
  },
  {
   "cell_type": "markdown",
   "id": "59d6d882",
   "metadata": {},
   "source": [
    "### Проверка времени проведения теста"
   ]
  },
  {
   "cell_type": "markdown",
   "id": "158d71df",
   "metadata": {},
   "source": [
    "Проверим время проведения теста. Убедимся, что оно не совпадает с маркетинговыми и другими активностями."
   ]
  },
  {
   "cell_type": "markdown",
   "id": "7efeb31f",
   "metadata": {},
   "source": [
    "Выведем маркетинговые события, которые проводились в Европе."
   ]
  },
  {
   "cell_type": "code",
   "execution_count": 20,
   "id": "98c0dc91",
   "metadata": {},
   "outputs": [
    {
     "data": {
      "text/html": [
       "<div>\n",
       "<style scoped>\n",
       "    .dataframe tbody tr th:only-of-type {\n",
       "        vertical-align: middle;\n",
       "    }\n",
       "\n",
       "    .dataframe tbody tr th {\n",
       "        vertical-align: top;\n",
       "    }\n",
       "\n",
       "    .dataframe thead th {\n",
       "        text-align: right;\n",
       "    }\n",
       "</style>\n",
       "<table border=\"1\" class=\"dataframe\">\n",
       "  <thead>\n",
       "    <tr style=\"text-align: right;\">\n",
       "      <th></th>\n",
       "      <th>name</th>\n",
       "      <th>regions</th>\n",
       "      <th>start_dt</th>\n",
       "      <th>finish_dt</th>\n",
       "    </tr>\n",
       "  </thead>\n",
       "  <tbody>\n",
       "    <tr>\n",
       "      <th>1</th>\n",
       "      <td>St. Valentine's Day Giveaway</td>\n",
       "      <td>EU, CIS, APAC, N.America</td>\n",
       "      <td>2020-02-14</td>\n",
       "      <td>2020-02-16</td>\n",
       "    </tr>\n",
       "    <tr>\n",
       "      <th>8</th>\n",
       "      <td>International Women's Day Promo</td>\n",
       "      <td>EU, CIS, APAC</td>\n",
       "      <td>2020-03-08</td>\n",
       "      <td>2020-03-10</td>\n",
       "    </tr>\n",
       "    <tr>\n",
       "      <th>2</th>\n",
       "      <td>St. Patric's Day Promo</td>\n",
       "      <td>EU, N.America</td>\n",
       "      <td>2020-03-17</td>\n",
       "      <td>2020-03-19</td>\n",
       "    </tr>\n",
       "    <tr>\n",
       "      <th>3</th>\n",
       "      <td>Easter Promo</td>\n",
       "      <td>EU, CIS, APAC, N.America</td>\n",
       "      <td>2020-04-12</td>\n",
       "      <td>2020-04-19</td>\n",
       "    </tr>\n",
       "    <tr>\n",
       "      <th>7</th>\n",
       "      <td>Labor day (May 1st) Ads Campaign</td>\n",
       "      <td>EU, CIS, APAC</td>\n",
       "      <td>2020-05-01</td>\n",
       "      <td>2020-05-03</td>\n",
       "    </tr>\n",
       "    <tr>\n",
       "      <th>5</th>\n",
       "      <td>Black Friday Ads Campaign</td>\n",
       "      <td>EU, CIS, APAC, N.America</td>\n",
       "      <td>2020-11-26</td>\n",
       "      <td>2020-12-01</td>\n",
       "    </tr>\n",
       "    <tr>\n",
       "      <th>0</th>\n",
       "      <td>Christmas&amp;New Year Promo</td>\n",
       "      <td>EU, N.America</td>\n",
       "      <td>2020-12-25</td>\n",
       "      <td>2021-01-03</td>\n",
       "    </tr>\n",
       "  </tbody>\n",
       "</table>\n",
       "</div>"
      ],
      "text/plain": [
       "                               name                   regions   start_dt  \\\n",
       "1      St. Valentine's Day Giveaway  EU, CIS, APAC, N.America 2020-02-14   \n",
       "8   International Women's Day Promo             EU, CIS, APAC 2020-03-08   \n",
       "2            St. Patric's Day Promo             EU, N.America 2020-03-17   \n",
       "3                      Easter Promo  EU, CIS, APAC, N.America 2020-04-12   \n",
       "7  Labor day (May 1st) Ads Campaign             EU, CIS, APAC 2020-05-01   \n",
       "5         Black Friday Ads Campaign  EU, CIS, APAC, N.America 2020-11-26   \n",
       "0          Christmas&New Year Promo             EU, N.America 2020-12-25   \n",
       "\n",
       "   finish_dt  \n",
       "1 2020-02-16  \n",
       "8 2020-03-10  \n",
       "2 2020-03-19  \n",
       "3 2020-04-19  \n",
       "7 2020-05-03  \n",
       "5 2020-12-01  \n",
       "0 2021-01-03  "
      ]
     },
     "execution_count": 20,
     "metadata": {},
     "output_type": "execute_result"
    }
   ],
   "source": [
    "ab_project_marketing_events[ab_project_marketing_events['regions'].str.contains('EU')].sort_values('start_dt')"
   ]
  },
  {
   "cell_type": "markdown",
   "id": "6c169941",
   "metadata": {},
   "source": [
    "Посмотрим период проведения теста"
   ]
  },
  {
   "cell_type": "code",
   "execution_count": 21,
   "id": "d82c94af",
   "metadata": {},
   "outputs": [
    {
     "data": {
      "text/plain": [
       "min   2020-12-07 00:00:33\n",
       "max   2020-12-30 23:36:33\n",
       "Name: event_dt, dtype: datetime64[ns]"
      ]
     },
     "execution_count": 21,
     "metadata": {},
     "output_type": "execute_result"
    }
   ],
   "source": [
    "final_ab_events['event_dt'].agg(['min', 'max'])"
   ]
  },
  {
   "cell_type": "markdown",
   "id": "976d1b0d",
   "metadata": {},
   "source": [
    "В период с 2020-12-25 по 2020-12-30 на поведение пользователей может оказывать влияние рекламная компания Christmas&New Year Promo."
   ]
  },
  {
   "cell_type": "markdown",
   "id": "3cce1799",
   "metadata": {},
   "source": [
    "### Подготовка данных для проведения анализа"
   ]
  },
  {
   "cell_type": "markdown",
   "id": "72ef33e7",
   "metadata": {},
   "source": [
    "Подготовим данные для проведения анализа. Проверим аудиторию теста. Удостоверимся, что нет пересечений с конкурирующим тестом и нет пользователей, участвующих в двух группах теста одновременно. Проверим равномерность распределения по тестовым группам и правильность их формирования."
   ]
  },
  {
   "cell_type": "markdown",
   "id": "50b1b405",
   "metadata": {},
   "source": [
    "Поскольку нас интересуют только пользователи, LTV которых составляет 14 дней с момента регистрации, из датасета `final_ab_participants` исключим пользователей, которые зарегистрировались менее чем за 14 дней до окончания теста."
   ]
  },
  {
   "cell_type": "code",
   "execution_count": 22,
   "id": "395db09a",
   "metadata": {},
   "outputs": [],
   "source": [
    "final_ab_participants = final_ab_participants[final_ab_participants['user_id'].isin(\n",
    "    final_ab_new_users[final_ab_new_users['first_date'] <= (final_ab_events['event_dt'].max() - timedelta(13))].user_id\n",
    ")]"
   ]
  },
  {
   "cell_type": "markdown",
   "id": "5a976198",
   "metadata": {},
   "source": [
    "Проверим, есть ли пользователи теста recommender_system_test, которые попали одновременно в группу A и B. Для этого сгруппируем датафрейм по `user_id` и найдем количество пользователелей, для которых количество групп больше одной."
   ]
  },
  {
   "cell_type": "code",
   "execution_count": 23,
   "id": "014fe2cd",
   "metadata": {},
   "outputs": [
    {
     "data": {
      "text/plain": [
       "0"
      ]
     },
     "execution_count": 23,
     "metadata": {},
     "output_type": "execute_result"
    }
   ],
   "source": [
    "(final_ab_participants.query('ab_test == \"recommender_system_test\"').groupby('user_id')['group'].nunique() > 1).sum()"
   ]
  },
  {
   "cell_type": "markdown",
   "id": "78ec300f",
   "metadata": {},
   "source": [
    "Такие пользователи отсутствуют. "
   ]
  },
  {
   "cell_type": "markdown",
   "id": "3ccb44e3",
   "metadata": {},
   "source": [
    "Проверим, есть ли пересечение участников теста recommender_system_test и конкурирующего теста interface_eu_test."
   ]
  },
  {
   "cell_type": "code",
   "execution_count": 24,
   "id": "46a91ec4",
   "metadata": {},
   "outputs": [
    {
     "data": {
      "text/plain": [
       "1141"
      ]
     },
     "execution_count": 24,
     "metadata": {},
     "output_type": "execute_result"
    }
   ],
   "source": [
    "(\n",
    "    final_ab_participants.query('ab_test == \"recommender_system_test\"')[['user_id', 'ab_test']]\n",
    "    .merge(final_ab_participants.query('ab_test == \"interface_eu_test\"')[['user_id', 'ab_test']], on='user_id', how='inner')\n",
    "    .user_id.nunique()\n",
    ")"
   ]
  },
  {
   "cell_type": "markdown",
   "id": "576954ce",
   "metadata": {},
   "source": [
    "Количество пользователей, участвующих одновременно в двух тестах: 1141. Однако удалять всех таких пользователей нерационально, поскольку пользователи-участники исследуемого теста, которые состоят в контрольной группе конкурирующего теста (т.е. не подвержены влиянию его изменений) не будут искажать результаты исследуемого теста."
   ]
  },
  {
   "cell_type": "markdown",
   "id": "ccb38cbf",
   "metadata": {},
   "source": [
    "Проверим количество пользователей, которые приситствуют в тесте recommender_system_test и в тестовой группе interface_eu_test (т.е. подвержены влиянию его изменений)."
   ]
  },
  {
   "cell_type": "code",
   "execution_count": 25,
   "id": "50f72b94",
   "metadata": {},
   "outputs": [
    {
     "data": {
      "text/plain": [
       "557"
      ]
     },
     "execution_count": 25,
     "metadata": {},
     "output_type": "execute_result"
    }
   ],
   "source": [
    "final_ab_participants[\n",
    "    (final_ab_participants['ab_test'] == 'recommender_system_test') &\n",
    "    (\n",
    "        final_ab_participants['user_id'].isin(final_ab_participants.query('ab_test == \"interface_eu_test\" and group == \"B\"')\n",
    "                                              .user_id)\n",
    "    )\n",
    "].user_id.nunique()"
   ]
  },
  {
   "cell_type": "markdown",
   "id": "a806250b",
   "metadata": {},
   "source": [
    "Таких пользователей 557. Исключим их их датасета, т.к. изменения в конкурирующем тесте может оказать влияние на поведение пользователей, которые находятся в контрольной или тестовой группе теста recommender_system_test."
   ]
  },
  {
   "cell_type": "code",
   "execution_count": 26,
   "id": "3a8f7c3b",
   "metadata": {},
   "outputs": [],
   "source": [
    "final_ab_participants = final_ab_participants[\n",
    "    ~((final_ab_participants['ab_test'] == 'recommender_system_test') &\n",
    "    (final_ab_participants['user_id']\n",
    "     .isin(final_ab_participants.query('ab_test == \"interface_eu_test\" and group == \"B\"').user_id))\n",
    "     )]"
   ]
  },
  {
   "cell_type": "markdown",
   "id": "71600f32",
   "metadata": {},
   "source": [
    "Все пересечения исследованы. Оставим в датасете `final_ab_participants` только пользователей, участвующих в recommender_system_test."
   ]
  },
  {
   "cell_type": "code",
   "execution_count": 27,
   "id": "f040e330",
   "metadata": {},
   "outputs": [],
   "source": [
    "final_ab_participants = final_ab_participants[final_ab_participants['ab_test'] == 'recommender_system_test']"
   ]
  },
  {
   "cell_type": "code",
   "execution_count": 28,
   "id": "7caf0557",
   "metadata": {},
   "outputs": [
    {
     "data": {
      "text/html": [
       "<div>\n",
       "<style scoped>\n",
       "    .dataframe tbody tr th:only-of-type {\n",
       "        vertical-align: middle;\n",
       "    }\n",
       "\n",
       "    .dataframe tbody tr th {\n",
       "        vertical-align: top;\n",
       "    }\n",
       "\n",
       "    .dataframe thead th {\n",
       "        text-align: right;\n",
       "    }\n",
       "</style>\n",
       "<table border=\"1\" class=\"dataframe\">\n",
       "  <thead>\n",
       "    <tr style=\"text-align: right;\">\n",
       "      <th></th>\n",
       "      <th>user_id</th>\n",
       "      <th>group</th>\n",
       "      <th>ab_test</th>\n",
       "    </tr>\n",
       "  </thead>\n",
       "  <tbody>\n",
       "    <tr>\n",
       "      <th>0</th>\n",
       "      <td>D1ABA3E2887B6A73</td>\n",
       "      <td>A</td>\n",
       "      <td>recommender_system_test</td>\n",
       "    </tr>\n",
       "    <tr>\n",
       "      <th>2</th>\n",
       "      <td>DABC14FDDFADD29E</td>\n",
       "      <td>A</td>\n",
       "      <td>recommender_system_test</td>\n",
       "    </tr>\n",
       "    <tr>\n",
       "      <th>3</th>\n",
       "      <td>04988C5DF189632E</td>\n",
       "      <td>A</td>\n",
       "      <td>recommender_system_test</td>\n",
       "    </tr>\n",
       "    <tr>\n",
       "      <th>4</th>\n",
       "      <td>482F14783456D21B</td>\n",
       "      <td>B</td>\n",
       "      <td>recommender_system_test</td>\n",
       "    </tr>\n",
       "    <tr>\n",
       "      <th>6</th>\n",
       "      <td>7473E0943673C09E</td>\n",
       "      <td>A</td>\n",
       "      <td>recommender_system_test</td>\n",
       "    </tr>\n",
       "    <tr>\n",
       "      <th>...</th>\n",
       "      <td>...</td>\n",
       "      <td>...</td>\n",
       "      <td>...</td>\n",
       "    </tr>\n",
       "    <tr>\n",
       "      <th>6695</th>\n",
       "      <td>94786EB776B45914</td>\n",
       "      <td>A</td>\n",
       "      <td>recommender_system_test</td>\n",
       "    </tr>\n",
       "    <tr>\n",
       "      <th>6696</th>\n",
       "      <td>053FB26D6D49EDDC</td>\n",
       "      <td>A</td>\n",
       "      <td>recommender_system_test</td>\n",
       "    </tr>\n",
       "    <tr>\n",
       "      <th>6697</th>\n",
       "      <td>9D263B8EF15CF188</td>\n",
       "      <td>B</td>\n",
       "      <td>recommender_system_test</td>\n",
       "    </tr>\n",
       "    <tr>\n",
       "      <th>6699</th>\n",
       "      <td>29C92313A98B1176</td>\n",
       "      <td>B</td>\n",
       "      <td>recommender_system_test</td>\n",
       "    </tr>\n",
       "    <tr>\n",
       "      <th>6700</th>\n",
       "      <td>6715343AFBA285AE</td>\n",
       "      <td>B</td>\n",
       "      <td>recommender_system_test</td>\n",
       "    </tr>\n",
       "  </tbody>\n",
       "</table>\n",
       "<p>4116 rows × 3 columns</p>\n",
       "</div>"
      ],
      "text/plain": [
       "               user_id group                  ab_test\n",
       "0     D1ABA3E2887B6A73     A  recommender_system_test\n",
       "2     DABC14FDDFADD29E     A  recommender_system_test\n",
       "3     04988C5DF189632E     A  recommender_system_test\n",
       "4     482F14783456D21B     B  recommender_system_test\n",
       "6     7473E0943673C09E     A  recommender_system_test\n",
       "...                ...   ...                      ...\n",
       "6695  94786EB776B45914     A  recommender_system_test\n",
       "6696  053FB26D6D49EDDC     A  recommender_system_test\n",
       "6697  9D263B8EF15CF188     B  recommender_system_test\n",
       "6699  29C92313A98B1176     B  recommender_system_test\n",
       "6700  6715343AFBA285AE     B  recommender_system_test\n",
       "\n",
       "[4116 rows x 3 columns]"
      ]
     },
     "execution_count": 28,
     "metadata": {},
     "output_type": "execute_result"
    }
   ],
   "source": [
    "final_ab_participants"
   ]
  },
  {
   "cell_type": "markdown",
   "id": "a17f49ca",
   "metadata": {},
   "source": [
    "Проверим из каких регионов участники теста recommender_system_test. Для этого объединим датафреймы `final_ab_participants` и `final_ab_new_users` и посчитаем долю пользователей для каждого региона."
   ]
  },
  {
   "cell_type": "code",
   "execution_count": 29,
   "id": "b83c1039",
   "metadata": {},
   "outputs": [
    {
     "data": {
      "text/plain": [
       "region\n",
       "EU           0.94\n",
       "N.America    0.04\n",
       "APAC         0.01\n",
       "CIS          0.01\n",
       "dtype: float64"
      ]
     },
     "execution_count": 29,
     "metadata": {},
     "output_type": "execute_result"
    }
   ],
   "source": [
    "final_ab_participants.merge(final_ab_new_users, how='left', on='user_id').value_counts('region', normalize=True).round(2)"
   ]
  },
  {
   "cell_type": "markdown",
   "id": "8e7ec4b2",
   "metadata": {},
   "source": [
    "Среди участников теста помимо пользователей из региона EU (94%) присутствуют пользователи из N.America, APAC, CIS (6%)."
   ]
  },
  {
   "cell_type": "markdown",
   "id": "cb7ca108",
   "metadata": {},
   "source": [
    "Также исключим из датасета `final_ab_participants` всех пользователей, кроме пользователей из Европы."
   ]
  },
  {
   "cell_type": "code",
   "execution_count": 30,
   "id": "f7162870",
   "metadata": {},
   "outputs": [],
   "source": [
    "final_ab_participants = (\n",
    "    final_ab_participants[final_ab_participants['user_id'].isin(final_ab_new_users.query('region == \"EU\"')['user_id'])]\n",
    ")"
   ]
  },
  {
   "cell_type": "code",
   "execution_count": 31,
   "id": "110a7ed7",
   "metadata": {},
   "outputs": [
    {
     "data": {
      "text/html": [
       "<div>\n",
       "<style scoped>\n",
       "    .dataframe tbody tr th:only-of-type {\n",
       "        vertical-align: middle;\n",
       "    }\n",
       "\n",
       "    .dataframe tbody tr th {\n",
       "        vertical-align: top;\n",
       "    }\n",
       "\n",
       "    .dataframe thead th {\n",
       "        text-align: right;\n",
       "    }\n",
       "</style>\n",
       "<table border=\"1\" class=\"dataframe\">\n",
       "  <thead>\n",
       "    <tr style=\"text-align: right;\">\n",
       "      <th></th>\n",
       "      <th>user_id</th>\n",
       "      <th>group</th>\n",
       "      <th>ab_test</th>\n",
       "    </tr>\n",
       "  </thead>\n",
       "  <tbody>\n",
       "    <tr>\n",
       "      <th>0</th>\n",
       "      <td>D1ABA3E2887B6A73</td>\n",
       "      <td>A</td>\n",
       "      <td>recommender_system_test</td>\n",
       "    </tr>\n",
       "    <tr>\n",
       "      <th>2</th>\n",
       "      <td>DABC14FDDFADD29E</td>\n",
       "      <td>A</td>\n",
       "      <td>recommender_system_test</td>\n",
       "    </tr>\n",
       "    <tr>\n",
       "      <th>3</th>\n",
       "      <td>04988C5DF189632E</td>\n",
       "      <td>A</td>\n",
       "      <td>recommender_system_test</td>\n",
       "    </tr>\n",
       "    <tr>\n",
       "      <th>4</th>\n",
       "      <td>482F14783456D21B</td>\n",
       "      <td>B</td>\n",
       "      <td>recommender_system_test</td>\n",
       "    </tr>\n",
       "    <tr>\n",
       "      <th>6</th>\n",
       "      <td>7473E0943673C09E</td>\n",
       "      <td>A</td>\n",
       "      <td>recommender_system_test</td>\n",
       "    </tr>\n",
       "    <tr>\n",
       "      <th>...</th>\n",
       "      <td>...</td>\n",
       "      <td>...</td>\n",
       "      <td>...</td>\n",
       "    </tr>\n",
       "    <tr>\n",
       "      <th>6345</th>\n",
       "      <td>A23B0A7FFF375BFF</td>\n",
       "      <td>B</td>\n",
       "      <td>recommender_system_test</td>\n",
       "    </tr>\n",
       "    <tr>\n",
       "      <th>6347</th>\n",
       "      <td>91C3969B8A72B908</td>\n",
       "      <td>B</td>\n",
       "      <td>recommender_system_test</td>\n",
       "    </tr>\n",
       "    <tr>\n",
       "      <th>6348</th>\n",
       "      <td>E26F13A65CEAC6EA</td>\n",
       "      <td>A</td>\n",
       "      <td>recommender_system_test</td>\n",
       "    </tr>\n",
       "    <tr>\n",
       "      <th>6349</th>\n",
       "      <td>95401934D6D6D4FC</td>\n",
       "      <td>B</td>\n",
       "      <td>recommender_system_test</td>\n",
       "    </tr>\n",
       "    <tr>\n",
       "      <th>6350</th>\n",
       "      <td>80712ED4EA1B52A5</td>\n",
       "      <td>A</td>\n",
       "      <td>recommender_system_test</td>\n",
       "    </tr>\n",
       "  </tbody>\n",
       "</table>\n",
       "<p>3869 rows × 3 columns</p>\n",
       "</div>"
      ],
      "text/plain": [
       "               user_id group                  ab_test\n",
       "0     D1ABA3E2887B6A73     A  recommender_system_test\n",
       "2     DABC14FDDFADD29E     A  recommender_system_test\n",
       "3     04988C5DF189632E     A  recommender_system_test\n",
       "4     482F14783456D21B     B  recommender_system_test\n",
       "6     7473E0943673C09E     A  recommender_system_test\n",
       "...                ...   ...                      ...\n",
       "6345  A23B0A7FFF375BFF     B  recommender_system_test\n",
       "6347  91C3969B8A72B908     B  recommender_system_test\n",
       "6348  E26F13A65CEAC6EA     A  recommender_system_test\n",
       "6349  95401934D6D6D4FC     B  recommender_system_test\n",
       "6350  80712ED4EA1B52A5     A  recommender_system_test\n",
       "\n",
       "[3869 rows x 3 columns]"
      ]
     },
     "execution_count": 31,
     "metadata": {},
     "output_type": "execute_result"
    }
   ],
   "source": [
    "final_ab_participants"
   ]
  },
  {
   "cell_type": "markdown",
   "id": "6422e229",
   "metadata": {},
   "source": [
    "Найдем участников теста recommender_system_test, которые не совершали событий и посмотрим на их распределение между группами теста. Для этого создадим датафрейм `no_event_users`, в котором будут храниться все пользователи, которые не совершали действий за время проведения теста."
   ]
  },
  {
   "cell_type": "code",
   "execution_count": 32,
   "id": "9d582dda",
   "metadata": {},
   "outputs": [],
   "source": [
    "no_event_users = (\n",
    "    final_ab_participants.query('ab_test == \"recommender_system_test\"').merge(final_ab_events, how='left', on='user_id')\n",
    "    .query('event_name.isna()')\n",
    ")"
   ]
  },
  {
   "cell_type": "code",
   "execution_count": 33,
   "id": "1bbe9c03",
   "metadata": {},
   "outputs": [
    {
     "data": {
      "text/html": [
       "<div>\n",
       "<style scoped>\n",
       "    .dataframe tbody tr th:only-of-type {\n",
       "        vertical-align: middle;\n",
       "    }\n",
       "\n",
       "    .dataframe tbody tr th {\n",
       "        vertical-align: top;\n",
       "    }\n",
       "\n",
       "    .dataframe thead th {\n",
       "        text-align: right;\n",
       "    }\n",
       "</style>\n",
       "<table border=\"1\" class=\"dataframe\">\n",
       "  <thead>\n",
       "    <tr style=\"text-align: right;\">\n",
       "      <th></th>\n",
       "      <th>user_id</th>\n",
       "      <th>group</th>\n",
       "      <th>ab_test</th>\n",
       "      <th>event_dt</th>\n",
       "      <th>event_name</th>\n",
       "      <th>details</th>\n",
       "    </tr>\n",
       "  </thead>\n",
       "  <tbody>\n",
       "    <tr>\n",
       "      <th>26</th>\n",
       "      <td>482F14783456D21B</td>\n",
       "      <td>B</td>\n",
       "      <td>recommender_system_test</td>\n",
       "      <td>NaT</td>\n",
       "      <td>NaN</td>\n",
       "      <td>NaN</td>\n",
       "    </tr>\n",
       "    <tr>\n",
       "      <th>41</th>\n",
       "      <td>057AB296296C7FC0</td>\n",
       "      <td>B</td>\n",
       "      <td>recommender_system_test</td>\n",
       "      <td>NaT</td>\n",
       "      <td>NaN</td>\n",
       "      <td>NaN</td>\n",
       "    </tr>\n",
       "    <tr>\n",
       "      <th>48</th>\n",
       "      <td>E9FA12FAE3F5769C</td>\n",
       "      <td>B</td>\n",
       "      <td>recommender_system_test</td>\n",
       "      <td>NaT</td>\n",
       "      <td>NaN</td>\n",
       "      <td>NaN</td>\n",
       "    </tr>\n",
       "    <tr>\n",
       "      <th>49</th>\n",
       "      <td>FDD0A1016549D707</td>\n",
       "      <td>A</td>\n",
       "      <td>recommender_system_test</td>\n",
       "      <td>NaT</td>\n",
       "      <td>NaN</td>\n",
       "      <td>NaN</td>\n",
       "    </tr>\n",
       "    <tr>\n",
       "      <th>50</th>\n",
       "      <td>547E99A7BDB0FCE9</td>\n",
       "      <td>A</td>\n",
       "      <td>recommender_system_test</td>\n",
       "      <td>NaT</td>\n",
       "      <td>NaN</td>\n",
       "      <td>NaN</td>\n",
       "    </tr>\n",
       "    <tr>\n",
       "      <th>...</th>\n",
       "      <td>...</td>\n",
       "      <td>...</td>\n",
       "      <td>...</td>\n",
       "      <td>...</td>\n",
       "      <td>...</td>\n",
       "      <td>...</td>\n",
       "    </tr>\n",
       "    <tr>\n",
       "      <th>14888</th>\n",
       "      <td>C5E1BD2400840B30</td>\n",
       "      <td>B</td>\n",
       "      <td>recommender_system_test</td>\n",
       "      <td>NaT</td>\n",
       "      <td>NaN</td>\n",
       "      <td>NaN</td>\n",
       "    </tr>\n",
       "    <tr>\n",
       "      <th>14889</th>\n",
       "      <td>EA29547AB3C0CB9C</td>\n",
       "      <td>B</td>\n",
       "      <td>recommender_system_test</td>\n",
       "      <td>NaT</td>\n",
       "      <td>NaN</td>\n",
       "      <td>NaN</td>\n",
       "    </tr>\n",
       "    <tr>\n",
       "      <th>14905</th>\n",
       "      <td>9A44E27079666291</td>\n",
       "      <td>B</td>\n",
       "      <td>recommender_system_test</td>\n",
       "      <td>NaT</td>\n",
       "      <td>NaN</td>\n",
       "      <td>NaN</td>\n",
       "    </tr>\n",
       "    <tr>\n",
       "      <th>14906</th>\n",
       "      <td>9C2D0067A991213E</td>\n",
       "      <td>B</td>\n",
       "      <td>recommender_system_test</td>\n",
       "      <td>NaT</td>\n",
       "      <td>NaN</td>\n",
       "      <td>NaN</td>\n",
       "    </tr>\n",
       "    <tr>\n",
       "      <th>14921</th>\n",
       "      <td>A23B0A7FFF375BFF</td>\n",
       "      <td>B</td>\n",
       "      <td>recommender_system_test</td>\n",
       "      <td>NaT</td>\n",
       "      <td>NaN</td>\n",
       "      <td>NaN</td>\n",
       "    </tr>\n",
       "  </tbody>\n",
       "</table>\n",
       "<p>1989 rows × 6 columns</p>\n",
       "</div>"
      ],
      "text/plain": [
       "                user_id group                  ab_test event_dt event_name  \\\n",
       "26     482F14783456D21B     B  recommender_system_test      NaT        NaN   \n",
       "41     057AB296296C7FC0     B  recommender_system_test      NaT        NaN   \n",
       "48     E9FA12FAE3F5769C     B  recommender_system_test      NaT        NaN   \n",
       "49     FDD0A1016549D707     A  recommender_system_test      NaT        NaN   \n",
       "50     547E99A7BDB0FCE9     A  recommender_system_test      NaT        NaN   \n",
       "...                 ...   ...                      ...      ...        ...   \n",
       "14888  C5E1BD2400840B30     B  recommender_system_test      NaT        NaN   \n",
       "14889  EA29547AB3C0CB9C     B  recommender_system_test      NaT        NaN   \n",
       "14905  9A44E27079666291     B  recommender_system_test      NaT        NaN   \n",
       "14906  9C2D0067A991213E     B  recommender_system_test      NaT        NaN   \n",
       "14921  A23B0A7FFF375BFF     B  recommender_system_test      NaT        NaN   \n",
       "\n",
       "       details  \n",
       "26         NaN  \n",
       "41         NaN  \n",
       "48         NaN  \n",
       "49         NaN  \n",
       "50         NaN  \n",
       "...        ...  \n",
       "14888      NaN  \n",
       "14889      NaN  \n",
       "14905      NaN  \n",
       "14906      NaN  \n",
       "14921      NaN  \n",
       "\n",
       "[1989 rows x 6 columns]"
      ]
     },
     "execution_count": 33,
     "metadata": {},
     "output_type": "execute_result"
    }
   ],
   "source": [
    "no_event_users"
   ]
  },
  {
   "cell_type": "markdown",
   "id": "ce3f63b3",
   "metadata": {},
   "source": [
    "Посчитаем количество пользователей не совершавших действий за время проведения тестирования в разрезе групп."
   ]
  },
  {
   "cell_type": "code",
   "execution_count": 34,
   "id": "bbfd3400",
   "metadata": {},
   "outputs": [
    {
     "data": {
      "text/html": [
       "<div>\n",
       "<style scoped>\n",
       "    .dataframe tbody tr th:only-of-type {\n",
       "        vertical-align: middle;\n",
       "    }\n",
       "\n",
       "    .dataframe tbody tr th {\n",
       "        vertical-align: top;\n",
       "    }\n",
       "\n",
       "    .dataframe thead th {\n",
       "        text-align: right;\n",
       "    }\n",
       "</style>\n",
       "<table border=\"1\" class=\"dataframe\">\n",
       "  <thead>\n",
       "    <tr style=\"text-align: right;\">\n",
       "      <th></th>\n",
       "      <th>no_ev_users_count</th>\n",
       "      <th>total_users_count</th>\n",
       "      <th>share</th>\n",
       "    </tr>\n",
       "    <tr>\n",
       "      <th>group</th>\n",
       "      <th></th>\n",
       "      <th></th>\n",
       "      <th></th>\n",
       "    </tr>\n",
       "  </thead>\n",
       "  <tbody>\n",
       "    <tr>\n",
       "      <th>A</th>\n",
       "      <td>916</td>\n",
       "      <td>2237</td>\n",
       "      <td>0.41</td>\n",
       "    </tr>\n",
       "    <tr>\n",
       "      <th>B</th>\n",
       "      <td>1073</td>\n",
       "      <td>1632</td>\n",
       "      <td>0.66</td>\n",
       "    </tr>\n",
       "  </tbody>\n",
       "</table>\n",
       "</div>"
      ],
      "text/plain": [
       "       no_ev_users_count  total_users_count  share\n",
       "group                                             \n",
       "A                    916               2237   0.41\n",
       "B                   1073               1632   0.66"
      ]
     },
     "execution_count": 34,
     "metadata": {},
     "output_type": "execute_result"
    }
   ],
   "source": [
    "t = (\n",
    "    no_event_users.groupby('group')\n",
    "    .agg({'user_id': 'count'})\n",
    "    .merge(final_ab_participants.groupby('group')['user_id'].count().to_frame(), on='group')\n",
    "    .rename(columns=({'user_id_x': 'no_ev_users_count', 'user_id_y': 'total_users_count'}))\n",
    ")\n",
    "    \n",
    "t['share'] = (t['no_ev_users_count'] / t['total_users_count']).round(2)\n",
    "\n",
    "t"
   ]
  },
  {
   "cell_type": "markdown",
   "id": "3e6f701a",
   "metadata": {},
   "source": [
    "В группе В доля пользователей, не совершавших действий больше, чем в группе А на 21%."
   ]
  },
  {
   "cell_type": "markdown",
   "id": "9f919640",
   "metadata": {},
   "source": [
    "Посмотрим, как проводился набор пользователей по дням."
   ]
  },
  {
   "cell_type": "code",
   "execution_count": 35,
   "id": "6594f22c",
   "metadata": {},
   "outputs": [
    {
     "data": {
      "image/png": "[encoded data removed]",
      "text/plain": [
       "<Figure size 936x720 with 1 Axes>"
      ]
     },
     "metadata": {
      "needs_background": "light"
     },
     "output_type": "display_data"
    }
   ],
   "source": [
    "t = final_ab_new_users.merge(final_ab_participants, how='right', on='user_id')\n",
    "t.query('group == \"A\"')['first_date'].hist(figsize=(13,10), bins=10, label='Группа A')\n",
    "t.query('group == \"B\"')['first_date'].hist(figsize=(13,10), bins=10, label='Группа B', alpha=0.8)\n",
    "\n",
    "plt.xlabel('Дата')\n",
    "plt.ylabel('Количество зарегистрированных пользователей')\n",
    "plt.title('Распределение количества зарегистрированных пользователей по дням')\n",
    "plt.legend()\n",
    "plt.show()"
   ]
  },
  {
   "cell_type": "markdown",
   "id": "04f0c2e7",
   "metadata": {},
   "source": [
    "Распределение количества регистраций пользователей группы А аналогично распределению количества регистраций пользователей группы В. В целом для группы А практически каждый день регистрировалось больше пользователей."
   ]
  },
  {
   "cell_type": "code",
   "execution_count": 36,
   "id": "5a2bc63c",
   "metadata": {},
   "outputs": [
    {
     "data": {
      "image/png": "[encoded data removed]",
      "text/plain": [
       "<Figure size 1008x720 with 1 Axes>"
      ]
     },
     "metadata": {
      "needs_background": "light"
     },
     "output_type": "display_data"
    }
   ],
   "source": [
    "no_event_users.merge(final_ab_new_users, on='user_id', how='left')\\\n",
    ".query('group == \"A\"')['first_date'].hist(figsize=(13,10), bins=6, label='Группа A')\n",
    "\n",
    "no_event_users.merge(final_ab_new_users, on='user_id', how='left')\\\n",
    ".query('group == \"B\"')['first_date'].hist(figsize=(14,10), bins=10, label='Группа В', alpha=0.8)\n",
    "\n",
    "plt.xlabel('Дата')\n",
    "plt.xticks(rotation=45)\n",
    "plt.ylabel('Количество зарегистрированных пользователей')\n",
    "plt.title('Распределение количества зарегистрированных пользователей,\\n не совершавших действий во время тестирования по дням')\n",
    "plt.legend()\n",
    "plt.show()"
   ]
  },
  {
   "cell_type": "markdown",
   "id": "acfdee45",
   "metadata": {},
   "source": [
    "Отметим, что в группу А пользователи, которые не совершали действий регистрировались с 2020-12-07 по 2020-12-12, причем за последнюю дату таких пользвователей зарегистрировалось большое количество.\n",
    "В группу В пользователи, которые не совершали действий регистрировались на протяжении всего времени набора: с 2020-12-07 по 2020-12-16."
   ]
  },
  {
   "cell_type": "markdown",
   "id": "3fa7d8d7",
   "metadata": {},
   "source": [
    "В датасете `final_ab_events` оставим только действия для пользователей из датасета `final_ab_participants`."
   ]
  },
  {
   "cell_type": "code",
   "execution_count": 37,
   "id": "8a99c968",
   "metadata": {},
   "outputs": [],
   "source": [
    "final_ab_events = final_ab_events[final_ab_events['user_id'].isin(final_ab_participants['user_id'])]"
   ]
  },
  {
   "cell_type": "code",
   "execution_count": 38,
   "id": "2be42daa",
   "metadata": {},
   "outputs": [
    {
     "data": {
      "text/html": [
       "<div>\n",
       "<style scoped>\n",
       "    .dataframe tbody tr th:only-of-type {\n",
       "        vertical-align: middle;\n",
       "    }\n",
       "\n",
       "    .dataframe tbody tr th {\n",
       "        vertical-align: top;\n",
       "    }\n",
       "\n",
       "    .dataframe thead th {\n",
       "        text-align: right;\n",
       "    }\n",
       "</style>\n",
       "<table border=\"1\" class=\"dataframe\">\n",
       "  <thead>\n",
       "    <tr style=\"text-align: right;\">\n",
       "      <th></th>\n",
       "      <th>user_id</th>\n",
       "      <th>event_dt</th>\n",
       "      <th>event_name</th>\n",
       "      <th>details</th>\n",
       "    </tr>\n",
       "  </thead>\n",
       "  <tbody>\n",
       "    <tr>\n",
       "      <th>5</th>\n",
       "      <td>831887FE7F2D6CBA</td>\n",
       "      <td>2020-12-07 06:50:29</td>\n",
       "      <td>purchase</td>\n",
       "      <td>4.99</td>\n",
       "    </tr>\n",
       "    <tr>\n",
       "      <th>17</th>\n",
       "      <td>3C5DD0288AC4FE23</td>\n",
       "      <td>2020-12-07 19:42:40</td>\n",
       "      <td>purchase</td>\n",
       "      <td>4.99</td>\n",
       "    </tr>\n",
       "    <tr>\n",
       "      <th>58</th>\n",
       "      <td>49EA242586C87836</td>\n",
       "      <td>2020-12-07 06:31:24</td>\n",
       "      <td>purchase</td>\n",
       "      <td>99.99</td>\n",
       "    </tr>\n",
       "    <tr>\n",
       "      <th>71</th>\n",
       "      <td>2B06EB547B7AAD08</td>\n",
       "      <td>2020-12-07 21:36:38</td>\n",
       "      <td>purchase</td>\n",
       "      <td>4.99</td>\n",
       "    </tr>\n",
       "    <tr>\n",
       "      <th>74</th>\n",
       "      <td>A640F31CAC7823A6</td>\n",
       "      <td>2020-12-07 18:48:26</td>\n",
       "      <td>purchase</td>\n",
       "      <td>4.99</td>\n",
       "    </tr>\n",
       "    <tr>\n",
       "      <th>...</th>\n",
       "      <td>...</td>\n",
       "      <td>...</td>\n",
       "      <td>...</td>\n",
       "      <td>...</td>\n",
       "    </tr>\n",
       "    <tr>\n",
       "      <th>439346</th>\n",
       "      <td>69924C768EE3374C</td>\n",
       "      <td>2020-12-29 23:27:00</td>\n",
       "      <td>login</td>\n",
       "      <td>NaN</td>\n",
       "    </tr>\n",
       "    <tr>\n",
       "      <th>439774</th>\n",
       "      <td>016F758EB5C5A5DA</td>\n",
       "      <td>2020-12-29 07:51:00</td>\n",
       "      <td>login</td>\n",
       "      <td>NaN</td>\n",
       "    </tr>\n",
       "    <tr>\n",
       "      <th>439809</th>\n",
       "      <td>7DC0F01827866E41</td>\n",
       "      <td>2020-12-29 08:43:44</td>\n",
       "      <td>login</td>\n",
       "      <td>NaN</td>\n",
       "    </tr>\n",
       "    <tr>\n",
       "      <th>440281</th>\n",
       "      <td>DD4352CDCF8C3D57</td>\n",
       "      <td>2020-12-30 12:42:56</td>\n",
       "      <td>login</td>\n",
       "      <td>NaN</td>\n",
       "    </tr>\n",
       "    <tr>\n",
       "      <th>440289</th>\n",
       "      <td>75845C83258FBF73</td>\n",
       "      <td>2020-12-30 06:42:52</td>\n",
       "      <td>login</td>\n",
       "      <td>NaN</td>\n",
       "    </tr>\n",
       "  </tbody>\n",
       "</table>\n",
       "<p>12952 rows × 4 columns</p>\n",
       "</div>"
      ],
      "text/plain": [
       "                 user_id            event_dt event_name  details\n",
       "5       831887FE7F2D6CBA 2020-12-07 06:50:29   purchase     4.99\n",
       "17      3C5DD0288AC4FE23 2020-12-07 19:42:40   purchase     4.99\n",
       "58      49EA242586C87836 2020-12-07 06:31:24   purchase    99.99\n",
       "71      2B06EB547B7AAD08 2020-12-07 21:36:38   purchase     4.99\n",
       "74      A640F31CAC7823A6 2020-12-07 18:48:26   purchase     4.99\n",
       "...                  ...                 ...        ...      ...\n",
       "439346  69924C768EE3374C 2020-12-29 23:27:00      login      NaN\n",
       "439774  016F758EB5C5A5DA 2020-12-29 07:51:00      login      NaN\n",
       "439809  7DC0F01827866E41 2020-12-29 08:43:44      login      NaN\n",
       "440281  DD4352CDCF8C3D57 2020-12-30 12:42:56      login      NaN\n",
       "440289  75845C83258FBF73 2020-12-30 06:42:52      login      NaN\n",
       "\n",
       "[12952 rows x 4 columns]"
      ]
     },
     "execution_count": 38,
     "metadata": {},
     "output_type": "execute_result"
    }
   ],
   "source": [
    "final_ab_events"
   ]
  },
  {
   "cell_type": "markdown",
   "id": "eef01315",
   "metadata": {},
   "source": [
    "По условиям ТЗ ожидаемый эффект необходимо зафиксировать за 14 дней с момента регистрации пользователя. В датасете `final_ab_events` оставим только те действия, время совершения которых составляет не более 14 дней с момена регистрации пользователя."
   ]
  },
  {
   "cell_type": "code",
   "execution_count": 39,
   "id": "97773b95",
   "metadata": {},
   "outputs": [],
   "source": [
    "final_ab_events = final_ab_events.merge(final_ab_new_users[['user_id', 'first_date']], how='left', on='user_id')\n",
    "final_ab_events = final_ab_events[(final_ab_events['event_dt'] - timedelta(14)) < final_ab_events['first_date']]"
   ]
  },
  {
   "cell_type": "code",
   "execution_count": 40,
   "id": "d2997030",
   "metadata": {},
   "outputs": [
    {
     "data": {
      "text/html": [
       "<div>\n",
       "<style scoped>\n",
       "    .dataframe tbody tr th:only-of-type {\n",
       "        vertical-align: middle;\n",
       "    }\n",
       "\n",
       "    .dataframe tbody tr th {\n",
       "        vertical-align: top;\n",
       "    }\n",
       "\n",
       "    .dataframe thead th {\n",
       "        text-align: right;\n",
       "    }\n",
       "</style>\n",
       "<table border=\"1\" class=\"dataframe\">\n",
       "  <thead>\n",
       "    <tr style=\"text-align: right;\">\n",
       "      <th></th>\n",
       "      <th>user_id</th>\n",
       "      <th>event_dt</th>\n",
       "      <th>event_name</th>\n",
       "      <th>details</th>\n",
       "      <th>first_date</th>\n",
       "    </tr>\n",
       "  </thead>\n",
       "  <tbody>\n",
       "    <tr>\n",
       "      <th>0</th>\n",
       "      <td>831887FE7F2D6CBA</td>\n",
       "      <td>2020-12-07 06:50:29</td>\n",
       "      <td>purchase</td>\n",
       "      <td>4.99</td>\n",
       "      <td>2020-12-07</td>\n",
       "    </tr>\n",
       "    <tr>\n",
       "      <th>1</th>\n",
       "      <td>3C5DD0288AC4FE23</td>\n",
       "      <td>2020-12-07 19:42:40</td>\n",
       "      <td>purchase</td>\n",
       "      <td>4.99</td>\n",
       "      <td>2020-12-07</td>\n",
       "    </tr>\n",
       "    <tr>\n",
       "      <th>2</th>\n",
       "      <td>49EA242586C87836</td>\n",
       "      <td>2020-12-07 06:31:24</td>\n",
       "      <td>purchase</td>\n",
       "      <td>99.99</td>\n",
       "      <td>2020-12-07</td>\n",
       "    </tr>\n",
       "    <tr>\n",
       "      <th>3</th>\n",
       "      <td>2B06EB547B7AAD08</td>\n",
       "      <td>2020-12-07 21:36:38</td>\n",
       "      <td>purchase</td>\n",
       "      <td>4.99</td>\n",
       "      <td>2020-12-07</td>\n",
       "    </tr>\n",
       "    <tr>\n",
       "      <th>4</th>\n",
       "      <td>A640F31CAC7823A6</td>\n",
       "      <td>2020-12-07 18:48:26</td>\n",
       "      <td>purchase</td>\n",
       "      <td>4.99</td>\n",
       "      <td>2020-12-07</td>\n",
       "    </tr>\n",
       "    <tr>\n",
       "      <th>...</th>\n",
       "      <td>...</td>\n",
       "      <td>...</td>\n",
       "      <td>...</td>\n",
       "      <td>...</td>\n",
       "      <td>...</td>\n",
       "    </tr>\n",
       "    <tr>\n",
       "      <th>12934</th>\n",
       "      <td>A13A9A1B54CAEB4B</td>\n",
       "      <td>2020-12-29 14:59:38</td>\n",
       "      <td>login</td>\n",
       "      <td>NaN</td>\n",
       "      <td>2020-12-17</td>\n",
       "    </tr>\n",
       "    <tr>\n",
       "      <th>12935</th>\n",
       "      <td>1095D37412647DA1</td>\n",
       "      <td>2020-12-29 02:27:25</td>\n",
       "      <td>login</td>\n",
       "      <td>NaN</td>\n",
       "      <td>2020-12-17</td>\n",
       "    </tr>\n",
       "    <tr>\n",
       "      <th>12936</th>\n",
       "      <td>9F4F58990EAB3DFE</td>\n",
       "      <td>2020-12-29 17:39:13</td>\n",
       "      <td>login</td>\n",
       "      <td>NaN</td>\n",
       "      <td>2020-12-17</td>\n",
       "    </tr>\n",
       "    <tr>\n",
       "      <th>12937</th>\n",
       "      <td>14AB9446E8FD3584</td>\n",
       "      <td>2020-12-29 00:09:48</td>\n",
       "      <td>login</td>\n",
       "      <td>NaN</td>\n",
       "      <td>2020-12-17</td>\n",
       "    </tr>\n",
       "    <tr>\n",
       "      <th>12938</th>\n",
       "      <td>24834C656421236A</td>\n",
       "      <td>2020-12-29 21:14:34</td>\n",
       "      <td>login</td>\n",
       "      <td>NaN</td>\n",
       "      <td>2020-12-17</td>\n",
       "    </tr>\n",
       "  </tbody>\n",
       "</table>\n",
       "<p>12237 rows × 5 columns</p>\n",
       "</div>"
      ],
      "text/plain": [
       "                user_id            event_dt event_name  details first_date\n",
       "0      831887FE7F2D6CBA 2020-12-07 06:50:29   purchase     4.99 2020-12-07\n",
       "1      3C5DD0288AC4FE23 2020-12-07 19:42:40   purchase     4.99 2020-12-07\n",
       "2      49EA242586C87836 2020-12-07 06:31:24   purchase    99.99 2020-12-07\n",
       "3      2B06EB547B7AAD08 2020-12-07 21:36:38   purchase     4.99 2020-12-07\n",
       "4      A640F31CAC7823A6 2020-12-07 18:48:26   purchase     4.99 2020-12-07\n",
       "...                 ...                 ...        ...      ...        ...\n",
       "12934  A13A9A1B54CAEB4B 2020-12-29 14:59:38      login      NaN 2020-12-17\n",
       "12935  1095D37412647DA1 2020-12-29 02:27:25      login      NaN 2020-12-17\n",
       "12936  9F4F58990EAB3DFE 2020-12-29 17:39:13      login      NaN 2020-12-17\n",
       "12937  14AB9446E8FD3584 2020-12-29 00:09:48      login      NaN 2020-12-17\n",
       "12938  24834C656421236A 2020-12-29 21:14:34      login      NaN 2020-12-17\n",
       "\n",
       "[12237 rows x 5 columns]"
      ]
     },
     "execution_count": 40,
     "metadata": {},
     "output_type": "execute_result"
    }
   ],
   "source": [
    "final_ab_events"
   ]
  },
  {
   "cell_type": "markdown",
   "id": "46c2eccd",
   "metadata": {},
   "source": [
    "Вычислим, какое количество пользователей мы потеряли в процессе проверки качества теста и подготовки данных."
   ]
  },
  {
   "cell_type": "code",
   "execution_count": 41,
   "id": "b4a3bcfb",
   "metadata": {},
   "outputs": [
    {
     "name": "stdout",
     "output_type": "stream",
     "text": [
      "В процессе проверки качества теста и подготовки данных утрачено 42.26% пользователей\n"
     ]
    }
   ],
   "source": [
    "print('В процессе проверки качества теста и подготовки данных утрачено {:.2%} пользователей'.format(\n",
    "    (1 - final_ab_participants.shape[0] / final_ab_participants_reg.query('ab_test == \"recommender_system_test\"').shape[0])\n",
    ")\n",
    "     )"
   ]
  },
  {
   "cell_type": "markdown",
   "id": "2acc18aa",
   "metadata": {},
   "source": [
    "Вычислим долю пользователей из Европы среди всех пользователей, зарегистрировавшихся в период с 2020-12-07 по 2020-12-16 (за 14 дней до окончания теста). Также найдем количество участников теста."
   ]
  },
  {
   "cell_type": "code",
   "execution_count": 42,
   "id": "a0e53286",
   "metadata": {},
   "outputs": [
    {
     "name": "stdout",
     "output_type": "stream",
     "text": [
      "Доля участников теста из Европы среди всех пользователей, зарегистрировавшихся в период с 2020-12-07 по 2020-12-16: 10.79%\n",
      "Общее количество участников теста: 3869\n"
     ]
    }
   ],
   "source": [
    "print(\n",
    "    'Доля участников теста из Европы среди всех пользователей, зарегистрировавшихся\\\n",
    " в период с 2020-12-07 по 2020-12-16: {:.2%}'\n",
    "    .format(\n",
    "        final_ab_participants.shape[0] / \n",
    "        final_ab_new_users[final_ab_new_users['first_date'] <= datetime(2020, 12, 16)].shape[0]\n",
    "    )\n",
    ")\n",
    "\n",
    "print('Общее количество участников теста:', final_ab_participants.shape[0])"
   ]
  },
  {
   "cell_type": "markdown",
   "id": "044c011f",
   "metadata": {},
   "source": [
    "По итогам проверки качества данных и их подготовки для проведения для анализа, можно сделать вывод, что требования ТЗ не выполняются."
   ]
  },
  {
   "cell_type": "markdown",
   "id": "803bfb41",
   "metadata": {},
   "source": [
    "Проверим равномерность распределения пользователей по тестовым группам и правильность их формирования."
   ]
  },
  {
   "cell_type": "code",
   "execution_count": 43,
   "id": "ceae6ffb",
   "metadata": {},
   "outputs": [],
   "source": [
    "sh_users_group = final_ab_participants['group'].value_counts(normalize=True).to_frame().rename(columns=({'group': 'share'}))"
   ]
  },
  {
   "cell_type": "code",
   "execution_count": 44,
   "id": "96a5caa9",
   "metadata": {},
   "outputs": [
    {
     "data": {
      "text/html": [
       "<div>\n",
       "<style scoped>\n",
       "    .dataframe tbody tr th:only-of-type {\n",
       "        vertical-align: middle;\n",
       "    }\n",
       "\n",
       "    .dataframe tbody tr th {\n",
       "        vertical-align: top;\n",
       "    }\n",
       "\n",
       "    .dataframe thead th {\n",
       "        text-align: right;\n",
       "    }\n",
       "</style>\n",
       "<table border=\"1\" class=\"dataframe\">\n",
       "  <thead>\n",
       "    <tr style=\"text-align: right;\">\n",
       "      <th></th>\n",
       "      <th>share</th>\n",
       "    </tr>\n",
       "  </thead>\n",
       "  <tbody>\n",
       "    <tr>\n",
       "      <th>A</th>\n",
       "      <td>0.578186</td>\n",
       "    </tr>\n",
       "    <tr>\n",
       "      <th>B</th>\n",
       "      <td>0.421814</td>\n",
       "    </tr>\n",
       "  </tbody>\n",
       "</table>\n",
       "</div>"
      ],
      "text/plain": [
       "      share\n",
       "A  0.578186\n",
       "B  0.421814"
      ]
     },
     "execution_count": 44,
     "metadata": {},
     "output_type": "execute_result"
    }
   ],
   "source": [
    "sh_users_group"
   ]
  },
  {
   "cell_type": "code",
   "execution_count": 45,
   "id": "34699648",
   "metadata": {},
   "outputs": [
    {
     "name": "stdout",
     "output_type": "stream",
     "text": [
      "Разница между группами A и B составляет 15.64%\n"
     ]
    }
   ],
   "source": [
    "print('Разница между группами A и B составляет {:.2%}'.format(sh_users_group.iloc[0, 0] - sh_users_group.iloc[1, 0]))"
   ]
  },
  {
   "cell_type": "code",
   "execution_count": 46,
   "id": "8d823c4d",
   "metadata": {},
   "outputs": [
    {
     "data": {
      "text/html": [
       "<div>\n",
       "<style scoped>\n",
       "    .dataframe tbody tr th:only-of-type {\n",
       "        vertical-align: middle;\n",
       "    }\n",
       "\n",
       "    .dataframe tbody tr th {\n",
       "        vertical-align: top;\n",
       "    }\n",
       "\n",
       "    .dataframe thead th {\n",
       "        text-align: right;\n",
       "    }\n",
       "</style>\n",
       "<table border=\"1\" class=\"dataframe\">\n",
       "  <thead>\n",
       "    <tr style=\"text-align: right;\">\n",
       "      <th></th>\n",
       "      <th>user_count</th>\n",
       "    </tr>\n",
       "    <tr>\n",
       "      <th>group</th>\n",
       "      <th></th>\n",
       "    </tr>\n",
       "  </thead>\n",
       "  <tbody>\n",
       "    <tr>\n",
       "      <th>A</th>\n",
       "      <td>2237</td>\n",
       "    </tr>\n",
       "    <tr>\n",
       "      <th>B</th>\n",
       "      <td>1632</td>\n",
       "    </tr>\n",
       "  </tbody>\n",
       "</table>\n",
       "</div>"
      ],
      "text/plain": [
       "       user_count\n",
       "group            \n",
       "A            2237\n",
       "B            1632"
      ]
     },
     "execution_count": 46,
     "metadata": {},
     "output_type": "execute_result"
    }
   ],
   "source": [
    "final_ab_participants.groupby('group')['user_id'].count().to_frame().rename(columns=({'user_id':'user_count'}))"
   ]
  },
  {
   "cell_type": "markdown",
   "id": "f2be3276",
   "metadata": {},
   "source": [
    "Пользователи распределены по группам неравномерно: 2237 в группе А и 1632 в группе В. Разница между группами A и B составляет 15.64%."
   ]
  },
  {
   "cell_type": "markdown",
   "id": "90ea8054",
   "metadata": {},
   "source": [
    "## Исследовательский анализ данных"
   ]
  },
  {
   "cell_type": "markdown",
   "id": "45a3d4ae",
   "metadata": {},
   "source": [
    "Проверим, одинаково ли распределено количество событий на пользователя в выборках. Для этого создадим датафрейм `count_events_by_users`, в котором для каждого пользователя будет указана группа теста и количество действий."
   ]
  },
  {
   "cell_type": "code",
   "execution_count": 47,
   "id": "74e5f134",
   "metadata": {},
   "outputs": [],
   "source": [
    "count_events_by_users = (\n",
    "    final_ab_participants[['user_id', 'group']]\n",
    "    .merge(final_ab_events.groupby('user_id')['event_name'].count().reset_index(), on='user_id')\n",
    ").rename(columns=({'event_name': 'events_count'}))"
   ]
  },
  {
   "cell_type": "markdown",
   "id": "87820caa",
   "metadata": {},
   "source": [
    "Выведем датафрейм на экран."
   ]
  },
  {
   "cell_type": "code",
   "execution_count": 48,
   "id": "05f9a42e",
   "metadata": {},
   "outputs": [
    {
     "data": {
      "text/html": [
       "<div>\n",
       "<style scoped>\n",
       "    .dataframe tbody tr th:only-of-type {\n",
       "        vertical-align: middle;\n",
       "    }\n",
       "\n",
       "    .dataframe tbody tr th {\n",
       "        vertical-align: top;\n",
       "    }\n",
       "\n",
       "    .dataframe thead th {\n",
       "        text-align: right;\n",
       "    }\n",
       "</style>\n",
       "<table border=\"1\" class=\"dataframe\">\n",
       "  <thead>\n",
       "    <tr style=\"text-align: right;\">\n",
       "      <th></th>\n",
       "      <th>user_id</th>\n",
       "      <th>group</th>\n",
       "      <th>events_count</th>\n",
       "    </tr>\n",
       "  </thead>\n",
       "  <tbody>\n",
       "    <tr>\n",
       "      <th>0</th>\n",
       "      <td>D1ABA3E2887B6A73</td>\n",
       "      <td>A</td>\n",
       "      <td>4</td>\n",
       "    </tr>\n",
       "    <tr>\n",
       "      <th>1</th>\n",
       "      <td>DABC14FDDFADD29E</td>\n",
       "      <td>A</td>\n",
       "      <td>3</td>\n",
       "    </tr>\n",
       "    <tr>\n",
       "      <th>2</th>\n",
       "      <td>04988C5DF189632E</td>\n",
       "      <td>A</td>\n",
       "      <td>15</td>\n",
       "    </tr>\n",
       "    <tr>\n",
       "      <th>3</th>\n",
       "      <td>7473E0943673C09E</td>\n",
       "      <td>A</td>\n",
       "      <td>4</td>\n",
       "    </tr>\n",
       "    <tr>\n",
       "      <th>4</th>\n",
       "      <td>C46FE336D240A054</td>\n",
       "      <td>A</td>\n",
       "      <td>6</td>\n",
       "    </tr>\n",
       "    <tr>\n",
       "      <th>...</th>\n",
       "      <td>...</td>\n",
       "      <td>...</td>\n",
       "      <td>...</td>\n",
       "    </tr>\n",
       "    <tr>\n",
       "      <th>1875</th>\n",
       "      <td>700E7D23A9A81AE3</td>\n",
       "      <td>B</td>\n",
       "      <td>6</td>\n",
       "    </tr>\n",
       "    <tr>\n",
       "      <th>1876</th>\n",
       "      <td>91C3969B8A72B908</td>\n",
       "      <td>B</td>\n",
       "      <td>6</td>\n",
       "    </tr>\n",
       "    <tr>\n",
       "      <th>1877</th>\n",
       "      <td>E26F13A65CEAC6EA</td>\n",
       "      <td>A</td>\n",
       "      <td>3</td>\n",
       "    </tr>\n",
       "    <tr>\n",
       "      <th>1878</th>\n",
       "      <td>95401934D6D6D4FC</td>\n",
       "      <td>B</td>\n",
       "      <td>1</td>\n",
       "    </tr>\n",
       "    <tr>\n",
       "      <th>1879</th>\n",
       "      <td>80712ED4EA1B52A5</td>\n",
       "      <td>A</td>\n",
       "      <td>9</td>\n",
       "    </tr>\n",
       "  </tbody>\n",
       "</table>\n",
       "<p>1880 rows × 3 columns</p>\n",
       "</div>"
      ],
      "text/plain": [
       "               user_id group  events_count\n",
       "0     D1ABA3E2887B6A73     A             4\n",
       "1     DABC14FDDFADD29E     A             3\n",
       "2     04988C5DF189632E     A            15\n",
       "3     7473E0943673C09E     A             4\n",
       "4     C46FE336D240A054     A             6\n",
       "...                ...   ...           ...\n",
       "1875  700E7D23A9A81AE3     B             6\n",
       "1876  91C3969B8A72B908     B             6\n",
       "1877  E26F13A65CEAC6EA     A             3\n",
       "1878  95401934D6D6D4FC     B             1\n",
       "1879  80712ED4EA1B52A5     A             9\n",
       "\n",
       "[1880 rows x 3 columns]"
      ]
     },
     "execution_count": 48,
     "metadata": {},
     "output_type": "execute_result"
    }
   ],
   "source": [
    "count_events_by_users"
   ]
  },
  {
   "cell_type": "markdown",
   "id": "bf6a7091",
   "metadata": {},
   "source": [
    "Разделим его на 2 части и сохраним в переменные `cnt_ev_by_users_a` и `cnt_ev_by_users_b` в каждой из которых будут храниться пользователи принадлежащие соответствующей группе."
   ]
  },
  {
   "cell_type": "code",
   "execution_count": 49,
   "id": "6715fcf8",
   "metadata": {},
   "outputs": [],
   "source": [
    "cnt_ev_by_users_a = count_events_by_users.query('group == \"A\"')\n",
    "cnt_ev_by_users_b = count_events_by_users.query('group == \"B\"')"
   ]
  },
  {
   "cell_type": "markdown",
   "id": "5d3637c2",
   "metadata": {},
   "source": [
    "Построим гистограмму распределения количества событий на пользователя с разбивкой по группам."
   ]
  },
  {
   "cell_type": "code",
   "execution_count": 50,
   "id": "d981a23a",
   "metadata": {},
   "outputs": [
    {
     "data": {
      "image/png": "[encoded data removed]",
      "text/plain": [
       "<Figure size 1080x576 with 1 Axes>"
      ]
     },
     "metadata": {
      "needs_background": "light"
     },
     "output_type": "display_data"
    }
   ],
   "source": [
    "ax = (\n",
    "    cnt_ev_by_users_a[cnt_ev_by_users_a['events_count'] <= np.percentile(count_events_by_users.events_count, 95)]\n",
    "    .hist(bins=int(np.percentile(count_events_by_users.events_count, 95)) - 1, label='Группа A', figsize=(15,8))\n",
    ")\n",
    "(\n",
    "    cnt_ev_by_users_b[cnt_ev_by_users_b['events_count'] <= np.percentile(count_events_by_users.events_count, 95)]\n",
    "    .hist(bins=int(np.percentile(count_events_by_users.events_count, 95)) - 1,\n",
    "          label= 'Группа B', alpha = 0.8, ax=ax)\n",
    ")\n",
    "\n",
    "plt.xlabel('Количество событий на пользователя')\n",
    "plt.ylabel('Частота показателя')\n",
    "plt.title('Распределение пользователей по количеству событий')\n",
    "plt.xticks(range(1, int(np.percentile(count_events_by_users.events_count, 95))))\n",
    "plt.legend()\n",
    "plt.show()"
   ]
  },
  {
   "cell_type": "markdown",
   "id": "a23e52fd",
   "metadata": {},
   "source": [
    "Также построим гистограмму распределения количества событий на пользователя с указанием относительной частоты показателя."
   ]
  },
  {
   "cell_type": "code",
   "execution_count": 51,
   "id": "ec3e5d23",
   "metadata": {
    "scrolled": false
   },
   "outputs": [
    {
     "data": {
      "image/png": "[encoded data removed]",
      "text/plain": [
       "<Figure size 1080x576 with 1 Axes>"
      ]
     },
     "metadata": {
      "needs_background": "light"
     },
     "output_type": "display_data"
    }
   ],
   "source": [
    "ax = (\n",
    "    cnt_ev_by_users_a[cnt_ev_by_users_a['events_count'] <= np.percentile(count_events_by_users.events_count, 95)]\n",
    "    .hist(bins=int(np.percentile(count_events_by_users.events_count, 95)) - 1, label='Группа A', figsize=(15,8), density=True)\n",
    ")\n",
    "(\n",
    "    cnt_ev_by_users_b[cnt_ev_by_users_b['events_count'] <= np.percentile(count_events_by_users.events_count, 95)]\n",
    "    .hist(bins=int(np.percentile(count_events_by_users.events_count, 95)) - 1,\n",
    "          label= 'Группа B', alpha = 0.8, ax=ax, density=True)\n",
    ")\n",
    "\n",
    "plt.xlabel('Количество событий на пользователя')\n",
    "plt.ylabel('Относительная частота показателя')\n",
    "plt.title('Распределение пользователей по количеству событий')\n",
    "plt.xticks(range(1, int(np.percentile(count_events_by_users.events_count, 95))))\n",
    "plt.legend()\n",
    "plt.show()"
   ]
  },
  {
   "cell_type": "markdown",
   "id": "c85ac4e8",
   "metadata": {},
   "source": [
    "**Вывод:** В группе А чаще, чем в В встречаются пользователи с количеством событий от 6 до 13. "
   ]
  },
  {
   "cell_type": "markdown",
   "id": "7052667a",
   "metadata": {},
   "source": [
    "Посмотрим как число событий в выборках распределено по дням."
   ]
  },
  {
   "cell_type": "markdown",
   "id": "8a534be8",
   "metadata": {},
   "source": [
    "Для удобства в датасет `final_ab_events` добавим принадлежность пользователя той или иной группе теста."
   ]
  },
  {
   "cell_type": "code",
   "execution_count": 52,
   "id": "f4291236",
   "metadata": {},
   "outputs": [],
   "source": [
    "final_ab_events = final_ab_events.merge(final_ab_participants[['user_id', 'group']], how='left', on='user_id') \n",
    "final_ab_events['event_dt_day'] = final_ab_events['event_dt'].dt.strftime('%Y-%m-%d')"
   ]
  },
  {
   "cell_type": "code",
   "execution_count": 53,
   "id": "8bf318af",
   "metadata": {
    "scrolled": false
   },
   "outputs": [
    {
     "data": {
      "text/html": [
       "<div>\n",
       "<style scoped>\n",
       "    .dataframe tbody tr th:only-of-type {\n",
       "        vertical-align: middle;\n",
       "    }\n",
       "\n",
       "    .dataframe tbody tr th {\n",
       "        vertical-align: top;\n",
       "    }\n",
       "\n",
       "    .dataframe thead th {\n",
       "        text-align: right;\n",
       "    }\n",
       "</style>\n",
       "<table border=\"1\" class=\"dataframe\">\n",
       "  <thead>\n",
       "    <tr style=\"text-align: right;\">\n",
       "      <th></th>\n",
       "      <th>user_id</th>\n",
       "      <th>event_dt</th>\n",
       "      <th>event_name</th>\n",
       "      <th>details</th>\n",
       "      <th>first_date</th>\n",
       "      <th>group</th>\n",
       "      <th>event_dt_day</th>\n",
       "    </tr>\n",
       "  </thead>\n",
       "  <tbody>\n",
       "    <tr>\n",
       "      <th>0</th>\n",
       "      <td>831887FE7F2D6CBA</td>\n",
       "      <td>2020-12-07 06:50:29</td>\n",
       "      <td>purchase</td>\n",
       "      <td>4.99</td>\n",
       "      <td>2020-12-07</td>\n",
       "      <td>A</td>\n",
       "      <td>2020-12-07</td>\n",
       "    </tr>\n",
       "    <tr>\n",
       "      <th>1</th>\n",
       "      <td>3C5DD0288AC4FE23</td>\n",
       "      <td>2020-12-07 19:42:40</td>\n",
       "      <td>purchase</td>\n",
       "      <td>4.99</td>\n",
       "      <td>2020-12-07</td>\n",
       "      <td>A</td>\n",
       "      <td>2020-12-07</td>\n",
       "    </tr>\n",
       "    <tr>\n",
       "      <th>2</th>\n",
       "      <td>49EA242586C87836</td>\n",
       "      <td>2020-12-07 06:31:24</td>\n",
       "      <td>purchase</td>\n",
       "      <td>99.99</td>\n",
       "      <td>2020-12-07</td>\n",
       "      <td>B</td>\n",
       "      <td>2020-12-07</td>\n",
       "    </tr>\n",
       "    <tr>\n",
       "      <th>3</th>\n",
       "      <td>2B06EB547B7AAD08</td>\n",
       "      <td>2020-12-07 21:36:38</td>\n",
       "      <td>purchase</td>\n",
       "      <td>4.99</td>\n",
       "      <td>2020-12-07</td>\n",
       "      <td>A</td>\n",
       "      <td>2020-12-07</td>\n",
       "    </tr>\n",
       "    <tr>\n",
       "      <th>4</th>\n",
       "      <td>A640F31CAC7823A6</td>\n",
       "      <td>2020-12-07 18:48:26</td>\n",
       "      <td>purchase</td>\n",
       "      <td>4.99</td>\n",
       "      <td>2020-12-07</td>\n",
       "      <td>B</td>\n",
       "      <td>2020-12-07</td>\n",
       "    </tr>\n",
       "    <tr>\n",
       "      <th>...</th>\n",
       "      <td>...</td>\n",
       "      <td>...</td>\n",
       "      <td>...</td>\n",
       "      <td>...</td>\n",
       "      <td>...</td>\n",
       "      <td>...</td>\n",
       "      <td>...</td>\n",
       "    </tr>\n",
       "    <tr>\n",
       "      <th>12232</th>\n",
       "      <td>A13A9A1B54CAEB4B</td>\n",
       "      <td>2020-12-29 14:59:38</td>\n",
       "      <td>login</td>\n",
       "      <td>NaN</td>\n",
       "      <td>2020-12-17</td>\n",
       "      <td>A</td>\n",
       "      <td>2020-12-29</td>\n",
       "    </tr>\n",
       "    <tr>\n",
       "      <th>12233</th>\n",
       "      <td>1095D37412647DA1</td>\n",
       "      <td>2020-12-29 02:27:25</td>\n",
       "      <td>login</td>\n",
       "      <td>NaN</td>\n",
       "      <td>2020-12-17</td>\n",
       "      <td>A</td>\n",
       "      <td>2020-12-29</td>\n",
       "    </tr>\n",
       "    <tr>\n",
       "      <th>12234</th>\n",
       "      <td>9F4F58990EAB3DFE</td>\n",
       "      <td>2020-12-29 17:39:13</td>\n",
       "      <td>login</td>\n",
       "      <td>NaN</td>\n",
       "      <td>2020-12-17</td>\n",
       "      <td>A</td>\n",
       "      <td>2020-12-29</td>\n",
       "    </tr>\n",
       "    <tr>\n",
       "      <th>12235</th>\n",
       "      <td>14AB9446E8FD3584</td>\n",
       "      <td>2020-12-29 00:09:48</td>\n",
       "      <td>login</td>\n",
       "      <td>NaN</td>\n",
       "      <td>2020-12-17</td>\n",
       "      <td>A</td>\n",
       "      <td>2020-12-29</td>\n",
       "    </tr>\n",
       "    <tr>\n",
       "      <th>12236</th>\n",
       "      <td>24834C656421236A</td>\n",
       "      <td>2020-12-29 21:14:34</td>\n",
       "      <td>login</td>\n",
       "      <td>NaN</td>\n",
       "      <td>2020-12-17</td>\n",
       "      <td>A</td>\n",
       "      <td>2020-12-29</td>\n",
       "    </tr>\n",
       "  </tbody>\n",
       "</table>\n",
       "<p>12237 rows × 7 columns</p>\n",
       "</div>"
      ],
      "text/plain": [
       "                user_id            event_dt event_name  details first_date  \\\n",
       "0      831887FE7F2D6CBA 2020-12-07 06:50:29   purchase     4.99 2020-12-07   \n",
       "1      3C5DD0288AC4FE23 2020-12-07 19:42:40   purchase     4.99 2020-12-07   \n",
       "2      49EA242586C87836 2020-12-07 06:31:24   purchase    99.99 2020-12-07   \n",
       "3      2B06EB547B7AAD08 2020-12-07 21:36:38   purchase     4.99 2020-12-07   \n",
       "4      A640F31CAC7823A6 2020-12-07 18:48:26   purchase     4.99 2020-12-07   \n",
       "...                 ...                 ...        ...      ...        ...   \n",
       "12232  A13A9A1B54CAEB4B 2020-12-29 14:59:38      login      NaN 2020-12-17   \n",
       "12233  1095D37412647DA1 2020-12-29 02:27:25      login      NaN 2020-12-17   \n",
       "12234  9F4F58990EAB3DFE 2020-12-29 17:39:13      login      NaN 2020-12-17   \n",
       "12235  14AB9446E8FD3584 2020-12-29 00:09:48      login      NaN 2020-12-17   \n",
       "12236  24834C656421236A 2020-12-29 21:14:34      login      NaN 2020-12-17   \n",
       "\n",
       "      group event_dt_day  \n",
       "0         A   2020-12-07  \n",
       "1         A   2020-12-07  \n",
       "2         B   2020-12-07  \n",
       "3         A   2020-12-07  \n",
       "4         B   2020-12-07  \n",
       "...     ...          ...  \n",
       "12232     A   2020-12-29  \n",
       "12233     A   2020-12-29  \n",
       "12234     A   2020-12-29  \n",
       "12235     A   2020-12-29  \n",
       "12236     A   2020-12-29  \n",
       "\n",
       "[12237 rows x 7 columns]"
      ]
     },
     "execution_count": 53,
     "metadata": {},
     "output_type": "execute_result"
    }
   ],
   "source": [
    "final_ab_events"
   ]
  },
  {
   "cell_type": "code",
   "execution_count": 54,
   "id": "67e889d0",
   "metadata": {},
   "outputs": [
    {
     "data": {
      "image/png": "[encoded data removed]",
      "text/plain": [
       "<Figure size 1080x576 with 1 Axes>"
      ]
     },
     "metadata": {
      "needs_background": "light"
     },
     "output_type": "display_data"
    }
   ],
   "source": [
    "plt.figure(figsize=(15,8))\n",
    "sns.countplot(data=final_ab_events, x='event_dt_day', hue='group', dodge=False, alpha=0.85)\n",
    "\n",
    "plt.title('Распределение количества событий по дням')\n",
    "plt.ylabel('Количество событий')\n",
    "plt.xlabel('Дата')\n",
    "plt.xticks(rotation=90)\n",
    "plt.axvline(x=18, linestyle='--', color='black', label='Начало рекламной компании\\n Christmas&New Year Promo')\n",
    "plt.legend()\n",
    "plt.show()"
   ]
  },
  {
   "cell_type": "markdown",
   "id": "8d418058",
   "metadata": {},
   "source": [
    "*Для пользователей группы А* количество событий относительно стабильно в период с 2020-12-07 по 2020-12-13, 2020-12-14 происходит резкий рост практически на 300%, до 2020-12-16 удерживается на максимальных значениях и затем резко снижается 2020-12-20. С 2020-12-21 по 2020-12-29 также происходит плавное снижение.  2020-12-30 пользователями из группы А не совершено ни одного действия.\n",
    "\n",
    "Количество действий *пользователей группы В* падает с 2020-12-07 по 2020-12-13, затем наблюдается рост до 2020-12-16, 2020-12-17 падает практически на 50% и плавно снижается практически до 0 к 2020-12-30.\n",
    "Также можно отметить, что рекламная компания Christmas&New Year Promo не повлияла на действия пользователей."
   ]
  },
  {
   "cell_type": "markdown",
   "id": "9df08691",
   "metadata": {},
   "source": [
    "**Вывод:** распределение количества событий по дням неравномерно и имеет различия среди групп А и В."
   ]
  },
  {
   "cell_type": "markdown",
   "id": "b92ac0e7",
   "metadata": {},
   "source": [
    "Посмотрим, как меняется конверсия в воронке событий в выборках на разных этапах."
   ]
  },
  {
   "cell_type": "markdown",
   "id": "5ce27bd0",
   "metadata": {},
   "source": [
    "Очередность событий выглядит следующим образом:\n",
    "\n",
    "- `login` - вход в систему\n",
    "- `product_page` - просмотр страницы продукта\n",
    "- `product_cart` - просмотр крорины\n",
    "- `purchase` - совершение покупки"
   ]
  },
  {
   "cell_type": "code",
   "execution_count": 55,
   "id": "0f1bd64a",
   "metadata": {},
   "outputs": [
    {
     "data": {
      "text/html": [
       "<div>\n",
       "<style scoped>\n",
       "    .dataframe tbody tr th:only-of-type {\n",
       "        vertical-align: middle;\n",
       "    }\n",
       "\n",
       "    .dataframe tbody tr th {\n",
       "        vertical-align: top;\n",
       "    }\n",
       "\n",
       "    .dataframe thead th {\n",
       "        text-align: right;\n",
       "    }\n",
       "</style>\n",
       "<table border=\"1\" class=\"dataframe\">\n",
       "  <thead>\n",
       "    <tr style=\"text-align: right;\">\n",
       "      <th>group</th>\n",
       "      <th>A</th>\n",
       "      <th>B</th>\n",
       "      <th>A_share_of_total</th>\n",
       "      <th>B_share_of_total</th>\n",
       "      <th>A_share_of_previous</th>\n",
       "      <th>B_share_of_previous</th>\n",
       "    </tr>\n",
       "    <tr>\n",
       "      <th>event_name</th>\n",
       "      <th></th>\n",
       "      <th></th>\n",
       "      <th></th>\n",
       "      <th></th>\n",
       "      <th></th>\n",
       "      <th></th>\n",
       "    </tr>\n",
       "  </thead>\n",
       "  <tbody>\n",
       "    <tr>\n",
       "      <th>login</th>\n",
       "      <td>1321</td>\n",
       "      <td>558</td>\n",
       "      <td>1.00</td>\n",
       "      <td>1.00</td>\n",
       "      <td>1.00</td>\n",
       "      <td>1.00</td>\n",
       "    </tr>\n",
       "    <tr>\n",
       "      <th>product_page</th>\n",
       "      <td>843</td>\n",
       "      <td>311</td>\n",
       "      <td>0.64</td>\n",
       "      <td>0.56</td>\n",
       "      <td>0.64</td>\n",
       "      <td>0.56</td>\n",
       "    </tr>\n",
       "    <tr>\n",
       "      <th>product_cart</th>\n",
       "      <td>407</td>\n",
       "      <td>164</td>\n",
       "      <td>0.31</td>\n",
       "      <td>0.29</td>\n",
       "      <td>0.48</td>\n",
       "      <td>0.53</td>\n",
       "    </tr>\n",
       "    <tr>\n",
       "      <th>purchase</th>\n",
       "      <td>405</td>\n",
       "      <td>157</td>\n",
       "      <td>0.31</td>\n",
       "      <td>0.28</td>\n",
       "      <td>1.00</td>\n",
       "      <td>0.96</td>\n",
       "    </tr>\n",
       "  </tbody>\n",
       "</table>\n",
       "</div>"
      ],
      "text/plain": [
       "group            A    B  A_share_of_total  B_share_of_total  \\\n",
       "event_name                                                    \n",
       "login         1321  558              1.00              1.00   \n",
       "product_page   843  311              0.64              0.56   \n",
       "product_cart   407  164              0.31              0.29   \n",
       "purchase       405  157              0.31              0.28   \n",
       "\n",
       "group         A_share_of_previous  B_share_of_previous  \n",
       "event_name                                              \n",
       "login                        1.00                 1.00  \n",
       "product_page                 0.64                 0.56  \n",
       "product_cart                 0.48                 0.53  \n",
       "purchase                     1.00                 0.96  "
      ]
     },
     "execution_count": 55,
     "metadata": {},
     "output_type": "execute_result"
    }
   ],
   "source": [
    "# сгруппируем пользователей по событиям и посчитаем их количество\n",
    "events_by_group = (\n",
    "    final_ab_events.groupby(['group', 'event_name'])['user_id'].nunique().to_frame()\n",
    "    .rename(columns=({'user_id': 'user_count'})).reset_index()\n",
    ")\n",
    "\n",
    "# преобразуем и развернем таблицу\n",
    "events_by_group = events_by_group.pivot(index='group', columns='event_name')['user_count'].T\n",
    "\n",
    "# зададим логический порядок для сортировки\n",
    "events_range= ['login', 'product_page', 'product_cart', 'purchase']\n",
    "\n",
    "# отсортируем датафрейм\n",
    "events_by_group = events_by_group.reset_index()\n",
    "events_by_group.event_name = events_by_group.event_name.astype('category').cat.set_categories(events_range)\n",
    "events_by_group = events_by_group.sort_values(['event_name']).set_index('event_name')\n",
    "\n",
    "# для каждой группы добавим столбцы с конверсией от общего количества пользователей,\n",
    "# вошедших в систему и конверсией отпредыдущего шага\n",
    "events_by_group = (\n",
    "    events_by_group.merge(\n",
    "        (events_by_group / events_by_group.loc['login',:]).round(2)\n",
    "        .rename(columns=({i: i + '_share_of_total' for i in events_by_group.columns})), \n",
    "        on='event_name')\n",
    "    .merge(\n",
    "        (events_by_group / events_by_group.shift(1)).round(2)\n",
    "        .rename(columns=({i: i + '_share_of_previous' for i in events_by_group.columns}))\n",
    "        .fillna(1), on='event_name')\n",
    ")\n",
    "\n",
    "events_by_group"
   ]
  },
  {
   "cell_type": "markdown",
   "id": "a4421828",
   "metadata": {},
   "source": [
    "Построим воронки событий для групп А и В."
   ]
  },
  {
   "cell_type": "code",
   "execution_count": 56,
   "id": "26af10e8",
   "metadata": {},
   "outputs": [
    {
     "data": {
      "image/png": "[encoded data removed]"
     },
     "metadata": {},
     "output_type": "display_data"
    }
   ],
   "source": [
    "# Создаем сетку для вывода графиков, указываем тип графика и ширину столбцов для каждой ячейки. Также выводим название\n",
    "fig = make_subplots(\n",
    "    rows=1, cols=2, specs=[[{'type': 'funnel'}, {'type': 'funnel'}]], shared_yaxes=True,\n",
    "    horizontal_spacing=0,\n",
    "    subplot_titles=['Группа А', 'Группа В']\n",
    ")\n",
    "\n",
    "fig1 = go.Funnel(\n",
    "    y=events_by_group.index, \n",
    "    x=events_by_group.A,\n",
    "    textinfo = 'value+percent previous+percent initial',\n",
    "    showlegend=False,\n",
    "    textposition='inside'\n",
    "\n",
    ")\n",
    "\n",
    "fig2 = go.Funnel(\n",
    "    y=events_by_group.index, \n",
    "    x=events_by_group.B,\n",
    "    textinfo = 'value+percent previous+percent initial',\n",
    "    showlegend=False,\n",
    "    textposition='inside'\n",
    ")\n",
    "\n",
    "# Добавляем диаграммы на сетку\n",
    "fig.add_trace(fig1, row=1, col=1)\n",
    "fig.add_trace(fig2, row=1, col=2)\n",
    "fig.update_layout(title=dict(text=\"Воронки событий для пользователей\", x=0.5))\n",
    "\n",
    "fig.show()"
   ]
  },
  {
   "cell_type": "markdown",
   "id": "2a995662",
   "metadata": {},
   "source": [
    "**Вывод:**\n",
    "- конверсия в просмотр карточек товаров в группе А (64%) выше, чем в группе В (56%)\n",
    "- конверсия с просмотра карточек товаров в переход в корзину в группе А (48%) ниже, чем в группе В (53%)\n",
    "- после просмотра корзины практически все пользователи группы А совершают покупку, в группе В покупку совершают 96% пользователей\n",
    "- в целом от входа в систему до покупки в группе А доходит больше пользователей (31%), чем в гурппе В (28%)\n",
    "- в группе В доля пользователей, не совершавших действия (66%) значительно выше, чем в группе А (41%)\n",
    "\n",
    "В результате тестирования новой рекомендательной системы не удалось достичь ожидаемого эффекта: прироста метрик конверсии не менее чем на 10% в тестовой группе. Конверсия в просмотр страницы товара ухудшилась на 9%, в просмотр продуктовой корзины ухудшилась на 2%, в покупку ухудшилась на 3%."
   ]
  },
  {
   "cell_type": "markdown",
   "id": "be70853e",
   "metadata": {},
   "source": [
    "## Проверка результатов A/B тестирования"
   ]
  },
  {
   "cell_type": "markdown",
   "id": "4ffc123b",
   "metadata": {},
   "source": [
    "Проверим, находят ли статистические критерии разницу между группами А и В."
   ]
  },
  {
   "cell_type": "markdown",
   "id": "8ec36eba",
   "metadata": {},
   "source": [
    "В ходе проверки гипотез будем искать различия в долях пользователей от их общего количества для определенного события. Поскольку мы тестируем работу рекомендательной системы, нас интересуют только пользователи, вошедшие в систему. Поэтому общее количество пользователей, от которого будем искать долю, будем определять по событию login.\n",
    "\n",
    "Установим нулевую и альтернативную гипотезы:\n",
    "\n",
    " - H0 - разницы между группами нет, доли равны.\n",
    " - H1 - есть разница между группами, доли не равны.\n",
    " \n",
    "Для статистических тестов зададим параметр статистической значимости *alpha* равным *0.05*. \n",
    "\n",
    "В ходе проверки результатов А/В тестирования мы будем выполнять несколько сравнений, проводимых на одних и тех же данных — это множественный тест. Его особенность в том, что с каждой новой проверкой гипотезы растёт вероятность ошибки первого рода (вероятность получить ложнопозитивный результат). \n",
    "\n",
    "Для того, чтобы снизить вероятность ложнопозитивного результата при множественном тестировании гипотез, применим коррктировку уровня статистической значимости.\n",
    "\n",
    "Скорректируем параметр статистической значимости на количесвто проверок (3), применив к нему поправку Бонферрони."
   ]
  },
  {
   "cell_type": "markdown",
   "id": "e6773a5b",
   "metadata": {},
   "source": [
    "Для проверки разницы между различными группами создадим функцию `diff_share`, которая на вход будет принимать названия сравниваемых групп,  название события и критический уровень статистической значимости (по умолчанию 0.05). Функция возвращает p-value и результат проверки гипотезы (отвергаем или не отвергаем нулевую гипотезу)."
   ]
  },
  {
   "cell_type": "code",
   "execution_count": 57,
   "id": "705cc455",
   "metadata": {},
   "outputs": [],
   "source": [
    "def diff_share(data, group_one, group_two, item, total, alpha=.05):\n",
    "    \n",
    "    \"\"\"Функция, которая проверяет статистическую разницу долей с помощью z-критерия\n",
    "    \n",
    "    Функция на вход принимает датасет, названия сравниваемых групп, название события, общее количество пользователей группы\n",
    "    и критический уровень  статистической значимости (по умолчанию 0.05) и возвращает p-value и результат проверки гипотезы \n",
    "    (отвергаем или не отвергаем заданную нулевую гипотезу).\n",
    "    \"\"\"\n",
    "\n",
    "    successes_users = np.array([data.loc[group_one, item], data.loc[group_two, item]])\n",
    "    trials_users = np.array([data.loc[group_one, total], data.loc[group_two, total]])\n",
    "\n",
    "    # пропорция успехов в первой группе:\n",
    "    p1 = successes_users[0]/trials_users[0]\n",
    "\n",
    "    # пропорция успехов во второй группе:\n",
    "    p2 = successes_users[1]/trials_users[1]\n",
    "\n",
    "    # пропорция успехов в комбинированном датасете:\n",
    "    p_combined = (successes_users[0] + successes_users[1]) / (trials_users[0] + trials_users[1])\n",
    "\n",
    "    # разница пропорций в датасетах\n",
    "    difference = p1 - p2\n",
    "\n",
    "    # считаем статистику в ст.отклонениях стандартного нормального распределения\n",
    "    z_value = difference / mth.sqrt(p_combined * (1 - p_combined) * (1/trials_users[0] + 1/trials_users[1]))\n",
    "\n",
    "    # задаем стандартное нормальное распределение (среднее 0, ст.отклонение 1)\n",
    "    distr = st.norm(0, 1) \n",
    "\n",
    "    p_value = (1 - distr.cdf(abs(z_value))) * 2\n",
    "\n",
    "    print('-'*30)\n",
    "    print(f'Сравниваем доли пользователей групп {group_one} и {group_two} для события {item}.')\n",
    "    print(f'p-значение: {round(p_value, 4)}.')\n",
    "    print(f'alpha (критический уровень статистической значимости): {round(alpha, 3)}.')\n",
    "\n",
    "    if p_value < alpha:\n",
    "        return print('Отвергаем нулевую гипотезу: между долями есть значимая разница.')\n",
    "    else:\n",
    "        return print('Не получилось отвергнуть нулевую гипотезу, нет оснований считать доли разными.')\n",
    "    "
   ]
  },
  {
   "cell_type": "markdown",
   "id": "48fb886b",
   "metadata": {},
   "source": [
    "Для каждого события выполним написанную выше функцию и посмотрим результат."
   ]
  },
  {
   "cell_type": "code",
   "execution_count": 58,
   "id": "1bc20209",
   "metadata": {},
   "outputs": [
    {
     "name": "stdout",
     "output_type": "stream",
     "text": [
      "------------------------------\n",
      "Сравниваем доли пользователей групп A и B для события product_page.\n",
      "p-значение: 0.001.\n",
      "alpha (критический уровень статистической значимости): 0.017.\n",
      "Отвергаем нулевую гипотезу: между долями есть значимая разница.\n",
      "------------------------------\n",
      "Сравниваем доли пользователей групп A и B для события product_cart.\n",
      "p-значение: 0.5411.\n",
      "alpha (критический уровень статистической значимости): 0.017.\n",
      "Не получилось отвергнуть нулевую гипотезу, нет оснований считать доли разными.\n",
      "------------------------------\n",
      "Сравниваем доли пользователей групп A и B для события purchase.\n",
      "p-значение: 0.2752.\n",
      "alpha (критический уровень статистической значимости): 0.017.\n",
      "Не получилось отвергнуть нулевую гипотезу, нет оснований считать доли разными.\n"
     ]
    }
   ],
   "source": [
    "for i in events_by_group.T.columns[1:]:\n",
    "    diff_share(events_by_group.T, 'A', 'B', i, events_by_group.T.columns[0], .05/3)"
   ]
  },
  {
   "cell_type": "markdown",
   "id": "45f5cccb",
   "metadata": {},
   "source": [
    "**Вывод:** в результате проверки долей пользователей по каждому из событий (product_page, product_cart, purchase) с помощью z-критерия установлено, что статистически значимая разница (при заданном критическом уровне статзначимости с учетом поправки Бонферони 1.67%) в долях пользователей присутствует только для события *просмотра страницы продукта*."
   ]
  },
  {
   "cell_type": "markdown",
   "id": "19bce23a",
   "metadata": {},
   "source": [
    "## Общий вывод"
   ]
  },
  {
   "cell_type": "markdown",
   "id": "68164064",
   "metadata": {},
   "source": [
    "В результате исследования выполнена оценка корректности проведения теста и проанализированы его результаты."
   ]
  },
  {
   "cell_type": "markdown",
   "id": "d7c8cd40",
   "metadata": {},
   "source": [
    "**Проверка данных на соответствие требованиям ТЗ**\n",
    "\n",
    "*Техническое задание*\n",
    "\n",
    "- Название теста: `recommender_system_test`;\n",
    "- группы: А — контрольная, B — новая платежная воронка;\n",
    "- дата запуска: 2020-12-07;\n",
    "- дата остановки набора новых пользователей: 2020-12-21;\n",
    "- дата остановки: 2021-01-04;\n",
    "- аудитория: в тест должно быть отобрано 15% новых пользователей из региона EU;\n",
    "- назначение теста: тестирование изменений, связанных с внедрением улучшенной рекомендательной системы;\n",
    "- ожидаемое количество участников теста: 6000.\n",
    "- ожидаемый эффект: за 14 дней с момента регистрации пользователи покажут улучшение каждой метрики не менее, чем на 10%:\n",
    "    - конверсии в просмотр карточек товаров — событие `product_page`,\n",
    "    - просмотры корзины — `product_cart`,\n",
    "    - покупки — `purchase`.\n",
    "    \n",
    "По результатам проверки установлено следующее:\n",
    "1. Набор пользователей проводился с 2020-12-07 по 2020-12-21, чем соответствует требованиям ТЗ\n",
    "2. По условиям ТЗ дата остановки теста: 2021-01-04. Тест остановлен 2020-12-30 - раньше запланированной даты\n",
    "3. В тест отобрано 15% пользователей из региона EU\n",
    "4. Количество участников теста: 6701\n",
    "\n",
    "*Формально все требования ТЗ, за исключением даты окончания теста, выполняются. Однако часть пользователей, походящих под заданные условия могут не совершить действий за период проведения теста, а также могут участвовать в тестовой группе конкурирующего теста (то есть быть подверженным влиянию изменений конкурирующего теста).*\n",
    "\n",
    "Однако окончание теста раньше запланированной даты (установленной с учетом набора необходимой аудитории и минимального обнаруживаемого изменения показателей)  может сделать результаты теста недействительными (не все зарегистрированные пользователи прожили требуемые 14 дней к моменту окончания теста, что сокращает его аудиторию).\n",
    "\n",
    "Также стоит учитывать, что в период с 2020-12-25 по 2020-12-30 на поведение пользователей может оказывать влияние рекламная компания Christmas&New Year Promo."
   ]
  },
  {
   "cell_type": "markdown",
   "id": "c833d861",
   "metadata": {},
   "source": [
    "**Исследование и подготовка данных для проведения анализа**\n",
    "\n",
    "В ходе подготовки данных из датасета с участниками теста удалены пользователи, прожившие менее 14 дней к моменту окончания тестирования. \n",
    "\n",
    "Выявлено наличие пользователей, участвующих одновременно в двух тестах. Количество таких пользователей: 1141.\n",
    "\n",
    "Удалена часть участников исследуемого теста, состоящих также в тестовой группе конкурирующего теста (который мог оказывать влияние на поведение таких пользователей).\n",
    "\n",
    "Среди участников теста помимо пользователей из региона EU (94%) обнаружены пользователи из N.America, APAC, CIS (6%). Пользователи из регионов N.America, APAC, CIS удалены.\n",
    "\n",
    "Среди отфильтрованных пользователей группы А 41% не совершали действий за время проведения тестирования, среди пользователей группы В - 66%.\n",
    "\n",
    "По гистограмме распределения количества регистраций пользователей по дням установлено, что для группы А практически каждый день регистрировалось больше пользователей, чем для группы В.\n",
    "\n",
    "В группу А пользователи, которые не совершали действий регистрировались с 2020-12-07 по 2020-12-12, причем за последнюю дату таких пользвователей зарегистрировалось большое количество. С 2020-12-12 пользователи, не совершавшие действий не регистрировались. В группу В пользователи, которые не совершали действий регистрировались на протяжении всего времени набора: с 2020-12-07 по 2020-12-16.\n",
    "\n",
    "После подготовки данных разница между количеством пользователей групп А и В составляет 15.6%.\n",
    "\n",
    "В процессе проверки качества теста и подготовки данных утрачено 42.26% пользователей.\n",
    "\n",
    "Доля участников теста из Европы среди всех пользователей, зарегистрировавшихся в период с 2020-12-07 по 2020-12-16: 10.79%\n",
    "Общее количество участников теста: 3869.\n",
    "\n",
    "*Фактически требования ТЗ не выполняются.*"
   ]
  },
  {
   "cell_type": "markdown",
   "id": "0282b7ef",
   "metadata": {},
   "source": [
    "**Исследовательский анализ данных**\n",
    "\n",
    "Очередность событий выглядит следующим образом:\n",
    "\n",
    "- `login` - вход в систему\n",
    "- `product_page` - просмотр страницы продукта\n",
    "- `product_cart` - просмотр крорины\n",
    "- `purchase` - совершение покупки\n",
    "\n",
    "В группе А чаще, чем в В встречаются пользователи с количеством событий от 6 до 13. Распределение количества событий по дням неравномерно и имеет различия среди групп А и В.\n",
    "\n",
    "Для пользователей группы А количество событий относительно стабильно в период с 2020-12-07 по 2020-12-13, 2020-12-14 происходит резкий рост практически на 300%, до 2020-12-16 удерживается на максимальных значениях и затем резко снижается 2020-12-20. С 2020-12-21 по 2020-12-29 также происходит плавное снижение. 2020-12-30 пользователями из группы А не совершено ни одного действия.\n",
    "\n",
    "Количество действий пользователей группы В падает с 2020-12-07 по 2020-12-13, затем наблюдается рост до 2020-12-16, 2020-12-17 падает практически на 50% и плавно снижается практически до 0 к 2020-12-30. Также можно отметить, что рекламная компания Christmas&New Year Promo не повлияла на действия пользователей."
   ]
  },
  {
   "cell_type": "markdown",
   "id": "dd4b52ee",
   "metadata": {},
   "source": [
    "**Сравнение конверсий пользователей групп А и В**\n",
    "- конверсия в просмотр карточек товаров в группе А (64%) выше, чем в группе В (56%)\n",
    "- конверсия с просмотра карточек товаров в переход в корзину в группе А (48%) ниже, чем в группе В (53%)\n",
    "- после просмотра корзины практически все пользователи группы А совершают покупку, в группе В покупку совершают 96% пользователей\n",
    "- в целом от входа в систему до покупки в группе А доходит больше пользователей (31%), чем в гурппе В (28%)\n",
    "- в группе В доля пользователей, не совершавших действия (66%) значительно выше, чем в группе А (41%)\n",
    "\n",
    "**В результате тестирования новой рекомендательной системы не удалось достичь ожидаемого эффекта: прироста метрик конверсии не менее чем на 10% в тестовой группе. Конверсия в просмотр страницы товара ухудшилась на 9%, в просмотр продуктовой корзины ухудшилась на 2%, в покупку ухудшилась на 3%.**"
   ]
  },
  {
   "cell_type": "markdown",
   "id": "6209426e",
   "metadata": {},
   "source": [
    "**Проверка результатов А/В тестирования**\n",
    "\n",
    "В результате проверки долей пользователей по каждому из событий (product_page, product_cart, purchase) с помощью z-критерия установлено, что статистически значимая разница (при заданном критическом уровне статзначимости с учетом поправки Бонферони 1.67%) в долях пользователей присутствует только для события *просмотра страницы продукта*."
   ]
  },
  {
   "cell_type": "markdown",
   "id": "613ce7bf",
   "metadata": {},
   "source": [
    "**Заключение по итогам исследования**\n",
    "\n",
    "По причине некачественного распределения пользователей, завершения теста раньше запланированной даты и пересечения участников исследуемого теста с конкурирующим тестом потеряна большая часть аудитории.  \n",
    "\n",
    "Проверка результатов теста на очищенных данных показала, что в результате тестирования новой рекомендательной системы не удалось достичь ожидаемого эффекта: прироста метрик конверсии не менее чем на 10% в тестовой группе. Напротив, конверсия по всем рассматриваемым событиям уменьшилась.\n",
    "\n",
    "*Рекомендации для проведения тестирований*\n",
    "\n",
    "При проведении тестирования необходимо исключить пересечения участников теста с тестовой группой конкурирующих тестов, также по возможности исключить пересечение времени проведения тестирования с маркетинговыми событиями.\n",
    "\n",
    "Для коректного разбиения пользователей по группам целесообразно настроить алгоритм распределения таким образом, чтобы не допустить значительного перекоса по количеству пользователей в группах, а также улучшить ситему отбора пользователей в зависимости от региона.\n",
    "\n",
    "Завершение теста раньше запланированной даты выполнять только при достаточном обосновании."
   ]
  }
 ],
 "metadata": {
  "ExecuteTimeLog": [
   {
    "duration": 1073,
    "start_time": "2023-06-10T16:57:44.325Z"
   },
   {
    "duration": 1452,
    "start_time": "2023-06-10T16:57:45.400Z"
   },
   {
    "duration": 13,
    "start_time": "2023-06-10T16:57:46.853Z"
   },
   {
    "duration": 12,
    "start_time": "2023-06-10T16:57:46.868Z"
   },
   {
    "duration": 42,
    "start_time": "2023-06-10T16:57:46.882Z"
   },
   {
    "duration": 8,
    "start_time": "2023-06-10T16:57:46.926Z"
   },
   {
    "duration": 6,
    "start_time": "2023-06-10T16:57:46.935Z"
   },
   {
    "duration": 503,
    "start_time": "2023-06-10T16:57:46.943Z"
   },
   {
    "duration": 31,
    "start_time": "2023-06-10T16:57:47.448Z"
   },
   {
    "duration": 5,
    "start_time": "2023-06-10T16:57:47.481Z"
   },
   {
    "duration": 182,
    "start_time": "2023-06-10T16:57:47.487Z"
   },
   {
    "duration": 68,
    "start_time": "2023-06-10T16:57:47.671Z"
   },
   {
    "duration": 12,
    "start_time": "2023-06-10T16:57:47.740Z"
   },
   {
    "duration": 69,
    "start_time": "2023-06-10T16:57:47.753Z"
   },
   {
    "duration": 5,
    "start_time": "2023-06-10T16:57:47.824Z"
   },
   {
    "duration": 19,
    "start_time": "2023-06-10T16:57:47.830Z"
   },
   {
    "duration": 18,
    "start_time": "2023-06-10T16:57:47.850Z"
   },
   {
    "duration": 14,
    "start_time": "2023-06-10T16:57:47.869Z"
   },
   {
    "duration": 50,
    "start_time": "2023-06-10T16:57:47.884Z"
   },
   {
    "duration": 12,
    "start_time": "2023-06-10T16:57:47.935Z"
   },
   {
    "duration": 10,
    "start_time": "2023-06-10T16:57:47.948Z"
   },
   {
    "duration": 9,
    "start_time": "2023-06-10T16:57:47.959Z"
   },
   {
    "duration": 8,
    "start_time": "2023-06-10T16:57:47.970Z"
   },
   {
    "duration": 11,
    "start_time": "2023-06-10T16:57:47.979Z"
   },
   {
    "duration": 9,
    "start_time": "2023-06-10T16:57:48.014Z"
   },
   {
    "duration": 21,
    "start_time": "2023-06-10T16:57:48.025Z"
   },
   {
    "duration": 11,
    "start_time": "2023-06-10T16:57:48.047Z"
   },
   {
    "duration": 10,
    "start_time": "2023-06-10T16:57:48.061Z"
   },
   {
    "duration": 10,
    "start_time": "2023-06-10T16:57:48.073Z"
   },
   {
    "duration": 18,
    "start_time": "2023-06-10T16:57:48.084Z"
   },
   {
    "duration": 23,
    "start_time": "2023-06-10T16:57:48.104Z"
   },
   {
    "duration": 21,
    "start_time": "2023-06-10T16:57:48.128Z"
   },
   {
    "duration": 18,
    "start_time": "2023-06-10T16:57:48.150Z"
   },
   {
    "duration": 104,
    "start_time": "2023-06-10T16:57:48.169Z"
   },
   {
    "duration": 12,
    "start_time": "2023-06-10T16:57:48.274Z"
   },
   {
    "duration": 33,
    "start_time": "2023-06-10T16:57:48.287Z"
   },
   {
    "duration": 309,
    "start_time": "2023-06-10T16:57:48.322Z"
   },
   {
    "duration": 253,
    "start_time": "2023-06-10T16:57:48.633Z"
   },
   {
    "duration": 34,
    "start_time": "2023-06-10T16:57:48.887Z"
   },
   {
    "duration": 43,
    "start_time": "2023-06-10T16:57:48.923Z"
   },
   {
    "duration": 51,
    "start_time": "2023-06-10T16:57:48.968Z"
   },
   {
    "duration": 14,
    "start_time": "2023-06-10T16:57:49.021Z"
   },
   {
    "duration": 6,
    "start_time": "2023-06-10T16:57:49.037Z"
   },
   {
    "duration": 26,
    "start_time": "2023-06-10T16:57:49.045Z"
   },
   {
    "duration": 15,
    "start_time": "2023-06-10T16:57:49.073Z"
   },
   {
    "duration": 23,
    "start_time": "2023-06-10T16:57:49.090Z"
   },
   {
    "duration": 27,
    "start_time": "2023-06-10T16:57:49.115Z"
   },
   {
    "duration": 9,
    "start_time": "2023-06-10T16:57:49.143Z"
   },
   {
    "duration": 11,
    "start_time": "2023-06-10T16:57:49.154Z"
   },
   {
    "duration": 8,
    "start_time": "2023-06-10T16:57:49.167Z"
   },
   {
    "duration": 15,
    "start_time": "2023-06-10T16:57:49.176Z"
   },
   {
    "duration": 235,
    "start_time": "2023-06-10T16:57:49.192Z"
   },
   {
    "duration": 225,
    "start_time": "2023-06-10T16:57:49.429Z"
   },
   {
    "duration": 63,
    "start_time": "2023-06-10T16:57:49.656Z"
   },
   {
    "duration": 16,
    "start_time": "2023-06-10T16:57:49.721Z"
   },
   {
    "duration": 458,
    "start_time": "2023-06-10T16:57:49.738Z"
   },
   {
    "duration": 26,
    "start_time": "2023-06-10T16:57:50.198Z"
   },
   {
    "duration": 13,
    "start_time": "2023-06-10T16:57:50.225Z"
   },
   {
    "duration": 506,
    "start_time": "2023-06-10T16:57:50.239Z"
   },
   {
    "duration": 6,
    "start_time": "2023-06-10T16:57:50.746Z"
   },
   {
    "duration": 23,
    "start_time": "2023-06-10T16:57:50.754Z"
   },
   {
    "duration": 5,
    "start_time": "2023-06-10T17:20:59.124Z"
   },
   {
    "duration": 5,
    "start_time": "2023-06-10T17:21:05.132Z"
   },
   {
    "duration": 1275,
    "start_time": "2023-06-12T11:04:09.062Z"
   },
   {
    "duration": 1275,
    "start_time": "2023-06-12T11:04:10.339Z"
   },
   {
    "duration": 16,
    "start_time": "2023-06-12T11:04:11.616Z"
   },
   {
    "duration": 11,
    "start_time": "2023-06-12T11:04:11.633Z"
   },
   {
    "duration": 34,
    "start_time": "2023-06-12T11:04:11.646Z"
   },
   {
    "duration": 16,
    "start_time": "2023-06-12T11:04:11.681Z"
   },
   {
    "duration": 11,
    "start_time": "2023-06-12T11:04:11.699Z"
   },
   {
    "duration": 621,
    "start_time": "2023-06-12T11:04:11.712Z"
   },
   {
    "duration": 43,
    "start_time": "2023-06-12T11:04:12.335Z"
   },
   {
    "duration": 10,
    "start_time": "2023-06-12T11:04:12.380Z"
   },
   {
    "duration": 186,
    "start_time": "2023-06-12T11:04:12.393Z"
   },
   {
    "duration": 111,
    "start_time": "2023-06-12T11:04:12.582Z"
   },
   {
    "duration": 23,
    "start_time": "2023-06-12T11:04:12.696Z"
   },
   {
    "duration": 105,
    "start_time": "2023-06-12T11:04:12.724Z"
   },
   {
    "duration": 54,
    "start_time": "2023-06-12T11:04:12.831Z"
   },
   {
    "duration": 13,
    "start_time": "2023-06-12T11:04:12.888Z"
   },
   {
    "duration": 60,
    "start_time": "2023-06-12T11:04:12.903Z"
   },
   {
    "duration": 21,
    "start_time": "2023-06-12T11:04:12.965Z"
   },
   {
    "duration": 17,
    "start_time": "2023-06-12T11:04:12.988Z"
   },
   {
    "duration": 19,
    "start_time": "2023-06-12T11:04:13.007Z"
   },
   {
    "duration": 25,
    "start_time": "2023-06-12T11:04:13.028Z"
   },
   {
    "duration": 34,
    "start_time": "2023-06-12T11:04:13.055Z"
   },
   {
    "duration": 12,
    "start_time": "2023-06-12T11:04:13.091Z"
   },
   {
    "duration": 25,
    "start_time": "2023-06-12T11:04:13.105Z"
   },
   {
    "duration": 10,
    "start_time": "2023-06-12T11:04:26.379Z"
   },
   {
    "duration": 18,
    "start_time": "2023-06-12T11:04:46.292Z"
   },
   {
    "duration": 38,
    "start_time": "2023-06-12T11:04:50.540Z"
   },
   {
    "duration": 1327,
    "start_time": "2023-06-12T11:06:21.889Z"
   },
   {
    "duration": 1247,
    "start_time": "2023-06-12T11:06:23.218Z"
   },
   {
    "duration": 15,
    "start_time": "2023-06-12T11:06:24.468Z"
   },
   {
    "duration": 10,
    "start_time": "2023-06-12T11:06:24.486Z"
   },
   {
    "duration": 15,
    "start_time": "2023-06-12T11:06:24.498Z"
   },
   {
    "duration": 16,
    "start_time": "2023-06-12T11:06:24.515Z"
   },
   {
    "duration": 40,
    "start_time": "2023-06-12T11:06:24.547Z"
   },
   {
    "duration": 642,
    "start_time": "2023-06-12T11:06:24.589Z"
   },
   {
    "duration": 38,
    "start_time": "2023-06-12T11:06:25.233Z"
   },
   {
    "duration": 6,
    "start_time": "2023-06-12T11:06:25.275Z"
   },
   {
    "duration": 168,
    "start_time": "2023-06-12T11:06:25.282Z"
   },
   {
    "duration": 96,
    "start_time": "2023-06-12T11:06:25.457Z"
   },
   {
    "duration": 21,
    "start_time": "2023-06-12T11:06:25.555Z"
   },
   {
    "duration": 87,
    "start_time": "2023-06-12T11:06:25.578Z"
   },
   {
    "duration": 39,
    "start_time": "2023-06-12T11:06:25.668Z"
   },
   {
    "duration": 9,
    "start_time": "2023-06-12T11:06:25.710Z"
   },
   {
    "duration": 67,
    "start_time": "2023-06-12T11:06:25.720Z"
   },
   {
    "duration": 23,
    "start_time": "2023-06-12T11:06:25.789Z"
   },
   {
    "duration": 8,
    "start_time": "2023-06-12T11:06:25.814Z"
   },
   {
    "duration": 14,
    "start_time": "2023-06-12T11:06:25.848Z"
   },
   {
    "duration": 23,
    "start_time": "2023-06-12T11:06:25.864Z"
   },
   {
    "duration": 13,
    "start_time": "2023-06-12T11:06:25.889Z"
   },
   {
    "duration": 18,
    "start_time": "2023-06-12T11:06:25.904Z"
   },
   {
    "duration": 29,
    "start_time": "2023-06-12T11:06:25.924Z"
   },
   {
    "duration": 24,
    "start_time": "2023-06-12T11:06:25.954Z"
   },
   {
    "duration": 23,
    "start_time": "2023-06-12T11:06:25.980Z"
   },
   {
    "duration": 28,
    "start_time": "2023-06-12T11:06:26.005Z"
   },
   {
    "duration": 37,
    "start_time": "2023-06-12T11:06:26.037Z"
   },
   {
    "duration": 52,
    "start_time": "2023-06-12T11:06:26.076Z"
   },
   {
    "duration": 24,
    "start_time": "2023-06-12T11:06:26.130Z"
   },
   {
    "duration": 17,
    "start_time": "2023-06-12T11:06:26.162Z"
   },
   {
    "duration": 148,
    "start_time": "2023-06-12T11:06:26.181Z"
   },
   {
    "duration": 42,
    "start_time": "2023-06-12T11:06:26.332Z"
   },
   {
    "duration": 21,
    "start_time": "2023-06-12T11:06:26.376Z"
   },
   {
    "duration": 411,
    "start_time": "2023-06-12T11:06:26.399Z"
   },
   {
    "duration": 353,
    "start_time": "2023-06-12T11:06:26.812Z"
   },
   {
    "duration": 31,
    "start_time": "2023-06-12T11:06:27.167Z"
   },
   {
    "duration": 29,
    "start_time": "2023-06-12T11:06:27.200Z"
   },
   {
    "duration": 82,
    "start_time": "2023-06-12T11:06:27.232Z"
   },
   {
    "duration": 17,
    "start_time": "2023-06-12T11:06:27.316Z"
   },
   {
    "duration": 34,
    "start_time": "2023-06-12T11:06:27.335Z"
   },
   {
    "duration": 34,
    "start_time": "2023-06-12T11:06:27.372Z"
   },
   {
    "duration": 21,
    "start_time": "2023-06-12T11:06:27.408Z"
   },
   {
    "duration": 51,
    "start_time": "2023-06-12T11:06:27.431Z"
   },
   {
    "duration": 33,
    "start_time": "2023-06-12T11:06:27.484Z"
   },
   {
    "duration": 32,
    "start_time": "2023-06-12T11:06:27.519Z"
   },
   {
    "duration": 58,
    "start_time": "2023-06-12T11:06:27.553Z"
   },
   {
    "duration": 20,
    "start_time": "2023-06-12T11:06:27.613Z"
   },
   {
    "duration": 29,
    "start_time": "2023-06-12T11:06:27.635Z"
   },
   {
    "duration": 331,
    "start_time": "2023-06-12T11:06:27.666Z"
   },
   {
    "duration": 309,
    "start_time": "2023-06-12T11:06:27.999Z"
   },
   {
    "duration": 88,
    "start_time": "2023-06-12T11:06:28.310Z"
   },
   {
    "duration": 26,
    "start_time": "2023-06-12T11:06:28.400Z"
   },
   {
    "duration": 580,
    "start_time": "2023-06-12T11:06:28.428Z"
   },
   {
    "duration": 58,
    "start_time": "2023-06-12T11:06:29.010Z"
   },
   {
    "duration": 804,
    "start_time": "2023-06-12T11:06:29.070Z"
   },
   {
    "duration": 7,
    "start_time": "2023-06-12T11:06:29.877Z"
   },
   {
    "duration": 78,
    "start_time": "2023-06-12T11:06:29.886Z"
   }
  ],
  "kernelspec": {
   "display_name": "Python 3 (ipykernel)",
   "language": "python",
   "name": "python3"
  },
  "language_info": {
   "codemirror_mode": {
    "name": "ipython",
    "version": 3
   },
   "file_extension": ".py",
   "mimetype": "text/x-python",
   "name": "python",
   "nbconvert_exporter": "python",
   "pygments_lexer": "ipython3",
   "version": "3.9.12"
  },
  "toc": {
   "base_numbering": 1,
   "nav_menu": {},
   "number_sections": true,
   "sideBar": true,
   "skip_h1_title": true,
   "title_cell": "Table of Contents",
   "title_sidebar": "Contents",
   "toc_cell": false,
   "toc_position": {
    "height": "calc(100% - 180px)",
    "left": "10px",
    "top": "150px",
    "width": "349.062px"
   },
   "toc_section_display": true,
   "toc_window_display": true
  }
 },
 "nbformat": 4,
 "nbformat_minor": 5
}
