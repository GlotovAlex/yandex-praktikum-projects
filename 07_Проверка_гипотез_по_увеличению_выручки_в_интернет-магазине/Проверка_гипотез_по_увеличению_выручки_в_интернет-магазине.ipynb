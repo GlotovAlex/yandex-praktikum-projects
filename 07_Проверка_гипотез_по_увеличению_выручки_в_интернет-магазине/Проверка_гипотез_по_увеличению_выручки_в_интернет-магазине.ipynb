{
 "cells": [
  {
   "cell_type": "markdown",
   "id": "89141781",
   "metadata": {},
   "source": [
    "# Исследование результатов A/А/В-теста продуктового магазина"
   ]
  },
  {
   "cell_type": "markdown",
   "id": "21277bc9",
   "metadata": {},
   "source": [
    "В ходе данного исследования необходимо разобраться, как ведут себя пользователи мобильного приложения стартапа, который продаёт продукты питания. \n",
    "\n",
    "Изучим воронку продаж. Узнаем, как пользователи доходят до покупки. Сколько пользователей доходит до покупки, а сколько — «застревает» на предыдущих шагах? На каких именно?\n",
    "\n",
    "После этого исследуем результаты A/A/B-эксперимента. Дизайнеры захотели поменять шрифты во всём приложении, а менеджеры испугались, что пользователям будет непривычно. Договорились принять решение по результатам A/A/B-теста. Пользователей разбили на 3 группы: 2 контрольные со старыми шрифтами и одну экспериментальную — с новыми. Выясним, какой шрифт лучше.\n",
    "\n",
    "В качестве исходных данных предоставлен лог пользователей, в который записаны события, уникальные номера пользователей, время собыьтий и принадлежность пользователя той или иной группе. На основании этих данных и будем выполнять исследование."
   ]
  },
  {
   "cell_type": "markdown",
   "id": "38c8008a",
   "metadata": {},
   "source": [
    "## Изучение общей информации и поготовка данных"
   ]
  },
  {
   "cell_type": "markdown",
   "id": "81df920a",
   "metadata": {},
   "source": [
    "Импортируем все необходимые для работы библиотеки."
   ]
  },
  {
   "cell_type": "code",
   "execution_count": 1,
   "id": "5cbf9fb6",
   "metadata": {},
   "outputs": [],
   "source": [
    "import pandas as pd\n",
    "import numpy as np\n",
    "import seaborn as sns\n",
    "import scipy.stats as stats\n",
    "import datetime as dt\n",
    "import math as mth\n",
    "\n",
    "from plotly import graph_objects as go\n",
    "from matplotlib import pyplot as plt\n",
    "from scipy import stats as st\n",
    "\n",
    "import plotly.io as pio\n",
    "pio.renderers.default = 'png'"
   ]
  },
  {
   "cell_type": "markdown",
   "id": "e6624001",
   "metadata": {},
   "source": [
    "Загрузим лог с действиями пользователей. Для удоства работы названия столбцов приведем к более удобочитаемому виду."
   ]
  },
  {
   "cell_type": "code",
   "execution_count": 2,
   "id": "1da01228",
   "metadata": {},
   "outputs": [
    {
     "data": {
      "text/html": [
       "<div>\n",
       "<style scoped>\n",
       "    .dataframe tbody tr th:only-of-type {\n",
       "        vertical-align: middle;\n",
       "    }\n",
       "\n",
       "    .dataframe tbody tr th {\n",
       "        vertical-align: top;\n",
       "    }\n",
       "\n",
       "    .dataframe thead th {\n",
       "        text-align: right;\n",
       "    }\n",
       "</style>\n",
       "<table border=\"1\" class=\"dataframe\">\n",
       "  <thead>\n",
       "    <tr style=\"text-align: right;\">\n",
       "      <th></th>\n",
       "      <th>event_name</th>\n",
       "      <th>device_id_hash</th>\n",
       "      <th>event_timestamp</th>\n",
       "      <th>exp_id</th>\n",
       "    </tr>\n",
       "  </thead>\n",
       "  <tbody>\n",
       "    <tr>\n",
       "      <th>0</th>\n",
       "      <td>MainScreenAppear</td>\n",
       "      <td>4575588528974610257</td>\n",
       "      <td>1564029816</td>\n",
       "      <td>246</td>\n",
       "    </tr>\n",
       "    <tr>\n",
       "      <th>1</th>\n",
       "      <td>MainScreenAppear</td>\n",
       "      <td>7416695313311560658</td>\n",
       "      <td>1564053102</td>\n",
       "      <td>246</td>\n",
       "    </tr>\n",
       "    <tr>\n",
       "      <th>2</th>\n",
       "      <td>PaymentScreenSuccessful</td>\n",
       "      <td>3518123091307005509</td>\n",
       "      <td>1564054127</td>\n",
       "      <td>248</td>\n",
       "    </tr>\n",
       "    <tr>\n",
       "      <th>3</th>\n",
       "      <td>CartScreenAppear</td>\n",
       "      <td>3518123091307005509</td>\n",
       "      <td>1564054127</td>\n",
       "      <td>248</td>\n",
       "    </tr>\n",
       "    <tr>\n",
       "      <th>4</th>\n",
       "      <td>PaymentScreenSuccessful</td>\n",
       "      <td>6217807653094995999</td>\n",
       "      <td>1564055322</td>\n",
       "      <td>248</td>\n",
       "    </tr>\n",
       "    <tr>\n",
       "      <th>...</th>\n",
       "      <td>...</td>\n",
       "      <td>...</td>\n",
       "      <td>...</td>\n",
       "      <td>...</td>\n",
       "    </tr>\n",
       "    <tr>\n",
       "      <th>244121</th>\n",
       "      <td>MainScreenAppear</td>\n",
       "      <td>4599628364049201812</td>\n",
       "      <td>1565212345</td>\n",
       "      <td>247</td>\n",
       "    </tr>\n",
       "    <tr>\n",
       "      <th>244122</th>\n",
       "      <td>MainScreenAppear</td>\n",
       "      <td>5849806612437486590</td>\n",
       "      <td>1565212439</td>\n",
       "      <td>246</td>\n",
       "    </tr>\n",
       "    <tr>\n",
       "      <th>244123</th>\n",
       "      <td>MainScreenAppear</td>\n",
       "      <td>5746969938801999050</td>\n",
       "      <td>1565212483</td>\n",
       "      <td>246</td>\n",
       "    </tr>\n",
       "    <tr>\n",
       "      <th>244124</th>\n",
       "      <td>MainScreenAppear</td>\n",
       "      <td>5746969938801999050</td>\n",
       "      <td>1565212498</td>\n",
       "      <td>246</td>\n",
       "    </tr>\n",
       "    <tr>\n",
       "      <th>244125</th>\n",
       "      <td>OffersScreenAppear</td>\n",
       "      <td>5746969938801999050</td>\n",
       "      <td>1565212517</td>\n",
       "      <td>246</td>\n",
       "    </tr>\n",
       "  </tbody>\n",
       "</table>\n",
       "<p>244126 rows × 4 columns</p>\n",
       "</div>"
      ],
      "text/plain": [
       "                     event_name       device_id_hash  event_timestamp  exp_id\n",
       "0              MainScreenAppear  4575588528974610257       1564029816     246\n",
       "1              MainScreenAppear  7416695313311560658       1564053102     246\n",
       "2       PaymentScreenSuccessful  3518123091307005509       1564054127     248\n",
       "3              CartScreenAppear  3518123091307005509       1564054127     248\n",
       "4       PaymentScreenSuccessful  6217807653094995999       1564055322     248\n",
       "...                         ...                  ...              ...     ...\n",
       "244121         MainScreenAppear  4599628364049201812       1565212345     247\n",
       "244122         MainScreenAppear  5849806612437486590       1565212439     246\n",
       "244123         MainScreenAppear  5746969938801999050       1565212483     246\n",
       "244124         MainScreenAppear  5746969938801999050       1565212498     246\n",
       "244125       OffersScreenAppear  5746969938801999050       1565212517     246\n",
       "\n",
       "[244126 rows x 4 columns]"
      ]
     },
     "execution_count": 2,
     "metadata": {},
     "output_type": "execute_result"
    }
   ],
   "source": [
    "try:\n",
    "    logs = pd.read_csv('/datasets/logs_exp.csv', sep='\\t')\n",
    "except:\n",
    "    logs = pd.read_csv('https://code.s3.yandex.net/datasets/logs_exp.csv', sep='\\t')\n",
    "    \n",
    "logs.columns = ['event_name', 'device_id_hash', 'event_timestamp', 'exp_id']\n",
    "logs"
   ]
  },
  {
   "cell_type": "markdown",
   "id": "f73e1160",
   "metadata": {},
   "source": [
    "**Описание данных:**\n",
    "\n",
    "Каждая запись в логе — это действие пользователя, или событие.\n",
    "\n",
    "- `event_name` — название события;\n",
    "- `device_id_hash` — уникальный идентификатор пользователя;\n",
    "- `event_timestamp` — время события;\n",
    "- `exp_id` — номер эксперимента: 246 и 247 — контрольные группы, а 248 — экспериментальная."
   ]
  },
  {
   "cell_type": "markdown",
   "id": "c6ac3ad6",
   "metadata": {},
   "source": [
    "Для лучшего восприятия добавим столбец, в котором контрольные группы 246 и 247 обозначим А1 и А2, а экспериментальную группу 248 - B. "
   ]
  },
  {
   "cell_type": "code",
   "execution_count": 3,
   "id": "67f387cb",
   "metadata": {},
   "outputs": [],
   "source": [
    "logs['exp_group'] = logs['exp_id'].replace({246:'A1', 247:'A2', 248:'B'})"
   ]
  },
  {
   "cell_type": "markdown",
   "id": "fcb9b141",
   "metadata": {},
   "source": [
    "Добавим в датасет столбец с указанием даты и времени, а также столбец с указанием даты на основании значений `event_timestamp`."
   ]
  },
  {
   "cell_type": "code",
   "execution_count": 4,
   "id": "3e61a2bb",
   "metadata": {},
   "outputs": [],
   "source": [
    "logs['date_time'] = pd.to_datetime(logs.event_timestamp, unit='s')\n",
    "logs['date'] = pd.to_datetime(logs['date_time'].dt.date)"
   ]
  },
  {
   "cell_type": "code",
   "execution_count": 5,
   "id": "f624a38f",
   "metadata": {},
   "outputs": [
    {
     "data": {
      "text/html": [
       "<div>\n",
       "<style scoped>\n",
       "    .dataframe tbody tr th:only-of-type {\n",
       "        vertical-align: middle;\n",
       "    }\n",
       "\n",
       "    .dataframe tbody tr th {\n",
       "        vertical-align: top;\n",
       "    }\n",
       "\n",
       "    .dataframe thead th {\n",
       "        text-align: right;\n",
       "    }\n",
       "</style>\n",
       "<table border=\"1\" class=\"dataframe\">\n",
       "  <thead>\n",
       "    <tr style=\"text-align: right;\">\n",
       "      <th></th>\n",
       "      <th>event_name</th>\n",
       "      <th>device_id_hash</th>\n",
       "      <th>event_timestamp</th>\n",
       "      <th>exp_id</th>\n",
       "      <th>exp_group</th>\n",
       "      <th>date_time</th>\n",
       "      <th>date</th>\n",
       "    </tr>\n",
       "  </thead>\n",
       "  <tbody>\n",
       "    <tr>\n",
       "      <th>0</th>\n",
       "      <td>MainScreenAppear</td>\n",
       "      <td>4575588528974610257</td>\n",
       "      <td>1564029816</td>\n",
       "      <td>246</td>\n",
       "      <td>A1</td>\n",
       "      <td>2019-07-25 04:43:36</td>\n",
       "      <td>2019-07-25</td>\n",
       "    </tr>\n",
       "    <tr>\n",
       "      <th>1</th>\n",
       "      <td>MainScreenAppear</td>\n",
       "      <td>7416695313311560658</td>\n",
       "      <td>1564053102</td>\n",
       "      <td>246</td>\n",
       "      <td>A1</td>\n",
       "      <td>2019-07-25 11:11:42</td>\n",
       "      <td>2019-07-25</td>\n",
       "    </tr>\n",
       "    <tr>\n",
       "      <th>2</th>\n",
       "      <td>PaymentScreenSuccessful</td>\n",
       "      <td>3518123091307005509</td>\n",
       "      <td>1564054127</td>\n",
       "      <td>248</td>\n",
       "      <td>B</td>\n",
       "      <td>2019-07-25 11:28:47</td>\n",
       "      <td>2019-07-25</td>\n",
       "    </tr>\n",
       "    <tr>\n",
       "      <th>3</th>\n",
       "      <td>CartScreenAppear</td>\n",
       "      <td>3518123091307005509</td>\n",
       "      <td>1564054127</td>\n",
       "      <td>248</td>\n",
       "      <td>B</td>\n",
       "      <td>2019-07-25 11:28:47</td>\n",
       "      <td>2019-07-25</td>\n",
       "    </tr>\n",
       "    <tr>\n",
       "      <th>4</th>\n",
       "      <td>PaymentScreenSuccessful</td>\n",
       "      <td>6217807653094995999</td>\n",
       "      <td>1564055322</td>\n",
       "      <td>248</td>\n",
       "      <td>B</td>\n",
       "      <td>2019-07-25 11:48:42</td>\n",
       "      <td>2019-07-25</td>\n",
       "    </tr>\n",
       "    <tr>\n",
       "      <th>...</th>\n",
       "      <td>...</td>\n",
       "      <td>...</td>\n",
       "      <td>...</td>\n",
       "      <td>...</td>\n",
       "      <td>...</td>\n",
       "      <td>...</td>\n",
       "      <td>...</td>\n",
       "    </tr>\n",
       "    <tr>\n",
       "      <th>244121</th>\n",
       "      <td>MainScreenAppear</td>\n",
       "      <td>4599628364049201812</td>\n",
       "      <td>1565212345</td>\n",
       "      <td>247</td>\n",
       "      <td>A2</td>\n",
       "      <td>2019-08-07 21:12:25</td>\n",
       "      <td>2019-08-07</td>\n",
       "    </tr>\n",
       "    <tr>\n",
       "      <th>244122</th>\n",
       "      <td>MainScreenAppear</td>\n",
       "      <td>5849806612437486590</td>\n",
       "      <td>1565212439</td>\n",
       "      <td>246</td>\n",
       "      <td>A1</td>\n",
       "      <td>2019-08-07 21:13:59</td>\n",
       "      <td>2019-08-07</td>\n",
       "    </tr>\n",
       "    <tr>\n",
       "      <th>244123</th>\n",
       "      <td>MainScreenAppear</td>\n",
       "      <td>5746969938801999050</td>\n",
       "      <td>1565212483</td>\n",
       "      <td>246</td>\n",
       "      <td>A1</td>\n",
       "      <td>2019-08-07 21:14:43</td>\n",
       "      <td>2019-08-07</td>\n",
       "    </tr>\n",
       "    <tr>\n",
       "      <th>244124</th>\n",
       "      <td>MainScreenAppear</td>\n",
       "      <td>5746969938801999050</td>\n",
       "      <td>1565212498</td>\n",
       "      <td>246</td>\n",
       "      <td>A1</td>\n",
       "      <td>2019-08-07 21:14:58</td>\n",
       "      <td>2019-08-07</td>\n",
       "    </tr>\n",
       "    <tr>\n",
       "      <th>244125</th>\n",
       "      <td>OffersScreenAppear</td>\n",
       "      <td>5746969938801999050</td>\n",
       "      <td>1565212517</td>\n",
       "      <td>246</td>\n",
       "      <td>A1</td>\n",
       "      <td>2019-08-07 21:15:17</td>\n",
       "      <td>2019-08-07</td>\n",
       "    </tr>\n",
       "  </tbody>\n",
       "</table>\n",
       "<p>244126 rows × 7 columns</p>\n",
       "</div>"
      ],
      "text/plain": [
       "                     event_name       device_id_hash  event_timestamp  exp_id  \\\n",
       "0              MainScreenAppear  4575588528974610257       1564029816     246   \n",
       "1              MainScreenAppear  7416695313311560658       1564053102     246   \n",
       "2       PaymentScreenSuccessful  3518123091307005509       1564054127     248   \n",
       "3              CartScreenAppear  3518123091307005509       1564054127     248   \n",
       "4       PaymentScreenSuccessful  6217807653094995999       1564055322     248   \n",
       "...                         ...                  ...              ...     ...   \n",
       "244121         MainScreenAppear  4599628364049201812       1565212345     247   \n",
       "244122         MainScreenAppear  5849806612437486590       1565212439     246   \n",
       "244123         MainScreenAppear  5746969938801999050       1565212483     246   \n",
       "244124         MainScreenAppear  5746969938801999050       1565212498     246   \n",
       "244125       OffersScreenAppear  5746969938801999050       1565212517     246   \n",
       "\n",
       "       exp_group           date_time       date  \n",
       "0             A1 2019-07-25 04:43:36 2019-07-25  \n",
       "1             A1 2019-07-25 11:11:42 2019-07-25  \n",
       "2              B 2019-07-25 11:28:47 2019-07-25  \n",
       "3              B 2019-07-25 11:28:47 2019-07-25  \n",
       "4              B 2019-07-25 11:48:42 2019-07-25  \n",
       "...          ...                 ...        ...  \n",
       "244121        A2 2019-08-07 21:12:25 2019-08-07  \n",
       "244122        A1 2019-08-07 21:13:59 2019-08-07  \n",
       "244123        A1 2019-08-07 21:14:43 2019-08-07  \n",
       "244124        A1 2019-08-07 21:14:58 2019-08-07  \n",
       "244125        A1 2019-08-07 21:15:17 2019-08-07  \n",
       "\n",
       "[244126 rows x 7 columns]"
      ]
     },
     "execution_count": 5,
     "metadata": {},
     "output_type": "execute_result"
    }
   ],
   "source": [
    "logs"
   ]
  },
  {
   "cell_type": "markdown",
   "id": "77cda689",
   "metadata": {},
   "source": [
    "Выведем информацию о датасете."
   ]
  },
  {
   "cell_type": "code",
   "execution_count": 6,
   "id": "62a0480b",
   "metadata": {},
   "outputs": [
    {
     "name": "stdout",
     "output_type": "stream",
     "text": [
      "<class 'pandas.core.frame.DataFrame'>\n",
      "RangeIndex: 244126 entries, 0 to 244125\n",
      "Data columns (total 7 columns):\n",
      " #   Column           Non-Null Count   Dtype         \n",
      "---  ------           --------------   -----         \n",
      " 0   event_name       244126 non-null  object        \n",
      " 1   device_id_hash   244126 non-null  int64         \n",
      " 2   event_timestamp  244126 non-null  int64         \n",
      " 3   exp_id           244126 non-null  int64         \n",
      " 4   exp_group        244126 non-null  object        \n",
      " 5   date_time        244126 non-null  datetime64[ns]\n",
      " 6   date             244126 non-null  datetime64[ns]\n",
      "dtypes: datetime64[ns](2), int64(3), object(2)\n",
      "memory usage: 13.0+ MB\n"
     ]
    }
   ],
   "source": [
    "logs.info()"
   ]
  },
  {
   "cell_type": "markdown",
   "id": "a6b77887",
   "metadata": {},
   "source": [
    "Сохраним начальный размер датасета в переменную `data_old_size`"
   ]
  },
  {
   "cell_type": "code",
   "execution_count": 7,
   "id": "cea5dd70",
   "metadata": {},
   "outputs": [],
   "source": [
    "logs_old_size = len(logs)"
   ]
  },
  {
   "cell_type": "markdown",
   "id": "076069fa",
   "metadata": {},
   "source": [
    "Проверим данные на наличие полных дубликатов строк, а также посмотрим на количество пропусков по столбцам."
   ]
  },
  {
   "cell_type": "code",
   "execution_count": 8,
   "id": "579e0952",
   "metadata": {},
   "outputs": [
    {
     "name": "stdout",
     "output_type": "stream",
     "text": [
      "Количество полных дубликатов строк: 413\n",
      "\n",
      "Количество пропусков по столбцам:\n",
      "event_name         0\n",
      "device_id_hash     0\n",
      "event_timestamp    0\n",
      "exp_id             0\n",
      "exp_group          0\n",
      "date_time          0\n",
      "date               0\n",
      "dtype: int64\n"
     ]
    }
   ],
   "source": [
    "print('Количество полных дубликатов строк:', logs.duplicated().sum())\n",
    "print('')\n",
    "print('Количество пропусков по столбцам:')\n",
    "print(logs.isna().sum())"
   ]
  },
  {
   "cell_type": "markdown",
   "id": "ff689590",
   "metadata": {},
   "source": [
    "Пропуски в датафрейме отсутствуют. Посморим, для каких событий имеются полные дубликаты строк."
   ]
  },
  {
   "cell_type": "code",
   "execution_count": 9,
   "id": "9b14859b",
   "metadata": {},
   "outputs": [
    {
     "data": {
      "text/plain": [
       "array(['MainScreenAppear', 'CartScreenAppear', 'PaymentScreenSuccessful',\n",
       "       'OffersScreenAppear', 'Tutorial'], dtype=object)"
      ]
     },
     "execution_count": 9,
     "metadata": {},
     "output_type": "execute_result"
    }
   ],
   "source": [
    "logs[logs.duplicated()]['event_name'].unique()"
   ]
  },
  {
   "cell_type": "markdown",
   "id": "927ef92f",
   "metadata": {},
   "source": [
    "Подобные дубликаты могут быть вызваны техническими ошибками. Удалим их из датасета."
   ]
  },
  {
   "cell_type": "code",
   "execution_count": 10,
   "id": "10b2629e",
   "metadata": {},
   "outputs": [],
   "source": [
    "logs = logs.drop_duplicates()"
   ]
  },
  {
   "cell_type": "markdown",
   "id": "eda478b1",
   "metadata": {},
   "source": [
    "Проверим, есть ли ошибки в распределении пользователей по группам. Сгруппируем датафрейм по ID пользователя и для каждого посчитаем уникальное количество групп `exp_id`. Выведем на экран всех пользователей с количеством уникальных групп более 1 (при наличии)."
   ]
  },
  {
   "cell_type": "code",
   "execution_count": 11,
   "id": "ea110272",
   "metadata": {},
   "outputs": [
    {
     "data": {
      "text/html": [
       "<div>\n",
       "<style scoped>\n",
       "    .dataframe tbody tr th:only-of-type {\n",
       "        vertical-align: middle;\n",
       "    }\n",
       "\n",
       "    .dataframe tbody tr th {\n",
       "        vertical-align: top;\n",
       "    }\n",
       "\n",
       "    .dataframe thead th {\n",
       "        text-align: right;\n",
       "    }\n",
       "</style>\n",
       "<table border=\"1\" class=\"dataframe\">\n",
       "  <thead>\n",
       "    <tr style=\"text-align: right;\">\n",
       "      <th></th>\n",
       "      <th>device_id_hash</th>\n",
       "      <th>exp_id</th>\n",
       "    </tr>\n",
       "  </thead>\n",
       "  <tbody>\n",
       "  </tbody>\n",
       "</table>\n",
       "</div>"
      ],
      "text/plain": [
       "Empty DataFrame\n",
       "Columns: [device_id_hash, exp_id]\n",
       "Index: []"
      ]
     },
     "execution_count": 11,
     "metadata": {},
     "output_type": "execute_result"
    }
   ],
   "source": [
    "logs.groupby('device_id_hash', as_index=False)['exp_id'].nunique().query('exp_id > 1')"
   ]
  },
  {
   "cell_type": "markdown",
   "id": "d39a78c1",
   "metadata": {},
   "source": [
    "Пользователи, попавшие одновременно в 2 и более групп отсутствуют."
   ]
  },
  {
   "cell_type": "markdown",
   "id": "7e09a0f9",
   "metadata": {},
   "source": [
    "Проверим, какую часть датасета мы потеряли в результате предобработки данных."
   ]
  },
  {
   "cell_type": "code",
   "execution_count": 12,
   "id": "b805c76c",
   "metadata": {
    "scrolled": true
   },
   "outputs": [
    {
     "name": "stdout",
     "output_type": "stream",
     "text": [
      "В результате предобработки утрачено 0.17% данных\n"
     ]
    }
   ],
   "source": [
    "print(f'В результате предобработки утрачено {round(((1-len(logs)/logs_old_size)*100), 2)}% данных')"
   ]
  },
  {
   "cell_type": "markdown",
   "id": "cc7ca92b",
   "metadata": {},
   "source": [
    "**Вывод:** в результате обработки данные подготовлены для работы: названия столбцов приведены к удобочитаемому виду, группам пользователей присвоены имена, добавлены столбцы с датой и временем в стандартном формате, удалены полные дубликаты строк."
   ]
  },
  {
   "cell_type": "markdown",
   "id": "44bcf6ae",
   "metadata": {},
   "source": [
    "## Изучение и проверка данных"
   ]
  },
  {
   "cell_type": "markdown",
   "id": "4493edc5",
   "metadata": {},
   "source": [
    "Изучим и проверим данные. Выясним следующее:\n",
    "\n",
    "- Сколько всего событий и пользователей в логе?\n",
    "- Сколько в среднем событий приходится на пользователя?\n",
    "- Данными за какой период мы располагаем? Определим, с какого момента данные полные и отбросим более старые.\n",
    "- Сколько событий и пользователей вы потеряли, отбросив старые данные?\n",
    "- Проверим, что у нас есть пользователи из всех трёх экспериментальных групп."
   ]
  },
  {
   "cell_type": "markdown",
   "id": "a90a340f",
   "metadata": {},
   "source": [
    "Посмотрим виды событий, которые содержатся в логе."
   ]
  },
  {
   "cell_type": "code",
   "execution_count": 13,
   "id": "f2d41f66",
   "metadata": {},
   "outputs": [
    {
     "data": {
      "text/html": [
       "<div>\n",
       "<style scoped>\n",
       "    .dataframe tbody tr th:only-of-type {\n",
       "        vertical-align: middle;\n",
       "    }\n",
       "\n",
       "    .dataframe tbody tr th {\n",
       "        vertical-align: top;\n",
       "    }\n",
       "\n",
       "    .dataframe thead th {\n",
       "        text-align: right;\n",
       "    }\n",
       "</style>\n",
       "<table border=\"1\" class=\"dataframe\">\n",
       "  <thead>\n",
       "    <tr style=\"text-align: right;\">\n",
       "      <th></th>\n",
       "      <th>event_name</th>\n",
       "      <th>device_id_hash</th>\n",
       "      <th>event_timestamp</th>\n",
       "      <th>exp_id</th>\n",
       "      <th>exp_group</th>\n",
       "      <th>date_time</th>\n",
       "      <th>date</th>\n",
       "    </tr>\n",
       "  </thead>\n",
       "  <tbody>\n",
       "    <tr>\n",
       "      <th>0</th>\n",
       "      <td>MainScreenAppear</td>\n",
       "      <td>4575588528974610257</td>\n",
       "      <td>1564029816</td>\n",
       "      <td>246</td>\n",
       "      <td>A1</td>\n",
       "      <td>2019-07-25 04:43:36</td>\n",
       "      <td>2019-07-25</td>\n",
       "    </tr>\n",
       "    <tr>\n",
       "      <th>1</th>\n",
       "      <td>MainScreenAppear</td>\n",
       "      <td>7416695313311560658</td>\n",
       "      <td>1564053102</td>\n",
       "      <td>246</td>\n",
       "      <td>A1</td>\n",
       "      <td>2019-07-25 11:11:42</td>\n",
       "      <td>2019-07-25</td>\n",
       "    </tr>\n",
       "    <tr>\n",
       "      <th>2</th>\n",
       "      <td>PaymentScreenSuccessful</td>\n",
       "      <td>3518123091307005509</td>\n",
       "      <td>1564054127</td>\n",
       "      <td>248</td>\n",
       "      <td>B</td>\n",
       "      <td>2019-07-25 11:28:47</td>\n",
       "      <td>2019-07-25</td>\n",
       "    </tr>\n",
       "    <tr>\n",
       "      <th>3</th>\n",
       "      <td>CartScreenAppear</td>\n",
       "      <td>3518123091307005509</td>\n",
       "      <td>1564054127</td>\n",
       "      <td>248</td>\n",
       "      <td>B</td>\n",
       "      <td>2019-07-25 11:28:47</td>\n",
       "      <td>2019-07-25</td>\n",
       "    </tr>\n",
       "    <tr>\n",
       "      <th>4</th>\n",
       "      <td>PaymentScreenSuccessful</td>\n",
       "      <td>6217807653094995999</td>\n",
       "      <td>1564055322</td>\n",
       "      <td>248</td>\n",
       "      <td>B</td>\n",
       "      <td>2019-07-25 11:48:42</td>\n",
       "      <td>2019-07-25</td>\n",
       "    </tr>\n",
       "    <tr>\n",
       "      <th>...</th>\n",
       "      <td>...</td>\n",
       "      <td>...</td>\n",
       "      <td>...</td>\n",
       "      <td>...</td>\n",
       "      <td>...</td>\n",
       "      <td>...</td>\n",
       "      <td>...</td>\n",
       "    </tr>\n",
       "    <tr>\n",
       "      <th>244121</th>\n",
       "      <td>MainScreenAppear</td>\n",
       "      <td>4599628364049201812</td>\n",
       "      <td>1565212345</td>\n",
       "      <td>247</td>\n",
       "      <td>A2</td>\n",
       "      <td>2019-08-07 21:12:25</td>\n",
       "      <td>2019-08-07</td>\n",
       "    </tr>\n",
       "    <tr>\n",
       "      <th>244122</th>\n",
       "      <td>MainScreenAppear</td>\n",
       "      <td>5849806612437486590</td>\n",
       "      <td>1565212439</td>\n",
       "      <td>246</td>\n",
       "      <td>A1</td>\n",
       "      <td>2019-08-07 21:13:59</td>\n",
       "      <td>2019-08-07</td>\n",
       "    </tr>\n",
       "    <tr>\n",
       "      <th>244123</th>\n",
       "      <td>MainScreenAppear</td>\n",
       "      <td>5746969938801999050</td>\n",
       "      <td>1565212483</td>\n",
       "      <td>246</td>\n",
       "      <td>A1</td>\n",
       "      <td>2019-08-07 21:14:43</td>\n",
       "      <td>2019-08-07</td>\n",
       "    </tr>\n",
       "    <tr>\n",
       "      <th>244124</th>\n",
       "      <td>MainScreenAppear</td>\n",
       "      <td>5746969938801999050</td>\n",
       "      <td>1565212498</td>\n",
       "      <td>246</td>\n",
       "      <td>A1</td>\n",
       "      <td>2019-08-07 21:14:58</td>\n",
       "      <td>2019-08-07</td>\n",
       "    </tr>\n",
       "    <tr>\n",
       "      <th>244125</th>\n",
       "      <td>OffersScreenAppear</td>\n",
       "      <td>5746969938801999050</td>\n",
       "      <td>1565212517</td>\n",
       "      <td>246</td>\n",
       "      <td>A1</td>\n",
       "      <td>2019-08-07 21:15:17</td>\n",
       "      <td>2019-08-07</td>\n",
       "    </tr>\n",
       "  </tbody>\n",
       "</table>\n",
       "<p>243713 rows × 7 columns</p>\n",
       "</div>"
      ],
      "text/plain": [
       "                     event_name       device_id_hash  event_timestamp  exp_id  \\\n",
       "0              MainScreenAppear  4575588528974610257       1564029816     246   \n",
       "1              MainScreenAppear  7416695313311560658       1564053102     246   \n",
       "2       PaymentScreenSuccessful  3518123091307005509       1564054127     248   \n",
       "3              CartScreenAppear  3518123091307005509       1564054127     248   \n",
       "4       PaymentScreenSuccessful  6217807653094995999       1564055322     248   \n",
       "...                         ...                  ...              ...     ...   \n",
       "244121         MainScreenAppear  4599628364049201812       1565212345     247   \n",
       "244122         MainScreenAppear  5849806612437486590       1565212439     246   \n",
       "244123         MainScreenAppear  5746969938801999050       1565212483     246   \n",
       "244124         MainScreenAppear  5746969938801999050       1565212498     246   \n",
       "244125       OffersScreenAppear  5746969938801999050       1565212517     246   \n",
       "\n",
       "       exp_group           date_time       date  \n",
       "0             A1 2019-07-25 04:43:36 2019-07-25  \n",
       "1             A1 2019-07-25 11:11:42 2019-07-25  \n",
       "2              B 2019-07-25 11:28:47 2019-07-25  \n",
       "3              B 2019-07-25 11:28:47 2019-07-25  \n",
       "4              B 2019-07-25 11:48:42 2019-07-25  \n",
       "...          ...                 ...        ...  \n",
       "244121        A2 2019-08-07 21:12:25 2019-08-07  \n",
       "244122        A1 2019-08-07 21:13:59 2019-08-07  \n",
       "244123        A1 2019-08-07 21:14:43 2019-08-07  \n",
       "244124        A1 2019-08-07 21:14:58 2019-08-07  \n",
       "244125        A1 2019-08-07 21:15:17 2019-08-07  \n",
       "\n",
       "[243713 rows x 7 columns]"
      ]
     },
     "execution_count": 13,
     "metadata": {},
     "output_type": "execute_result"
    }
   ],
   "source": [
    "logs"
   ]
  },
  {
   "cell_type": "code",
   "execution_count": 14,
   "id": "f1ca761f",
   "metadata": {},
   "outputs": [
    {
     "name": "stdout",
     "output_type": "stream",
     "text": [
      "['MainScreenAppear' 'PaymentScreenSuccessful' 'CartScreenAppear'\n",
      " 'OffersScreenAppear' 'Tutorial']\n"
     ]
    }
   ],
   "source": [
    "print(logs.event_name.unique())"
   ]
  },
  {
   "cell_type": "markdown",
   "id": "41ed889a",
   "metadata": {},
   "source": [
    "**Виды событий:**\n",
    "\n",
    "- `MainScreenAppear` - показ главной страницы\n",
    "- `OffersScreenAppear` - показ экрана с предложениями магазина\n",
    "- `CartScreenAppear` - показ страницы корзины\n",
    "- `PaymentScreenSuccessful` - показ экрана успешной оплаты\n",
    "- `Tutorial` - показ экрана с обучением"
   ]
  },
  {
   "cell_type": "markdown",
   "id": "d9e9856c",
   "metadata": {},
   "source": [
    "Посмотрим количество уникальных пользователей, события по которым представлены в логе, а также количество самих событий."
   ]
  },
  {
   "cell_type": "code",
   "execution_count": 15,
   "id": "8687c588",
   "metadata": {},
   "outputs": [
    {
     "name": "stdout",
     "output_type": "stream",
     "text": [
      "В логе представлены события по 7551 пользователю.\n",
      "Всего содержится 243713 событий.\n"
     ]
    }
   ],
   "source": [
    "print(f'В логе представлены события по {logs.device_id_hash.nunique()} пользователю.')\n",
    "print(f'Всего содержится {len(logs)} событий.')"
   ]
  },
  {
   "cell_type": "markdown",
   "id": "ba22201d",
   "metadata": {},
   "source": [
    "Построим диаграмму рассеяния для количества событий по пользователям. Для этого создадим временную таблицу `t` в которой для каждого пользователя посчиатем количество событий."
   ]
  },
  {
   "cell_type": "code",
   "execution_count": 16,
   "id": "5588dd78",
   "metadata": {},
   "outputs": [
    {
     "data": {
      "text/html": [
       "<div>\n",
       "<style scoped>\n",
       "    .dataframe tbody tr th:only-of-type {\n",
       "        vertical-align: middle;\n",
       "    }\n",
       "\n",
       "    .dataframe tbody tr th {\n",
       "        vertical-align: top;\n",
       "    }\n",
       "\n",
       "    .dataframe thead th {\n",
       "        text-align: right;\n",
       "    }\n",
       "</style>\n",
       "<table border=\"1\" class=\"dataframe\">\n",
       "  <thead>\n",
       "    <tr style=\"text-align: right;\">\n",
       "      <th></th>\n",
       "      <th>device_id_hash</th>\n",
       "      <th>event_timestamp</th>\n",
       "    </tr>\n",
       "  </thead>\n",
       "  <tbody>\n",
       "    <tr>\n",
       "      <th>0</th>\n",
       "      <td>6888746892508752</td>\n",
       "      <td>1</td>\n",
       "    </tr>\n",
       "    <tr>\n",
       "      <th>1</th>\n",
       "      <td>6909561520679493</td>\n",
       "      <td>5</td>\n",
       "    </tr>\n",
       "    <tr>\n",
       "      <th>2</th>\n",
       "      <td>6922444491712477</td>\n",
       "      <td>47</td>\n",
       "    </tr>\n",
       "    <tr>\n",
       "      <th>3</th>\n",
       "      <td>7435777799948366</td>\n",
       "      <td>6</td>\n",
       "    </tr>\n",
       "    <tr>\n",
       "      <th>4</th>\n",
       "      <td>7702139951469979</td>\n",
       "      <td>137</td>\n",
       "    </tr>\n",
       "  </tbody>\n",
       "</table>\n",
       "</div>"
      ],
      "text/plain": [
       "     device_id_hash  event_timestamp\n",
       "0  6888746892508752                1\n",
       "1  6909561520679493                5\n",
       "2  6922444491712477               47\n",
       "3  7435777799948366                6\n",
       "4  7702139951469979              137"
      ]
     },
     "execution_count": 16,
     "metadata": {},
     "output_type": "execute_result"
    }
   ],
   "source": [
    "t = logs.groupby('device_id_hash')['event_timestamp'].count().reset_index()\n",
    "t.head()"
   ]
  },
  {
   "cell_type": "markdown",
   "id": "c2ff8234",
   "metadata": {},
   "source": [
    "По данным значениям построим диаграмму рассеяния. Покажем также линию 99-го перцентиля. Выше нее будет располагаться 1% пользователей с самым большим количеством заказов."
   ]
  },
  {
   "cell_type": "code",
   "execution_count": 17,
   "id": "d55a64fa",
   "metadata": {},
   "outputs": [
    {
     "data": {
      "image/png": "[encoded data removed]",
      "text/plain": [
       "<Figure size 720x432 with 1 Axes>"
      ]
     },
     "metadata": {
      "needs_background": "light"
     },
     "output_type": "display_data"
    }
   ],
   "source": [
    "plt.figure(figsize=(10,6))\n",
    "plt.scatter(x=t.index, y=t['event_timestamp'])\n",
    "plt.xlabel('Условный номер пользователя')\n",
    "plt.ylabel('Количество событий на пользователя')\n",
    "plt.axhline(y=np.percentile(t['event_timestamp'], 99), color='grey',\\\n",
    "            linestyle='--', label='99-й перцентиль по количеству событий на пользователя')\n",
    "plt.legend()\n",
    "plt.show()"
   ]
  },
  {
   "cell_type": "code",
   "execution_count": 18,
   "id": "7d3bd1da",
   "metadata": {},
   "outputs": [
    {
     "name": "stdout",
     "output_type": "stream",
     "text": [
      "Для 99% пользователей количество событий за исследуемый период не превышает 200 на одного пользователя.\n"
     ]
    }
   ],
   "source": [
    "print(f'Для 99% пользователей количество событий за исследуемый период не превышает\\\n",
    " {round(np.percentile(t[\"event_timestamp\"], 99))} на одного пользователя.')"
   ]
  },
  {
   "cell_type": "markdown",
   "id": "c17565fd",
   "metadata": {},
   "source": [
    "Отметим, что в логе есть очень активные пользователи, для которых за исследуемый период зафиксировано более 200 (до 2300) событий."
   ]
  },
  {
   "cell_type": "markdown",
   "id": "e6a5203e",
   "metadata": {},
   "source": [
    "Найдем среднее количество событий на одного пользователя."
   ]
  },
  {
   "cell_type": "code",
   "execution_count": 19,
   "id": "59a3dc71",
   "metadata": {},
   "outputs": [
    {
     "name": "stdout",
     "output_type": "stream",
     "text": [
      "В среднем по датасету приходится 32 события на одного пользователя.\n"
     ]
    }
   ],
   "source": [
    "print(f'В среднем по датасету приходится {round(len(logs)/logs.device_id_hash.nunique())} события на одного пользователя.')"
   ]
  },
  {
   "cell_type": "code",
   "execution_count": 20,
   "id": "a16ded52",
   "metadata": {},
   "outputs": [
    {
     "name": "stdout",
     "output_type": "stream",
     "text": [
      "В логе представлены данные с 2019-07-25 по 2019-08-07.\n"
     ]
    }
   ],
   "source": [
    "print(f'В логе представлены данные с {logs.date.min().date()} по {logs.date.max().date()}.')"
   ]
  },
  {
   "cell_type": "markdown",
   "id": "2172fa33",
   "metadata": {},
   "source": [
    "Построим гистограмму распределения количества событий по датам."
   ]
  },
  {
   "cell_type": "code",
   "execution_count": 21,
   "id": "618b2ceb",
   "metadata": {},
   "outputs": [
    {
     "data": {
      "image/png": "[encoded data removed]",
      "text/plain": [
       "<Figure size 1008x432 with 1 Axes>"
      ]
     },
     "metadata": {
      "needs_background": "light"
     },
     "output_type": "display_data"
    }
   ],
   "source": [
    "plt.figure(figsize=(14,6))\n",
    "sns.histplot(logs.date_time)\n",
    "plt.title('Распределение количества событий по датам')\n",
    "plt.xlabel('Дата')\n",
    "plt.ylabel('Количество событий')\n",
    "plt.show()"
   ]
  },
  {
   "cell_type": "markdown",
   "id": "bef7000c",
   "metadata": {},
   "source": [
    "По приведенному выше графику можно заметить, что до 1 августа 2019г. фиксировалось очень низкое количество событий. Технически в логи новых дней по некоторым пользователям могут «доезжать» события из прошлого — это может «перекашивать данные». С 1 августа мы имеем полные данные, поэтому далее будем рассматривать период с 2019-08-01 по 2019-08-07."
   ]
  },
  {
   "cell_type": "markdown",
   "id": "f4b4fbe4",
   "metadata": {},
   "source": [
    "Сохраним текущий лог в переменную `old_logs`."
   ]
  },
  {
   "cell_type": "code",
   "execution_count": 22,
   "id": "5e3b99a4",
   "metadata": {},
   "outputs": [],
   "source": [
    "old_logs = logs.copy()"
   ]
  },
  {
   "cell_type": "markdown",
   "id": "d818d45a",
   "metadata": {},
   "source": [
    "Исключим из рабочего датафрейма события, записанные ранее 1 августа 2019 г."
   ]
  },
  {
   "cell_type": "code",
   "execution_count": 23,
   "id": "944aca41",
   "metadata": {},
   "outputs": [],
   "source": [
    "logs = logs.query('date >= \"2019-08-01\"').reset_index(drop=True)"
   ]
  },
  {
   "cell_type": "code",
   "execution_count": 24,
   "id": "0ea5bcc3",
   "metadata": {},
   "outputs": [
    {
     "data": {
      "text/html": [
       "<div>\n",
       "<style scoped>\n",
       "    .dataframe tbody tr th:only-of-type {\n",
       "        vertical-align: middle;\n",
       "    }\n",
       "\n",
       "    .dataframe tbody tr th {\n",
       "        vertical-align: top;\n",
       "    }\n",
       "\n",
       "    .dataframe thead th {\n",
       "        text-align: right;\n",
       "    }\n",
       "</style>\n",
       "<table border=\"1\" class=\"dataframe\">\n",
       "  <thead>\n",
       "    <tr style=\"text-align: right;\">\n",
       "      <th></th>\n",
       "      <th>event_name</th>\n",
       "      <th>device_id_hash</th>\n",
       "      <th>event_timestamp</th>\n",
       "      <th>exp_id</th>\n",
       "      <th>exp_group</th>\n",
       "      <th>date_time</th>\n",
       "      <th>date</th>\n",
       "    </tr>\n",
       "  </thead>\n",
       "  <tbody>\n",
       "    <tr>\n",
       "      <th>0</th>\n",
       "      <td>Tutorial</td>\n",
       "      <td>3737462046622621720</td>\n",
       "      <td>1564618048</td>\n",
       "      <td>246</td>\n",
       "      <td>A1</td>\n",
       "      <td>2019-08-01 00:07:28</td>\n",
       "      <td>2019-08-01</td>\n",
       "    </tr>\n",
       "    <tr>\n",
       "      <th>1</th>\n",
       "      <td>MainScreenAppear</td>\n",
       "      <td>3737462046622621720</td>\n",
       "      <td>1564618080</td>\n",
       "      <td>246</td>\n",
       "      <td>A1</td>\n",
       "      <td>2019-08-01 00:08:00</td>\n",
       "      <td>2019-08-01</td>\n",
       "    </tr>\n",
       "    <tr>\n",
       "      <th>2</th>\n",
       "      <td>MainScreenAppear</td>\n",
       "      <td>3737462046622621720</td>\n",
       "      <td>1564618135</td>\n",
       "      <td>246</td>\n",
       "      <td>A1</td>\n",
       "      <td>2019-08-01 00:08:55</td>\n",
       "      <td>2019-08-01</td>\n",
       "    </tr>\n",
       "    <tr>\n",
       "      <th>3</th>\n",
       "      <td>OffersScreenAppear</td>\n",
       "      <td>3737462046622621720</td>\n",
       "      <td>1564618138</td>\n",
       "      <td>246</td>\n",
       "      <td>A1</td>\n",
       "      <td>2019-08-01 00:08:58</td>\n",
       "      <td>2019-08-01</td>\n",
       "    </tr>\n",
       "    <tr>\n",
       "      <th>4</th>\n",
       "      <td>MainScreenAppear</td>\n",
       "      <td>1433840883824088890</td>\n",
       "      <td>1564618139</td>\n",
       "      <td>247</td>\n",
       "      <td>A2</td>\n",
       "      <td>2019-08-01 00:08:59</td>\n",
       "      <td>2019-08-01</td>\n",
       "    </tr>\n",
       "    <tr>\n",
       "      <th>...</th>\n",
       "      <td>...</td>\n",
       "      <td>...</td>\n",
       "      <td>...</td>\n",
       "      <td>...</td>\n",
       "      <td>...</td>\n",
       "      <td>...</td>\n",
       "      <td>...</td>\n",
       "    </tr>\n",
       "    <tr>\n",
       "      <th>240882</th>\n",
       "      <td>MainScreenAppear</td>\n",
       "      <td>4599628364049201812</td>\n",
       "      <td>1565212345</td>\n",
       "      <td>247</td>\n",
       "      <td>A2</td>\n",
       "      <td>2019-08-07 21:12:25</td>\n",
       "      <td>2019-08-07</td>\n",
       "    </tr>\n",
       "    <tr>\n",
       "      <th>240883</th>\n",
       "      <td>MainScreenAppear</td>\n",
       "      <td>5849806612437486590</td>\n",
       "      <td>1565212439</td>\n",
       "      <td>246</td>\n",
       "      <td>A1</td>\n",
       "      <td>2019-08-07 21:13:59</td>\n",
       "      <td>2019-08-07</td>\n",
       "    </tr>\n",
       "    <tr>\n",
       "      <th>240884</th>\n",
       "      <td>MainScreenAppear</td>\n",
       "      <td>5746969938801999050</td>\n",
       "      <td>1565212483</td>\n",
       "      <td>246</td>\n",
       "      <td>A1</td>\n",
       "      <td>2019-08-07 21:14:43</td>\n",
       "      <td>2019-08-07</td>\n",
       "    </tr>\n",
       "    <tr>\n",
       "      <th>240885</th>\n",
       "      <td>MainScreenAppear</td>\n",
       "      <td>5746969938801999050</td>\n",
       "      <td>1565212498</td>\n",
       "      <td>246</td>\n",
       "      <td>A1</td>\n",
       "      <td>2019-08-07 21:14:58</td>\n",
       "      <td>2019-08-07</td>\n",
       "    </tr>\n",
       "    <tr>\n",
       "      <th>240886</th>\n",
       "      <td>OffersScreenAppear</td>\n",
       "      <td>5746969938801999050</td>\n",
       "      <td>1565212517</td>\n",
       "      <td>246</td>\n",
       "      <td>A1</td>\n",
       "      <td>2019-08-07 21:15:17</td>\n",
       "      <td>2019-08-07</td>\n",
       "    </tr>\n",
       "  </tbody>\n",
       "</table>\n",
       "<p>240887 rows × 7 columns</p>\n",
       "</div>"
      ],
      "text/plain": [
       "                event_name       device_id_hash  event_timestamp  exp_id  \\\n",
       "0                 Tutorial  3737462046622621720       1564618048     246   \n",
       "1         MainScreenAppear  3737462046622621720       1564618080     246   \n",
       "2         MainScreenAppear  3737462046622621720       1564618135     246   \n",
       "3       OffersScreenAppear  3737462046622621720       1564618138     246   \n",
       "4         MainScreenAppear  1433840883824088890       1564618139     247   \n",
       "...                    ...                  ...              ...     ...   \n",
       "240882    MainScreenAppear  4599628364049201812       1565212345     247   \n",
       "240883    MainScreenAppear  5849806612437486590       1565212439     246   \n",
       "240884    MainScreenAppear  5746969938801999050       1565212483     246   \n",
       "240885    MainScreenAppear  5746969938801999050       1565212498     246   \n",
       "240886  OffersScreenAppear  5746969938801999050       1565212517     246   \n",
       "\n",
       "       exp_group           date_time       date  \n",
       "0             A1 2019-08-01 00:07:28 2019-08-01  \n",
       "1             A1 2019-08-01 00:08:00 2019-08-01  \n",
       "2             A1 2019-08-01 00:08:55 2019-08-01  \n",
       "3             A1 2019-08-01 00:08:58 2019-08-01  \n",
       "4             A2 2019-08-01 00:08:59 2019-08-01  \n",
       "...          ...                 ...        ...  \n",
       "240882        A2 2019-08-07 21:12:25 2019-08-07  \n",
       "240883        A1 2019-08-07 21:13:59 2019-08-07  \n",
       "240884        A1 2019-08-07 21:14:43 2019-08-07  \n",
       "240885        A1 2019-08-07 21:14:58 2019-08-07  \n",
       "240886        A1 2019-08-07 21:15:17 2019-08-07  \n",
       "\n",
       "[240887 rows x 7 columns]"
      ]
     },
     "execution_count": 24,
     "metadata": {},
     "output_type": "execute_result"
    }
   ],
   "source": [
    "logs"
   ]
  },
  {
   "cell_type": "markdown",
   "id": "a2aeafce",
   "metadata": {},
   "source": [
    "Проверим, сколько пользователей мы потеряли в результате того, что отбросили часть данных. Аналогично проверим количество утраченных событий."
   ]
  },
  {
   "cell_type": "code",
   "execution_count": 25,
   "id": "8fb059a8",
   "metadata": {},
   "outputs": [
    {
     "name": "stdout",
     "output_type": "stream",
     "text": [
      "Количество утраченных пользователей: 17\n",
      "Доля утраченных пользователей: 0.23%\n",
      "\n",
      "Количество утраченных событий: 2826\n",
      "Доля утраченных событий: 1.16%\n"
     ]
    }
   ],
   "source": [
    "print(f'Количество утраченных пользователей: {old_logs.device_id_hash.nunique()-logs.device_id_hash.nunique()}')\n",
    "print(f'Доля утраченных пользователей: {round((1-logs.device_id_hash.nunique()/old_logs.device_id_hash.nunique())*100, 2)}%')\n",
    "print('')\n",
    "print(f'Количество утраченных событий: {len(old_logs)-len(logs)}')\n",
    "print(f'Доля утраченных событий: {round((1-len(logs)/len(old_logs))*100, 2)}%')"
   ]
  },
  {
   "cell_type": "markdown",
   "id": "535aa6ec",
   "metadata": {},
   "source": [
    "Посмотрим количество пользователей по группам после выполненной обработки данных."
   ]
  },
  {
   "cell_type": "code",
   "execution_count": 26,
   "id": "60b1ba4b",
   "metadata": {},
   "outputs": [
    {
     "data": {
      "text/html": [
       "<div>\n",
       "<style scoped>\n",
       "    .dataframe tbody tr th:only-of-type {\n",
       "        vertical-align: middle;\n",
       "    }\n",
       "\n",
       "    .dataframe tbody tr th {\n",
       "        vertical-align: top;\n",
       "    }\n",
       "\n",
       "    .dataframe thead th {\n",
       "        text-align: right;\n",
       "    }\n",
       "</style>\n",
       "<table border=\"1\" class=\"dataframe\">\n",
       "  <thead>\n",
       "    <tr style=\"text-align: right;\">\n",
       "      <th></th>\n",
       "      <th>exp_group</th>\n",
       "      <th>cnt</th>\n",
       "      <th>share</th>\n",
       "    </tr>\n",
       "  </thead>\n",
       "  <tbody>\n",
       "    <tr>\n",
       "      <th>0</th>\n",
       "      <td>A1</td>\n",
       "      <td>2484</td>\n",
       "      <td>0.330</td>\n",
       "    </tr>\n",
       "    <tr>\n",
       "      <th>1</th>\n",
       "      <td>A2</td>\n",
       "      <td>2513</td>\n",
       "      <td>0.334</td>\n",
       "    </tr>\n",
       "    <tr>\n",
       "      <th>2</th>\n",
       "      <td>B</td>\n",
       "      <td>2537</td>\n",
       "      <td>0.337</td>\n",
       "    </tr>\n",
       "  </tbody>\n",
       "</table>\n",
       "</div>"
      ],
      "text/plain": [
       "  exp_group   cnt  share\n",
       "0        A1  2484  0.330\n",
       "1        A2  2513  0.334\n",
       "2         B  2537  0.337"
      ]
     },
     "execution_count": 26,
     "metadata": {},
     "output_type": "execute_result"
    }
   ],
   "source": [
    "users_by_group = logs.groupby('exp_group', as_index=False)['device_id_hash'].nunique().rename(columns={'device_id_hash':'cnt'})\n",
    "users_by_group['share'] = round(users_by_group.cnt/users_by_group.cnt.sum(), 3)\n",
    "users_by_group"
   ]
  },
  {
   "cell_type": "markdown",
   "id": "aa57faa6",
   "metadata": {},
   "source": [
    "В отфильтрованном датафрейме имеются пользователи из всех трех групп. Наибольшая разница между группами (А1 и В) составляет 0.7%, что является допустимым."
   ]
  },
  {
   "cell_type": "markdown",
   "id": "9ee2044d",
   "metadata": {},
   "source": [
    "**Вывод:**\n",
    "\n",
    "В логе содержатся следующие виды событий:\n",
    "- `MainScreenAppear` - показ главной страницы\n",
    "- `OffersScreenAppear` - показ экрана с предложениями магазина\n",
    "- `CartScreenAppear` - показ страницы корзины\n",
    "- `PaymentScreenSuccessful` - показ экрана успешной оплаты\n",
    "- `Tutorial` - показ экрана с обучением.\n",
    "\n",
    "Для 99% пользователей количество событий за исследуемый период не превышает 200 на одного пользователя. В логе есть очень активные пользователи, для которых за исследуемый период зафиксировано более 200 (до 2300) событий. В среднем по датасету приходится 32 события на одного пользователя.\n",
    "\n",
    "В исходном логе данные предоставлены за период с 2019-07-25 по 2019-08-07.\n",
    "\n",
    "С помощью построенной гистограммы распределения установлено, что до 1 августа 2019г. фиксировалось очень низкое количество событий. Технически в логи новых дней по некоторым пользователям могут «доезжать» события из прошлого — это может «перекашивать данные». Для дальнейшей работы данные отфильтрованы и взяты логи событий за период с 2019-08-01 по 2019-08-07.\n",
    " \n",
    "В результате фильтрации утрачены данные по 17 пользователям (0.23% от общего количества) и по 2826 событиям (1.16%). В отфильтрованном датафрейме имеются пользователи из всех трех групп (около 2500 пользователей в каждой). Наибольшая разница между группами (А1 и В) составляет 0.7%, что является допустимым."
   ]
  },
  {
   "cell_type": "markdown",
   "id": "d5db435d",
   "metadata": {},
   "source": [
    "## Изучение воронки событий"
   ]
  },
  {
   "cell_type": "markdown",
   "id": "650f68ae",
   "metadata": {},
   "source": [
    "Посмотрим, какие события есть в логах и как часто они встречаются. Посчитаем, сколько пользователей совершали каждое из этих событий. Вычислим долю пользователей, которые хоть раз совершали событие.\n",
    "\n",
    "Изучим события и выстроим последовательную цепочку событий.\n",
    "\n",
    "Построим воронку событий и посчитаем, какая доля пользователей проходит на каждый следующий шаг воронки (от числа пользователей на предыдущем). Выясним, на каком шаге теряете больше всего пользователей и какая доля пользователей доходит от первого события до оплаты.\n"
   ]
  },
  {
   "cell_type": "markdown",
   "id": "b2912258",
   "metadata": {},
   "source": [
    "Посмотрим, какие события есть в логах и как часто они встречаются. Отобразим результат в виде горизонтальной столбчатой диаграммы."
   ]
  },
  {
   "cell_type": "code",
   "execution_count": 27,
   "id": "819350cf",
   "metadata": {},
   "outputs": [
    {
     "data": {
      "text/html": [
       "<div>\n",
       "<style scoped>\n",
       "    .dataframe tbody tr th:only-of-type {\n",
       "        vertical-align: middle;\n",
       "    }\n",
       "\n",
       "    .dataframe tbody tr th {\n",
       "        vertical-align: top;\n",
       "    }\n",
       "\n",
       "    .dataframe thead th {\n",
       "        text-align: right;\n",
       "    }\n",
       "</style>\n",
       "<table border=\"1\" class=\"dataframe\">\n",
       "  <thead>\n",
       "    <tr style=\"text-align: right;\">\n",
       "      <th></th>\n",
       "      <th>count</th>\n",
       "    </tr>\n",
       "    <tr>\n",
       "      <th>event_name</th>\n",
       "      <th></th>\n",
       "    </tr>\n",
       "  </thead>\n",
       "  <tbody>\n",
       "    <tr>\n",
       "      <th>MainScreenAppear</th>\n",
       "      <td>117328</td>\n",
       "    </tr>\n",
       "    <tr>\n",
       "      <th>OffersScreenAppear</th>\n",
       "      <td>46333</td>\n",
       "    </tr>\n",
       "    <tr>\n",
       "      <th>CartScreenAppear</th>\n",
       "      <td>42303</td>\n",
       "    </tr>\n",
       "    <tr>\n",
       "      <th>PaymentScreenSuccessful</th>\n",
       "      <td>33918</td>\n",
       "    </tr>\n",
       "    <tr>\n",
       "      <th>Tutorial</th>\n",
       "      <td>1005</td>\n",
       "    </tr>\n",
       "  </tbody>\n",
       "</table>\n",
       "</div>"
      ],
      "text/plain": [
       "                          count\n",
       "event_name                     \n",
       "MainScreenAppear         117328\n",
       "OffersScreenAppear        46333\n",
       "CartScreenAppear          42303\n",
       "PaymentScreenSuccessful   33918\n",
       "Tutorial                   1005"
      ]
     },
     "metadata": {},
     "output_type": "display_data"
    },
    {
     "data": {
      "image/png": "[encoded data removed]",
      "text/plain": [
       "<Figure size 648x360 with 1 Axes>"
      ]
     },
     "metadata": {
      "needs_background": "light"
     },
     "output_type": "display_data"
    }
   ],
   "source": [
    "# Создадим таблицу, в которой для каждого собыьтя посчитаем количество записей в логе\n",
    "display(logs.groupby('event_name')['event_timestamp'].count().sort_values(ascending=False)\\\n",
    ".to_frame().rename(columns={'event_timestamp':'count'}))\n",
    "\n",
    "# Построим горизонтальную столбчатую диаграмму\n",
    "plt.figure(figsize=(9,5))\n",
    "logs.groupby('event_name')['event_timestamp'].count().sort_values(ascending=True).plot(kind='barh')\n",
    "plt.xlabel('Количество событий за весь период')\n",
    "plt.ylabel('Наименование события')\n",
    "plt.title('Количество событий')\n",
    "plt.show()"
   ]
  },
  {
   "cell_type": "markdown",
   "id": "a21df65d",
   "metadata": {},
   "source": [
    "Вычислим сколько пользователей совершали каждое из этих событий. Также посчитаем долю пользователей от их общего количества, которые хоть раз совершали каждое из событий."
   ]
  },
  {
   "cell_type": "code",
   "execution_count": 28,
   "id": "d5c917f4",
   "metadata": {},
   "outputs": [
    {
     "data": {
      "text/html": [
       "<div>\n",
       "<style scoped>\n",
       "    .dataframe tbody tr th:only-of-type {\n",
       "        vertical-align: middle;\n",
       "    }\n",
       "\n",
       "    .dataframe tbody tr th {\n",
       "        vertical-align: top;\n",
       "    }\n",
       "\n",
       "    .dataframe thead th {\n",
       "        text-align: right;\n",
       "    }\n",
       "</style>\n",
       "<table border=\"1\" class=\"dataframe\">\n",
       "  <thead>\n",
       "    <tr style=\"text-align: right;\">\n",
       "      <th></th>\n",
       "      <th>user_count</th>\n",
       "      <th>share</th>\n",
       "    </tr>\n",
       "    <tr>\n",
       "      <th>event_name</th>\n",
       "      <th></th>\n",
       "      <th></th>\n",
       "    </tr>\n",
       "  </thead>\n",
       "  <tbody>\n",
       "    <tr>\n",
       "      <th>MainScreenAppear</th>\n",
       "      <td>7419</td>\n",
       "      <td>0.98</td>\n",
       "    </tr>\n",
       "    <tr>\n",
       "      <th>OffersScreenAppear</th>\n",
       "      <td>4593</td>\n",
       "      <td>0.61</td>\n",
       "    </tr>\n",
       "    <tr>\n",
       "      <th>CartScreenAppear</th>\n",
       "      <td>3734</td>\n",
       "      <td>0.50</td>\n",
       "    </tr>\n",
       "    <tr>\n",
       "      <th>PaymentScreenSuccessful</th>\n",
       "      <td>3539</td>\n",
       "      <td>0.47</td>\n",
       "    </tr>\n",
       "    <tr>\n",
       "      <th>Tutorial</th>\n",
       "      <td>840</td>\n",
       "      <td>0.11</td>\n",
       "    </tr>\n",
       "  </tbody>\n",
       "</table>\n",
       "</div>"
      ],
      "text/plain": [
       "                         user_count  share\n",
       "event_name                                \n",
       "MainScreenAppear               7419   0.98\n",
       "OffersScreenAppear             4593   0.61\n",
       "CartScreenAppear               3734   0.50\n",
       "PaymentScreenSuccessful        3539   0.47\n",
       "Tutorial                        840   0.11"
      ]
     },
     "metadata": {},
     "output_type": "display_data"
    },
    {
     "data": {
      "image/png": "[encoded data removed]",
      "text/plain": [
       "<Figure size 648x360 with 1 Axes>"
      ]
     },
     "metadata": {
      "needs_background": "light"
     },
     "output_type": "display_data"
    }
   ],
   "source": [
    "# Создадим таблицу, где для каждого события вычислим количество уникальных пользователей\n",
    "event_user_cnt = logs.groupby('event_name')['device_id_hash'].nunique().sort_values(ascending=False)\\\n",
    ".to_frame().rename(columns={'device_id_hash':'user_count'})\n",
    "# Добавм столбец, где будет указана доля пользователей совершивших событие от их общего числа\n",
    "event_user_cnt['share'] = round(event_user_cnt.user_count / logs.device_id_hash.nunique(), 2)\n",
    "display(event_user_cnt)\n",
    "\n",
    "plt.figure(figsize=(9,5))\n",
    "event_user_cnt.share.sort_values(ascending=True).plot(kind='barh')\n",
    "plt.xlabel('Доля уникальных пользователей от их общего числа')\n",
    "plt.ylabel('Наименование события')\n",
    "plt.title('Доля уникальных пользователей от их общего числа для каждого из событий')\n",
    "plt.show()"
   ]
  },
  {
   "cell_type": "markdown",
   "id": "67d3f3c4",
   "metadata": {},
   "source": [
    "Выстроим последовательную цепочку событий для пользователя. В скобках укажем долю уникальных пользователей от их общего числа для каждого из событий."
   ]
  },
  {
   "cell_type": "markdown",
   "id": "99715e4e",
   "metadata": {},
   "source": [
    "Логично предположить, что событие с обучением выполняется пользователи в самом начале работы с сервисом. Поскольку событие оно имеет низкую долю пользователей (0.11), это означает, что его можно пропустить в самом начале, пройти позже, либо совсем не проходить. Его не будем учитывать в иследуемой последовательности событий."
   ]
  },
  {
   "cell_type": "markdown",
   "id": "b8d00abb",
   "metadata": {},
   "source": [
    "Последовательность событий выглядит следующим образом:\n",
    "1. Показ главной страницы `MainScreenAppear` (98% пользователей)\n",
    "2. Показ экрана с предложениями магазина `OffersScreenAppear` (61% пользователей)\n",
    "3. Показ страницы корзины `CartScreenAppear` (50% пользователей)\n",
    "4. Показ экрана успешной оплаты `PaymentScreenSuccessful` (47% пользователей)"
   ]
  },
  {
   "cell_type": "markdown",
   "id": "c30da350",
   "metadata": {},
   "source": [
    "Построим воронку событий и посчитаем, какая доля пользователей проходит на следующий шаг воронки (от числа пользователей на предыдущем). Для из ранее созданной таблица `event_user_cnt` удалим строку Tutorial, поскольку она не учитывается в воронке событий. Также добавим столбец `share_funnel`, в котором будет указана доля пользователей от их количества на предыдущем событии."
   ]
  },
  {
   "cell_type": "code",
   "execution_count": 29,
   "id": "70ea5145",
   "metadata": {
    "scrolled": true
   },
   "outputs": [
    {
     "data": {
      "text/html": [
       "<div>\n",
       "<style scoped>\n",
       "    .dataframe tbody tr th:only-of-type {\n",
       "        vertical-align: middle;\n",
       "    }\n",
       "\n",
       "    .dataframe tbody tr th {\n",
       "        vertical-align: top;\n",
       "    }\n",
       "\n",
       "    .dataframe thead th {\n",
       "        text-align: right;\n",
       "    }\n",
       "</style>\n",
       "<table border=\"1\" class=\"dataframe\">\n",
       "  <thead>\n",
       "    <tr style=\"text-align: right;\">\n",
       "      <th></th>\n",
       "      <th>user_count</th>\n",
       "      <th>share</th>\n",
       "      <th>share_funnel</th>\n",
       "    </tr>\n",
       "    <tr>\n",
       "      <th>event_name</th>\n",
       "      <th></th>\n",
       "      <th></th>\n",
       "      <th></th>\n",
       "    </tr>\n",
       "  </thead>\n",
       "  <tbody>\n",
       "    <tr>\n",
       "      <th>MainScreenAppear</th>\n",
       "      <td>7419</td>\n",
       "      <td>0.98</td>\n",
       "      <td>1.00</td>\n",
       "    </tr>\n",
       "    <tr>\n",
       "      <th>OffersScreenAppear</th>\n",
       "      <td>4593</td>\n",
       "      <td>0.61</td>\n",
       "      <td>0.62</td>\n",
       "    </tr>\n",
       "    <tr>\n",
       "      <th>CartScreenAppear</th>\n",
       "      <td>3734</td>\n",
       "      <td>0.50</td>\n",
       "      <td>0.81</td>\n",
       "    </tr>\n",
       "    <tr>\n",
       "      <th>PaymentScreenSuccessful</th>\n",
       "      <td>3539</td>\n",
       "      <td>0.47</td>\n",
       "      <td>0.95</td>\n",
       "    </tr>\n",
       "  </tbody>\n",
       "</table>\n",
       "</div>"
      ],
      "text/plain": [
       "                         user_count  share  share_funnel\n",
       "event_name                                              \n",
       "MainScreenAppear               7419   0.98          1.00\n",
       "OffersScreenAppear             4593   0.61          0.62\n",
       "CartScreenAppear               3734   0.50          0.81\n",
       "PaymentScreenSuccessful        3539   0.47          0.95"
      ]
     },
     "execution_count": 29,
     "metadata": {},
     "output_type": "execute_result"
    }
   ],
   "source": [
    "event_user_cnt = event_user_cnt[event_user_cnt.index != 'Tutorial']\n",
    "event_user_cnt['share_funnel'] = round(event_user_cnt['user_count'] / event_user_cnt['user_count'].shift(1), 2)\n",
    "event_user_cnt = event_user_cnt.fillna(1)\n",
    "event_user_cnt"
   ]
  },
  {
   "cell_type": "markdown",
   "id": "17e0427d",
   "metadata": {},
   "source": [
    "Построим воронку событий."
   ]
  },
  {
   "cell_type": "code",
   "execution_count": 30,
   "id": "01a79ee6",
   "metadata": {
    "scrolled": false
   },
   "outputs": [
    {
     "data": {
      "image/png": "[encoded data removed]"
     },
     "metadata": {},
     "output_type": "display_data"
    }
   ],
   "source": [
    "funn = go.Figure(go.Funnel(\n",
    "    y=event_user_cnt.index, x=event_user_cnt.user_count, textinfo = 'value+percent previous+percent initial'\n",
    "))\n",
    "\n",
    "funn.update_layout(title=dict(text=\"Воронка событий для пользователей интернет-магазина\", x=0.5))\n",
    "funn.show()"
   ]
  },
  {
   "cell_type": "markdown",
   "id": "7a4603fa",
   "metadata": {},
   "source": [
    "Данная воронка демонстрирует:\n",
    "- количество пользователей, для которых произошло событие\n",
    "- процент от числа пользователей первого события (% of initial)\n",
    "- процент от числа пользователей предыдущего события (% of previous)"
   ]
  },
  {
   "cell_type": "markdown",
   "id": "f447e565",
   "metadata": {},
   "source": [
    "Наибольшее количество пользователей (38%) теряется на шаге перехода с главного экрана на экран с предложениями продуктов магазина. 81% пользователей, просмотревших товары магазина, заходят в раздел \"Корзина\". И 95% пользователей, просмотревших корзину, совершают оплату."
   ]
  },
  {
   "cell_type": "markdown",
   "id": "135d4246",
   "metadata": {},
   "source": [
    "От события *показ главной страницы `MainScreenAppear`* до события *показ экрана успешной оплаты `PaymentScreenSuccessful`* доходит 48% пользователей."
   ]
  },
  {
   "cell_type": "markdown",
   "id": "35947b07",
   "metadata": {},
   "source": [
    "**Вывод:**\n",
    "\n",
    "В ходе исследования установлена последовательность событий для пользователя, которая выглядит следующим образом:\n",
    "1. Показ главной страницы `MainScreenAppear` (98% пользователей)\n",
    "2. Показ экрана с предложениями магазина `OffersScreenAppear` (61% пользователей)\n",
    "3. Показ страницы корзины `CartScreenAppear` (50% пользователей)\n",
    "4. Показ экрана успешной оплаты `PaymentScreenSuccessful` (47% пользователей)\n",
    "\n",
    "Обучение `Tutorial` в целях изучения воронки событий не рассматривается, т.к. может быть пропущено на начальном этапе.\n",
    "\n",
    "Построенная воронка событий демонстрирует следующее: наибольшее количество пользователей (38%) теряется на шаге перехода с главного экрана на экран с предложениями продуктов магазина. 81% пользователей, просмотревших товары магазина, заходят в раздел \"Корзина\". И 95% пользователей, просмотревших корзину, совершают оплату. От события *показ главной страницы `MainScreenAppear`* до события *показ экрана успешной оплаты `PaymentScreenSuccessful`* доходит 48% пользователей."
   ]
  },
  {
   "cell_type": "markdown",
   "id": "d1c0732e",
   "metadata": {},
   "source": [
    "## Изучение результатов эксперимента"
   ]
  },
  {
   "cell_type": "markdown",
   "id": "d3a88dc4",
   "metadata": {},
   "source": [
    "Проверить корректность всех механизмов и расчётов путем сравнения контрольных групп А1 и А2. Проверьте, находят ли статистические критерии между ними разницу.\n",
    "\n",
    "Выберем самое популярное событие и посчитайте число пользователей, совершивших это событие в каждой из контрольных групп. Посчитаем долю пользователей, совершивших это событие. Проверим, будет ли отличие между группами статистически значимым.  Проделаем то же самое для всех других событий. Проверим, корректно ли выполнено разбиение пользователей на группы.\n",
    "\n",
    "Аналогичные действия выполним с группой с изменённым шрифтом (группа В). Сравним результаты с каждой из контрольных групп в отдельности по каждому событию а также с объединённой контрольной группой."
   ]
  },
  {
   "cell_type": "markdown",
   "id": "c8f84679",
   "metadata": {},
   "source": [
    "Посмотрим на распределение пользователей по группам."
   ]
  },
  {
   "cell_type": "code",
   "execution_count": 31,
   "id": "97fae521",
   "metadata": {},
   "outputs": [
    {
     "data": {
      "text/html": [
       "<div>\n",
       "<style scoped>\n",
       "    .dataframe tbody tr th:only-of-type {\n",
       "        vertical-align: middle;\n",
       "    }\n",
       "\n",
       "    .dataframe tbody tr th {\n",
       "        vertical-align: top;\n",
       "    }\n",
       "\n",
       "    .dataframe thead th {\n",
       "        text-align: right;\n",
       "    }\n",
       "</style>\n",
       "<table border=\"1\" class=\"dataframe\">\n",
       "  <thead>\n",
       "    <tr style=\"text-align: right;\">\n",
       "      <th></th>\n",
       "      <th>exp_group</th>\n",
       "      <th>cnt</th>\n",
       "      <th>share</th>\n",
       "    </tr>\n",
       "  </thead>\n",
       "  <tbody>\n",
       "    <tr>\n",
       "      <th>0</th>\n",
       "      <td>A1</td>\n",
       "      <td>2484</td>\n",
       "      <td>0.330</td>\n",
       "    </tr>\n",
       "    <tr>\n",
       "      <th>1</th>\n",
       "      <td>A2</td>\n",
       "      <td>2513</td>\n",
       "      <td>0.334</td>\n",
       "    </tr>\n",
       "    <tr>\n",
       "      <th>2</th>\n",
       "      <td>B</td>\n",
       "      <td>2537</td>\n",
       "      <td>0.337</td>\n",
       "    </tr>\n",
       "  </tbody>\n",
       "</table>\n",
       "</div>"
      ],
      "text/plain": [
       "  exp_group   cnt  share\n",
       "0        A1  2484  0.330\n",
       "1        A2  2513  0.334\n",
       "2         B  2537  0.337"
      ]
     },
     "execution_count": 31,
     "metadata": {},
     "output_type": "execute_result"
    }
   ],
   "source": [
    "users_by_group"
   ]
  },
  {
   "cell_type": "markdown",
   "id": "b26ff2f6",
   "metadata": {},
   "source": [
    "Наибольшая разница между группами (А1 и В) составляет 0.7%, что является допустимым. Распределение пользователей по группам выполнено качественно."
   ]
  },
  {
   "cell_type": "markdown",
   "id": "d5a48c24",
   "metadata": {},
   "source": [
    "Создание двух групп A вместо одной имеет определённые преимущества. Если две контрольные группы окажутся равны, мы можем быть уверены в точности проведенного тестирования. Если же между значениями A и A будут существенные различия, это поможет обнаружить факторы, которые привели к искажению результатов. Сравнение контрольных групп также помогает понять, сколько времени и данных потребуется для дальнейших тестов.\n",
    "\n",
    "Чтобы проверить корректность всех механизмов и расчётов, проверим, находят ли статистические критерии разницу между выборками А1 и А2.\n",
    "\n",
    "Для этого создадим сводную таблицу `groups`, в которой сгруппируем данные по группам и по каждой группе укажем количество уникальных пользователей для различных событий (за исключением обучения, которое не включено в последовательность событий)."
   ]
  },
  {
   "cell_type": "code",
   "execution_count": 32,
   "id": "298e420e",
   "metadata": {},
   "outputs": [
    {
     "data": {
      "text/html": [
       "<div>\n",
       "<style scoped>\n",
       "    .dataframe tbody tr th:only-of-type {\n",
       "        vertical-align: middle;\n",
       "    }\n",
       "\n",
       "    .dataframe tbody tr th {\n",
       "        vertical-align: top;\n",
       "    }\n",
       "\n",
       "    .dataframe thead th {\n",
       "        text-align: right;\n",
       "    }\n",
       "</style>\n",
       "<table border=\"1\" class=\"dataframe\">\n",
       "  <thead>\n",
       "    <tr style=\"text-align: right;\">\n",
       "      <th></th>\n",
       "      <th>MainScreenAppear</th>\n",
       "      <th>OffersScreenAppear</th>\n",
       "      <th>CartScreenAppear</th>\n",
       "      <th>PaymentScreenSuccessful</th>\n",
       "      <th>count_users</th>\n",
       "    </tr>\n",
       "    <tr>\n",
       "      <th>exp_group</th>\n",
       "      <th></th>\n",
       "      <th></th>\n",
       "      <th></th>\n",
       "      <th></th>\n",
       "      <th></th>\n",
       "    </tr>\n",
       "  </thead>\n",
       "  <tbody>\n",
       "    <tr>\n",
       "      <th>A1</th>\n",
       "      <td>2450</td>\n",
       "      <td>1542</td>\n",
       "      <td>1266</td>\n",
       "      <td>1200</td>\n",
       "      <td>2484</td>\n",
       "    </tr>\n",
       "    <tr>\n",
       "      <th>A2</th>\n",
       "      <td>2476</td>\n",
       "      <td>1520</td>\n",
       "      <td>1238</td>\n",
       "      <td>1158</td>\n",
       "      <td>2513</td>\n",
       "    </tr>\n",
       "    <tr>\n",
       "      <th>B</th>\n",
       "      <td>2493</td>\n",
       "      <td>1531</td>\n",
       "      <td>1230</td>\n",
       "      <td>1181</td>\n",
       "      <td>2537</td>\n",
       "    </tr>\n",
       "  </tbody>\n",
       "</table>\n",
       "</div>"
      ],
      "text/plain": [
       "           MainScreenAppear  OffersScreenAppear  CartScreenAppear  \\\n",
       "exp_group                                                           \n",
       "A1                     2450                1542              1266   \n",
       "A2                     2476                1520              1238   \n",
       "B                      2493                1531              1230   \n",
       "\n",
       "           PaymentScreenSuccessful  count_users  \n",
       "exp_group                                        \n",
       "A1                            1200         2484  \n",
       "A2                            1158         2513  \n",
       "B                             1181         2537  "
      ]
     },
     "execution_count": 32,
     "metadata": {},
     "output_type": "execute_result"
    }
   ],
   "source": [
    "groups = logs.pivot_table(index='exp_group', columns='event_name', values='device_id_hash', aggfunc='nunique')\n",
    "groups = groups[['MainScreenAppear', 'OffersScreenAppear', 'CartScreenAppear', 'PaymentScreenSuccessful']]\n",
    "groups = groups.merge(users_by_group[['cnt', 'exp_group']], on='exp_group')\n",
    "groups = groups.rename(columns={'cnt':'count_users'}).set_index('exp_group')\n",
    "groups"
   ]
  },
  {
   "cell_type": "markdown",
   "id": "d3fa3e38",
   "metadata": {},
   "source": [
    "В ходе проверки гипотез будем искать различия в долях пользователей от их общего количества для определенного события.\n",
    "\n",
    "Установим нулевую и альтернативную гипотезы:\n",
    "\n",
    " - H0 - разницы между группами нет, доли равны.\n",
    " - H1 - есть разница между группами, доли не равны.\n",
    " \n",
    "Для статистических тестов зададим параметр статистической значимости *alpha* равным *0.05*."
   ]
  },
  {
   "cell_type": "markdown",
   "id": "ee2557a0",
   "metadata": {},
   "source": [
    "Для проверки разницы между различными группами создадим функцию `diff_share`, которая на вход будет принимать названия сравниваемых групп,  название события и критический уровень статистической значимости (по умолчанию 0.05). Функция возвращает p-value и результат проверки гипотезы (отвергаем или не отвергаем нулевую гипотезу)."
   ]
  },
  {
   "cell_type": "code",
   "execution_count": 33,
   "id": "91a14e02",
   "metadata": {},
   "outputs": [],
   "source": [
    "def diff_share(group_one, group_two, item, alpha=.05):\n",
    "\n",
    "    successes_users = np.array([groups.loc[group_one, item], groups.loc[group_two, item]])\n",
    "    trials_users = np.array([groups.loc[group_one, 'count_users'], groups.loc[group_two, 'count_users']])\n",
    "\n",
    "    # пропорция успехов в первой группе:\n",
    "    p1 = successes_users[0]/trials_users[0]\n",
    "\n",
    "    # пропорция успехов во второй группе:\n",
    "    p2 = successes_users[1]/trials_users[1]\n",
    "\n",
    "    # пропорция успехов в комбинированном датасете:\n",
    "    p_combined = (successes_users[0] + successes_users[1]) / (trials_users[0] + trials_users[1])\n",
    "\n",
    "    # разница пропорций в датасетах\n",
    "    difference = p1 - p2\n",
    "\n",
    "    # считаем статистику в ст.отклонениях стандартного нормального распределения\n",
    "    z_value = difference / mth.sqrt(p_combined * (1 - p_combined) * (1/trials_users[0] + 1/trials_users[1]))\n",
    "\n",
    "    # задаем стандартное нормальное распределение (среднее 0, ст.отклонение 1)\n",
    "    distr = st.norm(0, 1) \n",
    "\n",
    "    p_value = (1 - distr.cdf(abs(z_value))) * 2\n",
    "\n",
    "    print('-'*30)\n",
    "    print(f'Сравниваем доли пользователей групп {group_one} и {group_two} для события {item}.')\n",
    "    print(f'p-значение: {round(p_value, 4)}.')\n",
    "    print(f'alpha (критический уровень статистической значимости): {alpha}.')\n",
    "\n",
    "    if p_value < alpha:\n",
    "        return print('Отвергаем нулевую гипотезу: между долями есть значимая разница.')\n",
    "    else:\n",
    "        return print('Не получилось отвергнуть нулевую гипотезу, нет оснований считать доли разными.')\n",
    "    "
   ]
  },
  {
   "cell_type": "code",
   "execution_count": 34,
   "id": "9821bc46",
   "metadata": {},
   "outputs": [
    {
     "name": "stdout",
     "output_type": "stream",
     "text": [
      "------------------------------\n",
      "Сравниваем доли пользователей групп A1 и A2 для события MainScreenAppear.\n",
      "p-значение: 0.7571.\n",
      "alpha (критический уровень статистической значимости): 0.05.\n",
      "Не получилось отвергнуть нулевую гипотезу, нет оснований считать доли разными.\n",
      "------------------------------\n",
      "Сравниваем доли пользователей групп A1 и A2 для события OffersScreenAppear.\n",
      "p-значение: 0.2481.\n",
      "alpha (критический уровень статистической значимости): 0.05.\n",
      "Не получилось отвергнуть нулевую гипотезу, нет оснований считать доли разными.\n",
      "------------------------------\n",
      "Сравниваем доли пользователей групп A1 и A2 для события CartScreenAppear.\n",
      "p-значение: 0.2288.\n",
      "alpha (критический уровень статистической значимости): 0.05.\n",
      "Не получилось отвергнуть нулевую гипотезу, нет оснований считать доли разными.\n",
      "------------------------------\n",
      "Сравниваем доли пользователей групп A1 и A2 для события PaymentScreenSuccessful.\n",
      "p-значение: 0.1146.\n",
      "alpha (критический уровень статистической значимости): 0.05.\n",
      "Не получилось отвергнуть нулевую гипотезу, нет оснований считать доли разными.\n"
     ]
    }
   ],
   "source": [
    "for i in groups.columns[:-1]:\n",
    "    diff_share('A1', 'A2', i)"
   ]
  },
  {
   "cell_type": "markdown",
   "id": "587d96ad",
   "metadata": {},
   "source": [
    "**Можно сделать вывод, что разбиение пользователей на группы работает корректно**. При сравнении контрольных групп между собой  статистически значимой разницы не выявлено."
   ]
  },
  {
   "cell_type": "markdown",
   "id": "94ae8b97",
   "metadata": {},
   "source": [
    "Проделаем ту же процедуру для сравнения экспериментальной группы с контрольными, а также с объединенной контрольной группой. Предварительно добавим строку А1+А2 в датафрейм `groups`."
   ]
  },
  {
   "cell_type": "code",
   "execution_count": 35,
   "id": "06ff3ca6",
   "metadata": {},
   "outputs": [
    {
     "data": {
      "text/html": [
       "<div>\n",
       "<style scoped>\n",
       "    .dataframe tbody tr th:only-of-type {\n",
       "        vertical-align: middle;\n",
       "    }\n",
       "\n",
       "    .dataframe tbody tr th {\n",
       "        vertical-align: top;\n",
       "    }\n",
       "\n",
       "    .dataframe thead th {\n",
       "        text-align: right;\n",
       "    }\n",
       "</style>\n",
       "<table border=\"1\" class=\"dataframe\">\n",
       "  <thead>\n",
       "    <tr style=\"text-align: right;\">\n",
       "      <th></th>\n",
       "      <th>MainScreenAppear</th>\n",
       "      <th>OffersScreenAppear</th>\n",
       "      <th>CartScreenAppear</th>\n",
       "      <th>PaymentScreenSuccessful</th>\n",
       "      <th>count_users</th>\n",
       "    </tr>\n",
       "    <tr>\n",
       "      <th>exp_group</th>\n",
       "      <th></th>\n",
       "      <th></th>\n",
       "      <th></th>\n",
       "      <th></th>\n",
       "      <th></th>\n",
       "    </tr>\n",
       "  </thead>\n",
       "  <tbody>\n",
       "    <tr>\n",
       "      <th>A1</th>\n",
       "      <td>2450</td>\n",
       "      <td>1542</td>\n",
       "      <td>1266</td>\n",
       "      <td>1200</td>\n",
       "      <td>2484</td>\n",
       "    </tr>\n",
       "    <tr>\n",
       "      <th>A2</th>\n",
       "      <td>2476</td>\n",
       "      <td>1520</td>\n",
       "      <td>1238</td>\n",
       "      <td>1158</td>\n",
       "      <td>2513</td>\n",
       "    </tr>\n",
       "    <tr>\n",
       "      <th>A2+A1</th>\n",
       "      <td>4926</td>\n",
       "      <td>3062</td>\n",
       "      <td>2504</td>\n",
       "      <td>2358</td>\n",
       "      <td>4997</td>\n",
       "    </tr>\n",
       "    <tr>\n",
       "      <th>B</th>\n",
       "      <td>2493</td>\n",
       "      <td>1531</td>\n",
       "      <td>1230</td>\n",
       "      <td>1181</td>\n",
       "      <td>2537</td>\n",
       "    </tr>\n",
       "  </tbody>\n",
       "</table>\n",
       "</div>"
      ],
      "text/plain": [
       "           MainScreenAppear  OffersScreenAppear  CartScreenAppear  \\\n",
       "exp_group                                                           \n",
       "A1                     2450                1542              1266   \n",
       "A2                     2476                1520              1238   \n",
       "A2+A1                  4926                3062              2504   \n",
       "B                      2493                1531              1230   \n",
       "\n",
       "           PaymentScreenSuccessful  count_users  \n",
       "exp_group                                        \n",
       "A1                            1200         2484  \n",
       "A2                            1158         2513  \n",
       "A2+A1                         2358         4997  \n",
       "B                             1181         2537  "
      ]
     },
     "execution_count": 35,
     "metadata": {},
     "output_type": "execute_result"
    }
   ],
   "source": [
    "groups.loc['A2+A1'] = groups.loc['A1'] + groups.loc['A2']\n",
    "groups.sort_index()"
   ]
  },
  {
   "cell_type": "markdown",
   "id": "dac714b5",
   "metadata": {},
   "source": [
    "Далее сравним каждую из контрольных групп `A1`, `A2`, `A2+A1` с экспериментальной группой `B`."
   ]
  },
  {
   "cell_type": "code",
   "execution_count": 36,
   "id": "eedfe07f",
   "metadata": {},
   "outputs": [
    {
     "name": "stdout",
     "output_type": "stream",
     "text": [
      "------------------------------\n",
      "------------------------------\n",
      "Сравниваем доли пользователей групп A1 и B для события MainScreenAppear.\n",
      "p-значение: 0.295.\n",
      "alpha (критический уровень статистической значимости): 0.05.\n",
      "Не получилось отвергнуть нулевую гипотезу, нет оснований считать доли разными.\n",
      "------------------------------\n",
      "Сравниваем доли пользователей групп A1 и B для события OffersScreenAppear.\n",
      "p-значение: 0.2084.\n",
      "alpha (критический уровень статистической значимости): 0.05.\n",
      "Не получилось отвергнуть нулевую гипотезу, нет оснований считать доли разными.\n",
      "------------------------------\n",
      "Сравниваем доли пользователей групп A1 и B для события CartScreenAppear.\n",
      "p-значение: 0.0784.\n",
      "alpha (критический уровень статистической значимости): 0.05.\n",
      "Не получилось отвергнуть нулевую гипотезу, нет оснований считать доли разными.\n",
      "------------------------------\n",
      "Сравниваем доли пользователей групп A1 и B для события PaymentScreenSuccessful.\n",
      "p-значение: 0.2123.\n",
      "alpha (критический уровень статистической значимости): 0.05.\n",
      "Не получилось отвергнуть нулевую гипотезу, нет оснований считать доли разными.\n",
      "------------------------------\n",
      "------------------------------\n",
      "Сравниваем доли пользователей групп A2 и B для события MainScreenAppear.\n",
      "p-значение: 0.4587.\n",
      "alpha (критический уровень статистической значимости): 0.05.\n",
      "Не получилось отвергнуть нулевую гипотезу, нет оснований считать доли разными.\n",
      "------------------------------\n",
      "Сравниваем доли пользователей групп A2 и B для события OffersScreenAppear.\n",
      "p-значение: 0.9198.\n",
      "alpha (критический уровень статистической значимости): 0.05.\n",
      "Не получилось отвергнуть нулевую гипотезу, нет оснований считать доли разными.\n",
      "------------------------------\n",
      "Сравниваем доли пользователей групп A2 и B для события CartScreenAppear.\n",
      "p-значение: 0.5786.\n",
      "alpha (критический уровень статистической значимости): 0.05.\n",
      "Не получилось отвергнуть нулевую гипотезу, нет оснований считать доли разными.\n",
      "------------------------------\n",
      "Сравниваем доли пользователей групп A2 и B для события PaymentScreenSuccessful.\n",
      "p-значение: 0.7373.\n",
      "alpha (критический уровень статистической значимости): 0.05.\n",
      "Не получилось отвергнуть нулевую гипотезу, нет оснований считать доли разными.\n",
      "------------------------------\n",
      "------------------------------\n",
      "Сравниваем доли пользователей групп A2+A1 и B для события MainScreenAppear.\n",
      "p-значение: 0.2942.\n",
      "alpha (критический уровень статистической значимости): 0.05.\n",
      "Не получилось отвергнуть нулевую гипотезу, нет оснований считать доли разными.\n",
      "------------------------------\n",
      "Сравниваем доли пользователей групп A2+A1 и B для события OffersScreenAppear.\n",
      "p-значение: 0.4343.\n",
      "alpha (критический уровень статистической значимости): 0.05.\n",
      "Не получилось отвергнуть нулевую гипотезу, нет оснований считать доли разными.\n",
      "------------------------------\n",
      "Сравниваем доли пользователей групп A2+A1 и B для события CartScreenAppear.\n",
      "p-значение: 0.1818.\n",
      "alpha (критический уровень статистической значимости): 0.05.\n",
      "Не получилось отвергнуть нулевую гипотезу, нет оснований считать доли разными.\n",
      "------------------------------\n",
      "Сравниваем доли пользователей групп A2+A1 и B для события PaymentScreenSuccessful.\n",
      "p-значение: 0.6004.\n",
      "alpha (критический уровень статистической значимости): 0.05.\n",
      "Не получилось отвергнуть нулевую гипотезу, нет оснований считать доли разными.\n"
     ]
    }
   ],
   "source": [
    "for one_group in ['A1', 'A2', 'A2+A1']:\n",
    "    print('-'*30)\n",
    "    for item in groups.columns[:-1]:\n",
    "        diff_share(one_group, 'B', item)"
   ]
  },
  {
   "cell_type": "markdown",
   "id": "61796715",
   "metadata": {},
   "source": [
    "При сравнении экспериментальной группы с контрольными, а также со сборной контрольной группой по всем видам событий статистически значимой разницы не выявлено.\n",
    "\n",
    "По результатам А/А/В теста можно сделать вывод: **при заданном критическом уровне статистической значимости в 5% не обнаружено статистически значимых отличий в контрольной и экспериментальной группах. Доли пользователей для каждого рассматриваемого события между экспериментальной и контрольными группами равны**."
   ]
  },
  {
   "cell_type": "markdown",
   "id": "932cbe21",
   "metadata": {},
   "source": [
    "В ходе эксперимента был проведен множественный тест. Его важная особенность в том, что с каждой новой проверкой гипотезы растёт вероятность ошибки первого рода (ложнопозитивный результат). В итоге выполнено 16 проверок статистических гипотез с принятым критическим уровнем статистической значимости в 5%.\n",
    "\n",
    "Для того, чтобы при множественном тесте снизить вероятность ошибки первого рода, вводят поправку Бонферони, которая учитывает количество проведенных проверок и исходя из этого корректируют критический уровень статистической значимости."
   ]
  },
  {
   "cell_type": "code",
   "execution_count": 37,
   "id": "3ede8b27",
   "metadata": {},
   "outputs": [
    {
     "name": "stdout",
     "output_type": "stream",
     "text": [
      "С учетом поправки Бонферони критический уровень статистической значимости равен 0.0031\n"
     ]
    }
   ],
   "source": [
    "print(f'С учетом поправки Бонферони критический уровень статистической значимости равен {round(.05/16,4)}')"
   ]
  },
  {
   "cell_type": "markdown",
   "id": "e6c03a8a",
   "metadata": {},
   "source": [
    "С учетом введенной поправки alpha становится еще более требовательным для того, чтобы отвергнуть нулевую гипотезу (H0 - разницы между группами нет, доли равны). *Поскольку в нашем А/А/В тесте даже при alpha=0.05 нулевая гипотеза не отвергается, повторно проводить проверку статистических гипотез с откорректированным критическим уровнем статзначимости нецелесообразно. Выводы не изменятся.*"
   ]
  },
  {
   "cell_type": "markdown",
   "id": "95f35ce5",
   "metadata": {},
   "source": [
    "## Общий вывод"
   ]
  },
  {
   "cell_type": "markdown",
   "id": "50b606ab",
   "metadata": {},
   "source": [
    "В ходе данного исследования исследован лог с запиями событий и выяснено как ведут себя пользователи мобильного приложения стартапа, который продаёт продукты питания. \n",
    "\n",
    "Изучена воронка продаж, построена цепочка событий и установлено, сколько пользователей доходит до покупки, а сколько — «застревает» на каждом из предыдущих шагов.\n",
    "\n",
    "Исследованы результаты A/A/B-эксперимента, в котором пользователей разбили на 3 группы: 2 контрольные со старыми шрифтами в приложении и одну экспериментальную — с новыми.\n",
    "\n",
    "В качестве исходных данных предоставлен лог пользователей, в котороза записаны события, уникальные номера пользователей, время собыьтий и принадлежность пользователя той или иной группе. На основании этих данных и будем выполнять исследование.\n",
    "\n",
    "**Подготовка данных**\n",
    "\n",
    "В результате обработки данные подготовлены для работы: названия столбцов приведены к удобочитаемому виду, группам пользователей присвоены имена, добавлены столбцы с датой и временем в стандартном формате, удалены полные дубликаты строк.\n",
    "\n",
    "**Изучение и проверка данных**\n",
    "\n",
    "В логе содержатся следующие виды событий:\n",
    "- `MainScreenAppear` - показ главной страницы\n",
    "- `OffersScreenAppear` - показ экрана с предложениями магазина\n",
    "- `CartScreenAppear` - показ страницы корзины\n",
    "- `PaymentScreenSuccessful` - показ экрана успешной оплаты\n",
    "- `Tutorial` - показ экрана с обучением.\n",
    "\n",
    "Для 99% пользователей количество событий за исследуемый период не превышает 200 на одного пользователя. В логе есть очень активные пользователи, для которых за исследуемый период зафиксировано более 200 (до 2300) событий. В среднем по датасету приходится 32 события на одного пользователя.\n",
    "\n",
    "В исходном логе данные предоставлены за период с 2019-07-25 по 2019-08-07. Для анализа данные отфильтрованы и взяты логи событий за период с 2019-08-01 по 2019-08-07.\n",
    " \n",
    "В результате фильтрации утрачены данные по 17 пользователям (0.23% от общего количества) и по 2826 событиям (1.16%). В отфильтрованном датафрейме имеются пользователи из всех трех групп (около 2500 пользователей в каждой). Наибольшая разница между группами (А1 и В) составляет 0.7%, что является допустимым.\n",
    "\n",
    "**Изучение воронки событий**\n",
    "\n",
    "В ходе исследования установлена последовательность событий для пользователя, которая выглядит следующим образом:\n",
    "1. Показ главной страницы `MainScreenAppear` (98% пользователей)\n",
    "2. Показ экрана с предложениями магазина `OffersScreenAppear` (61% пользователей)\n",
    "3. Показ страницы корзины `CartScreenAppear` (50% пользователей)\n",
    "4. Показ экрана успешной оплаты `PaymentScreenSuccessful` (47% пользователей)\n",
    "\n",
    "Обучение `Tutorial` в целях изучения воронки событий не рассматривается, т.к. может быть пропущено на начальном этапе.\n",
    "\n",
    "Воронка событий демонстрирует следующее: наибольшее количество пользователей (38%) теряется на шаге перехода с главного экрана на экран с предложениями продуктов магазина. 81% пользователей, просмотревших товары магазина, заходят в раздел \"Корзина\". И 95% пользователей, просмотревших корзину, совершают оплату. От события *показ главной страницы `MainScreenAppear`* до события *показ экрана успешной оплаты `PaymentScreenSuccessful`* доходит 48% пользователей.\n",
    "\n",
    "**Изучение результатов эксперимента**\n",
    "\n",
    "Разбиение пользователей на группы выполнено корректно. При сравнении контрольных групп между собой статистически значимой разницы не выявлено.\n",
    "\n",
    "При сравнении экспериментальной группы с контрольными, а также со сборной контрольной группой по всем видам событий статистически значимой разницы не выявлено.\n",
    "\n",
    "По результатам А/А/В теста можно сделать вывод: **при заданном критическом уровне статистической значимости в 5% не обнаружено статистически значимых отличий в контрольной и экспериментальной группах. Доли пользователей для каждого рассматриваемого события между экспериментальной и контрольными группами равны**.\n",
    "\n",
    "**На основании проведенного теста можно утверждать, что изменение дизайнерами шрифтов в приложении не повлияет на поведение пользователей.**"
   ]
  }
 ],
 "metadata": {
  "ExecuteTimeLog": [
   {
    "duration": 1168,
    "start_time": "2023-04-02T22:46:34.071Z"
   },
   {
    "duration": 93,
    "start_time": "2023-04-02T22:46:35.241Z"
   },
   {
    "duration": 44,
    "start_time": "2023-04-02T22:46:35.336Z"
   },
   {
    "duration": 6,
    "start_time": "2023-04-02T22:46:35.383Z"
   },
   {
    "duration": 33,
    "start_time": "2023-04-02T22:46:35.390Z"
   },
   {
    "duration": 5,
    "start_time": "2023-04-02T22:46:35.425Z"
   },
   {
    "duration": 15,
    "start_time": "2023-04-02T22:46:35.432Z"
   },
   {
    "duration": 13,
    "start_time": "2023-04-02T22:46:35.449Z"
   },
   {
    "duration": 7,
    "start_time": "2023-04-02T22:46:35.464Z"
   },
   {
    "duration": 9,
    "start_time": "2023-04-02T22:46:35.475Z"
   },
   {
    "duration": 43,
    "start_time": "2023-04-02T22:46:35.487Z"
   },
   {
    "duration": 32,
    "start_time": "2023-04-02T22:46:35.532Z"
   },
   {
    "duration": 10,
    "start_time": "2023-04-02T22:46:35.566Z"
   },
   {
    "duration": 24,
    "start_time": "2023-04-02T22:46:35.579Z"
   },
   {
    "duration": 22,
    "start_time": "2023-04-02T22:46:35.605Z"
   },
   {
    "duration": 15,
    "start_time": "2023-04-02T22:46:35.629Z"
   },
   {
    "duration": 22,
    "start_time": "2023-04-02T22:46:35.647Z"
   },
   {
    "duration": 6,
    "start_time": "2023-04-02T22:46:35.671Z"
   },
   {
    "duration": 256,
    "start_time": "2023-04-02T22:46:35.679Z"
   },
   {
    "duration": 310,
    "start_time": "2023-04-02T22:46:35.936Z"
   },
   {
    "duration": 225,
    "start_time": "2023-04-02T22:46:36.248Z"
   },
   {
    "duration": 319,
    "start_time": "2023-04-02T22:46:36.476Z"
   },
   {
    "duration": 242,
    "start_time": "2023-04-02T22:46:36.797Z"
   },
   {
    "duration": 321,
    "start_time": "2023-04-02T22:46:37.041Z"
   },
   {
    "duration": 119,
    "start_time": "2023-04-02T22:46:37.364Z"
   },
   {
    "duration": 177,
    "start_time": "2023-04-02T22:46:37.485Z"
   },
   {
    "duration": 5,
    "start_time": "2023-04-02T22:46:37.664Z"
   },
   {
    "duration": 182,
    "start_time": "2023-04-02T22:46:37.674Z"
   },
   {
    "duration": 265,
    "start_time": "2023-04-02T22:46:37.858Z"
   },
   {
    "duration": 6,
    "start_time": "2023-04-02T22:46:38.125Z"
   },
   {
    "duration": 19,
    "start_time": "2023-04-02T22:46:38.132Z"
   },
   {
    "duration": 30,
    "start_time": "2023-04-02T22:46:38.153Z"
   },
   {
    "duration": 42,
    "start_time": "2023-04-02T22:46:38.185Z"
   },
   {
    "duration": 9,
    "start_time": "2023-04-02T22:46:38.229Z"
   },
   {
    "duration": 5,
    "start_time": "2023-04-02T22:46:38.240Z"
   },
   {
    "duration": 28,
    "start_time": "2023-04-02T22:46:38.246Z"
   },
   {
    "duration": 48,
    "start_time": "2023-04-02T22:46:38.276Z"
   },
   {
    "duration": 239,
    "start_time": "2023-04-02T22:46:38.326Z"
   },
   {
    "duration": 312,
    "start_time": "2023-04-02T22:46:38.567Z"
   },
   {
    "duration": 1115,
    "start_time": "2023-04-12T21:58:23.694Z"
   },
   {
    "duration": 169,
    "start_time": "2023-04-12T21:58:24.811Z"
   },
   {
    "duration": 23,
    "start_time": "2023-04-12T21:58:24.982Z"
   },
   {
    "duration": 107,
    "start_time": "2023-04-12T21:58:25.007Z"
   },
   {
    "duration": 11,
    "start_time": "2023-04-12T21:58:25.116Z"
   },
   {
    "duration": 29,
    "start_time": "2023-04-12T21:58:25.129Z"
   },
   {
    "duration": 14,
    "start_time": "2023-04-12T21:58:25.159Z"
   },
   {
    "duration": 126,
    "start_time": "2023-04-12T21:58:25.174Z"
   },
   {
    "duration": 101,
    "start_time": "2023-04-12T21:58:25.301Z"
   },
   {
    "duration": 97,
    "start_time": "2023-04-12T21:58:25.405Z"
   },
   {
    "duration": 41,
    "start_time": "2023-04-12T21:58:25.503Z"
   },
   {
    "duration": 3,
    "start_time": "2023-04-12T21:58:25.546Z"
   },
   {
    "duration": 30,
    "start_time": "2023-04-12T21:58:25.551Z"
   },
   {
    "duration": 36,
    "start_time": "2023-04-12T21:58:25.583Z"
   },
   {
    "duration": 8,
    "start_time": "2023-04-12T21:58:25.620Z"
   },
   {
    "duration": 24,
    "start_time": "2023-04-12T21:58:25.629Z"
   },
   {
    "duration": 392,
    "start_time": "2023-04-12T21:58:25.654Z"
   },
   {
    "duration": 4,
    "start_time": "2023-04-12T21:58:26.048Z"
   },
   {
    "duration": 44,
    "start_time": "2023-04-12T21:58:26.053Z"
   },
   {
    "duration": 13,
    "start_time": "2023-04-12T21:58:26.098Z"
   },
   {
    "duration": 1072,
    "start_time": "2023-04-12T21:58:26.112Z"
   },
   {
    "duration": 11,
    "start_time": "2023-04-12T21:58:27.185Z"
   },
   {
    "duration": 31,
    "start_time": "2023-04-12T21:58:27.197Z"
   },
   {
    "duration": 14,
    "start_time": "2023-04-12T21:58:27.232Z"
   },
   {
    "duration": 38,
    "start_time": "2023-04-12T21:58:27.248Z"
   },
   {
    "duration": 64,
    "start_time": "2023-04-12T21:58:27.287Z"
   },
   {
    "duration": 200,
    "start_time": "2023-04-12T21:58:27.353Z"
   },
   {
    "duration": 211,
    "start_time": "2023-04-12T21:58:27.555Z"
   },
   {
    "duration": 14,
    "start_time": "2023-04-12T21:58:27.768Z"
   },
   {
    "duration": 324,
    "start_time": "2023-04-12T21:58:27.783Z"
   },
   {
    "duration": 7,
    "start_time": "2023-04-12T21:58:28.108Z"
   },
   {
    "duration": 193,
    "start_time": "2023-04-12T21:58:28.116Z"
   },
   {
    "duration": 5,
    "start_time": "2023-04-12T21:58:28.310Z"
   },
   {
    "duration": 13,
    "start_time": "2023-04-12T21:58:28.316Z"
   },
   {
    "duration": 11,
    "start_time": "2023-04-12T21:58:28.331Z"
   },
   {
    "duration": 41,
    "start_time": "2023-04-12T21:58:28.343Z"
   },
   {
    "duration": 4,
    "start_time": "2023-04-12T21:58:28.386Z"
   }
  ],
  "kernelspec": {
   "display_name": "Python 3 (ipykernel)",
   "language": "python",
   "name": "python3"
  },
  "language_info": {
   "codemirror_mode": {
    "name": "ipython",
    "version": 3
   },
   "file_extension": ".py",
   "mimetype": "text/x-python",
   "name": "python",
   "nbconvert_exporter": "python",
   "pygments_lexer": "ipython3",
   "version": "3.9.12"
  },
  "toc": {
   "base_numbering": 1,
   "nav_menu": {},
   "number_sections": true,
   "sideBar": true,
   "skip_h1_title": true,
   "title_cell": "Table of Contents",
   "title_sidebar": "Contents",
   "toc_cell": false,
   "toc_position": {
    "height": "calc(100% - 180px)",
    "left": "10px",
    "top": "150px",
    "width": "384px"
   },
   "toc_section_display": true,
   "toc_window_display": true
  }
 },
 "nbformat": 4,
 "nbformat_minor": 5
}
