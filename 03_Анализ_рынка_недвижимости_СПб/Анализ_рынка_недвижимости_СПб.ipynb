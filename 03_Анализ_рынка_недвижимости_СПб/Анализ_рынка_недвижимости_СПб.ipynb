{
 "cells": [
  {
   "cell_type": "markdown",
   "metadata": {},
   "source": [
    "# Исследование объявлений о продаже квартир"
   ]
  },
  {
   "cell_type": "markdown",
   "metadata": {},
   "source": [
    "В нашем распоряжении данные сервиса Яндекс.Недвижимость — архив объявлений о продаже квартир в Санкт-Петербурге и соседних населённых пунктов за несколько лет. Нужно научиться определять рыночную стоимость объектов недвижимости. Ваша задача — установить параметры. Это позволит построить автоматизированную систему: она отследит аномалии и мошенническую деятельность. \n",
    "\n",
    "По каждой квартире на продажу доступны два вида данных. Первые вписаны пользователем, вторые — получены автоматически на основе картографических данных. Например, расстояние до центра, аэропорта, ближайшего парка и водоёма."
   ]
  },
  {
   "cell_type": "markdown",
   "metadata": {},
   "source": [
    "## Изучение общей информации. "
   ]
  },
  {
   "cell_type": "markdown",
   "metadata": {},
   "source": [
    "Откроем файл с данными для выполнения анализа и изучим общую информацию."
   ]
  },
  {
   "cell_type": "markdown",
   "metadata": {},
   "source": [
    "Для работы с датасетом импортируем библиотеку `pandas`, модуль pyplot из библиотеки `matplotlib` и загрузим сам датасет `real_estate_data.csv` в переменную `data`. Для удобства просмотра установим параметры для отображения всех столбцов датафрейма."
   ]
  },
  {
   "cell_type": "code",
   "execution_count": 1,
   "metadata": {},
   "outputs": [],
   "source": [
    "import pandas as pd\n",
    "from matplotlib import pyplot as plt\n",
    "pd.set_option('display.max_columns', None)\n",
    "# включим отображение всех столбцов датафрейма при выводе на экран"
   ]
  },
  {
   "cell_type": "code",
   "execution_count": 2,
   "metadata": {},
   "outputs": [],
   "source": [
    "try:\n",
    "    data = pd.read_csv('/datasets/real_estate_data.csv', sep='\\t')\n",
    "except:\n",
    "    data = pd.read_csv('https://code.s3.yandex.net/datasets/real_estate_data.csv', sep='\\t')\n",
    "# если файл с данными отсутствует на устройстве, он будет подгружен по указанной ссылке"
   ]
  },
  {
   "cell_type": "markdown",
   "metadata": {},
   "source": [
    "Отобразим первые 5 строк датасета."
   ]
  },
  {
   "cell_type": "code",
   "execution_count": 3,
   "metadata": {
    "scrolled": true
   },
   "outputs": [
    {
     "data": {
      "text/html": [
       "<div>\n",
       "<style scoped>\n",
       "    .dataframe tbody tr th:only-of-type {\n",
       "        vertical-align: middle;\n",
       "    }\n",
       "\n",
       "    .dataframe tbody tr th {\n",
       "        vertical-align: top;\n",
       "    }\n",
       "\n",
       "    .dataframe thead th {\n",
       "        text-align: right;\n",
       "    }\n",
       "</style>\n",
       "<table border=\"1\" class=\"dataframe\">\n",
       "  <thead>\n",
       "    <tr style=\"text-align: right;\">\n",
       "      <th></th>\n",
       "      <th>total_images</th>\n",
       "      <th>last_price</th>\n",
       "      <th>total_area</th>\n",
       "      <th>first_day_exposition</th>\n",
       "      <th>rooms</th>\n",
       "      <th>ceiling_height</th>\n",
       "      <th>floors_total</th>\n",
       "      <th>living_area</th>\n",
       "      <th>floor</th>\n",
       "      <th>is_apartment</th>\n",
       "      <th>studio</th>\n",
       "      <th>open_plan</th>\n",
       "      <th>kitchen_area</th>\n",
       "      <th>balcony</th>\n",
       "      <th>locality_name</th>\n",
       "      <th>airports_nearest</th>\n",
       "      <th>cityCenters_nearest</th>\n",
       "      <th>parks_around3000</th>\n",
       "      <th>parks_nearest</th>\n",
       "      <th>ponds_around3000</th>\n",
       "      <th>ponds_nearest</th>\n",
       "      <th>days_exposition</th>\n",
       "    </tr>\n",
       "  </thead>\n",
       "  <tbody>\n",
       "    <tr>\n",
       "      <th>0</th>\n",
       "      <td>20</td>\n",
       "      <td>13000000.0</td>\n",
       "      <td>108.0</td>\n",
       "      <td>2019-03-07T00:00:00</td>\n",
       "      <td>3</td>\n",
       "      <td>2.70</td>\n",
       "      <td>16.0</td>\n",
       "      <td>51.0</td>\n",
       "      <td>8</td>\n",
       "      <td>NaN</td>\n",
       "      <td>False</td>\n",
       "      <td>False</td>\n",
       "      <td>25.0</td>\n",
       "      <td>NaN</td>\n",
       "      <td>Санкт-Петербург</td>\n",
       "      <td>18863.0</td>\n",
       "      <td>16028.0</td>\n",
       "      <td>1.0</td>\n",
       "      <td>482.0</td>\n",
       "      <td>2.0</td>\n",
       "      <td>755.0</td>\n",
       "      <td>NaN</td>\n",
       "    </tr>\n",
       "    <tr>\n",
       "      <th>1</th>\n",
       "      <td>7</td>\n",
       "      <td>3350000.0</td>\n",
       "      <td>40.4</td>\n",
       "      <td>2018-12-04T00:00:00</td>\n",
       "      <td>1</td>\n",
       "      <td>NaN</td>\n",
       "      <td>11.0</td>\n",
       "      <td>18.6</td>\n",
       "      <td>1</td>\n",
       "      <td>NaN</td>\n",
       "      <td>False</td>\n",
       "      <td>False</td>\n",
       "      <td>11.0</td>\n",
       "      <td>2.0</td>\n",
       "      <td>посёлок Шушары</td>\n",
       "      <td>12817.0</td>\n",
       "      <td>18603.0</td>\n",
       "      <td>0.0</td>\n",
       "      <td>NaN</td>\n",
       "      <td>0.0</td>\n",
       "      <td>NaN</td>\n",
       "      <td>81.0</td>\n",
       "    </tr>\n",
       "    <tr>\n",
       "      <th>2</th>\n",
       "      <td>10</td>\n",
       "      <td>5196000.0</td>\n",
       "      <td>56.0</td>\n",
       "      <td>2015-08-20T00:00:00</td>\n",
       "      <td>2</td>\n",
       "      <td>NaN</td>\n",
       "      <td>5.0</td>\n",
       "      <td>34.3</td>\n",
       "      <td>4</td>\n",
       "      <td>NaN</td>\n",
       "      <td>False</td>\n",
       "      <td>False</td>\n",
       "      <td>8.3</td>\n",
       "      <td>0.0</td>\n",
       "      <td>Санкт-Петербург</td>\n",
       "      <td>21741.0</td>\n",
       "      <td>13933.0</td>\n",
       "      <td>1.0</td>\n",
       "      <td>90.0</td>\n",
       "      <td>2.0</td>\n",
       "      <td>574.0</td>\n",
       "      <td>558.0</td>\n",
       "    </tr>\n",
       "    <tr>\n",
       "      <th>3</th>\n",
       "      <td>0</td>\n",
       "      <td>64900000.0</td>\n",
       "      <td>159.0</td>\n",
       "      <td>2015-07-24T00:00:00</td>\n",
       "      <td>3</td>\n",
       "      <td>NaN</td>\n",
       "      <td>14.0</td>\n",
       "      <td>NaN</td>\n",
       "      <td>9</td>\n",
       "      <td>NaN</td>\n",
       "      <td>False</td>\n",
       "      <td>False</td>\n",
       "      <td>NaN</td>\n",
       "      <td>0.0</td>\n",
       "      <td>Санкт-Петербург</td>\n",
       "      <td>28098.0</td>\n",
       "      <td>6800.0</td>\n",
       "      <td>2.0</td>\n",
       "      <td>84.0</td>\n",
       "      <td>3.0</td>\n",
       "      <td>234.0</td>\n",
       "      <td>424.0</td>\n",
       "    </tr>\n",
       "    <tr>\n",
       "      <th>4</th>\n",
       "      <td>2</td>\n",
       "      <td>10000000.0</td>\n",
       "      <td>100.0</td>\n",
       "      <td>2018-06-19T00:00:00</td>\n",
       "      <td>2</td>\n",
       "      <td>3.03</td>\n",
       "      <td>14.0</td>\n",
       "      <td>32.0</td>\n",
       "      <td>13</td>\n",
       "      <td>NaN</td>\n",
       "      <td>False</td>\n",
       "      <td>False</td>\n",
       "      <td>41.0</td>\n",
       "      <td>NaN</td>\n",
       "      <td>Санкт-Петербург</td>\n",
       "      <td>31856.0</td>\n",
       "      <td>8098.0</td>\n",
       "      <td>2.0</td>\n",
       "      <td>112.0</td>\n",
       "      <td>1.0</td>\n",
       "      <td>48.0</td>\n",
       "      <td>121.0</td>\n",
       "    </tr>\n",
       "  </tbody>\n",
       "</table>\n",
       "</div>"
      ],
      "text/plain": [
       "   total_images  last_price  total_area first_day_exposition  rooms  \\\n",
       "0            20  13000000.0       108.0  2019-03-07T00:00:00      3   \n",
       "1             7   3350000.0        40.4  2018-12-04T00:00:00      1   \n",
       "2            10   5196000.0        56.0  2015-08-20T00:00:00      2   \n",
       "3             0  64900000.0       159.0  2015-07-24T00:00:00      3   \n",
       "4             2  10000000.0       100.0  2018-06-19T00:00:00      2   \n",
       "\n",
       "   ceiling_height  floors_total  living_area  floor is_apartment  studio  \\\n",
       "0            2.70          16.0         51.0      8          NaN   False   \n",
       "1             NaN          11.0         18.6      1          NaN   False   \n",
       "2             NaN           5.0         34.3      4          NaN   False   \n",
       "3             NaN          14.0          NaN      9          NaN   False   \n",
       "4            3.03          14.0         32.0     13          NaN   False   \n",
       "\n",
       "   open_plan  kitchen_area  balcony    locality_name  airports_nearest  \\\n",
       "0      False          25.0      NaN  Санкт-Петербург           18863.0   \n",
       "1      False          11.0      2.0   посёлок Шушары           12817.0   \n",
       "2      False           8.3      0.0  Санкт-Петербург           21741.0   \n",
       "3      False           NaN      0.0  Санкт-Петербург           28098.0   \n",
       "4      False          41.0      NaN  Санкт-Петербург           31856.0   \n",
       "\n",
       "   cityCenters_nearest  parks_around3000  parks_nearest  ponds_around3000  \\\n",
       "0              16028.0               1.0          482.0               2.0   \n",
       "1              18603.0               0.0            NaN               0.0   \n",
       "2              13933.0               1.0           90.0               2.0   \n",
       "3               6800.0               2.0           84.0               3.0   \n",
       "4               8098.0               2.0          112.0               1.0   \n",
       "\n",
       "   ponds_nearest  days_exposition  \n",
       "0          755.0              NaN  \n",
       "1            NaN             81.0  \n",
       "2          574.0            558.0  \n",
       "3          234.0            424.0  \n",
       "4           48.0            121.0  "
      ]
     },
     "execution_count": 3,
     "metadata": {},
     "output_type": "execute_result"
    }
   ],
   "source": [
    "data.head()"
   ]
  },
  {
   "cell_type": "markdown",
   "metadata": {},
   "source": [
    "**Описание данных**\\\n",
    "`airports_nearest` — расстояние до ближайшего аэропорта в метрах (м)\\\n",
    "`balcony` — число балконов\\\n",
    "`ceiling_height` — высота потолков (м)\\\n",
    "`cityCenters_nearest` — расстояние до центра города (м)\\\n",
    "`days_exposition` — сколько дней было размещено объявление (от публикации до снятия)\\\n",
    "`first_day_exposition` — дата публикации\\\n",
    "`floor` — этаж\\\n",
    "`floors_total` — всего этажей в доме\\\n",
    "`is_apartment` — апартаменты (булев тип)\\\n",
    "`kitchen_area` — площадь кухни в квадратных метрах (м²)\\\n",
    "`last_price` — цена на момент снятия с публикации\\\n",
    "`living_area` — жилая площадь в квадратных метрах (м²)\\\n",
    "`locality_name` — название населённого пункта\\\n",
    "`open_plan` — свободная планировка (булев тип)\\\n",
    "`parks_around3000` — число парков в радиусе 3 км\\\n",
    "`parks_nearest` — расстояние до ближайшего парка (м)\\\n",
    "`ponds_around3000` — число водоёмов в радиусе 3 км\\\n",
    "`ponds_nearest` — расстояние до ближайшего водоёма (м)\\\n",
    "`rooms` — число комнат\\\n",
    "`studio` — квартира-студия (булев тип)\\\n",
    "`total_area` — общая площадь квартиры в квадратных метрах (м²)\\\n",
    "`total_images` — число фотографий квартиры в объявлении"
   ]
  },
  {
   "cell_type": "markdown",
   "metadata": {},
   "source": [
    "Определим за какой период представлены объявления в датасете. Для этого выведем на экран и отсортируем значения столбца `first_day_exposition`"
   ]
  },
  {
   "cell_type": "code",
   "execution_count": 4,
   "metadata": {},
   "outputs": [
    {
     "data": {
      "text/plain": [
       "10132    2014-11-27T00:00:00\n",
       "8393     2014-11-27T00:00:00\n",
       "15857    2014-11-27T00:00:00\n",
       "2831     2014-11-27T00:00:00\n",
       "696      2014-11-27T00:00:00\n",
       "                ...         \n",
       "10917    2019-05-03T00:00:00\n",
       "5986     2019-05-03T00:00:00\n",
       "9217     2019-05-03T00:00:00\n",
       "21887    2019-05-03T00:00:00\n",
       "15072    2019-05-03T00:00:00\n",
       "Name: first_day_exposition, Length: 23699, dtype: object"
      ]
     },
     "execution_count": 4,
     "metadata": {},
     "output_type": "execute_result"
    }
   ],
   "source": [
    "data['first_day_exposition'].sort_values()"
   ]
  },
  {
   "cell_type": "markdown",
   "metadata": {},
   "source": [
    "В датасете содержатся объявления за период с 27 ноября 2014 года по 3 мая 2019 года."
   ]
  },
  {
   "cell_type": "markdown",
   "metadata": {},
   "source": [
    "Выведем общую информацию о датасете."
   ]
  },
  {
   "cell_type": "code",
   "execution_count": 5,
   "metadata": {},
   "outputs": [
    {
     "name": "stdout",
     "output_type": "stream",
     "text": [
      "<class 'pandas.core.frame.DataFrame'>\n",
      "RangeIndex: 23699 entries, 0 to 23698\n",
      "Data columns (total 22 columns):\n",
      " #   Column                Non-Null Count  Dtype  \n",
      "---  ------                --------------  -----  \n",
      " 0   total_images          23699 non-null  int64  \n",
      " 1   last_price            23699 non-null  float64\n",
      " 2   total_area            23699 non-null  float64\n",
      " 3   first_day_exposition  23699 non-null  object \n",
      " 4   rooms                 23699 non-null  int64  \n",
      " 5   ceiling_height        14504 non-null  float64\n",
      " 6   floors_total          23613 non-null  float64\n",
      " 7   living_area           21796 non-null  float64\n",
      " 8   floor                 23699 non-null  int64  \n",
      " 9   is_apartment          2775 non-null   object \n",
      " 10  studio                23699 non-null  bool   \n",
      " 11  open_plan             23699 non-null  bool   \n",
      " 12  kitchen_area          21421 non-null  float64\n",
      " 13  balcony               12180 non-null  float64\n",
      " 14  locality_name         23650 non-null  object \n",
      " 15  airports_nearest      18157 non-null  float64\n",
      " 16  cityCenters_nearest   18180 non-null  float64\n",
      " 17  parks_around3000      18181 non-null  float64\n",
      " 18  parks_nearest         8079 non-null   float64\n",
      " 19  ponds_around3000      18181 non-null  float64\n",
      " 20  ponds_nearest         9110 non-null   float64\n",
      " 21  days_exposition       20518 non-null  float64\n",
      "dtypes: bool(2), float64(14), int64(3), object(3)\n",
      "memory usage: 3.7+ MB\n"
     ]
    }
   ],
   "source": [
    "data.info()"
   ]
  },
  {
   "cell_type": "markdown",
   "metadata": {},
   "source": [
    "Отметим, что в данных имеется множество пропущенных значений. Также при обработке данных некоторые столбцы нужно будет привести к другому типу данных. "
   ]
  },
  {
   "cell_type": "markdown",
   "metadata": {},
   "source": [
    "Построим общую гистораммы всех числовых значений датафрейма для предварительной оценки характера распределения значений."
   ]
  },
  {
   "cell_type": "code",
   "execution_count": 6,
   "metadata": {
    "scrolled": false
   },
   "outputs": [
    {
     "data": {
      "image/png": "[encoded data removed]",
      "text/plain": [
       "<Figure size 1080x1440 with 20 Axes>"
      ]
     },
     "metadata": {
      "needs_background": "light"
     },
     "output_type": "display_data"
    }
   ],
   "source": [
    "data.hist(figsize=(15, 20))\n",
    "plt.show()"
   ]
  },
  {
   "cell_type": "markdown",
   "metadata": {},
   "source": [
    "**Вывод:** в результате ознакомления с предоставленными данными установлено следующее:\n",
    "- в архиве содержатся объявления за период с 27 ноября 2014 года по 3 мая 2019 года\n",
    "- имеется множество пропусков в данных\n",
    "- тип данных столбца `first_day_exposition` может затруднить дальнейшую обработку данных.\\\n",
    "\n",
    "Для проведения анализа целесообразно по-возможности заполнить пропуски в данных, а также привести тип данных столбца `first_day_exposition` к более удобному для вычислений."
   ]
  },
  {
   "cell_type": "markdown",
   "metadata": {},
   "source": [
    "## Предобработка данных"
   ]
  },
  {
   "cell_type": "markdown",
   "metadata": {},
   "source": [
    "Для выполнения анализа необходимо обработать полученные данные: по-возможности заполнить пропущенные значения, привести типы данных колонок в соответствие с содержащимися в них данными, проверить данные на наличие дубликатов и устранить их, найти и устранить редкие и выбивающиеся значения в данных."
   ]
  },
  {
   "cell_type": "markdown",
   "metadata": {},
   "source": [
    "Перед обработкой данных запишем количество строк в необработанном датафрейме в переменную `old_data_size` для того, чтобы после обработки вычислить процент потерянных данных."
   ]
  },
  {
   "cell_type": "code",
   "execution_count": 7,
   "metadata": {},
   "outputs": [],
   "source": [
    "old_data_size = data.shape[0]"
   ]
  },
  {
   "cell_type": "markdown",
   "metadata": {},
   "source": [
    "Приведем наименования столбцов `cityCenters_nearest`, `parks_around3000` и `ponds_around3000` к корректному виду."
   ]
  },
  {
   "cell_type": "code",
   "execution_count": 8,
   "metadata": {},
   "outputs": [],
   "source": [
    "data = data.rename(columns={'cityCenters_nearest': 'city_centers_nearest', \\\n",
    "                     'parks_around3000': 'parks_around_3000', \\\n",
    "                    'ponds_around3000': 'ponds_around_3000'})"
   ]
  },
  {
   "cell_type": "markdown",
   "metadata": {},
   "source": [
    "Проверим, указана ли площадь кухни для квартир типа \"студия\"."
   ]
  },
  {
   "cell_type": "code",
   "execution_count": 9,
   "metadata": {
    "scrolled": true
   },
   "outputs": [
    {
     "data": {
      "text/plain": [
       "array([nan])"
      ]
     },
     "execution_count": 9,
     "metadata": {},
     "output_type": "execute_result"
    }
   ],
   "source": [
    "data[data['studio']]['kitchen_area'].unique()"
   ]
  },
  {
   "cell_type": "markdown",
   "metadata": {},
   "source": [
    "Отметим, что для квартир-студий не указывается площадь кухни."
   ]
  },
  {
   "cell_type": "markdown",
   "metadata": {},
   "source": [
    "Заменим пропуски в столбце `is_apartment` значениями `False`, исходя из предположения о том, что данные в этом столбце не заполнялись пользователем, если объект недвижимости не является апартаментами."
   ]
  },
  {
   "cell_type": "code",
   "execution_count": 10,
   "metadata": {},
   "outputs": [],
   "source": [
    "data['is_apartment'].fillna(False, inplace=True)"
   ]
  },
  {
   "cell_type": "markdown",
   "metadata": {},
   "source": [
    "По тому же принципу заполним пропуски в столбце `balcony`, `ponds_around_3000` и `parks_around_3000`. Если не указывалось количество - значит балконы, водоемы или парки отсутствуют."
   ]
  },
  {
   "cell_type": "code",
   "execution_count": 11,
   "metadata": {},
   "outputs": [],
   "source": [
    "data['balcony'].fillna(0, inplace=True)\n",
    "data['ponds_around_3000'].fillna(0, inplace=True)\n",
    "data['parks_around_3000'].fillna(0, inplace=True)"
   ]
  },
  {
   "cell_type": "markdown",
   "metadata": {},
   "source": [
    "Пропуски в столбце `ceiling_height` заполинм медианным значением высоты потолков (2.65 м)."
   ]
  },
  {
   "cell_type": "code",
   "execution_count": 12,
   "metadata": {},
   "outputs": [],
   "source": [
    "data['ceiling_height'] = data['ceiling_height'].fillna(data['ceiling_height'].median())"
   ]
  },
  {
   "cell_type": "markdown",
   "metadata": {},
   "source": [
    "После всех преобразований выведем ещё раз информацию о датафрейме."
   ]
  },
  {
   "cell_type": "code",
   "execution_count": 13,
   "metadata": {},
   "outputs": [
    {
     "name": "stdout",
     "output_type": "stream",
     "text": [
      "<class 'pandas.core.frame.DataFrame'>\n",
      "RangeIndex: 23699 entries, 0 to 23698\n",
      "Data columns (total 22 columns):\n",
      " #   Column                Non-Null Count  Dtype  \n",
      "---  ------                --------------  -----  \n",
      " 0   total_images          23699 non-null  int64  \n",
      " 1   last_price            23699 non-null  float64\n",
      " 2   total_area            23699 non-null  float64\n",
      " 3   first_day_exposition  23699 non-null  object \n",
      " 4   rooms                 23699 non-null  int64  \n",
      " 5   ceiling_height        23699 non-null  float64\n",
      " 6   floors_total          23613 non-null  float64\n",
      " 7   living_area           21796 non-null  float64\n",
      " 8   floor                 23699 non-null  int64  \n",
      " 9   is_apartment          23699 non-null  bool   \n",
      " 10  studio                23699 non-null  bool   \n",
      " 11  open_plan             23699 non-null  bool   \n",
      " 12  kitchen_area          21421 non-null  float64\n",
      " 13  balcony               23699 non-null  float64\n",
      " 14  locality_name         23650 non-null  object \n",
      " 15  airports_nearest      18157 non-null  float64\n",
      " 16  city_centers_nearest  18180 non-null  float64\n",
      " 17  parks_around_3000     23699 non-null  float64\n",
      " 18  parks_nearest         8079 non-null   float64\n",
      " 19  ponds_around_3000     23699 non-null  float64\n",
      " 20  ponds_nearest         9110 non-null   float64\n",
      " 21  days_exposition       20518 non-null  float64\n",
      "dtypes: bool(3), float64(14), int64(3), object(2)\n",
      "memory usage: 3.5+ MB\n"
     ]
    }
   ],
   "source": [
    "data.info()"
   ]
  },
  {
   "cell_type": "markdown",
   "metadata": {},
   "source": [
    "<div style=\"background: #B0E0E6; padding: 5px; border: 1px solid SteelBlue; border-radius: 5px;\">\n",
    "    <font color='4682B4'><u><b>КОММЕНТАРИЙ К ОБРАБОТКЕ ПРОПУСКОВ</b></u></font>\n",
    "    <br /><br />\n",
    "    <font color='4682B4'>Пропуски в столбцах is_apartment, balcony, ponds_around_3000 и parks_around_3000 обусловлены тем, что при заполнении данных, если объект не является аппатаментами, если балконы, парки и водоемы поблизости отсутствуют, поле с указанным критерием пользователи оставляли пустым.\n",
    "    <br /><br />\n",
    "    Т.к. в датафрейме основная часть данных по высоте потолков представлена небольшим диапазоном значений, пропуски в столбце ceiling_height заполним медианным значением высоты потолков. \n",
    "    <br /><br />\n",
    "    Данные в floors_total, ceiling_height, living_area, kitchen_area, locality_name также не были заполнены пользователем. В датафрейме отсутствует информация, на основании которой можно заполнить пропуски в указанных колонках. В столбце kitchen_area для всех квартир-студий не указана площадь кухни, т.к. кухня не является отдельным помещением. \n",
    "    <br /><br />\n",
    "    Пропуски в столбцах city_centers_nearest, airports_nearest, park_nearest, ponds_nearest появились в результате автоматической обработки данных. park_nearest, ponds_nearest имеют пропуски по причине отсутствия парков или водоемов поблизости с объектом (столбцы parks_around_3000 и ponds_around_3000 имеют значение 0). city_centers_nearest, airports_nearest содержат пропуски либо из-за того, что аэропорт или центр города находится слишком далеко от объекта, либо из-за отсутствия картографических данных по некоторым объектам.\n",
    "    <br /><br />\n",
    "    В столбце days_exposition, вероятно, пропуски имеются по причине того, что объявление о продаже на момент выгрузки данных еще не было снято.\n",
    "    </font>\n",
    "</div>"
   ]
  },
  {
   "cell_type": "markdown",
   "metadata": {},
   "source": [
    "Приведем столбец с указанием даты размещения объявления `first_day_exposition` к типу `datetime`."
   ]
  },
  {
   "cell_type": "code",
   "execution_count": 14,
   "metadata": {},
   "outputs": [],
   "source": [
    "data['first_day_exposition'] = pd.to_datetime(data['first_day_exposition'], \\\n",
    "                                              format='%Y-%m-%dT%H:%M:%S')"
   ]
  },
  {
   "cell_type": "markdown",
   "metadata": {},
   "source": [
    "Приведем значения столбцов `balcony`, `parks_around_3000`, `ponds_around_3000` к целочисленному виду, т.к. данные в них подразумевают под собой только целое число. Значения столбцов `days_exposition` и `floors_total` оставим типа float, т.к. в них имеются пропущенные значения и привести их к типу int не представляется возможным."
   ]
  },
  {
   "cell_type": "code",
   "execution_count": 15,
   "metadata": {},
   "outputs": [],
   "source": [
    "for i in ['balcony', 'parks_around_3000', 'ponds_around_3000']:\n",
    "    data[i] = data[i].astype('int', errors='ignore')"
   ]
  },
  {
   "cell_type": "markdown",
   "metadata": {},
   "source": [
    "<div style=\"background: #B0E0E6; padding: 5px; border: 1px solid SteelBlue; border-radius: 5px;\">\n",
    "    <font color='4682B4'><u><b>КОММЕНТАРИЙ К ПРЕОБРАЗОВАНИЮ ТИПОВ ДАННЫХ</b></u></font>\n",
    "    <br /><br />\n",
    "    <font color='4682B4'>Столбец с указанием даты размещения объявления приведен к типу datetime, т.к. это упростит дальнейшую работу с датой (извлечение номера дня, месяца, года и др.). Столбцы balcony, parks_around_3000, ponds_around_3000 приведены к типу целочисленных данных, т.к. данные в них подразумевают под собой указание целого числа. Столбцы floors_total и days_exposition имеют пропущенные значения, поэтому привести их к типу int не представляется возможным.</font>\n",
    "</div>"
   ]
  },
  {
   "cell_type": "markdown",
   "metadata": {},
   "source": [
    "Выведем на экран уникальные значения столбца со значениями высоты потолков `ceiling_height`. Для наглядности отсортируем значения по возрастанию."
   ]
  },
  {
   "cell_type": "code",
   "execution_count": 16,
   "metadata": {
    "scrolled": true
   },
   "outputs": [
    {
     "data": {
      "text/plain": [
       "[1.0,\n",
       " 1.2,\n",
       " 1.75,\n",
       " 2.0,\n",
       " 2.2,\n",
       " 2.25,\n",
       " 2.3,\n",
       " 2.34,\n",
       " 2.4,\n",
       " 2.45,\n",
       " 2.46,\n",
       " 2.47,\n",
       " 2.48,\n",
       " 2.49,\n",
       " 2.5,\n",
       " 2.51,\n",
       " 2.52,\n",
       " 2.53,\n",
       " 2.54,\n",
       " 2.55,\n",
       " 2.56,\n",
       " 2.57,\n",
       " 2.58,\n",
       " 2.59,\n",
       " 2.6,\n",
       " 2.61,\n",
       " 2.62,\n",
       " 2.63,\n",
       " 2.64,\n",
       " 2.65,\n",
       " 2.66,\n",
       " 2.67,\n",
       " 2.68,\n",
       " 2.69,\n",
       " 2.7,\n",
       " 2.71,\n",
       " 2.72,\n",
       " 2.73,\n",
       " 2.74,\n",
       " 2.75,\n",
       " 2.76,\n",
       " 2.77,\n",
       " 2.78,\n",
       " 2.79,\n",
       " 2.8,\n",
       " 2.81,\n",
       " 2.82,\n",
       " 2.83,\n",
       " 2.84,\n",
       " 2.85,\n",
       " 2.86,\n",
       " 2.87,\n",
       " 2.88,\n",
       " 2.89,\n",
       " 2.9,\n",
       " 2.91,\n",
       " 2.92,\n",
       " 2.93,\n",
       " 2.94,\n",
       " 2.95,\n",
       " 2.96,\n",
       " 2.97,\n",
       " 2.98,\n",
       " 2.99,\n",
       " 3.0,\n",
       " 3.01,\n",
       " 3.02,\n",
       " 3.03,\n",
       " 3.04,\n",
       " 3.05,\n",
       " 3.06,\n",
       " 3.07,\n",
       " 3.08,\n",
       " 3.09,\n",
       " 3.1,\n",
       " 3.11,\n",
       " 3.12,\n",
       " 3.13,\n",
       " 3.14,\n",
       " 3.15,\n",
       " 3.16,\n",
       " 3.17,\n",
       " 3.18,\n",
       " 3.2,\n",
       " 3.21,\n",
       " 3.22,\n",
       " 3.23,\n",
       " 3.24,\n",
       " 3.25,\n",
       " 3.26,\n",
       " 3.27,\n",
       " 3.28,\n",
       " 3.29,\n",
       " 3.3,\n",
       " 3.31,\n",
       " 3.32,\n",
       " 3.33,\n",
       " 3.34,\n",
       " 3.35,\n",
       " 3.36,\n",
       " 3.37,\n",
       " 3.38,\n",
       " 3.39,\n",
       " 3.4,\n",
       " 3.42,\n",
       " 3.43,\n",
       " 3.44,\n",
       " 3.45,\n",
       " 3.46,\n",
       " 3.47,\n",
       " 3.48,\n",
       " 3.49,\n",
       " 3.5,\n",
       " 3.51,\n",
       " 3.52,\n",
       " 3.53,\n",
       " 3.54,\n",
       " 3.55,\n",
       " 3.56,\n",
       " 3.57,\n",
       " 3.58,\n",
       " 3.59,\n",
       " 3.6,\n",
       " 3.62,\n",
       " 3.63,\n",
       " 3.65,\n",
       " 3.66,\n",
       " 3.67,\n",
       " 3.68,\n",
       " 3.69,\n",
       " 3.7,\n",
       " 3.75,\n",
       " 3.76,\n",
       " 3.78,\n",
       " 3.8,\n",
       " 3.82,\n",
       " 3.83,\n",
       " 3.84,\n",
       " 3.85,\n",
       " 3.86,\n",
       " 3.87,\n",
       " 3.88,\n",
       " 3.9,\n",
       " 3.93,\n",
       " 3.95,\n",
       " 3.98,\n",
       " 4.0,\n",
       " 4.06,\n",
       " 4.1,\n",
       " 4.14,\n",
       " 4.15,\n",
       " 4.19,\n",
       " 4.2,\n",
       " 4.25,\n",
       " 4.3,\n",
       " 4.37,\n",
       " 4.4,\n",
       " 4.45,\n",
       " 4.5,\n",
       " 4.65,\n",
       " 4.7,\n",
       " 4.8,\n",
       " 4.9,\n",
       " 5.0,\n",
       " 5.2,\n",
       " 5.3,\n",
       " 5.5,\n",
       " 5.6,\n",
       " 5.8,\n",
       " 6.0,\n",
       " 8.0,\n",
       " 8.3,\n",
       " 10.3,\n",
       " 14.0,\n",
       " 20.0,\n",
       " 22.6,\n",
       " 24.0,\n",
       " 25.0,\n",
       " 26.0,\n",
       " 27.0,\n",
       " 27.5,\n",
       " 32.0,\n",
       " 100.0]"
      ]
     },
     "execution_count": 16,
     "metadata": {},
     "output_type": "execute_result"
    }
   ],
   "source": [
    "sorted(data[data['ceiling_height'].notna()]['ceiling_height'].unique())"
   ]
  },
  {
   "cell_type": "markdown",
   "metadata": {},
   "source": [
    "В данных имеются значения высоты потолков 22.6м, 24.0м ... 32.0м, которые могли быть ошибочно введены вместо 2.26м, 2.40м ... 3.20м. Откорректируем указанные значения."
   ]
  },
  {
   "cell_type": "code",
   "execution_count": 17,
   "metadata": {},
   "outputs": [],
   "source": [
    "data['ceiling_height'] = (\n",
    "    data['ceiling_height']\n",
    "    .where((data['ceiling_height'] > 32) | (data['ceiling_height'] < 22), data['ceiling_height'] / 10)\n",
    ")\n",
    "# с помощью метода \"where\" все строки столбца с высотой потолков проверим на условие \n",
    "# \"высота потолков больше 32 м или меньше 10 м\". Значения, не удовлетворяющие этому условию, будут поделены на 10\n",
    "\n",
    "data['ceiling_height'] = round((data['ceiling_height']), 2)\n",
    "# округлим значения столбца `ceiling_height` до двух знаков после запятой"
   ]
  },
  {
   "cell_type": "markdown",
   "metadata": {},
   "source": [
    "Также в столбце со значениями высоты потолков присутствуют аномальные значения высоты потолков. Исключим из исследования строки со значениями высоты потолков менее 2.2м и более 5.0м."
   ]
  },
  {
   "cell_type": "code",
   "execution_count": 18,
   "metadata": {},
   "outputs": [],
   "source": [
    "data = data[~(data['ceiling_height'] < 2.2) | (data['ceiling_height'] > 5.0)]"
   ]
  },
  {
   "cell_type": "markdown",
   "metadata": {},
   "source": [
    "Убедимся, что все аномальные значения высоты потолков исключены из датафрейма."
   ]
  },
  {
   "cell_type": "code",
   "execution_count": 19,
   "metadata": {},
   "outputs": [
    {
     "data": {
      "text/plain": [
       "[2.2,\n",
       " 2.25,\n",
       " 2.26,\n",
       " 2.3,\n",
       " 2.34,\n",
       " 2.4,\n",
       " 2.45,\n",
       " 2.46,\n",
       " 2.47,\n",
       " 2.48,\n",
       " 2.49,\n",
       " 2.5,\n",
       " 2.51,\n",
       " 2.52,\n",
       " 2.53,\n",
       " 2.54,\n",
       " 2.55,\n",
       " 2.56,\n",
       " 2.57,\n",
       " 2.58,\n",
       " 2.59,\n",
       " 2.6,\n",
       " 2.61,\n",
       " 2.62,\n",
       " 2.63,\n",
       " 2.64,\n",
       " 2.65,\n",
       " 2.66,\n",
       " 2.67,\n",
       " 2.68,\n",
       " 2.69,\n",
       " 2.7,\n",
       " 2.71,\n",
       " 2.72,\n",
       " 2.73,\n",
       " 2.74,\n",
       " 2.75,\n",
       " 2.76,\n",
       " 2.77,\n",
       " 2.78,\n",
       " 2.79,\n",
       " 2.8,\n",
       " 2.81,\n",
       " 2.82,\n",
       " 2.83,\n",
       " 2.84,\n",
       " 2.85,\n",
       " 2.86,\n",
       " 2.87,\n",
       " 2.88,\n",
       " 2.89,\n",
       " 2.9,\n",
       " 2.91,\n",
       " 2.92,\n",
       " 2.93,\n",
       " 2.94,\n",
       " 2.95,\n",
       " 2.96,\n",
       " 2.97,\n",
       " 2.98,\n",
       " 2.99,\n",
       " 3.0,\n",
       " 3.01,\n",
       " 3.02,\n",
       " 3.03,\n",
       " 3.04,\n",
       " 3.05,\n",
       " 3.06,\n",
       " 3.07,\n",
       " 3.08,\n",
       " 3.09,\n",
       " 3.1,\n",
       " 3.11,\n",
       " 3.12,\n",
       " 3.13,\n",
       " 3.14,\n",
       " 3.15,\n",
       " 3.16,\n",
       " 3.17,\n",
       " 3.18,\n",
       " 3.2,\n",
       " 3.21,\n",
       " 3.22,\n",
       " 3.23,\n",
       " 3.24,\n",
       " 3.25,\n",
       " 3.26,\n",
       " 3.27,\n",
       " 3.28,\n",
       " 3.29,\n",
       " 3.3,\n",
       " 3.31,\n",
       " 3.32,\n",
       " 3.33,\n",
       " 3.34,\n",
       " 3.35,\n",
       " 3.36,\n",
       " 3.37,\n",
       " 3.38,\n",
       " 3.39,\n",
       " 3.4,\n",
       " 3.42,\n",
       " 3.43,\n",
       " 3.44,\n",
       " 3.45,\n",
       " 3.46,\n",
       " 3.47,\n",
       " 3.48,\n",
       " 3.49,\n",
       " 3.5,\n",
       " 3.51,\n",
       " 3.52,\n",
       " 3.53,\n",
       " 3.54,\n",
       " 3.55,\n",
       " 3.56,\n",
       " 3.57,\n",
       " 3.58,\n",
       " 3.59,\n",
       " 3.6,\n",
       " 3.62,\n",
       " 3.63,\n",
       " 3.65,\n",
       " 3.66,\n",
       " 3.67,\n",
       " 3.68,\n",
       " 3.69,\n",
       " 3.7,\n",
       " 3.75,\n",
       " 3.76,\n",
       " 3.78,\n",
       " 3.8,\n",
       " 3.82,\n",
       " 3.83,\n",
       " 3.84,\n",
       " 3.85,\n",
       " 3.86,\n",
       " 3.87,\n",
       " 3.88,\n",
       " 3.9,\n",
       " 3.93,\n",
       " 3.95,\n",
       " 3.98,\n",
       " 4.0,\n",
       " 4.06,\n",
       " 4.1,\n",
       " 4.14,\n",
       " 4.15,\n",
       " 4.19,\n",
       " 4.2,\n",
       " 4.25,\n",
       " 4.3,\n",
       " 4.37,\n",
       " 4.4,\n",
       " 4.45,\n",
       " 4.5,\n",
       " 4.65,\n",
       " 4.7,\n",
       " 4.8,\n",
       " 4.9,\n",
       " 5.0,\n",
       " 5.2,\n",
       " 5.3,\n",
       " 5.5,\n",
       " 5.6,\n",
       " 5.8,\n",
       " 6.0,\n",
       " 8.0,\n",
       " 8.3,\n",
       " 10.3,\n",
       " 14.0,\n",
       " 20.0,\n",
       " 100.0]"
      ]
     },
     "execution_count": 19,
     "metadata": {},
     "output_type": "execute_result"
    }
   ],
   "source": [
    "sorted(data[data['ceiling_height'].notna()]['ceiling_height'].unique())"
   ]
  },
  {
   "cell_type": "markdown",
   "metadata": {},
   "source": [
    "Проверим, содержатся ли в датафрейме выбивающиеся значения цены объекта. Для этого выведем на экран первые 10 и последние 10 значений отсортированного списка уникальных значений столбца `last_price`."
   ]
  },
  {
   "cell_type": "code",
   "execution_count": 20,
   "metadata": {},
   "outputs": [
    {
     "data": {
      "text/plain": [
       "[12190.0,\n",
       " 430000.0,\n",
       " 440000.0,\n",
       " 450000.0,\n",
       " 470000.0,\n",
       " 480000.0,\n",
       " 490000.0,\n",
       " 500000.0,\n",
       " 520000.0,\n",
       " 530000.0]"
      ]
     },
     "execution_count": 20,
     "metadata": {},
     "output_type": "execute_result"
    }
   ],
   "source": [
    "sorted(data['last_price'].unique())[:10]"
   ]
  },
  {
   "cell_type": "code",
   "execution_count": 21,
   "metadata": {
    "scrolled": true
   },
   "outputs": [
    {
     "data": {
      "text/plain": [
       "[190870000.0,\n",
       " 230000000.0,\n",
       " 240000000.0,\n",
       " 245000000.0,\n",
       " 289238400.0,\n",
       " 300000000.0,\n",
       " 330000000.0,\n",
       " 401300000.0,\n",
       " 420000000.0,\n",
       " 763000000.0]"
      ]
     },
     "execution_count": 21,
     "metadata": {},
     "output_type": "execute_result"
    }
   ],
   "source": [
    "sorted(data['last_price'].unique())[-10:]"
   ]
  },
  {
   "cell_type": "markdown",
   "metadata": {},
   "source": [
    "Выведением на экран строку, где цена объекта равна 12190 руб."
   ]
  },
  {
   "cell_type": "code",
   "execution_count": 22,
   "metadata": {},
   "outputs": [
    {
     "data": {
      "text/html": [
       "<div>\n",
       "<style scoped>\n",
       "    .dataframe tbody tr th:only-of-type {\n",
       "        vertical-align: middle;\n",
       "    }\n",
       "\n",
       "    .dataframe tbody tr th {\n",
       "        vertical-align: top;\n",
       "    }\n",
       "\n",
       "    .dataframe thead th {\n",
       "        text-align: right;\n",
       "    }\n",
       "</style>\n",
       "<table border=\"1\" class=\"dataframe\">\n",
       "  <thead>\n",
       "    <tr style=\"text-align: right;\">\n",
       "      <th></th>\n",
       "      <th>total_images</th>\n",
       "      <th>last_price</th>\n",
       "      <th>total_area</th>\n",
       "      <th>first_day_exposition</th>\n",
       "      <th>rooms</th>\n",
       "      <th>ceiling_height</th>\n",
       "      <th>floors_total</th>\n",
       "      <th>living_area</th>\n",
       "      <th>floor</th>\n",
       "      <th>is_apartment</th>\n",
       "      <th>studio</th>\n",
       "      <th>open_plan</th>\n",
       "      <th>kitchen_area</th>\n",
       "      <th>balcony</th>\n",
       "      <th>locality_name</th>\n",
       "      <th>airports_nearest</th>\n",
       "      <th>city_centers_nearest</th>\n",
       "      <th>parks_around_3000</th>\n",
       "      <th>parks_nearest</th>\n",
       "      <th>ponds_around_3000</th>\n",
       "      <th>ponds_nearest</th>\n",
       "      <th>days_exposition</th>\n",
       "    </tr>\n",
       "  </thead>\n",
       "  <tbody>\n",
       "    <tr>\n",
       "      <th>8793</th>\n",
       "      <td>7</td>\n",
       "      <td>12190.0</td>\n",
       "      <td>109.0</td>\n",
       "      <td>2019-03-20</td>\n",
       "      <td>2</td>\n",
       "      <td>2.75</td>\n",
       "      <td>25.0</td>\n",
       "      <td>32.0</td>\n",
       "      <td>25</td>\n",
       "      <td>False</td>\n",
       "      <td>False</td>\n",
       "      <td>False</td>\n",
       "      <td>40.5</td>\n",
       "      <td>0</td>\n",
       "      <td>Санкт-Петербург</td>\n",
       "      <td>36421.0</td>\n",
       "      <td>9176.0</td>\n",
       "      <td>1</td>\n",
       "      <td>805.0</td>\n",
       "      <td>0</td>\n",
       "      <td>NaN</td>\n",
       "      <td>8.0</td>\n",
       "    </tr>\n",
       "  </tbody>\n",
       "</table>\n",
       "</div>"
      ],
      "text/plain": [
       "      total_images  last_price  total_area first_day_exposition  rooms  \\\n",
       "8793             7     12190.0       109.0           2019-03-20      2   \n",
       "\n",
       "      ceiling_height  floors_total  living_area  floor  is_apartment  studio  \\\n",
       "8793            2.75          25.0         32.0     25         False   False   \n",
       "\n",
       "      open_plan  kitchen_area  balcony    locality_name  airports_nearest  \\\n",
       "8793      False          40.5        0  Санкт-Петербург           36421.0   \n",
       "\n",
       "      city_centers_nearest  parks_around_3000  parks_nearest  \\\n",
       "8793                9176.0                  1          805.0   \n",
       "\n",
       "      ponds_around_3000  ponds_nearest  days_exposition  \n",
       "8793                  0            NaN              8.0  "
      ]
     },
     "execution_count": 22,
     "metadata": {},
     "output_type": "execute_result"
    }
   ],
   "source": [
    "data[data['last_price'] == 12190]"
   ]
  },
  {
   "cell_type": "markdown",
   "metadata": {},
   "source": [
    "Значение цены 12190.0 руб. значительно отличается от других минимальных. Проверим диапазон стоимости аналогичных объектов в Санкт-Петербурге с расстоянием 9000-10000 м до центра и общей площадью 100-110 м.кв."
   ]
  },
  {
   "cell_type": "code",
   "execution_count": 23,
   "metadata": {},
   "outputs": [
    {
     "data": {
      "text/html": [
       "<div>\n",
       "<style scoped>\n",
       "    .dataframe tbody tr th:only-of-type {\n",
       "        vertical-align: middle;\n",
       "    }\n",
       "\n",
       "    .dataframe tbody tr th {\n",
       "        vertical-align: top;\n",
       "    }\n",
       "\n",
       "    .dataframe thead th {\n",
       "        text-align: right;\n",
       "    }\n",
       "</style>\n",
       "<table border=\"1\" class=\"dataframe\">\n",
       "  <thead>\n",
       "    <tr style=\"text-align: right;\">\n",
       "      <th></th>\n",
       "      <th>total_images</th>\n",
       "      <th>last_price</th>\n",
       "      <th>total_area</th>\n",
       "      <th>first_day_exposition</th>\n",
       "      <th>rooms</th>\n",
       "      <th>ceiling_height</th>\n",
       "      <th>floors_total</th>\n",
       "      <th>living_area</th>\n",
       "      <th>floor</th>\n",
       "      <th>is_apartment</th>\n",
       "      <th>studio</th>\n",
       "      <th>open_plan</th>\n",
       "      <th>kitchen_area</th>\n",
       "      <th>balcony</th>\n",
       "      <th>locality_name</th>\n",
       "      <th>airports_nearest</th>\n",
       "      <th>city_centers_nearest</th>\n",
       "      <th>parks_around_3000</th>\n",
       "      <th>parks_nearest</th>\n",
       "      <th>ponds_around_3000</th>\n",
       "      <th>ponds_nearest</th>\n",
       "      <th>days_exposition</th>\n",
       "    </tr>\n",
       "  </thead>\n",
       "  <tbody>\n",
       "    <tr>\n",
       "      <th>8793</th>\n",
       "      <td>7</td>\n",
       "      <td>12190.0</td>\n",
       "      <td>109.0</td>\n",
       "      <td>2019-03-20</td>\n",
       "      <td>2</td>\n",
       "      <td>2.75</td>\n",
       "      <td>25.0</td>\n",
       "      <td>32.0</td>\n",
       "      <td>25</td>\n",
       "      <td>False</td>\n",
       "      <td>False</td>\n",
       "      <td>False</td>\n",
       "      <td>40.5</td>\n",
       "      <td>0</td>\n",
       "      <td>Санкт-Петербург</td>\n",
       "      <td>36421.0</td>\n",
       "      <td>9176.0</td>\n",
       "      <td>1</td>\n",
       "      <td>805.0</td>\n",
       "      <td>0</td>\n",
       "      <td>NaN</td>\n",
       "      <td>8.0</td>\n",
       "    </tr>\n",
       "    <tr>\n",
       "      <th>13674</th>\n",
       "      <td>1</td>\n",
       "      <td>7160000.0</td>\n",
       "      <td>108.0</td>\n",
       "      <td>2016-01-23</td>\n",
       "      <td>4</td>\n",
       "      <td>2.65</td>\n",
       "      <td>25.0</td>\n",
       "      <td>61.2</td>\n",
       "      <td>9</td>\n",
       "      <td>False</td>\n",
       "      <td>False</td>\n",
       "      <td>False</td>\n",
       "      <td>13.3</td>\n",
       "      <td>0</td>\n",
       "      <td>Санкт-Петербург</td>\n",
       "      <td>42407.0</td>\n",
       "      <td>9579.0</td>\n",
       "      <td>0</td>\n",
       "      <td>NaN</td>\n",
       "      <td>0</td>\n",
       "      <td>NaN</td>\n",
       "      <td>285.0</td>\n",
       "    </tr>\n",
       "    <tr>\n",
       "      <th>17988</th>\n",
       "      <td>8</td>\n",
       "      <td>8400000.0</td>\n",
       "      <td>108.0</td>\n",
       "      <td>2017-05-17</td>\n",
       "      <td>3</td>\n",
       "      <td>2.65</td>\n",
       "      <td>26.0</td>\n",
       "      <td>53.2</td>\n",
       "      <td>13</td>\n",
       "      <td>False</td>\n",
       "      <td>False</td>\n",
       "      <td>False</td>\n",
       "      <td>14.2</td>\n",
       "      <td>1</td>\n",
       "      <td>Санкт-Петербург</td>\n",
       "      <td>40648.0</td>\n",
       "      <td>9888.0</td>\n",
       "      <td>1</td>\n",
       "      <td>1248.0</td>\n",
       "      <td>0</td>\n",
       "      <td>NaN</td>\n",
       "      <td>119.0</td>\n",
       "    </tr>\n",
       "    <tr>\n",
       "      <th>389</th>\n",
       "      <td>13</td>\n",
       "      <td>8500000.0</td>\n",
       "      <td>103.8</td>\n",
       "      <td>2018-02-13</td>\n",
       "      <td>4</td>\n",
       "      <td>2.65</td>\n",
       "      <td>5.0</td>\n",
       "      <td>74.6</td>\n",
       "      <td>3</td>\n",
       "      <td>False</td>\n",
       "      <td>False</td>\n",
       "      <td>False</td>\n",
       "      <td>9.5</td>\n",
       "      <td>0</td>\n",
       "      <td>Санкт-Петербург</td>\n",
       "      <td>13398.0</td>\n",
       "      <td>9120.0</td>\n",
       "      <td>0</td>\n",
       "      <td>NaN</td>\n",
       "      <td>0</td>\n",
       "      <td>NaN</td>\n",
       "      <td>368.0</td>\n",
       "    </tr>\n",
       "    <tr>\n",
       "      <th>11060</th>\n",
       "      <td>16</td>\n",
       "      <td>9900000.0</td>\n",
       "      <td>105.2</td>\n",
       "      <td>2016-06-27</td>\n",
       "      <td>4</td>\n",
       "      <td>2.65</td>\n",
       "      <td>15.0</td>\n",
       "      <td>63.9</td>\n",
       "      <td>5</td>\n",
       "      <td>False</td>\n",
       "      <td>False</td>\n",
       "      <td>False</td>\n",
       "      <td>13.3</td>\n",
       "      <td>1</td>\n",
       "      <td>Санкт-Петербург</td>\n",
       "      <td>27666.0</td>\n",
       "      <td>9479.0</td>\n",
       "      <td>1</td>\n",
       "      <td>637.0</td>\n",
       "      <td>0</td>\n",
       "      <td>NaN</td>\n",
       "      <td>893.0</td>\n",
       "    </tr>\n",
       "    <tr>\n",
       "      <th>13351</th>\n",
       "      <td>5</td>\n",
       "      <td>9900000.0</td>\n",
       "      <td>108.0</td>\n",
       "      <td>2017-05-10</td>\n",
       "      <td>4</td>\n",
       "      <td>2.65</td>\n",
       "      <td>21.0</td>\n",
       "      <td>NaN</td>\n",
       "      <td>6</td>\n",
       "      <td>False</td>\n",
       "      <td>False</td>\n",
       "      <td>False</td>\n",
       "      <td>NaN</td>\n",
       "      <td>2</td>\n",
       "      <td>Санкт-Петербург</td>\n",
       "      <td>36579.0</td>\n",
       "      <td>9092.0</td>\n",
       "      <td>0</td>\n",
       "      <td>NaN</td>\n",
       "      <td>1</td>\n",
       "      <td>454.0</td>\n",
       "      <td>140.0</td>\n",
       "    </tr>\n",
       "    <tr>\n",
       "      <th>18169</th>\n",
       "      <td>20</td>\n",
       "      <td>12600000.0</td>\n",
       "      <td>109.0</td>\n",
       "      <td>2017-07-16</td>\n",
       "      <td>2</td>\n",
       "      <td>2.75</td>\n",
       "      <td>25.0</td>\n",
       "      <td>53.0</td>\n",
       "      <td>13</td>\n",
       "      <td>False</td>\n",
       "      <td>False</td>\n",
       "      <td>False</td>\n",
       "      <td>19.0</td>\n",
       "      <td>1</td>\n",
       "      <td>Санкт-Петербург</td>\n",
       "      <td>36724.0</td>\n",
       "      <td>9781.0</td>\n",
       "      <td>1</td>\n",
       "      <td>645.0</td>\n",
       "      <td>0</td>\n",
       "      <td>NaN</td>\n",
       "      <td>NaN</td>\n",
       "    </tr>\n",
       "    <tr>\n",
       "      <th>4788</th>\n",
       "      <td>16</td>\n",
       "      <td>12700000.0</td>\n",
       "      <td>106.4</td>\n",
       "      <td>2017-07-10</td>\n",
       "      <td>3</td>\n",
       "      <td>2.75</td>\n",
       "      <td>23.0</td>\n",
       "      <td>66.0</td>\n",
       "      <td>16</td>\n",
       "      <td>False</td>\n",
       "      <td>False</td>\n",
       "      <td>False</td>\n",
       "      <td>12.2</td>\n",
       "      <td>0</td>\n",
       "      <td>Санкт-Петербург</td>\n",
       "      <td>36724.0</td>\n",
       "      <td>9781.0</td>\n",
       "      <td>1</td>\n",
       "      <td>645.0</td>\n",
       "      <td>0</td>\n",
       "      <td>NaN</td>\n",
       "      <td>NaN</td>\n",
       "    </tr>\n",
       "    <tr>\n",
       "      <th>14809</th>\n",
       "      <td>17</td>\n",
       "      <td>13300000.0</td>\n",
       "      <td>101.2</td>\n",
       "      <td>2018-03-03</td>\n",
       "      <td>3</td>\n",
       "      <td>2.75</td>\n",
       "      <td>25.0</td>\n",
       "      <td>55.4</td>\n",
       "      <td>25</td>\n",
       "      <td>False</td>\n",
       "      <td>False</td>\n",
       "      <td>False</td>\n",
       "      <td>13.5</td>\n",
       "      <td>1</td>\n",
       "      <td>Санкт-Петербург</td>\n",
       "      <td>36533.0</td>\n",
       "      <td>9289.0</td>\n",
       "      <td>1</td>\n",
       "      <td>674.0</td>\n",
       "      <td>0</td>\n",
       "      <td>NaN</td>\n",
       "      <td>74.0</td>\n",
       "    </tr>\n",
       "    <tr>\n",
       "      <th>21596</th>\n",
       "      <td>20</td>\n",
       "      <td>13400000.0</td>\n",
       "      <td>102.0</td>\n",
       "      <td>2017-09-15</td>\n",
       "      <td>3</td>\n",
       "      <td>2.75</td>\n",
       "      <td>25.0</td>\n",
       "      <td>50.7</td>\n",
       "      <td>12</td>\n",
       "      <td>False</td>\n",
       "      <td>False</td>\n",
       "      <td>False</td>\n",
       "      <td>15.5</td>\n",
       "      <td>0</td>\n",
       "      <td>Санкт-Петербург</td>\n",
       "      <td>36421.0</td>\n",
       "      <td>9176.0</td>\n",
       "      <td>1</td>\n",
       "      <td>805.0</td>\n",
       "      <td>0</td>\n",
       "      <td>NaN</td>\n",
       "      <td>157.0</td>\n",
       "    </tr>\n",
       "    <tr>\n",
       "      <th>11397</th>\n",
       "      <td>7</td>\n",
       "      <td>13500000.0</td>\n",
       "      <td>107.9</td>\n",
       "      <td>2018-07-04</td>\n",
       "      <td>3</td>\n",
       "      <td>2.77</td>\n",
       "      <td>17.0</td>\n",
       "      <td>57.2</td>\n",
       "      <td>9</td>\n",
       "      <td>False</td>\n",
       "      <td>False</td>\n",
       "      <td>False</td>\n",
       "      <td>19.7</td>\n",
       "      <td>2</td>\n",
       "      <td>Санкт-Петербург</td>\n",
       "      <td>10318.0</td>\n",
       "      <td>9874.0</td>\n",
       "      <td>1</td>\n",
       "      <td>652.0</td>\n",
       "      <td>0</td>\n",
       "      <td>NaN</td>\n",
       "      <td>106.0</td>\n",
       "    </tr>\n",
       "    <tr>\n",
       "      <th>20156</th>\n",
       "      <td>20</td>\n",
       "      <td>17299000.0</td>\n",
       "      <td>100.3</td>\n",
       "      <td>2018-10-08</td>\n",
       "      <td>3</td>\n",
       "      <td>2.65</td>\n",
       "      <td>6.0</td>\n",
       "      <td>61.0</td>\n",
       "      <td>4</td>\n",
       "      <td>False</td>\n",
       "      <td>False</td>\n",
       "      <td>False</td>\n",
       "      <td>15.0</td>\n",
       "      <td>0</td>\n",
       "      <td>Санкт-Петербург</td>\n",
       "      <td>10887.0</td>\n",
       "      <td>9009.0</td>\n",
       "      <td>0</td>\n",
       "      <td>NaN</td>\n",
       "      <td>0</td>\n",
       "      <td>NaN</td>\n",
       "      <td>174.0</td>\n",
       "    </tr>\n",
       "    <tr>\n",
       "      <th>12283</th>\n",
       "      <td>4</td>\n",
       "      <td>18326016.0</td>\n",
       "      <td>105.0</td>\n",
       "      <td>2019-04-16</td>\n",
       "      <td>3</td>\n",
       "      <td>2.70</td>\n",
       "      <td>13.0</td>\n",
       "      <td>38.1</td>\n",
       "      <td>3</td>\n",
       "      <td>False</td>\n",
       "      <td>False</td>\n",
       "      <td>False</td>\n",
       "      <td>30.0</td>\n",
       "      <td>0</td>\n",
       "      <td>Санкт-Петербург</td>\n",
       "      <td>27314.0</td>\n",
       "      <td>9260.0</td>\n",
       "      <td>0</td>\n",
       "      <td>NaN</td>\n",
       "      <td>0</td>\n",
       "      <td>NaN</td>\n",
       "      <td>NaN</td>\n",
       "    </tr>\n",
       "    <tr>\n",
       "      <th>2659</th>\n",
       "      <td>9</td>\n",
       "      <td>19150000.0</td>\n",
       "      <td>104.9</td>\n",
       "      <td>2017-08-28</td>\n",
       "      <td>3</td>\n",
       "      <td>3.00</td>\n",
       "      <td>5.0</td>\n",
       "      <td>61.5</td>\n",
       "      <td>4</td>\n",
       "      <td>False</td>\n",
       "      <td>False</td>\n",
       "      <td>False</td>\n",
       "      <td>13.5</td>\n",
       "      <td>1</td>\n",
       "      <td>Санкт-Петербург</td>\n",
       "      <td>36850.0</td>\n",
       "      <td>9016.0</td>\n",
       "      <td>1</td>\n",
       "      <td>2905.0</td>\n",
       "      <td>3</td>\n",
       "      <td>137.0</td>\n",
       "      <td>91.0</td>\n",
       "    </tr>\n",
       "    <tr>\n",
       "      <th>14276</th>\n",
       "      <td>20</td>\n",
       "      <td>21500000.0</td>\n",
       "      <td>107.0</td>\n",
       "      <td>2017-10-23</td>\n",
       "      <td>2</td>\n",
       "      <td>2.70</td>\n",
       "      <td>25.0</td>\n",
       "      <td>55.0</td>\n",
       "      <td>19</td>\n",
       "      <td>False</td>\n",
       "      <td>False</td>\n",
       "      <td>False</td>\n",
       "      <td>13.0</td>\n",
       "      <td>0</td>\n",
       "      <td>Санкт-Петербург</td>\n",
       "      <td>NaN</td>\n",
       "      <td>9734.0</td>\n",
       "      <td>2</td>\n",
       "      <td>469.0</td>\n",
       "      <td>3</td>\n",
       "      <td>263.0</td>\n",
       "      <td>546.0</td>\n",
       "    </tr>\n",
       "  </tbody>\n",
       "</table>\n",
       "</div>"
      ],
      "text/plain": [
       "       total_images  last_price  total_area first_day_exposition  rooms  \\\n",
       "8793              7     12190.0       109.0           2019-03-20      2   \n",
       "13674             1   7160000.0       108.0           2016-01-23      4   \n",
       "17988             8   8400000.0       108.0           2017-05-17      3   \n",
       "389              13   8500000.0       103.8           2018-02-13      4   \n",
       "11060            16   9900000.0       105.2           2016-06-27      4   \n",
       "13351             5   9900000.0       108.0           2017-05-10      4   \n",
       "18169            20  12600000.0       109.0           2017-07-16      2   \n",
       "4788             16  12700000.0       106.4           2017-07-10      3   \n",
       "14809            17  13300000.0       101.2           2018-03-03      3   \n",
       "21596            20  13400000.0       102.0           2017-09-15      3   \n",
       "11397             7  13500000.0       107.9           2018-07-04      3   \n",
       "20156            20  17299000.0       100.3           2018-10-08      3   \n",
       "12283             4  18326016.0       105.0           2019-04-16      3   \n",
       "2659              9  19150000.0       104.9           2017-08-28      3   \n",
       "14276            20  21500000.0       107.0           2017-10-23      2   \n",
       "\n",
       "       ceiling_height  floors_total  living_area  floor  is_apartment  studio  \\\n",
       "8793             2.75          25.0         32.0     25         False   False   \n",
       "13674            2.65          25.0         61.2      9         False   False   \n",
       "17988            2.65          26.0         53.2     13         False   False   \n",
       "389              2.65           5.0         74.6      3         False   False   \n",
       "11060            2.65          15.0         63.9      5         False   False   \n",
       "13351            2.65          21.0          NaN      6         False   False   \n",
       "18169            2.75          25.0         53.0     13         False   False   \n",
       "4788             2.75          23.0         66.0     16         False   False   \n",
       "14809            2.75          25.0         55.4     25         False   False   \n",
       "21596            2.75          25.0         50.7     12         False   False   \n",
       "11397            2.77          17.0         57.2      9         False   False   \n",
       "20156            2.65           6.0         61.0      4         False   False   \n",
       "12283            2.70          13.0         38.1      3         False   False   \n",
       "2659             3.00           5.0         61.5      4         False   False   \n",
       "14276            2.70          25.0         55.0     19         False   False   \n",
       "\n",
       "       open_plan  kitchen_area  balcony    locality_name  airports_nearest  \\\n",
       "8793       False          40.5        0  Санкт-Петербург           36421.0   \n",
       "13674      False          13.3        0  Санкт-Петербург           42407.0   \n",
       "17988      False          14.2        1  Санкт-Петербург           40648.0   \n",
       "389        False           9.5        0  Санкт-Петербург           13398.0   \n",
       "11060      False          13.3        1  Санкт-Петербург           27666.0   \n",
       "13351      False           NaN        2  Санкт-Петербург           36579.0   \n",
       "18169      False          19.0        1  Санкт-Петербург           36724.0   \n",
       "4788       False          12.2        0  Санкт-Петербург           36724.0   \n",
       "14809      False          13.5        1  Санкт-Петербург           36533.0   \n",
       "21596      False          15.5        0  Санкт-Петербург           36421.0   \n",
       "11397      False          19.7        2  Санкт-Петербург           10318.0   \n",
       "20156      False          15.0        0  Санкт-Петербург           10887.0   \n",
       "12283      False          30.0        0  Санкт-Петербург           27314.0   \n",
       "2659       False          13.5        1  Санкт-Петербург           36850.0   \n",
       "14276      False          13.0        0  Санкт-Петербург               NaN   \n",
       "\n",
       "       city_centers_nearest  parks_around_3000  parks_nearest  \\\n",
       "8793                 9176.0                  1          805.0   \n",
       "13674                9579.0                  0            NaN   \n",
       "17988                9888.0                  1         1248.0   \n",
       "389                  9120.0                  0            NaN   \n",
       "11060                9479.0                  1          637.0   \n",
       "13351                9092.0                  0            NaN   \n",
       "18169                9781.0                  1          645.0   \n",
       "4788                 9781.0                  1          645.0   \n",
       "14809                9289.0                  1          674.0   \n",
       "21596                9176.0                  1          805.0   \n",
       "11397                9874.0                  1          652.0   \n",
       "20156                9009.0                  0            NaN   \n",
       "12283                9260.0                  0            NaN   \n",
       "2659                 9016.0                  1         2905.0   \n",
       "14276                9734.0                  2          469.0   \n",
       "\n",
       "       ponds_around_3000  ponds_nearest  days_exposition  \n",
       "8793                   0            NaN              8.0  \n",
       "13674                  0            NaN            285.0  \n",
       "17988                  0            NaN            119.0  \n",
       "389                    0            NaN            368.0  \n",
       "11060                  0            NaN            893.0  \n",
       "13351                  1          454.0            140.0  \n",
       "18169                  0            NaN              NaN  \n",
       "4788                   0            NaN              NaN  \n",
       "14809                  0            NaN             74.0  \n",
       "21596                  0            NaN            157.0  \n",
       "11397                  0            NaN            106.0  \n",
       "20156                  0            NaN            174.0  \n",
       "12283                  0            NaN              NaN  \n",
       "2659                   3          137.0             91.0  \n",
       "14276                  3          263.0            546.0  "
      ]
     },
     "execution_count": 23,
     "metadata": {},
     "output_type": "execute_result"
    }
   ],
   "source": [
    "data[(data['locality_name'] == 'Санкт-Петербург') & (data['total_area'] > 100) & (data['total_area'] < 110) \\\n",
    "     & (data['city_centers_nearest'] < 10000) & (data['city_centers_nearest'] > 9000)].sort_values('last_price')"
   ]
  },
  {
   "cell_type": "markdown",
   "metadata": {},
   "source": [
    "На основании отфильтрованных данных видим, что значение 12190.0 - это цена, указанная в тысячах рублей. Домножим это значение на 1000, чтобы получить значение в рублях."
   ]
  },
  {
   "cell_type": "code",
   "execution_count": 24,
   "metadata": {},
   "outputs": [],
   "source": [
    "data.loc[8793, 'last_price'] *= 1000"
   ]
  },
  {
   "cell_type": "markdown",
   "metadata": {},
   "source": [
    "Проверим, сколько в датафрейме содержится объектов с ценой более 100 000 000 руб."
   ]
  },
  {
   "cell_type": "code",
   "execution_count": 25,
   "metadata": {},
   "outputs": [
    {
     "data": {
      "text/plain": [
       "131"
      ]
     },
     "execution_count": 25,
     "metadata": {},
     "output_type": "execute_result"
    }
   ],
   "source": [
    "data.query('last_price > 50000000').shape[0]"
   ]
  },
  {
   "cell_type": "markdown",
   "metadata": {},
   "source": [
    "Исключим из датафрейма объекты с аномально высокими значениями цены."
   ]
  },
  {
   "cell_type": "code",
   "execution_count": 26,
   "metadata": {},
   "outputs": [],
   "source": [
    "data = data.query('last_price <= 50000000')"
   ]
  },
  {
   "cell_type": "markdown",
   "metadata": {},
   "source": [
    "Проверим, сколько в датафрейме содержится объектов с общей площадью более 200 м.кв.."
   ]
  },
  {
   "cell_type": "code",
   "execution_count": 27,
   "metadata": {},
   "outputs": [
    {
     "data": {
      "text/plain": [
       "146"
      ]
     },
     "execution_count": 27,
     "metadata": {},
     "output_type": "execute_result"
    }
   ],
   "source": [
    "data.query('total_area > 200').shape[0]"
   ]
  },
  {
   "cell_type": "markdown",
   "metadata": {},
   "source": [
    "Исключим из датафрейма объекты с общей площадью более 200 м.кв."
   ]
  },
  {
   "cell_type": "code",
   "execution_count": 28,
   "metadata": {},
   "outputs": [],
   "source": [
    "data = data.query('total_area <= 200')"
   ]
  },
  {
   "cell_type": "markdown",
   "metadata": {},
   "source": [
    "Выведем уникальные значения количества комнат."
   ]
  },
  {
   "cell_type": "code",
   "execution_count": 29,
   "metadata": {},
   "outputs": [
    {
     "data": {
      "text/plain": [
       "[0, 1, 2, 3, 4, 5, 6, 7, 8, 11]"
      ]
     },
     "execution_count": 29,
     "metadata": {},
     "output_type": "execute_result"
    }
   ],
   "source": [
    "sorted(data['rooms'].unique())"
   ]
  },
  {
   "cell_type": "markdown",
   "metadata": {},
   "source": [
    "Проверим, сколько объектов с числом комнат больше 7 содержится в датафрейме."
   ]
  },
  {
   "cell_type": "code",
   "execution_count": 30,
   "metadata": {},
   "outputs": [
    {
     "data": {
      "text/plain": [
       "24"
      ]
     },
     "execution_count": 30,
     "metadata": {},
     "output_type": "execute_result"
    }
   ],
   "source": [
    "data.query('rooms > 6').shape[0]"
   ]
  },
  {
   "cell_type": "markdown",
   "metadata": {},
   "source": [
    "Исключим из датафрейма объекты с аномально большими значениями количества комнат."
   ]
  },
  {
   "cell_type": "code",
   "execution_count": 31,
   "metadata": {},
   "outputs": [],
   "source": [
    "data = data[data['rooms'] <= 6]"
   ]
  },
  {
   "cell_type": "markdown",
   "metadata": {},
   "source": [
    "Найдем все объекты с количеством комнат, равным нулю."
   ]
  },
  {
   "cell_type": "code",
   "execution_count": 32,
   "metadata": {},
   "outputs": [
    {
     "data": {
      "text/html": [
       "<div>\n",
       "<style scoped>\n",
       "    .dataframe tbody tr th:only-of-type {\n",
       "        vertical-align: middle;\n",
       "    }\n",
       "\n",
       "    .dataframe tbody tr th {\n",
       "        vertical-align: top;\n",
       "    }\n",
       "\n",
       "    .dataframe thead th {\n",
       "        text-align: right;\n",
       "    }\n",
       "</style>\n",
       "<table border=\"1\" class=\"dataframe\">\n",
       "  <thead>\n",
       "    <tr style=\"text-align: right;\">\n",
       "      <th></th>\n",
       "      <th>total_images</th>\n",
       "      <th>last_price</th>\n",
       "      <th>total_area</th>\n",
       "      <th>first_day_exposition</th>\n",
       "      <th>rooms</th>\n",
       "      <th>ceiling_height</th>\n",
       "      <th>floors_total</th>\n",
       "      <th>living_area</th>\n",
       "      <th>floor</th>\n",
       "      <th>is_apartment</th>\n",
       "      <th>studio</th>\n",
       "      <th>open_plan</th>\n",
       "      <th>kitchen_area</th>\n",
       "      <th>balcony</th>\n",
       "      <th>locality_name</th>\n",
       "      <th>airports_nearest</th>\n",
       "      <th>city_centers_nearest</th>\n",
       "      <th>parks_around_3000</th>\n",
       "      <th>parks_nearest</th>\n",
       "      <th>ponds_around_3000</th>\n",
       "      <th>ponds_nearest</th>\n",
       "      <th>days_exposition</th>\n",
       "    </tr>\n",
       "  </thead>\n",
       "  <tbody>\n",
       "    <tr>\n",
       "      <th>144</th>\n",
       "      <td>1</td>\n",
       "      <td>2450000.0</td>\n",
       "      <td>27.00</td>\n",
       "      <td>2017-03-30</td>\n",
       "      <td>0</td>\n",
       "      <td>2.65</td>\n",
       "      <td>24.0</td>\n",
       "      <td>15.50</td>\n",
       "      <td>2</td>\n",
       "      <td>False</td>\n",
       "      <td>True</td>\n",
       "      <td>False</td>\n",
       "      <td>NaN</td>\n",
       "      <td>2</td>\n",
       "      <td>посёлок Мурино</td>\n",
       "      <td>NaN</td>\n",
       "      <td>NaN</td>\n",
       "      <td>0</td>\n",
       "      <td>NaN</td>\n",
       "      <td>0</td>\n",
       "      <td>NaN</td>\n",
       "      <td>181.0</td>\n",
       "    </tr>\n",
       "    <tr>\n",
       "      <th>349</th>\n",
       "      <td>4</td>\n",
       "      <td>2320000.0</td>\n",
       "      <td>25.00</td>\n",
       "      <td>2017-09-27</td>\n",
       "      <td>0</td>\n",
       "      <td>2.65</td>\n",
       "      <td>14.0</td>\n",
       "      <td>17.00</td>\n",
       "      <td>1</td>\n",
       "      <td>False</td>\n",
       "      <td>False</td>\n",
       "      <td>True</td>\n",
       "      <td>NaN</td>\n",
       "      <td>0</td>\n",
       "      <td>деревня Кудрово</td>\n",
       "      <td>NaN</td>\n",
       "      <td>NaN</td>\n",
       "      <td>0</td>\n",
       "      <td>NaN</td>\n",
       "      <td>0</td>\n",
       "      <td>NaN</td>\n",
       "      <td>45.0</td>\n",
       "    </tr>\n",
       "    <tr>\n",
       "      <th>440</th>\n",
       "      <td>8</td>\n",
       "      <td>2480000.0</td>\n",
       "      <td>27.11</td>\n",
       "      <td>2018-03-12</td>\n",
       "      <td>0</td>\n",
       "      <td>2.65</td>\n",
       "      <td>17.0</td>\n",
       "      <td>24.75</td>\n",
       "      <td>4</td>\n",
       "      <td>False</td>\n",
       "      <td>True</td>\n",
       "      <td>False</td>\n",
       "      <td>NaN</td>\n",
       "      <td>2</td>\n",
       "      <td>Санкт-Петербург</td>\n",
       "      <td>38171.0</td>\n",
       "      <td>15015.0</td>\n",
       "      <td>0</td>\n",
       "      <td>NaN</td>\n",
       "      <td>2</td>\n",
       "      <td>982.0</td>\n",
       "      <td>64.0</td>\n",
       "    </tr>\n",
       "    <tr>\n",
       "      <th>508</th>\n",
       "      <td>0</td>\n",
       "      <td>3375000.0</td>\n",
       "      <td>34.40</td>\n",
       "      <td>2017-03-28</td>\n",
       "      <td>0</td>\n",
       "      <td>2.65</td>\n",
       "      <td>26.0</td>\n",
       "      <td>24.30</td>\n",
       "      <td>19</td>\n",
       "      <td>False</td>\n",
       "      <td>False</td>\n",
       "      <td>True</td>\n",
       "      <td>NaN</td>\n",
       "      <td>1</td>\n",
       "      <td>посёлок Парголово</td>\n",
       "      <td>53115.0</td>\n",
       "      <td>19292.0</td>\n",
       "      <td>0</td>\n",
       "      <td>NaN</td>\n",
       "      <td>1</td>\n",
       "      <td>593.0</td>\n",
       "      <td>430.0</td>\n",
       "    </tr>\n",
       "    <tr>\n",
       "      <th>608</th>\n",
       "      <td>2</td>\n",
       "      <td>1850000.0</td>\n",
       "      <td>25.00</td>\n",
       "      <td>2019-02-20</td>\n",
       "      <td>0</td>\n",
       "      <td>2.65</td>\n",
       "      <td>10.0</td>\n",
       "      <td>NaN</td>\n",
       "      <td>7</td>\n",
       "      <td>False</td>\n",
       "      <td>True</td>\n",
       "      <td>False</td>\n",
       "      <td>NaN</td>\n",
       "      <td>0</td>\n",
       "      <td>посёлок Шушары</td>\n",
       "      <td>NaN</td>\n",
       "      <td>NaN</td>\n",
       "      <td>0</td>\n",
       "      <td>NaN</td>\n",
       "      <td>0</td>\n",
       "      <td>NaN</td>\n",
       "      <td>29.0</td>\n",
       "    </tr>\n",
       "    <tr>\n",
       "      <th>...</th>\n",
       "      <td>...</td>\n",
       "      <td>...</td>\n",
       "      <td>...</td>\n",
       "      <td>...</td>\n",
       "      <td>...</td>\n",
       "      <td>...</td>\n",
       "      <td>...</td>\n",
       "      <td>...</td>\n",
       "      <td>...</td>\n",
       "      <td>...</td>\n",
       "      <td>...</td>\n",
       "      <td>...</td>\n",
       "      <td>...</td>\n",
       "      <td>...</td>\n",
       "      <td>...</td>\n",
       "      <td>...</td>\n",
       "      <td>...</td>\n",
       "      <td>...</td>\n",
       "      <td>...</td>\n",
       "      <td>...</td>\n",
       "      <td>...</td>\n",
       "      <td>...</td>\n",
       "    </tr>\n",
       "    <tr>\n",
       "      <th>23210</th>\n",
       "      <td>7</td>\n",
       "      <td>3200000.0</td>\n",
       "      <td>26.00</td>\n",
       "      <td>2017-09-01</td>\n",
       "      <td>0</td>\n",
       "      <td>2.65</td>\n",
       "      <td>25.0</td>\n",
       "      <td>18.00</td>\n",
       "      <td>16</td>\n",
       "      <td>False</td>\n",
       "      <td>True</td>\n",
       "      <td>False</td>\n",
       "      <td>NaN</td>\n",
       "      <td>0</td>\n",
       "      <td>Санкт-Петербург</td>\n",
       "      <td>11405.0</td>\n",
       "      <td>13222.0</td>\n",
       "      <td>0</td>\n",
       "      <td>NaN</td>\n",
       "      <td>1</td>\n",
       "      <td>623.0</td>\n",
       "      <td>14.0</td>\n",
       "    </tr>\n",
       "    <tr>\n",
       "      <th>23442</th>\n",
       "      <td>0</td>\n",
       "      <td>2500000.0</td>\n",
       "      <td>27.70</td>\n",
       "      <td>2017-09-28</td>\n",
       "      <td>0</td>\n",
       "      <td>2.65</td>\n",
       "      <td>24.0</td>\n",
       "      <td>18.00</td>\n",
       "      <td>4</td>\n",
       "      <td>False</td>\n",
       "      <td>False</td>\n",
       "      <td>True</td>\n",
       "      <td>NaN</td>\n",
       "      <td>2</td>\n",
       "      <td>посёлок Мурино</td>\n",
       "      <td>NaN</td>\n",
       "      <td>NaN</td>\n",
       "      <td>0</td>\n",
       "      <td>NaN</td>\n",
       "      <td>0</td>\n",
       "      <td>NaN</td>\n",
       "      <td>4.0</td>\n",
       "    </tr>\n",
       "    <tr>\n",
       "      <th>23554</th>\n",
       "      <td>15</td>\n",
       "      <td>3350000.0</td>\n",
       "      <td>26.00</td>\n",
       "      <td>2018-09-07</td>\n",
       "      <td>0</td>\n",
       "      <td>2.65</td>\n",
       "      <td>19.0</td>\n",
       "      <td>NaN</td>\n",
       "      <td>8</td>\n",
       "      <td>False</td>\n",
       "      <td>True</td>\n",
       "      <td>False</td>\n",
       "      <td>NaN</td>\n",
       "      <td>0</td>\n",
       "      <td>Санкт-Петербург</td>\n",
       "      <td>18090.0</td>\n",
       "      <td>17092.0</td>\n",
       "      <td>0</td>\n",
       "      <td>NaN</td>\n",
       "      <td>2</td>\n",
       "      <td>112.0</td>\n",
       "      <td>31.0</td>\n",
       "    </tr>\n",
       "    <tr>\n",
       "      <th>23592</th>\n",
       "      <td>10</td>\n",
       "      <td>1450000.0</td>\n",
       "      <td>29.00</td>\n",
       "      <td>2017-11-11</td>\n",
       "      <td>0</td>\n",
       "      <td>2.65</td>\n",
       "      <td>9.0</td>\n",
       "      <td>18.00</td>\n",
       "      <td>8</td>\n",
       "      <td>False</td>\n",
       "      <td>False</td>\n",
       "      <td>True</td>\n",
       "      <td>NaN</td>\n",
       "      <td>2</td>\n",
       "      <td>Никольское</td>\n",
       "      <td>NaN</td>\n",
       "      <td>NaN</td>\n",
       "      <td>0</td>\n",
       "      <td>NaN</td>\n",
       "      <td>0</td>\n",
       "      <td>NaN</td>\n",
       "      <td>82.0</td>\n",
       "    </tr>\n",
       "    <tr>\n",
       "      <th>23637</th>\n",
       "      <td>8</td>\n",
       "      <td>2350000.0</td>\n",
       "      <td>26.00</td>\n",
       "      <td>2018-06-26</td>\n",
       "      <td>0</td>\n",
       "      <td>2.65</td>\n",
       "      <td>25.0</td>\n",
       "      <td>17.00</td>\n",
       "      <td>4</td>\n",
       "      <td>False</td>\n",
       "      <td>True</td>\n",
       "      <td>False</td>\n",
       "      <td>NaN</td>\n",
       "      <td>2</td>\n",
       "      <td>посёлок Бугры</td>\n",
       "      <td>NaN</td>\n",
       "      <td>NaN</td>\n",
       "      <td>0</td>\n",
       "      <td>NaN</td>\n",
       "      <td>0</td>\n",
       "      <td>NaN</td>\n",
       "      <td>207.0</td>\n",
       "    </tr>\n",
       "  </tbody>\n",
       "</table>\n",
       "<p>196 rows × 22 columns</p>\n",
       "</div>"
      ],
      "text/plain": [
       "       total_images  last_price  total_area first_day_exposition  rooms  \\\n",
       "144               1   2450000.0       27.00           2017-03-30      0   \n",
       "349               4   2320000.0       25.00           2017-09-27      0   \n",
       "440               8   2480000.0       27.11           2018-03-12      0   \n",
       "508               0   3375000.0       34.40           2017-03-28      0   \n",
       "608               2   1850000.0       25.00           2019-02-20      0   \n",
       "...             ...         ...         ...                  ...    ...   \n",
       "23210             7   3200000.0       26.00           2017-09-01      0   \n",
       "23442             0   2500000.0       27.70           2017-09-28      0   \n",
       "23554            15   3350000.0       26.00           2018-09-07      0   \n",
       "23592            10   1450000.0       29.00           2017-11-11      0   \n",
       "23637             8   2350000.0       26.00           2018-06-26      0   \n",
       "\n",
       "       ceiling_height  floors_total  living_area  floor  is_apartment  studio  \\\n",
       "144              2.65          24.0        15.50      2         False    True   \n",
       "349              2.65          14.0        17.00      1         False   False   \n",
       "440              2.65          17.0        24.75      4         False    True   \n",
       "508              2.65          26.0        24.30     19         False   False   \n",
       "608              2.65          10.0          NaN      7         False    True   \n",
       "...               ...           ...          ...    ...           ...     ...   \n",
       "23210            2.65          25.0        18.00     16         False    True   \n",
       "23442            2.65          24.0        18.00      4         False   False   \n",
       "23554            2.65          19.0          NaN      8         False    True   \n",
       "23592            2.65           9.0        18.00      8         False   False   \n",
       "23637            2.65          25.0        17.00      4         False    True   \n",
       "\n",
       "       open_plan  kitchen_area  balcony      locality_name  airports_nearest  \\\n",
       "144        False           NaN        2     посёлок Мурино               NaN   \n",
       "349         True           NaN        0    деревня Кудрово               NaN   \n",
       "440        False           NaN        2    Санкт-Петербург           38171.0   \n",
       "508         True           NaN        1  посёлок Парголово           53115.0   \n",
       "608        False           NaN        0     посёлок Шушары               NaN   \n",
       "...          ...           ...      ...                ...               ...   \n",
       "23210      False           NaN        0    Санкт-Петербург           11405.0   \n",
       "23442       True           NaN        2     посёлок Мурино               NaN   \n",
       "23554      False           NaN        0    Санкт-Петербург           18090.0   \n",
       "23592       True           NaN        2         Никольское               NaN   \n",
       "23637      False           NaN        2      посёлок Бугры               NaN   \n",
       "\n",
       "       city_centers_nearest  parks_around_3000  parks_nearest  \\\n",
       "144                     NaN                  0            NaN   \n",
       "349                     NaN                  0            NaN   \n",
       "440                 15015.0                  0            NaN   \n",
       "508                 19292.0                  0            NaN   \n",
       "608                     NaN                  0            NaN   \n",
       "...                     ...                ...            ...   \n",
       "23210               13222.0                  0            NaN   \n",
       "23442                   NaN                  0            NaN   \n",
       "23554               17092.0                  0            NaN   \n",
       "23592                   NaN                  0            NaN   \n",
       "23637                   NaN                  0            NaN   \n",
       "\n",
       "       ponds_around_3000  ponds_nearest  days_exposition  \n",
       "144                    0            NaN            181.0  \n",
       "349                    0            NaN             45.0  \n",
       "440                    2          982.0             64.0  \n",
       "508                    1          593.0            430.0  \n",
       "608                    0            NaN             29.0  \n",
       "...                  ...            ...              ...  \n",
       "23210                  1          623.0             14.0  \n",
       "23442                  0            NaN              4.0  \n",
       "23554                  2          112.0             31.0  \n",
       "23592                  0            NaN             82.0  \n",
       "23637                  0            NaN            207.0  \n",
       "\n",
       "[196 rows x 22 columns]"
      ]
     },
     "execution_count": 32,
     "metadata": {},
     "output_type": "execute_result"
    }
   ],
   "source": [
    "data.query('rooms == 0')"
   ]
  },
  {
   "cell_type": "markdown",
   "metadata": {},
   "source": [
    "Таких объектов всего 196. Проверим, все ли объекты с количеством комнат \"0\" являются квартирой-студией или объектом со свободной планировкой."
   ]
  },
  {
   "cell_type": "code",
   "execution_count": 33,
   "metadata": {},
   "outputs": [
    {
     "data": {
      "text/plain": [
       "196"
      ]
     },
     "execution_count": 33,
     "metadata": {},
     "output_type": "execute_result"
    }
   ],
   "source": [
    "data.query('rooms == 0 and ((open_plan == True) or (studio == True))')['total_area'].count()"
   ]
  },
  {
   "cell_type": "markdown",
   "metadata": {},
   "source": [
    "Количество комнат \"0\" указано для квартир-студий и объектов со свободной планировкой."
   ]
  },
  {
   "cell_type": "markdown",
   "metadata": {},
   "source": [
    "Проверим данные на наличие дубликатов."
   ]
  },
  {
   "cell_type": "code",
   "execution_count": 34,
   "metadata": {
    "scrolled": true
   },
   "outputs": [
    {
     "data": {
      "text/plain": [
       "0"
      ]
     },
     "execution_count": 34,
     "metadata": {},
     "output_type": "execute_result"
    }
   ],
   "source": [
    "data.duplicated().sum() # проверим на наличие полных дубликатов строк"
   ]
  },
  {
   "cell_type": "markdown",
   "metadata": {},
   "source": [
    "Полные дубликаты строк отсутствуют."
   ]
  },
  {
   "cell_type": "markdown",
   "metadata": {},
   "source": [
    "Данные с названиями локации могут иметь неявные дубликаты. Выведем список уникальных значений столбца `locality_name`. Для более удобного просмотра отсортируем список."
   ]
  },
  {
   "cell_type": "code",
   "execution_count": 35,
   "metadata": {},
   "outputs": [
    {
     "data": {
      "text/plain": [
       "['Бокситогорск',\n",
       " 'Волосово',\n",
       " 'Волхов',\n",
       " 'Всеволожск',\n",
       " 'Выборг',\n",
       " 'Высоцк',\n",
       " 'Гатчина',\n",
       " 'Зеленогорск',\n",
       " 'Ивангород',\n",
       " 'Каменногорск',\n",
       " 'Кингисепп',\n",
       " 'Кириши',\n",
       " 'Кировск',\n",
       " 'Колпино',\n",
       " 'Коммунар',\n",
       " 'Красное Село',\n",
       " 'Кронштадт',\n",
       " 'Кудрово',\n",
       " 'Лодейное Поле',\n",
       " 'Ломоносов',\n",
       " 'Луга',\n",
       " 'Любань',\n",
       " 'Мурино',\n",
       " 'Никольское',\n",
       " 'Новая Ладога',\n",
       " 'Отрадное',\n",
       " 'Павловск',\n",
       " 'Петергоф',\n",
       " 'Пикалёво',\n",
       " 'Подпорожье',\n",
       " 'Приморск',\n",
       " 'Приозерск',\n",
       " 'Пушкин',\n",
       " 'Санкт-Петербург',\n",
       " 'Светогорск',\n",
       " 'Сертолово',\n",
       " 'Сестрорецк',\n",
       " 'Сланцы',\n",
       " 'Сосновый Бор',\n",
       " 'Сясьстрой',\n",
       " 'Тихвин',\n",
       " 'Тосно',\n",
       " 'Шлиссельбург',\n",
       " 'городской поселок Большая Ижора',\n",
       " 'городской поселок Янино-1',\n",
       " 'городской посёлок Будогощь',\n",
       " 'городской посёлок Виллози',\n",
       " 'городской посёлок Лесогорский',\n",
       " 'городской посёлок Мга',\n",
       " 'городской посёлок Назия',\n",
       " 'городской посёлок Новоселье',\n",
       " 'городской посёлок Павлово',\n",
       " 'городской посёлок Рощино',\n",
       " 'городской посёлок Свирьстрой',\n",
       " 'городской посёлок Советский',\n",
       " 'городской посёлок Фёдоровское',\n",
       " 'городской посёлок Янино-1',\n",
       " 'деревня Агалатово',\n",
       " 'деревня Аро',\n",
       " 'деревня Батово',\n",
       " 'деревня Бегуницы',\n",
       " 'деревня Белогорка',\n",
       " 'деревня Большая Вруда',\n",
       " 'деревня Большая Пустомержа',\n",
       " 'деревня Большие Колпаны',\n",
       " 'деревня Большое Рейзино',\n",
       " 'деревня Большой Сабск',\n",
       " 'деревня Бор',\n",
       " 'деревня Борисова Грива',\n",
       " 'деревня Ваганово',\n",
       " 'деревня Вартемяги',\n",
       " 'деревня Вахнова Кара',\n",
       " 'деревня Выскатка',\n",
       " 'деревня Гарболово',\n",
       " 'деревня Глинка',\n",
       " 'деревня Горбунки',\n",
       " 'деревня Гостилицы',\n",
       " 'деревня Заклинье',\n",
       " 'деревня Заневка',\n",
       " 'деревня Зимитицы',\n",
       " 'деревня Извара',\n",
       " 'деревня Иссад',\n",
       " 'деревня Калитино',\n",
       " 'деревня Кальтино',\n",
       " 'деревня Камышовка',\n",
       " 'деревня Каськово',\n",
       " 'деревня Келози',\n",
       " 'деревня Кипень',\n",
       " 'деревня Кисельня',\n",
       " 'деревня Колтуши',\n",
       " 'деревня Коркино',\n",
       " 'деревня Котлы',\n",
       " 'деревня Кривко',\n",
       " 'деревня Кудрово',\n",
       " 'деревня Кузьмолово',\n",
       " 'деревня Курковицы',\n",
       " 'деревня Куровицы',\n",
       " 'деревня Куттузи',\n",
       " 'деревня Лаврики',\n",
       " 'деревня Лаголово',\n",
       " 'деревня Лампово',\n",
       " 'деревня Лесколово',\n",
       " 'деревня Лопухинка',\n",
       " 'деревня Лупполово',\n",
       " 'деревня Малая Романовка',\n",
       " 'деревня Малое Верево',\n",
       " 'деревня Малое Карлино',\n",
       " 'деревня Малые Колпаны',\n",
       " 'деревня Мануйлово',\n",
       " 'деревня Меньково',\n",
       " 'деревня Мины',\n",
       " 'деревня Мистолово',\n",
       " 'деревня Ненимяки',\n",
       " 'деревня Нижние Осельки',\n",
       " 'деревня Нижняя',\n",
       " 'деревня Низино',\n",
       " 'деревня Новое Девяткино',\n",
       " 'деревня Новолисино',\n",
       " 'деревня Нурма',\n",
       " 'деревня Оржицы',\n",
       " 'деревня Парицы',\n",
       " 'деревня Пельгора',\n",
       " 'деревня Пеники',\n",
       " 'деревня Пижма',\n",
       " 'деревня Пикколово',\n",
       " 'деревня Пудомяги',\n",
       " 'деревня Пустынка',\n",
       " 'деревня Пчева',\n",
       " 'деревня Рабитицы',\n",
       " 'деревня Разбегаево',\n",
       " 'деревня Раздолье',\n",
       " 'деревня Разметелево',\n",
       " 'деревня Рапполово',\n",
       " 'деревня Реброво',\n",
       " 'деревня Русско',\n",
       " 'деревня Сижно',\n",
       " 'деревня Снегирёвка',\n",
       " 'деревня Старая',\n",
       " 'деревня Старая Пустошь',\n",
       " 'деревня Старое Хинколово',\n",
       " 'деревня Старополье',\n",
       " 'деревня Старосиверская',\n",
       " 'деревня Старые Бегуницы',\n",
       " 'деревня Суоранда',\n",
       " 'деревня Сяськелево',\n",
       " 'деревня Тарасово',\n",
       " 'деревня Терпилицы',\n",
       " 'деревня Тихковицы',\n",
       " 'деревня Тойворово',\n",
       " 'деревня Торосово',\n",
       " 'деревня Торошковичи',\n",
       " 'деревня Трубников Бор',\n",
       " 'деревня Фалилеево',\n",
       " 'деревня Фёдоровское',\n",
       " 'деревня Хапо-Ое',\n",
       " 'деревня Чудской Бор',\n",
       " 'деревня Шпаньково',\n",
       " 'деревня Щеглово',\n",
       " 'деревня Юкки',\n",
       " 'деревня Ялгино',\n",
       " 'деревня Яльгелево',\n",
       " 'деревня Ям-Тесово',\n",
       " 'коттеджный поселок Кивеннапа Север',\n",
       " 'коттеджный поселок Счастье',\n",
       " 'коттеджный посёлок Лесное',\n",
       " 'поселок Аннино',\n",
       " 'поселок Барышево',\n",
       " 'поселок Бугры',\n",
       " 'поселок Возрождение',\n",
       " 'поселок Войсковицы',\n",
       " 'поселок Володарское',\n",
       " 'поселок Гаврилово',\n",
       " 'поселок Гарболово',\n",
       " 'поселок Гладкое',\n",
       " 'поселок Глажево',\n",
       " 'поселок Глебычево',\n",
       " 'поселок Гончарово',\n",
       " 'поселок Громово',\n",
       " 'поселок Дружноселье',\n",
       " 'поселок Елизаветино',\n",
       " 'поселок Жилгородок',\n",
       " 'поселок Жилпосёлок',\n",
       " 'поселок Житково',\n",
       " 'поселок Заводской',\n",
       " 'поселок Запорожское',\n",
       " 'поселок Зимитицы',\n",
       " 'поселок Ильичёво',\n",
       " 'поселок Калитино',\n",
       " 'поселок Каложицы',\n",
       " 'поселок Кингисеппский',\n",
       " 'поселок Кирпичное',\n",
       " 'поселок Кобралово',\n",
       " 'поселок Кобринское',\n",
       " 'поселок Коммунары',\n",
       " 'поселок Коробицыно',\n",
       " 'поселок Котельский',\n",
       " 'поселок Красная Долина',\n",
       " 'поселок Красносельское',\n",
       " 'поселок Лесное',\n",
       " 'поселок Лисий Нос',\n",
       " 'поселок Лукаши',\n",
       " 'поселок Любань',\n",
       " 'поселок Мельниково',\n",
       " 'поселок Мичуринское',\n",
       " 'поселок Молодцово',\n",
       " 'поселок Мурино',\n",
       " 'поселок Новый Свет',\n",
       " 'поселок Новый Учхоз',\n",
       " 'поселок Оредеж',\n",
       " 'поселок Пансионат Зелёный Бор',\n",
       " 'поселок Первомайское',\n",
       " 'поселок Перово',\n",
       " 'поселок Петровское',\n",
       " 'поселок Победа',\n",
       " 'поселок Поляны',\n",
       " 'поселок Почап',\n",
       " 'поселок Починок',\n",
       " 'поселок Пушное',\n",
       " 'поселок Пчевжа',\n",
       " 'поселок Рабитицы',\n",
       " 'поселок Романовка',\n",
       " 'поселок Ромашки',\n",
       " 'поселок Рябово',\n",
       " 'поселок Севастьяново',\n",
       " 'поселок Селезнёво',\n",
       " 'поселок Сельцо',\n",
       " 'поселок Семиозерье',\n",
       " 'поселок Семрино',\n",
       " 'поселок Серебрянский',\n",
       " 'поселок Совхозный',\n",
       " 'поселок Старая Малукса',\n",
       " 'поселок Стеклянный',\n",
       " 'поселок Сумино',\n",
       " 'поселок Суходолье',\n",
       " 'поселок Тельмана',\n",
       " 'поселок Терволово',\n",
       " 'поселок Торковичи',\n",
       " 'поселок Тёсово-4',\n",
       " 'поселок Углово',\n",
       " 'поселок Усть-Луга',\n",
       " 'поселок Ушаки',\n",
       " 'поселок Цвелодубово',\n",
       " 'поселок Цвылёво',\n",
       " 'поселок городского типа Большая Ижора',\n",
       " 'поселок городского типа Вырица',\n",
       " 'поселок городского типа Дружная Горка',\n",
       " 'поселок городского типа Дубровка',\n",
       " 'поселок городского типа Ефимовский',\n",
       " 'поселок городского типа Кондратьево',\n",
       " 'поселок городского типа Красный Бор',\n",
       " 'поселок городского типа Кузьмоловский',\n",
       " 'поселок городского типа Лебяжье',\n",
       " 'поселок городского типа Лесогорский',\n",
       " 'поселок городского типа Назия',\n",
       " 'поселок городского типа Никольский',\n",
       " 'поселок городского типа Приладожский',\n",
       " 'поселок городского типа Рахья',\n",
       " 'поселок городского типа Рощино',\n",
       " 'поселок городского типа Рябово',\n",
       " 'поселок городского типа Синявино',\n",
       " 'поселок городского типа Советский',\n",
       " 'поселок городского типа Токсово',\n",
       " 'поселок городского типа Форносово',\n",
       " 'поселок городского типа имени Свердлова',\n",
       " 'поселок станции Вещево',\n",
       " 'поселок станции Корнево',\n",
       " 'поселок станции Лужайка',\n",
       " 'поселок станции Приветнинское',\n",
       " 'посёлок Александровская',\n",
       " 'посёлок Алексеевка',\n",
       " 'посёлок Аннино',\n",
       " 'посёлок Белоостров',\n",
       " 'посёлок Бугры',\n",
       " 'посёлок Возрождение',\n",
       " 'посёлок Войскорово',\n",
       " 'посёлок Высокоключевой',\n",
       " 'посёлок Гаврилово',\n",
       " 'посёлок Дзержинского',\n",
       " 'посёлок Жилгородок',\n",
       " 'посёлок Ильичёво',\n",
       " 'посёлок Кикерино',\n",
       " 'посёлок Кобралово',\n",
       " 'посёлок Коробицыно',\n",
       " 'посёлок Левашово',\n",
       " 'посёлок Ленинское',\n",
       " 'посёлок Лисий Нос',\n",
       " 'посёлок Мельниково',\n",
       " 'посёлок Металлострой',\n",
       " 'посёлок Мичуринское',\n",
       " 'посёлок Молодёжное',\n",
       " 'посёлок Мурино',\n",
       " 'посёлок Мыза-Ивановка',\n",
       " 'посёлок Новогорелово',\n",
       " 'посёлок Новый Свет',\n",
       " 'посёлок Пансионат Зелёный Бор',\n",
       " 'посёлок Парголово',\n",
       " 'посёлок Перово',\n",
       " 'посёлок Песочный',\n",
       " 'посёлок Петро-Славянка',\n",
       " 'посёлок Петровское',\n",
       " 'посёлок Платформа 69-й километр',\n",
       " 'посёлок Плодовое',\n",
       " 'посёлок Плоское',\n",
       " 'посёлок Победа',\n",
       " 'посёлок Поляны',\n",
       " 'посёлок Понтонный',\n",
       " 'посёлок Пригородный',\n",
       " 'посёлок Пудость',\n",
       " 'посёлок Репино',\n",
       " 'посёлок Ропша',\n",
       " 'посёлок Сапёрное',\n",
       " 'посёлок Сапёрный',\n",
       " 'посёлок Сосново',\n",
       " 'посёлок Старая Малукса',\n",
       " 'посёлок Стеклянный',\n",
       " 'посёлок Стрельна',\n",
       " 'посёлок Суйда',\n",
       " 'посёлок Сумино',\n",
       " 'посёлок Тельмана',\n",
       " 'посёлок Терволово',\n",
       " 'посёлок Торфяное',\n",
       " 'посёлок Усть-Ижора',\n",
       " 'посёлок Усть-Луга',\n",
       " 'посёлок Форт Красная Горка',\n",
       " 'посёлок Шугозеро',\n",
       " 'посёлок Шушары',\n",
       " 'посёлок Щеглово',\n",
       " 'посёлок городского типа Важины',\n",
       " 'посёлок городского типа Вознесенье',\n",
       " 'посёлок городского типа Вырица',\n",
       " 'посёлок городского типа Красный Бор',\n",
       " 'посёлок городского типа Кузнечное',\n",
       " 'посёлок городского типа Кузьмоловский',\n",
       " 'посёлок городского типа Лебяжье',\n",
       " 'посёлок городского типа Мга',\n",
       " 'посёлок городского типа Павлово',\n",
       " 'посёлок городского типа Рощино',\n",
       " 'посёлок городского типа Рябово',\n",
       " 'посёлок городского типа Сиверский',\n",
       " 'посёлок городского типа Тайцы',\n",
       " 'посёлок городского типа Токсово',\n",
       " 'посёлок городского типа Ульяновка',\n",
       " 'посёлок городского типа Форносово',\n",
       " 'посёлок городского типа имени Морозова',\n",
       " 'посёлок городского типа имени Свердлова',\n",
       " 'посёлок при железнодорожной станции Вещево',\n",
       " 'посёлок при железнодорожной станции Приветнинское',\n",
       " 'посёлок станции Громово',\n",
       " 'посёлок станции Свирь',\n",
       " 'садоводческое некоммерческое товарищество Лесная Поляна',\n",
       " 'садовое товарищество Новая Ропша',\n",
       " 'садовое товарищество Приладожский',\n",
       " 'садовое товарищество Рахья',\n",
       " 'садовое товарищество Садко',\n",
       " 'село Копорье',\n",
       " 'село Никольское',\n",
       " 'село Павлово',\n",
       " 'село Паша',\n",
       " 'село Путилово',\n",
       " 'село Рождествено',\n",
       " 'село Русско-Высоцкое',\n",
       " 'село Старая Ладога',\n",
       " 'село Шум']"
      ]
     },
     "execution_count": 35,
     "metadata": {},
     "output_type": "execute_result"
    }
   ],
   "source": [
    "sorted(data[data['locality_name'].notna()]['locality_name'].unique())"
   ]
  },
  {
   "cell_type": "markdown",
   "metadata": {},
   "source": [
    "На основании данного списка отметим, что одинаковые значения могут иметь различное написание (например, \"пос**е**лок Стекляный\" и \"пос**ё**лок Стекляный\", \"Никольское\" и \"село Никольское\" и т.п.)."
   ]
  },
  {
   "cell_type": "markdown",
   "metadata": {},
   "source": [
    "Для определения различных вариантов написания населенных пунктов создадим функцию, которая на вход будет принимать строку с типом и названием населенного пункта, а возвращать только название."
   ]
  },
  {
   "cell_type": "code",
   "execution_count": 36,
   "metadata": {},
   "outputs": [],
   "source": [
    "def find_name(row):\n",
    "    some_str = ''\n",
    "    try:\n",
    "        for word in row.split():\n",
    "        # Перебор слов в строке\n",
    "            if word == word.title() and some_str == '':\n",
    "                some_str += word\n",
    "            # Если слово написано с заглавной буквы, оно добавляется в пустую строку\n",
    "            elif word == word.title() and some_str != '':\n",
    "                some_str += (' ' + word)\n",
    "                # Если название населенного пункта состоит из двух слов, \n",
    "                # второе слово, написанное с заглавной буквы тоже добавляется в строку\n",
    "        return some_str\n",
    "        # Возвращается название населенного пункта, без указания типа\n",
    "    except:\n",
    "        pass\n",
    "    # Для того, чтобы работа функции не прекращалась при приеме на вход значения NaN, пропишем исключение"
   ]
  },
  {
   "cell_type": "markdown",
   "metadata": {},
   "source": [
    "Добавим в датафрейм новый столбец, в котором будут прописаны названия населенных пунктов."
   ]
  },
  {
   "cell_type": "code",
   "execution_count": 37,
   "metadata": {
    "scrolled": true
   },
   "outputs": [
    {
     "data": {
      "text/plain": [
       "array(['Санкт-Петербург', 'Шушары', 'Янино-1', 'Парголово', 'Мурино',\n",
       "       'Ломоносов', 'Сертолово', 'Петергоф', 'Пушкин', 'Кудрово',\n",
       "       'Коммунар', 'Колпино', 'Красный Бор', 'Гатчина', 'Фёдоровское',\n",
       "       'Выборг', 'Кронштадт', 'Кировск', 'Новое Девяткино',\n",
       "       'Металлострой', 'Лебяжье', 'Сиверский', 'Молодцово',\n",
       "       'Кузьмоловский', 'Новая Ропша', 'Павловск', 'Пикколово',\n",
       "       'Всеволожск', 'Волхов', 'Кингисепп', 'Приозерск', 'Сестрорецк',\n",
       "       'Куттузи', 'Аннино', 'Ефимовский', 'Плодовое', 'Заклинье',\n",
       "       'Торковичи', 'Первомайское', 'Красное Село', 'Понтонный',\n",
       "       'Сясьстрой', 'Старая', 'Лесколово', 'Новый Свет', 'Сланцы',\n",
       "       'Путилово', 'Ивангород', 'Шлиссельбург', 'Никольское',\n",
       "       'Зеленогорск', 'Сосновый Бор', 'Оржицы', 'Кальтино', 'Романовка',\n",
       "       'Бугры', 'Рощино', 'Кириши', 'Луга', 'Волосово', 'Отрадное',\n",
       "       'Павлово', 'Оредеж', 'Копорье', 'Молодёжное', 'Тихвин', 'Победа',\n",
       "       'Нурма', 'Синявино', 'Тосно', 'Стрельна', 'Бокситогорск',\n",
       "       'Александровская', 'Лопухинка', 'Пикалёво', 'Терволово',\n",
       "       'Советский', 'Подпорожье', 'Петровское', 'Токсово', 'Сельцо',\n",
       "       'Вырица', 'Кипень', 'Келози', 'Вартемяги', 'Тельмана',\n",
       "       'Севастьяново', 'Большая Ижора', None, 'Агалатово', 'Новогорелово',\n",
       "       'Лесогорский', 'Лаголово', 'Цвелодубово', 'Рахья', 'Белогорка',\n",
       "       'Заводской', 'Новоселье', 'Большие Колпаны', 'Горбунки', 'Батово',\n",
       "       'Заневка', 'Иссад', 'Приморск', 'Мистолово', 'Новая Ладога',\n",
       "       'Зимитицы', 'Барышево', 'Разметелево', 'Свердлова', 'Пеники',\n",
       "       'Рябово', 'Пудомяги', 'Корнево', 'Низино', 'Бегуницы', 'Поляны',\n",
       "       'Мга', 'Елизаветино', 'Кузнечное', 'Колтуши', 'Запорожское',\n",
       "       'Гостилицы', 'Малое Карлино', 'Мичуринское', 'Морозова',\n",
       "       'Песочный', 'Сосново', 'Аро', 'Ильичёво', 'Тайцы', 'Малое Верево',\n",
       "       'Извара', 'Вещево', 'Паша', 'Калитино', 'Ульяновка', 'Чудской Бор',\n",
       "       'Дубровка', 'Мины', 'Войсковицы', 'Коркино', 'Ропша',\n",
       "       'Приладожский', 'Щеглово', 'Гаврилово', 'Лодейное Поле',\n",
       "       'Рабитицы', 'Никольский', 'Кузьмолово', 'Малые Колпаны',\n",
       "       'Петро-Славянка', 'Назия', 'Репино', 'Углово', 'Старая Малукса',\n",
       "       'Меньково', 'Старые Бегуницы', 'Сапёрный', 'Семрино', 'Глажево',\n",
       "       'Кобринское', 'Гарболово', 'Юкки', 'Приветнинское', 'Мануйлово',\n",
       "       'Пчева', 'Цвылёво', 'Мельниково', 'Пудость', 'Усть-Луга',\n",
       "       'Светогорск', 'Любань', 'Селезнёво', 'Каменногорск', 'Кривко',\n",
       "       'Глебычево', 'Парицы', 'Жилпосёлок', 'Войскорово', 'Стеклянный',\n",
       "       'Важины', 'Мыза-Ивановка', 'Русско-Высоцкое', 'Форносово',\n",
       "       'Старая Ладога', 'Житково', 'Виллози', 'Лампово', 'Шпаньково',\n",
       "       'Лаврики', 'Сумино', 'Возрождение', 'Старосиверская', 'Кикерино',\n",
       "       'Старое Хинколово', 'Пригородный', 'Торфяное', 'Будогощь',\n",
       "       'Суходолье', 'Красная Долина', 'Хапо-Ое', 'Дружная Горка',\n",
       "       'Лисий Нос', 'Яльгелево', 'Рождествено', 'Старополье', 'Левашово',\n",
       "       'Сяськелево', 'Камышовка', 'Лесная Поляна', 'Жилгородок', 'Ялгино',\n",
       "       'Новый Учхоз', 'Гончарово', 'Почап', 'Сапёрное', 'Платформа',\n",
       "       'Каложицы', 'Фалилеево', 'Пельгора', 'Торошковичи', 'Белоостров',\n",
       "       'Алексеевка', 'Серебрянский', 'Лукаши', 'Тарасово',\n",
       "       'Кингисеппский', 'Ушаки', 'Котлы', 'Сижно', 'Торосово',\n",
       "       'Форт Красная Горка', 'Новолисино', 'Громово', 'Глинка',\n",
       "       'Старая Пустошь', 'Коммунары', 'Починок', 'Вознесенье',\n",
       "       'Разбегаево', 'Гладкое', 'Тёсово-4', 'Бор', 'Коробицыно',\n",
       "       'Большая Вруда', 'Курковицы', 'Кобралово', 'Суоранда',\n",
       "       'Кондратьево', 'Счастье', 'Реброво', 'Тойворово', 'Семиозерье',\n",
       "       'Лесное', 'Совхозный', 'Ленинское', 'Суйда', 'Нижние Осельки',\n",
       "       'Свирь', 'Перово', 'Высоцк', 'Шум', 'Котельский', 'Лужайка',\n",
       "       'Большая Пустомержа', 'Красносельское', 'Вахнова Кара', 'Пижма',\n",
       "       'Кивеннапа Север', 'Ромашки', 'Каськово', 'Куровицы', 'Плоское',\n",
       "       'Кирпичное', 'Ям-Тесово', 'Раздолье', 'Терпилицы', 'Шугозеро',\n",
       "       'Ваганово', 'Пушное', 'Садко', 'Усть-Ижора', 'Выскатка',\n",
       "       'Свирьстрой', 'Кисельня', 'Трубников Бор', 'Высокоключевой',\n",
       "       'Пансионат Зелёный Бор', 'Ненимяки', 'Снегирёвка', 'Рапполово',\n",
       "       'Пустынка', 'Большой Сабск', 'Русско', 'Лупполово',\n",
       "       'Большое Рейзино', 'Малая Романовка', 'Дружноселье', 'Пчевжа',\n",
       "       'Володарское', 'Нижняя', 'Тихковицы', 'Борисова Грива',\n",
       "       'Дзержинского'], dtype=object)"
      ]
     },
     "execution_count": 37,
     "metadata": {},
     "output_type": "execute_result"
    }
   ],
   "source": [
    "# pd.set_option('display.max_rows', None)\n",
    "data.insert(15, 'rename_locality_name', data['locality_name'].apply(find_name))\n",
    "# Вставим новый столбец после столбца с названием локации.\n",
    "# За основу возьмем столбец 'locality_name', к которому применим ранее написанную функцию.\n",
    "\n",
    "data['rename_locality_name'].unique()\n",
    "# Выведем список уникальных значений нового столбца."
   ]
  },
  {
   "cell_type": "markdown",
   "metadata": {},
   "source": [
    "Выведем с помощью цикла все возможные написания локаций с одинаковым названием. Нас интересуют только значения, где неявных дубликатов названий 2 и более, для дальнейшего приведения их к единому виду."
   ]
  },
  {
   "cell_type": "code",
   "execution_count": 38,
   "metadata": {
    "scrolled": true
   },
   "outputs": [
    {
     "name": "stdout",
     "output_type": "stream",
     "text": [
      "['городской посёлок Янино-1' 'городской поселок Янино-1']\n",
      "['посёлок Мурино' 'поселок Мурино' 'Мурино']\n",
      "['деревня Кудрово' 'Кудрово']\n",
      "['поселок городского типа Красный Бор'\n",
      " 'посёлок городского типа Красный Бор']\n",
      "['деревня Фёдоровское' 'городской посёлок Фёдоровское']\n",
      "['посёлок городского типа Лебяжье' 'поселок городского типа Лебяжье']\n",
      "['поселок городского типа Кузьмоловский'\n",
      " 'посёлок городского типа Кузьмоловский']\n",
      "['посёлок Аннино' 'поселок Аннино']\n",
      "['посёлок Новый Свет' 'поселок Новый Свет']\n",
      "['Никольское' 'село Никольское']\n",
      "['посёлок Бугры' 'поселок Бугры']\n",
      "['поселок городского типа Рощино' 'посёлок городского типа Рощино'\n",
      " 'городской посёлок Рощино']\n",
      "['село Павлово' 'городской посёлок Павлово'\n",
      " 'посёлок городского типа Павлово']\n",
      "['посёлок Победа' 'поселок Победа']\n",
      "['поселок Терволово' 'посёлок Терволово']\n",
      "['поселок городского типа Советский' 'городской посёлок Советский']\n",
      "['посёлок Петровское' 'поселок Петровское']\n",
      "['посёлок городского типа Токсово' 'поселок городского типа Токсово']\n",
      "['посёлок городского типа Вырица' 'поселок городского типа Вырица']\n",
      "['посёлок Тельмана' 'поселок Тельмана']\n",
      "['городской поселок Большая Ижора' 'поселок городского типа Большая Ижора']\n",
      "['городской посёлок Лесогорский' 'поселок городского типа Лесогорский']\n",
      "['поселок городского типа Рахья' 'садовое товарищество Рахья']\n",
      "['поселок Зимитицы' 'деревня Зимитицы']\n",
      "['поселок городского типа имени Свердлова'\n",
      " 'посёлок городского типа имени Свердлова']\n",
      "['поселок Рябово' 'поселок городского типа Рябово'\n",
      " 'посёлок городского типа Рябово']\n",
      "['посёлок Поляны' 'поселок Поляны']\n",
      "['городской посёлок Мга' 'посёлок городского типа Мга']\n",
      "['посёлок Мичуринское' 'поселок Мичуринское']\n",
      "['поселок Ильичёво' 'посёлок Ильичёво']\n",
      "['поселок станции Вещево' 'посёлок при железнодорожной станции Вещево']\n",
      "['деревня Калитино' 'поселок Калитино']\n",
      "['поселок городского типа Приладожский'\n",
      " 'садовое товарищество Приладожский']\n",
      "['посёлок Щеглово' 'деревня Щеглово']\n",
      "['посёлок Гаврилово' 'поселок Гаврилово']\n",
      "['деревня Рабитицы' 'поселок Рабитицы']\n",
      "['городской посёлок Назия' 'поселок городского типа Назия']\n",
      "['поселок Старая Малукса' 'посёлок Старая Малукса']\n",
      "['деревня Гарболово' 'поселок Гарболово']\n",
      "['поселок станции Приветнинское'\n",
      " 'посёлок при железнодорожной станции Приветнинское']\n",
      "['поселок Мельниково' 'посёлок Мельниково']\n",
      "['посёлок Усть-Луга' 'поселок Усть-Луга']\n",
      "['Любань' 'поселок Любань']\n",
      "['поселок Стеклянный' 'посёлок Стеклянный']\n",
      "['поселок городского типа Форносово' 'посёлок городского типа Форносово']\n",
      "['посёлок Сумино' 'поселок Сумино']\n",
      "['посёлок Возрождение' 'поселок Возрождение']\n",
      "['поселок Лисий Нос' 'посёлок Лисий Нос']\n",
      "['поселок Жилгородок' 'посёлок Жилгородок']\n",
      "['посёлок станции Громово' 'поселок Громово']\n",
      "['посёлок Коробицыно' 'поселок Коробицыно']\n",
      "['посёлок Кобралово' 'поселок Кобралово']\n",
      "['поселок Лесное' 'коттеджный посёлок Лесное']\n",
      "['поселок Перово' 'посёлок Перово']\n",
      "['посёлок Пансионат Зелёный Бор' 'поселок Пансионат Зелёный Бор']\n"
     ]
    }
   ],
   "source": [
    "for name in data['rename_locality_name'].unique():\n",
    "    if len(data[data['rename_locality_name'] == name]['locality_name'].unique()) > 1:\n",
    "        print(data[data['rename_locality_name'] == name]['locality_name'].unique())\n",
    "# Цикл проверяет каждое название населенного пункта из списка уникальных значений\n",
    "# и выводит на экран различные виды его написания (если вариантов написания названия локации 2 и более)\n"
   ]
  },
  {
   "cell_type": "markdown",
   "metadata": {},
   "source": [
    "В результате мы видим, какие преобразования необходимо произвести, чтобы избавиться от неявных дубликатов:\n",
    "- заменить 'ё' на 'е', чтобы ислючить дублкаты, содержащие 'поселок' и 'посёлок'\n",
    "- значения, содержащие 'городской поселок' и 'поселок городского типа' привести к единому виду\n",
    "- значения, содержащие 'поселок станции' и 'поселок при железнодорожной станции' привести к единому виду\n",
    "- значения с разным написанием типа 'деревня Кудрово' и 'Кудрово' привести к единому виду\n",
    "\n",
    "Также отметим, что в данных содержатся значения населенных пунктов с одинаковыми названиями, но разными типами (например, 'село Павлово' и 'городской поселок Павлово', 'поселок Зимитицы' и 'деревня Зимитицы' и т.п.)."
   ]
  },
  {
   "cell_type": "markdown",
   "metadata": {},
   "source": [
    "Выполним все необходимые преобразования."
   ]
  },
  {
   "cell_type": "code",
   "execution_count": 39,
   "metadata": {},
   "outputs": [],
   "source": [
    "data['locality_name'] = data['locality_name'].str.replace('ё', 'е')\n",
    "# Заменим букву 'ё' на 'е' во всех ячейках столбца `locality_name`"
   ]
  },
  {
   "cell_type": "code",
   "execution_count": 40,
   "metadata": {},
   "outputs": [],
   "source": [
    "for val in ['поселок городского типа', 'городской поселок', 'коттеджный поселок', \\\n",
    "            'поселок станции', 'поселок при железнодорожной станции']:\n",
    "    data['locality_name'] = data['locality_name'].str.replace(val, 'поселок')\n",
    "# Также заменим различные написания типа населенного пункта из представленных в списке в единый ('поселок')"
   ]
  },
  {
   "cell_type": "code",
   "execution_count": 41,
   "metadata": {},
   "outputs": [],
   "source": [
    "data['locality_name'].replace({'Мурино': 'поселок Мурино', 'Кудрово': 'деревня Кудрово', 'Никольское': 'село Никольское', \\\n",
    "                              'Любань': 'поселок Любань'}, inplace=True)\n",
    "# Перепишем значения, в которых не указан тип населенного пункта ('Мурино', 'Кудрово', 'Никольское', 'Любань')"
   ]
  },
  {
   "cell_type": "markdown",
   "metadata": {},
   "source": [
    "Повторно выведем с помощью цикла все возможные написания локаций с одинаковым названием, где неявных дубликатов названий 2 и более."
   ]
  },
  {
   "cell_type": "code",
   "execution_count": 42,
   "metadata": {},
   "outputs": [
    {
     "name": "stdout",
     "output_type": "stream",
     "text": [
      "['деревня Федоровское' 'поселок Федоровское']\n",
      "['село Павлово' 'поселок Павлово']\n",
      "['поселок Рахья' 'садовое товарищество Рахья']\n",
      "['поселок Зимитицы' 'деревня Зимитицы']\n",
      "['деревня Калитино' 'поселок Калитино']\n",
      "['поселок Приладожский' 'садовое товарищество Приладожский']\n",
      "['поселок Щеглово' 'деревня Щеглово']\n",
      "['деревня Рабитицы' 'поселок Рабитицы']\n",
      "['деревня Гарболово' 'поселок Гарболово']\n"
     ]
    }
   ],
   "source": [
    "for name in data['rename_locality_name'].unique():\n",
    "    if len(data[data['rename_locality_name'] == name]['locality_name'].unique()) > 1:\n",
    "        print(data[data['rename_locality_name'] == name]['locality_name'].unique())"
   ]
  },
  {
   "cell_type": "markdown",
   "metadata": {},
   "source": [
    "В результате обработки остались только населенные пункты с одинаковым названием, но с разным типом. "
   ]
  },
  {
   "cell_type": "markdown",
   "metadata": {},
   "source": [
    "Проверим, какой процент данных оказался потерян при обработке данных."
   ]
  },
  {
   "cell_type": "code",
   "execution_count": 43,
   "metadata": {},
   "outputs": [
    {
     "data": {
      "text/plain": [
       "1.33"
      ]
     },
     "execution_count": 43,
     "metadata": {},
     "output_type": "execute_result"
    }
   ],
   "source": [
    "round(((1 - data.shape[0] / old_data_size) * 100), 2)"
   ]
  },
  {
   "cell_type": "markdown",
   "metadata": {},
   "source": [
    "В результате обработки данных потреяно незначительное количество данных (1.33%)."
   ]
  },
  {
   "cell_type": "markdown",
   "metadata": {},
   "source": [
    "**Вывод:** в результате предобработки данных выполнено следующее:\n",
    "- заполнены пропуски в данных в столбцах `is_apartament`, `balcony`, `ponds_around_3000`, `parks_around_3000`, `ceiling_height`\n",
    "- данные в столбце с указанием даты размещения `first_day_exposition` приведены к типу `datetime`\n",
    "- исключены аномальные значения высоты потолков, количества комнат, общей площади и цены\n",
    "- откорректировано введенное с ошибкой значение стоимости объекта в столбце `last_price`\n",
    "- устранены неявные дубликаты в столбце с названиями населенных пунктов `locality_name`"
   ]
  },
  {
   "cell_type": "markdown",
   "metadata": {},
   "source": [
    "## Дополнение таблицы новыми столбцами с данными"
   ]
  },
  {
   "cell_type": "markdown",
   "metadata": {},
   "source": [
    "Для последующего выполнения анализа дополним таблицу следующими данными:\n",
    "- цена одного квадратного метра\n",
    "- день недели публикации объявления (0 — понедельник, 1 — вторник и так далее)\n",
    "- месяц публикации объявления\n",
    "- год публикации объявления\n",
    "- тип этажа квартиры (значения — «первый», «последний», «другой»)\n",
    "- расстояние до центра города в километрах"
   ]
  },
  {
   "cell_type": "markdown",
   "metadata": {},
   "source": [
    "Добавим в датафрейм столбец с указанием стоимости квадратного метра жилья. Округлим полученные значения до целых чисел."
   ]
  },
  {
   "cell_type": "code",
   "execution_count": 44,
   "metadata": {},
   "outputs": [],
   "source": [
    "data.insert(2, 'price_sq_meter', round(data['last_price'] / data['total_area']))"
   ]
  },
  {
   "cell_type": "markdown",
   "metadata": {},
   "source": [
    "Добавим столбцы `weekday_exp` `month_exp` `year_exp`, которые из даты размещения объявления извлекают отдельно день недели, месяц и год размещения."
   ]
  },
  {
   "cell_type": "code",
   "execution_count": 45,
   "metadata": {},
   "outputs": [],
   "source": [
    "data.insert(5, 'weekday_exp', pd.DatetimeIndex(data['first_day_exposition']).weekday)\n",
    "data.insert(6, 'month_exp', pd.DatetimeIndex(data['first_day_exposition']).month)\n",
    "data.insert(7, 'year_exp', pd.DatetimeIndex(data['first_day_exposition']).year)"
   ]
  },
  {
   "cell_type": "markdown",
   "metadata": {},
   "source": [
    "Добавим в таблицу столбец `floor_type` с указанием типа этажа: \"первый\", \"последний\" или \"другой\".\\\n",
    "Для этого напишем функцию, которая будет возвращать значение в зависимости от общего количества этажей и номера этажа объекта.\\\n",
    "Если общее количество этажей в доме не указано и этаж объекта не первый, функция вернет `None`."
   ]
  },
  {
   "cell_type": "code",
   "execution_count": 46,
   "metadata": {},
   "outputs": [],
   "source": [
    "def floor_type(row):\n",
    "    if row['floor'] == 1:\n",
    "        return 'первый'\n",
    "    if pd.isna(row['floors_total']):\n",
    "        return None\n",
    "    if row['floor'] == row['floors_total']:\n",
    "        return 'последний'\n",
    "    return 'другой'"
   ]
  },
  {
   "cell_type": "markdown",
   "metadata": {},
   "source": [
    "Вставим столбец `floor_type` с применением написанной выше функции."
   ]
  },
  {
   "cell_type": "code",
   "execution_count": 47,
   "metadata": {},
   "outputs": [],
   "source": [
    "data.insert(13, 'floor_type', data.apply(floor_type, axis=1))"
   ]
  },
  {
   "cell_type": "markdown",
   "metadata": {},
   "source": [
    "Добавим столбец с указанием расстояния до центра города в километрах на основании столбца `city_center_nearest` с округлением значения до целых значений."
   ]
  },
  {
   "cell_type": "code",
   "execution_count": 48,
   "metadata": {},
   "outputs": [],
   "source": [
    "data.insert(23, 'city_centers_nearest_km', round(data['city_centers_nearest'] / 1000))"
   ]
  },
  {
   "cell_type": "markdown",
   "metadata": {},
   "source": [
    "Выведем первые 15 строк датафрейма."
   ]
  },
  {
   "cell_type": "code",
   "execution_count": 49,
   "metadata": {
    "scrolled": false
   },
   "outputs": [
    {
     "data": {
      "text/html": [
       "<div>\n",
       "<style scoped>\n",
       "    .dataframe tbody tr th:only-of-type {\n",
       "        vertical-align: middle;\n",
       "    }\n",
       "\n",
       "    .dataframe tbody tr th {\n",
       "        vertical-align: top;\n",
       "    }\n",
       "\n",
       "    .dataframe thead th {\n",
       "        text-align: right;\n",
       "    }\n",
       "</style>\n",
       "<table border=\"1\" class=\"dataframe\">\n",
       "  <thead>\n",
       "    <tr style=\"text-align: right;\">\n",
       "      <th></th>\n",
       "      <th>total_images</th>\n",
       "      <th>last_price</th>\n",
       "      <th>price_sq_meter</th>\n",
       "      <th>total_area</th>\n",
       "      <th>first_day_exposition</th>\n",
       "      <th>weekday_exp</th>\n",
       "      <th>month_exp</th>\n",
       "      <th>year_exp</th>\n",
       "      <th>rooms</th>\n",
       "      <th>ceiling_height</th>\n",
       "      <th>floors_total</th>\n",
       "      <th>living_area</th>\n",
       "      <th>floor</th>\n",
       "      <th>floor_type</th>\n",
       "      <th>is_apartment</th>\n",
       "      <th>studio</th>\n",
       "      <th>open_plan</th>\n",
       "      <th>kitchen_area</th>\n",
       "      <th>balcony</th>\n",
       "      <th>locality_name</th>\n",
       "      <th>rename_locality_name</th>\n",
       "      <th>airports_nearest</th>\n",
       "      <th>city_centers_nearest</th>\n",
       "      <th>city_centers_nearest_km</th>\n",
       "      <th>parks_around_3000</th>\n",
       "      <th>parks_nearest</th>\n",
       "      <th>ponds_around_3000</th>\n",
       "      <th>ponds_nearest</th>\n",
       "      <th>days_exposition</th>\n",
       "    </tr>\n",
       "  </thead>\n",
       "  <tbody>\n",
       "    <tr>\n",
       "      <th>0</th>\n",
       "      <td>20</td>\n",
       "      <td>13000000.0</td>\n",
       "      <td>120370.0</td>\n",
       "      <td>108.00</td>\n",
       "      <td>2019-03-07</td>\n",
       "      <td>3</td>\n",
       "      <td>3</td>\n",
       "      <td>2019</td>\n",
       "      <td>3</td>\n",
       "      <td>2.70</td>\n",
       "      <td>16.0</td>\n",
       "      <td>51.00</td>\n",
       "      <td>8</td>\n",
       "      <td>другой</td>\n",
       "      <td>False</td>\n",
       "      <td>False</td>\n",
       "      <td>False</td>\n",
       "      <td>25.00</td>\n",
       "      <td>0</td>\n",
       "      <td>Санкт-Петербург</td>\n",
       "      <td>Санкт-Петербург</td>\n",
       "      <td>18863.0</td>\n",
       "      <td>16028.0</td>\n",
       "      <td>16.0</td>\n",
       "      <td>1</td>\n",
       "      <td>482.0</td>\n",
       "      <td>2</td>\n",
       "      <td>755.0</td>\n",
       "      <td>NaN</td>\n",
       "    </tr>\n",
       "    <tr>\n",
       "      <th>1</th>\n",
       "      <td>7</td>\n",
       "      <td>3350000.0</td>\n",
       "      <td>82921.0</td>\n",
       "      <td>40.40</td>\n",
       "      <td>2018-12-04</td>\n",
       "      <td>1</td>\n",
       "      <td>12</td>\n",
       "      <td>2018</td>\n",
       "      <td>1</td>\n",
       "      <td>2.65</td>\n",
       "      <td>11.0</td>\n",
       "      <td>18.60</td>\n",
       "      <td>1</td>\n",
       "      <td>первый</td>\n",
       "      <td>False</td>\n",
       "      <td>False</td>\n",
       "      <td>False</td>\n",
       "      <td>11.00</td>\n",
       "      <td>2</td>\n",
       "      <td>поселок Шушары</td>\n",
       "      <td>Шушары</td>\n",
       "      <td>12817.0</td>\n",
       "      <td>18603.0</td>\n",
       "      <td>19.0</td>\n",
       "      <td>0</td>\n",
       "      <td>NaN</td>\n",
       "      <td>0</td>\n",
       "      <td>NaN</td>\n",
       "      <td>81.0</td>\n",
       "    </tr>\n",
       "    <tr>\n",
       "      <th>2</th>\n",
       "      <td>10</td>\n",
       "      <td>5196000.0</td>\n",
       "      <td>92786.0</td>\n",
       "      <td>56.00</td>\n",
       "      <td>2015-08-20</td>\n",
       "      <td>3</td>\n",
       "      <td>8</td>\n",
       "      <td>2015</td>\n",
       "      <td>2</td>\n",
       "      <td>2.65</td>\n",
       "      <td>5.0</td>\n",
       "      <td>34.30</td>\n",
       "      <td>4</td>\n",
       "      <td>другой</td>\n",
       "      <td>False</td>\n",
       "      <td>False</td>\n",
       "      <td>False</td>\n",
       "      <td>8.30</td>\n",
       "      <td>0</td>\n",
       "      <td>Санкт-Петербург</td>\n",
       "      <td>Санкт-Петербург</td>\n",
       "      <td>21741.0</td>\n",
       "      <td>13933.0</td>\n",
       "      <td>14.0</td>\n",
       "      <td>1</td>\n",
       "      <td>90.0</td>\n",
       "      <td>2</td>\n",
       "      <td>574.0</td>\n",
       "      <td>558.0</td>\n",
       "    </tr>\n",
       "    <tr>\n",
       "      <th>4</th>\n",
       "      <td>2</td>\n",
       "      <td>10000000.0</td>\n",
       "      <td>100000.0</td>\n",
       "      <td>100.00</td>\n",
       "      <td>2018-06-19</td>\n",
       "      <td>1</td>\n",
       "      <td>6</td>\n",
       "      <td>2018</td>\n",
       "      <td>2</td>\n",
       "      <td>3.03</td>\n",
       "      <td>14.0</td>\n",
       "      <td>32.00</td>\n",
       "      <td>13</td>\n",
       "      <td>другой</td>\n",
       "      <td>False</td>\n",
       "      <td>False</td>\n",
       "      <td>False</td>\n",
       "      <td>41.00</td>\n",
       "      <td>0</td>\n",
       "      <td>Санкт-Петербург</td>\n",
       "      <td>Санкт-Петербург</td>\n",
       "      <td>31856.0</td>\n",
       "      <td>8098.0</td>\n",
       "      <td>8.0</td>\n",
       "      <td>2</td>\n",
       "      <td>112.0</td>\n",
       "      <td>1</td>\n",
       "      <td>48.0</td>\n",
       "      <td>121.0</td>\n",
       "    </tr>\n",
       "    <tr>\n",
       "      <th>5</th>\n",
       "      <td>10</td>\n",
       "      <td>2890000.0</td>\n",
       "      <td>95066.0</td>\n",
       "      <td>30.40</td>\n",
       "      <td>2018-09-10</td>\n",
       "      <td>0</td>\n",
       "      <td>9</td>\n",
       "      <td>2018</td>\n",
       "      <td>1</td>\n",
       "      <td>2.65</td>\n",
       "      <td>12.0</td>\n",
       "      <td>14.40</td>\n",
       "      <td>5</td>\n",
       "      <td>другой</td>\n",
       "      <td>False</td>\n",
       "      <td>False</td>\n",
       "      <td>False</td>\n",
       "      <td>9.10</td>\n",
       "      <td>0</td>\n",
       "      <td>поселок Янино-1</td>\n",
       "      <td>Янино-1</td>\n",
       "      <td>NaN</td>\n",
       "      <td>NaN</td>\n",
       "      <td>NaN</td>\n",
       "      <td>0</td>\n",
       "      <td>NaN</td>\n",
       "      <td>0</td>\n",
       "      <td>NaN</td>\n",
       "      <td>55.0</td>\n",
       "    </tr>\n",
       "    <tr>\n",
       "      <th>6</th>\n",
       "      <td>6</td>\n",
       "      <td>3700000.0</td>\n",
       "      <td>99196.0</td>\n",
       "      <td>37.30</td>\n",
       "      <td>2017-11-02</td>\n",
       "      <td>3</td>\n",
       "      <td>11</td>\n",
       "      <td>2017</td>\n",
       "      <td>1</td>\n",
       "      <td>2.65</td>\n",
       "      <td>26.0</td>\n",
       "      <td>10.60</td>\n",
       "      <td>6</td>\n",
       "      <td>другой</td>\n",
       "      <td>False</td>\n",
       "      <td>False</td>\n",
       "      <td>False</td>\n",
       "      <td>14.40</td>\n",
       "      <td>1</td>\n",
       "      <td>поселок Парголово</td>\n",
       "      <td>Парголово</td>\n",
       "      <td>52996.0</td>\n",
       "      <td>19143.0</td>\n",
       "      <td>19.0</td>\n",
       "      <td>0</td>\n",
       "      <td>NaN</td>\n",
       "      <td>0</td>\n",
       "      <td>NaN</td>\n",
       "      <td>155.0</td>\n",
       "    </tr>\n",
       "    <tr>\n",
       "      <th>7</th>\n",
       "      <td>5</td>\n",
       "      <td>7915000.0</td>\n",
       "      <td>110545.0</td>\n",
       "      <td>71.60</td>\n",
       "      <td>2019-04-18</td>\n",
       "      <td>3</td>\n",
       "      <td>4</td>\n",
       "      <td>2019</td>\n",
       "      <td>2</td>\n",
       "      <td>2.65</td>\n",
       "      <td>24.0</td>\n",
       "      <td>NaN</td>\n",
       "      <td>22</td>\n",
       "      <td>другой</td>\n",
       "      <td>False</td>\n",
       "      <td>False</td>\n",
       "      <td>False</td>\n",
       "      <td>18.90</td>\n",
       "      <td>2</td>\n",
       "      <td>Санкт-Петербург</td>\n",
       "      <td>Санкт-Петербург</td>\n",
       "      <td>23982.0</td>\n",
       "      <td>11634.0</td>\n",
       "      <td>12.0</td>\n",
       "      <td>0</td>\n",
       "      <td>NaN</td>\n",
       "      <td>0</td>\n",
       "      <td>NaN</td>\n",
       "      <td>NaN</td>\n",
       "    </tr>\n",
       "    <tr>\n",
       "      <th>8</th>\n",
       "      <td>20</td>\n",
       "      <td>2900000.0</td>\n",
       "      <td>87455.0</td>\n",
       "      <td>33.16</td>\n",
       "      <td>2018-05-23</td>\n",
       "      <td>2</td>\n",
       "      <td>5</td>\n",
       "      <td>2018</td>\n",
       "      <td>1</td>\n",
       "      <td>2.65</td>\n",
       "      <td>27.0</td>\n",
       "      <td>15.43</td>\n",
       "      <td>26</td>\n",
       "      <td>другой</td>\n",
       "      <td>False</td>\n",
       "      <td>False</td>\n",
       "      <td>False</td>\n",
       "      <td>8.81</td>\n",
       "      <td>0</td>\n",
       "      <td>поселок Мурино</td>\n",
       "      <td>Мурино</td>\n",
       "      <td>NaN</td>\n",
       "      <td>NaN</td>\n",
       "      <td>NaN</td>\n",
       "      <td>0</td>\n",
       "      <td>NaN</td>\n",
       "      <td>0</td>\n",
       "      <td>NaN</td>\n",
       "      <td>189.0</td>\n",
       "    </tr>\n",
       "    <tr>\n",
       "      <th>9</th>\n",
       "      <td>18</td>\n",
       "      <td>5400000.0</td>\n",
       "      <td>88525.0</td>\n",
       "      <td>61.00</td>\n",
       "      <td>2017-02-26</td>\n",
       "      <td>6</td>\n",
       "      <td>2</td>\n",
       "      <td>2017</td>\n",
       "      <td>3</td>\n",
       "      <td>2.50</td>\n",
       "      <td>9.0</td>\n",
       "      <td>43.60</td>\n",
       "      <td>7</td>\n",
       "      <td>другой</td>\n",
       "      <td>False</td>\n",
       "      <td>False</td>\n",
       "      <td>False</td>\n",
       "      <td>6.50</td>\n",
       "      <td>2</td>\n",
       "      <td>Санкт-Петербург</td>\n",
       "      <td>Санкт-Петербург</td>\n",
       "      <td>50898.0</td>\n",
       "      <td>15008.0</td>\n",
       "      <td>15.0</td>\n",
       "      <td>0</td>\n",
       "      <td>NaN</td>\n",
       "      <td>0</td>\n",
       "      <td>NaN</td>\n",
       "      <td>289.0</td>\n",
       "    </tr>\n",
       "    <tr>\n",
       "      <th>10</th>\n",
       "      <td>5</td>\n",
       "      <td>5050000.0</td>\n",
       "      <td>127525.0</td>\n",
       "      <td>39.60</td>\n",
       "      <td>2017-11-16</td>\n",
       "      <td>3</td>\n",
       "      <td>11</td>\n",
       "      <td>2017</td>\n",
       "      <td>1</td>\n",
       "      <td>2.67</td>\n",
       "      <td>12.0</td>\n",
       "      <td>20.30</td>\n",
       "      <td>3</td>\n",
       "      <td>другой</td>\n",
       "      <td>False</td>\n",
       "      <td>False</td>\n",
       "      <td>False</td>\n",
       "      <td>8.50</td>\n",
       "      <td>0</td>\n",
       "      <td>Санкт-Петербург</td>\n",
       "      <td>Санкт-Петербург</td>\n",
       "      <td>38357.0</td>\n",
       "      <td>13878.0</td>\n",
       "      <td>14.0</td>\n",
       "      <td>1</td>\n",
       "      <td>310.0</td>\n",
       "      <td>2</td>\n",
       "      <td>553.0</td>\n",
       "      <td>137.0</td>\n",
       "    </tr>\n",
       "    <tr>\n",
       "      <th>11</th>\n",
       "      <td>9</td>\n",
       "      <td>3300000.0</td>\n",
       "      <td>75000.0</td>\n",
       "      <td>44.00</td>\n",
       "      <td>2018-08-27</td>\n",
       "      <td>0</td>\n",
       "      <td>8</td>\n",
       "      <td>2018</td>\n",
       "      <td>2</td>\n",
       "      <td>2.65</td>\n",
       "      <td>5.0</td>\n",
       "      <td>31.00</td>\n",
       "      <td>4</td>\n",
       "      <td>другой</td>\n",
       "      <td>False</td>\n",
       "      <td>False</td>\n",
       "      <td>False</td>\n",
       "      <td>6.00</td>\n",
       "      <td>1</td>\n",
       "      <td>Ломоносов</td>\n",
       "      <td>Ломоносов</td>\n",
       "      <td>48252.0</td>\n",
       "      <td>51677.0</td>\n",
       "      <td>52.0</td>\n",
       "      <td>0</td>\n",
       "      <td>NaN</td>\n",
       "      <td>0</td>\n",
       "      <td>NaN</td>\n",
       "      <td>7.0</td>\n",
       "    </tr>\n",
       "    <tr>\n",
       "      <th>12</th>\n",
       "      <td>10</td>\n",
       "      <td>3890000.0</td>\n",
       "      <td>72037.0</td>\n",
       "      <td>54.00</td>\n",
       "      <td>2016-06-30</td>\n",
       "      <td>3</td>\n",
       "      <td>6</td>\n",
       "      <td>2016</td>\n",
       "      <td>2</td>\n",
       "      <td>2.65</td>\n",
       "      <td>5.0</td>\n",
       "      <td>30.00</td>\n",
       "      <td>5</td>\n",
       "      <td>последний</td>\n",
       "      <td>False</td>\n",
       "      <td>False</td>\n",
       "      <td>False</td>\n",
       "      <td>9.00</td>\n",
       "      <td>0</td>\n",
       "      <td>Сертолово</td>\n",
       "      <td>Сертолово</td>\n",
       "      <td>NaN</td>\n",
       "      <td>NaN</td>\n",
       "      <td>NaN</td>\n",
       "      <td>0</td>\n",
       "      <td>NaN</td>\n",
       "      <td>0</td>\n",
       "      <td>NaN</td>\n",
       "      <td>90.0</td>\n",
       "    </tr>\n",
       "    <tr>\n",
       "      <th>13</th>\n",
       "      <td>20</td>\n",
       "      <td>3550000.0</td>\n",
       "      <td>82944.0</td>\n",
       "      <td>42.80</td>\n",
       "      <td>2017-07-01</td>\n",
       "      <td>5</td>\n",
       "      <td>7</td>\n",
       "      <td>2017</td>\n",
       "      <td>2</td>\n",
       "      <td>2.56</td>\n",
       "      <td>5.0</td>\n",
       "      <td>27.00</td>\n",
       "      <td>5</td>\n",
       "      <td>последний</td>\n",
       "      <td>False</td>\n",
       "      <td>False</td>\n",
       "      <td>False</td>\n",
       "      <td>5.20</td>\n",
       "      <td>1</td>\n",
       "      <td>Петергоф</td>\n",
       "      <td>Петергоф</td>\n",
       "      <td>37868.0</td>\n",
       "      <td>33058.0</td>\n",
       "      <td>33.0</td>\n",
       "      <td>1</td>\n",
       "      <td>294.0</td>\n",
       "      <td>3</td>\n",
       "      <td>298.0</td>\n",
       "      <td>366.0</td>\n",
       "    </tr>\n",
       "    <tr>\n",
       "      <th>14</th>\n",
       "      <td>1</td>\n",
       "      <td>4400000.0</td>\n",
       "      <td>122222.0</td>\n",
       "      <td>36.00</td>\n",
       "      <td>2016-06-23</td>\n",
       "      <td>3</td>\n",
       "      <td>6</td>\n",
       "      <td>2016</td>\n",
       "      <td>1</td>\n",
       "      <td>2.65</td>\n",
       "      <td>6.0</td>\n",
       "      <td>17.00</td>\n",
       "      <td>1</td>\n",
       "      <td>первый</td>\n",
       "      <td>False</td>\n",
       "      <td>False</td>\n",
       "      <td>False</td>\n",
       "      <td>8.00</td>\n",
       "      <td>0</td>\n",
       "      <td>Пушкин</td>\n",
       "      <td>Пушкин</td>\n",
       "      <td>20782.0</td>\n",
       "      <td>30759.0</td>\n",
       "      <td>31.0</td>\n",
       "      <td>0</td>\n",
       "      <td>NaN</td>\n",
       "      <td>1</td>\n",
       "      <td>96.0</td>\n",
       "      <td>203.0</td>\n",
       "    </tr>\n",
       "    <tr>\n",
       "      <th>15</th>\n",
       "      <td>16</td>\n",
       "      <td>4650000.0</td>\n",
       "      <td>119231.0</td>\n",
       "      <td>39.00</td>\n",
       "      <td>2017-11-18</td>\n",
       "      <td>5</td>\n",
       "      <td>11</td>\n",
       "      <td>2017</td>\n",
       "      <td>1</td>\n",
       "      <td>2.65</td>\n",
       "      <td>14.0</td>\n",
       "      <td>20.50</td>\n",
       "      <td>5</td>\n",
       "      <td>другой</td>\n",
       "      <td>False</td>\n",
       "      <td>False</td>\n",
       "      <td>False</td>\n",
       "      <td>7.60</td>\n",
       "      <td>1</td>\n",
       "      <td>Санкт-Петербург</td>\n",
       "      <td>Санкт-Петербург</td>\n",
       "      <td>12900.0</td>\n",
       "      <td>14259.0</td>\n",
       "      <td>14.0</td>\n",
       "      <td>1</td>\n",
       "      <td>590.0</td>\n",
       "      <td>1</td>\n",
       "      <td>296.0</td>\n",
       "      <td>19.0</td>\n",
       "    </tr>\n",
       "  </tbody>\n",
       "</table>\n",
       "</div>"
      ],
      "text/plain": [
       "    total_images  last_price  price_sq_meter  total_area first_day_exposition  \\\n",
       "0             20  13000000.0        120370.0      108.00           2019-03-07   \n",
       "1              7   3350000.0         82921.0       40.40           2018-12-04   \n",
       "2             10   5196000.0         92786.0       56.00           2015-08-20   \n",
       "4              2  10000000.0        100000.0      100.00           2018-06-19   \n",
       "5             10   2890000.0         95066.0       30.40           2018-09-10   \n",
       "6              6   3700000.0         99196.0       37.30           2017-11-02   \n",
       "7              5   7915000.0        110545.0       71.60           2019-04-18   \n",
       "8             20   2900000.0         87455.0       33.16           2018-05-23   \n",
       "9             18   5400000.0         88525.0       61.00           2017-02-26   \n",
       "10             5   5050000.0        127525.0       39.60           2017-11-16   \n",
       "11             9   3300000.0         75000.0       44.00           2018-08-27   \n",
       "12            10   3890000.0         72037.0       54.00           2016-06-30   \n",
       "13            20   3550000.0         82944.0       42.80           2017-07-01   \n",
       "14             1   4400000.0        122222.0       36.00           2016-06-23   \n",
       "15            16   4650000.0        119231.0       39.00           2017-11-18   \n",
       "\n",
       "    weekday_exp  month_exp  year_exp  rooms  ceiling_height  floors_total  \\\n",
       "0             3          3      2019      3            2.70          16.0   \n",
       "1             1         12      2018      1            2.65          11.0   \n",
       "2             3          8      2015      2            2.65           5.0   \n",
       "4             1          6      2018      2            3.03          14.0   \n",
       "5             0          9      2018      1            2.65          12.0   \n",
       "6             3         11      2017      1            2.65          26.0   \n",
       "7             3          4      2019      2            2.65          24.0   \n",
       "8             2          5      2018      1            2.65          27.0   \n",
       "9             6          2      2017      3            2.50           9.0   \n",
       "10            3         11      2017      1            2.67          12.0   \n",
       "11            0          8      2018      2            2.65           5.0   \n",
       "12            3          6      2016      2            2.65           5.0   \n",
       "13            5          7      2017      2            2.56           5.0   \n",
       "14            3          6      2016      1            2.65           6.0   \n",
       "15            5         11      2017      1            2.65          14.0   \n",
       "\n",
       "    living_area  floor floor_type  is_apartment  studio  open_plan  \\\n",
       "0         51.00      8     другой         False   False      False   \n",
       "1         18.60      1     первый         False   False      False   \n",
       "2         34.30      4     другой         False   False      False   \n",
       "4         32.00     13     другой         False   False      False   \n",
       "5         14.40      5     другой         False   False      False   \n",
       "6         10.60      6     другой         False   False      False   \n",
       "7           NaN     22     другой         False   False      False   \n",
       "8         15.43     26     другой         False   False      False   \n",
       "9         43.60      7     другой         False   False      False   \n",
       "10        20.30      3     другой         False   False      False   \n",
       "11        31.00      4     другой         False   False      False   \n",
       "12        30.00      5  последний         False   False      False   \n",
       "13        27.00      5  последний         False   False      False   \n",
       "14        17.00      1     первый         False   False      False   \n",
       "15        20.50      5     другой         False   False      False   \n",
       "\n",
       "    kitchen_area  balcony      locality_name rename_locality_name  \\\n",
       "0          25.00        0    Санкт-Петербург      Санкт-Петербург   \n",
       "1          11.00        2     поселок Шушары               Шушары   \n",
       "2           8.30        0    Санкт-Петербург      Санкт-Петербург   \n",
       "4          41.00        0    Санкт-Петербург      Санкт-Петербург   \n",
       "5           9.10        0    поселок Янино-1              Янино-1   \n",
       "6          14.40        1  поселок Парголово            Парголово   \n",
       "7          18.90        2    Санкт-Петербург      Санкт-Петербург   \n",
       "8           8.81        0     поселок Мурино               Мурино   \n",
       "9           6.50        2    Санкт-Петербург      Санкт-Петербург   \n",
       "10          8.50        0    Санкт-Петербург      Санкт-Петербург   \n",
       "11          6.00        1          Ломоносов            Ломоносов   \n",
       "12          9.00        0          Сертолово            Сертолово   \n",
       "13          5.20        1           Петергоф             Петергоф   \n",
       "14          8.00        0             Пушкин               Пушкин   \n",
       "15          7.60        1    Санкт-Петербург      Санкт-Петербург   \n",
       "\n",
       "    airports_nearest  city_centers_nearest  city_centers_nearest_km  \\\n",
       "0            18863.0               16028.0                     16.0   \n",
       "1            12817.0               18603.0                     19.0   \n",
       "2            21741.0               13933.0                     14.0   \n",
       "4            31856.0                8098.0                      8.0   \n",
       "5                NaN                   NaN                      NaN   \n",
       "6            52996.0               19143.0                     19.0   \n",
       "7            23982.0               11634.0                     12.0   \n",
       "8                NaN                   NaN                      NaN   \n",
       "9            50898.0               15008.0                     15.0   \n",
       "10           38357.0               13878.0                     14.0   \n",
       "11           48252.0               51677.0                     52.0   \n",
       "12               NaN                   NaN                      NaN   \n",
       "13           37868.0               33058.0                     33.0   \n",
       "14           20782.0               30759.0                     31.0   \n",
       "15           12900.0               14259.0                     14.0   \n",
       "\n",
       "    parks_around_3000  parks_nearest  ponds_around_3000  ponds_nearest  \\\n",
       "0                   1          482.0                  2          755.0   \n",
       "1                   0            NaN                  0            NaN   \n",
       "2                   1           90.0                  2          574.0   \n",
       "4                   2          112.0                  1           48.0   \n",
       "5                   0            NaN                  0            NaN   \n",
       "6                   0            NaN                  0            NaN   \n",
       "7                   0            NaN                  0            NaN   \n",
       "8                   0            NaN                  0            NaN   \n",
       "9                   0            NaN                  0            NaN   \n",
       "10                  1          310.0                  2          553.0   \n",
       "11                  0            NaN                  0            NaN   \n",
       "12                  0            NaN                  0            NaN   \n",
       "13                  1          294.0                  3          298.0   \n",
       "14                  0            NaN                  1           96.0   \n",
       "15                  1          590.0                  1          296.0   \n",
       "\n",
       "    days_exposition  \n",
       "0               NaN  \n",
       "1              81.0  \n",
       "2             558.0  \n",
       "4             121.0  \n",
       "5              55.0  \n",
       "6             155.0  \n",
       "7               NaN  \n",
       "8             189.0  \n",
       "9             289.0  \n",
       "10            137.0  \n",
       "11              7.0  \n",
       "12             90.0  \n",
       "13            366.0  \n",
       "14            203.0  \n",
       "15             19.0  "
      ]
     },
     "execution_count": 49,
     "metadata": {},
     "output_type": "execute_result"
    }
   ],
   "source": [
    "data.head(15)"
   ]
  },
  {
   "cell_type": "markdown",
   "metadata": {},
   "source": [
    "**Вывод:** для выполнения анализа данных в таблицу добавлены следующие параметры:\n",
    "- `city_centers_nearest_km` - цена одного квадратного метра\n",
    "- `weekday_exp` - день недели публикации объявления (0 — понедельник, 1 — вторник и так далее)\n",
    "- `month_exp` - месяц публикации объявления\n",
    "- `year_exp` - год публикации объявления\n",
    "- `floor_type` - тип этажа квартиры (значения — «первый», «последний», «другой»)\n",
    "- `price_sq_meter` - расстояние до центра города в километрах"
   ]
  },
  {
   "cell_type": "markdown",
   "metadata": {},
   "source": [
    "## Проведение исследовательского анализа данных"
   ]
  },
  {
   "cell_type": "markdown",
   "metadata": {},
   "source": [
    "### Построение гистограмм распределения значений"
   ]
  },
  {
   "cell_type": "markdown",
   "metadata": {},
   "source": [
    "Для предварительной оценки распределения значений построим отдельные гистограммы для интересующих нас параметров объектов недвижимости."
   ]
  },
  {
   "cell_type": "code",
   "execution_count": 50,
   "metadata": {
    "scrolled": true
   },
   "outputs": [
    {
     "data": {
      "image/png": "[encoded data removed]",
      "text/plain": [
       "<Figure size 432x288 with 1 Axes>"
      ]
     },
     "metadata": {
      "needs_background": "light"
     },
     "output_type": "display_data"
    }
   ],
   "source": [
    "data.hist('total_area', bins=20)\n",
    "plt.title('Распределение значений общей площади в м.кв.')\n",
    "plt.show()"
   ]
  },
  {
   "cell_type": "code",
   "execution_count": 51,
   "metadata": {},
   "outputs": [
    {
     "data": {
      "image/png": "[encoded data removed]",
      "text/plain": [
       "<Figure size 432x288 with 1 Axes>"
      ]
     },
     "metadata": {
      "needs_background": "light"
     },
     "output_type": "display_data"
    }
   ],
   "source": [
    "data.hist('living_area', bins=35, range=(0, 140))\n",
    "plt.title('Распределение значений жилой площади в м.кв.')\n",
    "plt.show()"
   ]
  },
  {
   "cell_type": "code",
   "execution_count": 52,
   "metadata": {},
   "outputs": [
    {
     "data": {
      "image/png": "[encoded data removed]",
      "text/plain": [
       "<Figure size 432x288 with 1 Axes>"
      ]
     },
     "metadata": {
      "needs_background": "light"
     },
     "output_type": "display_data"
    }
   ],
   "source": [
    "data.hist('kitchen_area', bins=30, range=(0, 60))\n",
    "plt.title('Распределение значений площади кухни в м.кв.')\n",
    "plt.show()"
   ]
  },
  {
   "cell_type": "code",
   "execution_count": 53,
   "metadata": {},
   "outputs": [
    {
     "data": {
      "image/png": "[encoded data removed]",
      "text/plain": [
       "<Figure size 720x360 with 1 Axes>"
      ]
     },
     "metadata": {
      "needs_background": "light"
     },
     "output_type": "display_data"
    }
   ],
   "source": [
    "(data['last_price'] / 1000000).hist(bins=40, range=(0, 40), figsize=(10, 5))\n",
    "plt.title('Распределение значений последней цены в млн. руб.')\n",
    "plt.show()"
   ]
  },
  {
   "cell_type": "code",
   "execution_count": 54,
   "metadata": {},
   "outputs": [
    {
     "data": {
      "image/png": "[encoded data removed]",
      "text/plain": [
       "<Figure size 432x288 with 1 Axes>"
      ]
     },
     "metadata": {
      "needs_background": "light"
     },
     "output_type": "display_data"
    }
   ],
   "source": [
    "data.hist('rooms', bins=8, range=(0, 8))\n",
    "plt.title('Распределение значений количества комнат')\n",
    "plt.show()"
   ]
  },
  {
   "cell_type": "code",
   "execution_count": 55,
   "metadata": {},
   "outputs": [
    {
     "data": {
      "image/png": "[encoded data removed]",
      "text/plain": [
       "<Figure size 432x288 with 1 Axes>"
      ]
     },
     "metadata": {
      "needs_background": "light"
     },
     "output_type": "display_data"
    }
   ],
   "source": [
    "data.hist('floor', bins=30, range=(0, 30))\n",
    "plt.title('Распределение значений номера этажа')\n",
    "plt.show()"
   ]
  },
  {
   "cell_type": "code",
   "execution_count": 56,
   "metadata": {},
   "outputs": [
    {
     "data": {
      "image/png": "[encoded data removed]",
      "text/plain": [
       "<Figure size 432x288 with 1 Axes>"
      ]
     },
     "metadata": {
      "needs_background": "light"
     },
     "output_type": "display_data"
    }
   ],
   "source": [
    "data.groupby(by='floor_type')['floor_type'].count().plot(kind='bar', grid=True)\n",
    "plt.title('Распределение по типам этажа')\n",
    "plt.show()"
   ]
  },
  {
   "cell_type": "code",
   "execution_count": 57,
   "metadata": {},
   "outputs": [
    {
     "data": {
      "image/png": "[encoded data removed]",
      "text/plain": [
       "<Figure size 432x288 with 1 Axes>"
      ]
     },
     "metadata": {
      "needs_background": "light"
     },
     "output_type": "display_data"
    }
   ],
   "source": [
    "data.hist('floors_total', bins=30, range=(0, 30))\n",
    "plt.title('Распределение по общему количеству этажей')\n",
    "plt.show()"
   ]
  },
  {
   "cell_type": "code",
   "execution_count": 58,
   "metadata": {},
   "outputs": [
    {
     "data": {
      "image/png": "[encoded data removed]",
      "text/plain": [
       "<Figure size 720x360 with 1 Axes>"
      ]
     },
     "metadata": {
      "needs_background": "light"
     },
     "output_type": "display_data"
    }
   ],
   "source": [
    "data.hist('city_centers_nearest', bins=30, range=(0, 60000), figsize=(10, 5))\n",
    "plt.title('Распределение по расстоянию до центра города в метрах')\n",
    "plt.show()"
   ]
  },
  {
   "cell_type": "code",
   "execution_count": 59,
   "metadata": {},
   "outputs": [
    {
     "data": {
      "image/png": "[encoded data removed]",
      "text/plain": [
       "<Figure size 720x360 with 1 Axes>"
      ]
     },
     "metadata": {
      "needs_background": "light"
     },
     "output_type": "display_data"
    }
   ],
   "source": [
    "data.hist('airports_nearest', bins=40, range=(0, 80000), figsize=(10, 5))\n",
    "plt.title('Распределение по расстоянию до ближайшего аэропорта в метрах')\n",
    "plt.show()"
   ]
  },
  {
   "cell_type": "code",
   "execution_count": 60,
   "metadata": {},
   "outputs": [
    {
     "data": {
      "image/png": "[encoded data removed]",
      "text/plain": [
       "<Figure size 720x360 with 1 Axes>"
      ]
     },
     "metadata": {
      "needs_background": "light"
     },
     "output_type": "display_data"
    }
   ],
   "source": [
    "data.hist('parks_nearest', bins=30, range=(0, 3000), figsize=(10, 5))\n",
    "plt.title('Распределение по расстоянию до ближайшего парка в метрах')\n",
    "plt.show()"
   ]
  },
  {
   "cell_type": "code",
   "execution_count": 61,
   "metadata": {},
   "outputs": [
    {
     "data": {
      "image/png": "[encoded data removed]",
      "text/plain": [
       "<Figure size 432x288 with 1 Axes>"
      ]
     },
     "metadata": {
      "needs_background": "light"
     },
     "output_type": "display_data"
    }
   ],
   "source": [
    "data.hist('weekday_exp', bins=7, range=(0, 7))\n",
    "plt.title('Распределение по дню недели публикации объявления')\n",
    "plt.show()"
   ]
  },
  {
   "cell_type": "code",
   "execution_count": 62,
   "metadata": {},
   "outputs": [
    {
     "data": {
      "image/png": "[encoded data removed]",
      "text/plain": [
       "<Figure size 432x288 with 1 Axes>"
      ]
     },
     "metadata": {
      "needs_background": "light"
     },
     "output_type": "display_data"
    }
   ],
   "source": [
    "data.hist('month_exp', bins=12, range=(1, 13))\n",
    "plt.title('Распределение по месяцу публикации объявления')\n",
    "plt.show()"
   ]
  },
  {
   "cell_type": "markdown",
   "metadata": {},
   "source": [
    "<div style=\"background: #B0E0E6; padding: 5px; border: 1px solid SteelBlue; border-radius: 5px;\">\n",
    "    <font color='4682B4'><u><b>НАБЛЮДЕНИЯ ПО ПАРАМЕТРАМ ОБЪЕКТОВ НЕДВИЖИМОСТИ</b></u></font>\n",
    "    <br /><br />\n",
    "    <font color='4682B4'>Из гистограммы распределения общей площади, жилой площади и площади кухни объекта видим, что наиболее часто встречаются объявления с объектами общей площадью от 30 до 60 м.кв, жилой площадью от 16 до 20 м.кв и от 28 до 32 м.кв, площадью кухни от 6 до 12 м. кв.\n",
    "    <br /><br />\n",
    "    В предоставленных данных больше всего объектов стоимостью 3-4 млн руб.\n",
    "    <br /><br />\n",
    "    Чаще всего объекты имеют 1 и 2 комнаты, реже 3 комнаты.\n",
    "    <br /><br />\n",
    "    В наибольшем количестве представлены объекты с номерами этажей от 1 до 5, что подтверждает гистограмма с общим количеством этажей, на которой указано, что объектов в пятиэтажных домах больше всего. Среди типов этажа \"другой\" превалирует над \"первым\" и \"последним\", что вполне логично, поскольку для данного типа больше вариантов значений номера этажа.\n",
    "    <br /><br />\n",
    "    Чаще встречаются объекты с расстоянием 10 - 14 км до центра города. В целом наибольшая часть выборки представлена объектами, находящимися на расстоянии до 18 км от центра города.\n",
    "    <br /><br />\n",
    "    Наиболее часто встречаются объекты с расстоянием от 10 до 38 км до аэропорта.\n",
    "    <br /><br />\n",
    "    Среди объектов выборки, для которых указано расстояние до ближайшего парка (примерно 30% выборки), наиболее часто встречаются объекты, на расстоянии 200-600 м от которых находится парк. \n",
    "    <br /><br />\n",
    "    Гистограмма распределения публикации объявлений по дням недели показывает, что в будние дни объявления публикуются чаще (около 4000 объявлений из выборки на каждый из будних дней недели), чем в выходные (около 1800 объявлений из выборки на каждый из выходных дней недели).\n",
    "    <br /><br />\n",
    "    По гистограмме распределения публикации объявлений по месяцам можно заметить некую сезонность. Чаще всего объявления публикуются с февраля по апрель. Также с сентября отмечается рост количества публикации объявлений, который достигает пика в ноябре.\n",
    "    </font>\n",
    "</div>"
   ]
  },
  {
   "cell_type": "code",
   "execution_count": 63,
   "metadata": {},
   "outputs": [
    {
     "data": {
      "image/png": "[encoded data removed]",
      "text/plain": [
       "<Figure size 720x360 with 1 Axes>"
      ]
     },
     "metadata": {
      "needs_background": "light"
     },
     "output_type": "display_data"
    }
   ],
   "source": [
    "data['days_exposition'].hist(bins=70, range=(0, 700), figsize=(10, 5))\n",
    "plt.title('Распределение по количеству дней размещения объявления')\n",
    "plt.show()"
   ]
  },
  {
   "cell_type": "code",
   "execution_count": 64,
   "metadata": {
    "scrolled": true
   },
   "outputs": [
    {
     "data": {
      "text/plain": [
       "count    20280.000000\n",
       "mean       179.478797\n",
       "std        218.182134\n",
       "min          1.000000\n",
       "25%         45.000000\n",
       "50%         95.000000\n",
       "75%        229.000000\n",
       "max       1580.000000\n",
       "Name: days_exposition, dtype: float64"
      ]
     },
     "execution_count": 64,
     "metadata": {},
     "output_type": "execute_result"
    }
   ],
   "source": [
    "data['days_exposition'].describe()"
   ]
  },
  {
   "cell_type": "markdown",
   "metadata": {},
   "source": [
    "<div style=\"background: #B0E0E6; padding: 5px; border: 1px solid SteelBlue; border-radius: 5px;\">\n",
    "    <font color='4682B4'><u><b>НАБЛЮДЕНИЯ ПО ВРЕМЕНИ ПРОДАЖИ ОБЪЕКТА</b></u></font>\n",
    "    <br /><br />\n",
    "    <font color='4682B4'>Поскольку разброс значений времени продажи объекта большой и имеет неравномерное распределение, для оценки среднего времени продажи целесообразно использовать медианное значение - 95 дней.\n",
    "    <br /><br />    \n",
    "    Необычно долгими будем считать продажи, объявления по которым были опубликованы более 700 дней. Быстрые продажи - до 50 дней.\n",
    "    </font>\n",
    "</div>"
   ]
  },
  {
   "cell_type": "markdown",
   "metadata": {},
   "source": [
    "### Проверка зависимости цены объекта от различных параметров"
   ]
  },
  {
   "cell_type": "markdown",
   "metadata": {},
   "source": [
    "Проверим, есть ли зависимость цены объекта от следующих параметров: общая площадь; жилая площадь; площадь кухни; количество комнат; этаж, на котором расположена квартира (первый, последний, другой); дата размещения (день недели, месяц, год)."
   ]
  },
  {
   "cell_type": "markdown",
   "metadata": {},
   "source": [
    "Для более понятного отображения диаграмм добавим в датафрейм столбец с ценой объекта в миллионах рублей `last_price_millions`."
   ]
  },
  {
   "cell_type": "code",
   "execution_count": 65,
   "metadata": {},
   "outputs": [],
   "source": [
    "data.insert(2, 'last_price_millions', (data['last_price'] / 1000000))"
   ]
  },
  {
   "cell_type": "markdown",
   "metadata": {},
   "source": [
    "**Проверка зависимости цены от общей площади**"
   ]
  },
  {
   "cell_type": "markdown",
   "metadata": {},
   "source": [
    "Для определения зависимости построим диаграмму рассеяния. В качестве значений по осям укажем столбцы `total_area` и `last_price`."
   ]
  },
  {
   "cell_type": "code",
   "execution_count": 66,
   "metadata": {
    "scrolled": true
   },
   "outputs": [
    {
     "data": {
      "image/png": "[encoded data removed]",
      "text/plain": [
       "<Figure size 432x288 with 1 Axes>"
      ]
     },
     "metadata": {
      "needs_background": "light"
     },
     "output_type": "display_data"
    }
   ],
   "source": [
    "data.plot(x='total_area', y='last_price_millions', kind='scatter', alpha=0.03)\n",
    "plt.xlabel('Общая площадь, м.кв')\n",
    "plt.ylabel('Цена, млн. руб')\n",
    "plt.show()"
   ]
  },
  {
   "cell_type": "markdown",
   "metadata": {},
   "source": [
    "Определим также коэффициент корреляции общей площади и стоимости объекта."
   ]
  },
  {
   "cell_type": "code",
   "execution_count": 67,
   "metadata": {
    "scrolled": true
   },
   "outputs": [
    {
     "data": {
      "text/plain": [
       "0.7632089824998106"
      ]
     },
     "execution_count": 67,
     "metadata": {},
     "output_type": "execute_result"
    }
   ],
   "source": [
    "data['total_area'].corr(data['last_price'])"
   ]
  },
  {
   "cell_type": "markdown",
   "metadata": {},
   "source": [
    "Чем больше общая площадь объекта, тем больше его стоимость."
   ]
  },
  {
   "cell_type": "markdown",
   "metadata": {},
   "source": [
    "**Проверка зависимости цены от жилой площади**"
   ]
  },
  {
   "cell_type": "markdown",
   "metadata": {},
   "source": [
    "Аналогичным способом определим есть ли зависимость между жилой площадью и ценой объекта."
   ]
  },
  {
   "cell_type": "code",
   "execution_count": 68,
   "metadata": {
    "scrolled": false
   },
   "outputs": [
    {
     "data": {
      "image/png": "[encoded data removed]",
      "text/plain": [
       "<Figure size 432x288 with 1 Axes>"
      ]
     },
     "metadata": {
      "needs_background": "light"
     },
     "output_type": "display_data"
    }
   ],
   "source": [
    "data.plot(x='living_area', y='last_price_millions', kind='scatter', alpha=0.07)\n",
    "plt.xlabel('Жилая площадь, м.кв')\n",
    "plt.ylabel('Цена, млн. руб')\n",
    "plt.show()"
   ]
  },
  {
   "cell_type": "markdown",
   "metadata": {},
   "source": [
    "Определим также коэффициент корреляции."
   ]
  },
  {
   "cell_type": "code",
   "execution_count": 69,
   "metadata": {
    "scrolled": false
   },
   "outputs": [
    {
     "data": {
      "text/plain": [
       "0.6475417542724664"
      ]
     },
     "execution_count": 69,
     "metadata": {},
     "output_type": "execute_result"
    }
   ],
   "source": [
    "data['living_area'].corr(data['last_price'])"
   ]
  },
  {
   "cell_type": "markdown",
   "metadata": {},
   "source": [
    "Существует незначительная зависимость между ценой квартиры и жилой площадью. Чем больше жилая площадь, тем выше стоимость."
   ]
  },
  {
   "cell_type": "markdown",
   "metadata": {},
   "source": [
    "**Проверка зависимости цены от площади кухни**"
   ]
  },
  {
   "cell_type": "markdown",
   "metadata": {},
   "source": [
    "Аналогичным способом определим есть ли зависимость между площадью кухни и ценой объекта."
   ]
  },
  {
   "cell_type": "code",
   "execution_count": 70,
   "metadata": {
    "scrolled": true
   },
   "outputs": [
    {
     "data": {
      "image/png": "[encoded data removed]",
      "text/plain": [
       "<Figure size 432x288 with 1 Axes>"
      ]
     },
     "metadata": {
      "needs_background": "light"
     },
     "output_type": "display_data"
    }
   ],
   "source": [
    "data.plot(x='kitchen_area', y='last_price_millions', kind='scatter', alpha=0.1)\n",
    "plt.xlabel('Площадь кухни, м.кв')\n",
    "plt.ylabel('Цена, млн.руб')\n",
    "plt.show()"
   ]
  },
  {
   "cell_type": "markdown",
   "metadata": {},
   "source": [
    "Определим также коэффициент корреляции."
   ]
  },
  {
   "cell_type": "code",
   "execution_count": 71,
   "metadata": {
    "scrolled": true
   },
   "outputs": [
    {
     "data": {
      "text/plain": [
       "0.6475417542724664"
      ]
     },
     "execution_count": 71,
     "metadata": {},
     "output_type": "execute_result"
    }
   ],
   "source": [
    "data['living_area'].corr(data['last_price'])"
   ]
  },
  {
   "cell_type": "markdown",
   "metadata": {},
   "source": [
    "Существует незначительная зависимость между ценой квартиры и площадью кухни. Чем больше площадь кухни, тем выше стоимость."
   ]
  },
  {
   "cell_type": "markdown",
   "metadata": {},
   "source": [
    "**Проверка зависимости цены от количества комнат**"
   ]
  },
  {
   "cell_type": "markdown",
   "metadata": {},
   "source": [
    "Аналогичным способом определим есть ли зависимость между количеством комнат и ценой объекта."
   ]
  },
  {
   "cell_type": "code",
   "execution_count": 72,
   "metadata": {},
   "outputs": [
    {
     "data": {
      "image/png": "[encoded data removed]",
      "text/plain": [
       "<Figure size 432x288 with 1 Axes>"
      ]
     },
     "metadata": {
      "needs_background": "light"
     },
     "output_type": "display_data"
    }
   ],
   "source": [
    "data.plot(x='rooms', y='last_price_millions', kind='scatter', alpha=0.1)\n",
    "plt.xlabel('Количество комнат')\n",
    "plt.ylabel('Цена, млн.руб')\n",
    "plt.show()"
   ]
  },
  {
   "cell_type": "markdown",
   "metadata": {},
   "source": [
    "На диаграмме рассеивания сложно отследнить зависимость между параметрами. Построим столбчатый график на котором указана медианная цена объекта в зависимости от количества комнат."
   ]
  },
  {
   "cell_type": "code",
   "execution_count": 73,
   "metadata": {},
   "outputs": [
    {
     "data": {
      "image/png": "[encoded data removed]",
      "text/plain": [
       "<Figure size 432x288 with 1 Axes>"
      ]
     },
     "metadata": {
      "needs_background": "light"
     },
     "output_type": "display_data"
    }
   ],
   "source": [
    "data.pivot_table(index='rooms', values='last_price_millions', aggfunc='median').plot(kind='bar', grid=True)\n",
    "plt.xlabel('Количество комнат')\n",
    "plt.ylabel('Цена, млн.руб')\n",
    "plt.show()"
   ]
  },
  {
   "cell_type": "markdown",
   "metadata": {},
   "source": [
    "Чем больше комнат в квартире, тем выше её стоимость."
   ]
  },
  {
   "cell_type": "markdown",
   "metadata": {},
   "source": [
    "**Проверка зависимости цены от типа этажа (первый, последний, другой)**"
   ]
  },
  {
   "cell_type": "markdown",
   "metadata": {},
   "source": [
    "Определим есть ли зависимость между типом этажа и ценой объекта. Для этого создадим сводную таблицу, в которой для каждого типа этажа определим медианную цену. Значения отобразим на столбчатом графике."
   ]
  },
  {
   "cell_type": "code",
   "execution_count": 74,
   "metadata": {
    "scrolled": false
   },
   "outputs": [
    {
     "data": {
      "image/png": "[encoded data removed]",
      "text/plain": [
       "<Figure size 432x288 with 1 Axes>"
      ]
     },
     "metadata": {
      "needs_background": "light"
     },
     "output_type": "display_data"
    }
   ],
   "source": [
    "data.pivot_table(index='floor_type', values='last_price_millions', aggfunc='median').plot(kind='bar', grid=True)\n",
    "plt.xlabel('Тип этажа')\n",
    "plt.ylabel('Цена, млн.руб')\n",
    "plt.show()"
   ]
  },
  {
   "cell_type": "markdown",
   "metadata": {},
   "source": [
    "Стоимость квартиры зависит от типа этажа. Наименьшая средняя цена на квартиры, расположенные на первом этаже, цена выше на квартиры на последнем этаже. Самая высокая цена квартир, расположенных не на первом и не на последнем этаже."
   ]
  },
  {
   "cell_type": "markdown",
   "metadata": {},
   "source": [
    "**Проверка зависимости цены от дня недели размещения**"
   ]
  },
  {
   "cell_type": "markdown",
   "metadata": {},
   "source": [
    "Определим есть ли зависимость между днем недели размещения и ценой объекта."
   ]
  },
  {
   "cell_type": "code",
   "execution_count": 75,
   "metadata": {
    "scrolled": false
   },
   "outputs": [
    {
     "data": {
      "image/png": "[encoded data removed]",
      "text/plain": [
       "<Figure size 432x288 with 1 Axes>"
      ]
     },
     "metadata": {
      "needs_background": "light"
     },
     "output_type": "display_data"
    }
   ],
   "source": [
    "data.plot(x='weekday_exp', y='last_price_millions', kind='scatter', alpha=0.02)\n",
    "plt.xlabel('День недели размещения объявления')\n",
    "plt.ylabel('Цена, млн.руб')\n",
    "plt.show()"
   ]
  },
  {
   "cell_type": "markdown",
   "metadata": {},
   "source": [
    "Также построим столбчатый график, на котором указана медианная цена объекта по дням недели размещения."
   ]
  },
  {
   "cell_type": "code",
   "execution_count": 76,
   "metadata": {
    "scrolled": true
   },
   "outputs": [
    {
     "data": {
      "image/png": "[encoded data removed]",
      "text/plain": [
       "<Figure size 432x288 with 1 Axes>"
      ]
     },
     "metadata": {
      "needs_background": "light"
     },
     "output_type": "display_data"
    }
   ],
   "source": [
    "data.pivot_table(index='weekday_exp', values='last_price_millions', aggfunc='median').plot(kind='bar', grid=True)\n",
    "plt.xlabel('День недели размещения объявления')\n",
    "plt.ylabel('Цена, млн.руб')\n",
    "plt.show()"
   ]
  },
  {
   "cell_type": "markdown",
   "metadata": {},
   "source": [
    "Цена квартиры не зависит от дня недели размещения объявления."
   ]
  },
  {
   "cell_type": "markdown",
   "metadata": {},
   "source": [
    "**Проверка зависимости цены от месяца размещения**"
   ]
  },
  {
   "cell_type": "markdown",
   "metadata": {},
   "source": [
    "Определим есть ли зависимость между месяцем размещения и ценой объекта."
   ]
  },
  {
   "cell_type": "code",
   "execution_count": 77,
   "metadata": {
    "scrolled": false
   },
   "outputs": [
    {
     "data": {
      "image/png": "[encoded data removed]",
      "text/plain": [
       "<Figure size 432x288 with 1 Axes>"
      ]
     },
     "metadata": {
      "needs_background": "light"
     },
     "output_type": "display_data"
    }
   ],
   "source": [
    "data.plot(x='month_exp', y='last_price_millions', kind='scatter', alpha=0.02)\n",
    "plt.xlabel('Месяц размещения объявления')\n",
    "plt.ylabel('Цена, млн.руб')\n",
    "plt.show()"
   ]
  },
  {
   "cell_type": "markdown",
   "metadata": {},
   "source": [
    "Также построим столбчатый график, на котором указана медианная цена объекта по месяцам размещения."
   ]
  },
  {
   "cell_type": "code",
   "execution_count": 78,
   "metadata": {
    "scrolled": true
   },
   "outputs": [
    {
     "data": {
      "image/png": "[encoded data removed]",
      "text/plain": [
       "<Figure size 432x288 with 1 Axes>"
      ]
     },
     "metadata": {
      "needs_background": "light"
     },
     "output_type": "display_data"
    }
   ],
   "source": [
    "data.pivot_table(index='month_exp', values='last_price_millions', aggfunc='median').plot(kind='bar', grid=True)\n",
    "plt.xlabel('Месяц размещения объявления')\n",
    "plt.ylabel('Цена, млн.руб')\n",
    "plt.show()"
   ]
  },
  {
   "cell_type": "markdown",
   "metadata": {},
   "source": [
    "Цена квартиры не зависит от дня месяца размещения объявления."
   ]
  },
  {
   "cell_type": "markdown",
   "metadata": {},
   "source": [
    "**Проверка зависимости цены от года размещения**"
   ]
  },
  {
   "cell_type": "markdown",
   "metadata": {},
   "source": [
    "Определим есть ли зависимость между годом размещения и ценой объекта."
   ]
  },
  {
   "cell_type": "code",
   "execution_count": 79,
   "metadata": {
    "scrolled": false
   },
   "outputs": [
    {
     "data": {
      "image/png": "[encoded data removed]",
      "text/plain": [
       "<Figure size 432x288 with 1 Axes>"
      ]
     },
     "metadata": {
      "needs_background": "light"
     },
     "output_type": "display_data"
    }
   ],
   "source": [
    "data.plot(x='year_exp', y='last_price_millions', kind='scatter', alpha=0.02)\n",
    "plt.xlabel('Год размещения объявления')\n",
    "plt.ylabel('Цена, млн.руб')\n",
    "plt.show()"
   ]
  },
  {
   "cell_type": "markdown",
   "metadata": {},
   "source": [
    "Также построим столбчатый график, на котором указана медианная цена объекта по годам размещения."
   ]
  },
  {
   "cell_type": "code",
   "execution_count": 80,
   "metadata": {
    "scrolled": true
   },
   "outputs": [
    {
     "data": {
      "image/png": "[encoded data removed]",
      "text/plain": [
       "<Figure size 432x288 with 1 Axes>"
      ]
     },
     "metadata": {
      "needs_background": "light"
     },
     "output_type": "display_data"
    }
   ],
   "source": [
    "data.pivot_table(index='year_exp', values='last_price_millions', aggfunc='median').plot(kind='bar', grid=True)\n",
    "plt.xlabel('Год размещения объявления')\n",
    "plt.ylabel('Цена, млн.руб')\n",
    "plt.show()"
   ]
  },
  {
   "cell_type": "markdown",
   "metadata": {},
   "source": [
    "Построим стобчатый график, который показывает количество объявлений по годам."
   ]
  },
  {
   "cell_type": "code",
   "execution_count": 81,
   "metadata": {
    "scrolled": true
   },
   "outputs": [
    {
     "data": {
      "image/png": "[encoded data removed]",
      "text/plain": [
       "<Figure size 432x288 with 1 Axes>"
      ]
     },
     "metadata": {
      "needs_background": "light"
     },
     "output_type": "display_data"
    }
   ],
   "source": [
    "data.pivot_table(index='year_exp', values='last_price_millions', aggfunc='count').plot(kind='bar', grid=True)\n",
    "plt.xlabel('Год размещения объявления')\n",
    "plt.ylabel('Количество объявлений')\n",
    "plt.show()"
   ]
  },
  {
   "cell_type": "markdown",
   "metadata": {},
   "source": [
    "Для определения зависимости стоимости квартиры от года размещения объявления необходимо получить более полную и сбалансированную выборку."
   ]
  },
  {
   "cell_type": "markdown",
   "metadata": {},
   "source": [
    "Посчитаем среднюю цену одного квадратного метра в 10 населённых пунктах с наибольшим числом объявлений."
   ]
  },
  {
   "cell_type": "code",
   "execution_count": 82,
   "metadata": {},
   "outputs": [
    {
     "data": {
      "text/html": [
       "<div>\n",
       "<style scoped>\n",
       "    .dataframe tbody tr th:only-of-type {\n",
       "        vertical-align: middle;\n",
       "    }\n",
       "\n",
       "    .dataframe tbody tr th {\n",
       "        vertical-align: top;\n",
       "    }\n",
       "\n",
       "    .dataframe thead th {\n",
       "        text-align: right;\n",
       "    }\n",
       "</style>\n",
       "<table border=\"1\" class=\"dataframe\">\n",
       "  <thead>\n",
       "    <tr style=\"text-align: right;\">\n",
       "      <th></th>\n",
       "      <th>count</th>\n",
       "      <th>mean</th>\n",
       "    </tr>\n",
       "    <tr>\n",
       "      <th>locality_name</th>\n",
       "      <th></th>\n",
       "      <th></th>\n",
       "    </tr>\n",
       "  </thead>\n",
       "  <tbody>\n",
       "    <tr>\n",
       "      <th>Санкт-Петербург</th>\n",
       "      <td>15430</td>\n",
       "      <td>112259.759559</td>\n",
       "    </tr>\n",
       "    <tr>\n",
       "      <th>Пушкин</th>\n",
       "      <td>364</td>\n",
       "      <td>103122.538462</td>\n",
       "    </tr>\n",
       "    <tr>\n",
       "      <th>деревня Кудрово</th>\n",
       "      <td>471</td>\n",
       "      <td>95326.205945</td>\n",
       "    </tr>\n",
       "    <tr>\n",
       "      <th>поселок Парголово</th>\n",
       "      <td>326</td>\n",
       "      <td>90332.236196</td>\n",
       "    </tr>\n",
       "    <tr>\n",
       "      <th>поселок Мурино</th>\n",
       "      <td>590</td>\n",
       "      <td>86087.508475</td>\n",
       "    </tr>\n",
       "    <tr>\n",
       "      <th>поселок Шушары</th>\n",
       "      <td>440</td>\n",
       "      <td>78677.379545</td>\n",
       "    </tr>\n",
       "    <tr>\n",
       "      <th>Колпино</th>\n",
       "      <td>337</td>\n",
       "      <td>75333.287834</td>\n",
       "    </tr>\n",
       "    <tr>\n",
       "      <th>Гатчина</th>\n",
       "      <td>307</td>\n",
       "      <td>68746.110749</td>\n",
       "    </tr>\n",
       "    <tr>\n",
       "      <th>Всеволожск</th>\n",
       "      <td>397</td>\n",
       "      <td>68719.322418</td>\n",
       "    </tr>\n",
       "    <tr>\n",
       "      <th>Выборг</th>\n",
       "      <td>235</td>\n",
       "      <td>58238.153191</td>\n",
       "    </tr>\n",
       "  </tbody>\n",
       "</table>\n",
       "</div>"
      ],
      "text/plain": [
       "                   count           mean\n",
       "locality_name                          \n",
       "Санкт-Петербург    15430  112259.759559\n",
       "Пушкин               364  103122.538462\n",
       "деревня Кудрово      471   95326.205945\n",
       "поселок Парголово    326   90332.236196\n",
       "поселок Мурино       590   86087.508475\n",
       "поселок Шушары       440   78677.379545\n",
       "Колпино              337   75333.287834\n",
       "Гатчина              307   68746.110749\n",
       "Всеволожск           397   68719.322418\n",
       "Выборг               235   58238.153191"
      ]
     },
     "execution_count": 82,
     "metadata": {},
     "output_type": "execute_result"
    }
   ],
   "source": [
    "(\n",
    "    data.pivot_table(index='locality_name', values='price_sq_meter', aggfunc=('count', 'mean'))\n",
    "    .sort_values(by='count', ascending=False)\n",
    "    .iloc[:10]\n",
    "    .sort_values(by='mean', ascending=False)\n",
    ")\n",
    "\n",
    "# Создаем сводную таблицу по названиям локаций, котрая содержит количество объявлений и среднюю цену за м.кв квартиры.\n",
    "# Сортируем таблицу по убыванию количества объявлений.\n",
    "# Делаем срез из первых 10 значений и сортируем по средней цене за м.кв по убыванию цены."
   ]
  },
  {
   "cell_type": "markdown",
   "metadata": {},
   "source": [
    "Самая высокая цена квадратного метра жилья в Санкт-Петербурге (112260 руб.), ниже в Пушкине (103123 руб.) и деревне Кудрово (95326 руб.).\\\n",
    "Самые низкие цены за метр квадратный в представленном выше списке в Выборге (68719 руб.) и Всеволожске (68719 руб.)."
   ]
  },
  {
   "cell_type": "markdown",
   "metadata": {},
   "source": [
    "Посчитаем, как меняется цена за квадратный метр в Санкт-Петербурге в зависимости от расстояния до центра города. Для каждого километра найдем среднее значение цены. Данные представим в виде столбчатого графика."
   ]
  },
  {
   "cell_type": "code",
   "execution_count": 83,
   "metadata": {
    "scrolled": false
   },
   "outputs": [
    {
     "data": {
      "image/png": "[encoded data removed]",
      "text/plain": [
       "<Figure size 720x360 with 1 Axes>"
      ]
     },
     "metadata": {
      "needs_background": "light"
     },
     "output_type": "display_data"
    }
   ],
   "source": [
    "(\n",
    "    data.query('locality_name == \"Санкт-Петербург\"')\n",
    "    .pivot_table(index='city_centers_nearest_km', values='price_sq_meter', aggfunc='mean')\n",
    "    .plot(kind='bar', grid=True, figsize=(10, 5))\n",
    ")\n",
    "plt.xlabel('Расстояние до центра города, км')\n",
    "plt.ylabel('Цена за м.кв, руб')\n",
    "plt.show()"
   ]
  },
  {
   "cell_type": "markdown",
   "metadata": {},
   "source": [
    "Чтобы понять, откуда появилось выбивающееся значение для расстояния 27 км от центра города, построим аналогичный график, на котором будет показано количество объектов для каждого километра расстояния от центра города."
   ]
  },
  {
   "cell_type": "code",
   "execution_count": 84,
   "metadata": {
    "scrolled": false
   },
   "outputs": [
    {
     "data": {
      "image/png": "[encoded data removed]",
      "text/plain": [
       "<Figure size 720x360 with 1 Axes>"
      ]
     },
     "metadata": {
      "needs_background": "light"
     },
     "output_type": "display_data"
    }
   ],
   "source": [
    "(\n",
    "    data.query('locality_name == \"Санкт-Петербург\"')\n",
    "    .pivot_table(index='city_centers_nearest_km', values='price_sq_meter', aggfunc='count')\n",
    "    .plot(kind='bar', grid=True, figsize=(10, 5))\n",
    ")\n",
    "plt.xlabel('Расстояние до центра города, км')\n",
    "plt.ylabel('Количество объявлений')\n",
    "plt.show()"
   ]
  },
  {
   "cell_type": "markdown",
   "metadata": {},
   "source": [
    "По данному графику видно, что выбивающееся значение может быть вызвано недостаточным количеством данных по объектам, расположенным на расстоянии 20 км и дальше от центра города"
   ]
  },
  {
   "cell_type": "markdown",
   "metadata": {},
   "source": [
    "**Вывод:** в ходе анализа выполнено следующее:\n",
    "1. Произведена проверка зависимости цены от таких параметров как: общая площадь; жилая площадь; площадь кухни; количество комнат; этаж, на котором расположена квартира (первый, последний, другой), дата размещения (день недели, месяц, год), все наблюдения описаны в комментариях. Стоимость квартиры зависит от общей площади, количества комнат, типа этажа. Зависимость от жилой площади и площади кухни незначительная. День недели и месяц размещения объявления не влияют на уровень цены на жилье. С достаточной точностью определить зависимость стоимости от года размещения объявления не представляется возможным, поскольку выборка не сбалансирована. \n",
    "2. Посчитана средняя цена одного квадратного метра жилья в 10 населённых пунктах с наибольшим числом объявлений. Самая высокая цена цена квадратного метра жилья в Санкт-Петербурге (112260 руб.). Самая низкия - в Выборге 58238 руб.).\n",
    "3. Выполнена проверка зависимости стоимости объектов в Санкт-Петербурге от расстояния до центра города. На основании выполненного анализа можно сделать вывод о том, что стоимость объектов зависит от расстояния до центра города. Чем ближе объект к центру города, тем выше стоимость квадратного метра площади объекта."
   ]
  },
  {
   "cell_type": "markdown",
   "metadata": {},
   "source": [
    "## Общий вывод"
   ]
  },
  {
   "cell_type": "markdown",
   "metadata": {},
   "source": [
    "На основании данных сервиса Яндекс.Недвижимость - архива объявлений о продаже квартир за период с *27 ноября 2014 года по 3 мая 2019 года* установлены параметры, влияющие на стоимость объекта. Это позволит построить автоматизированную систему для отслеживания аномалий и мошеннической деятельности.\n",
    "\n",
    "По построенным диаграммам распределения выявлены диапазоны наиболее часто встречающихся в предоставленной выборке данных значений по различным критериям:\n",
    "- наиболее часто встречаются объявления с объектами общей площадью от 30 до 60 м.кв, жилой площадью от 16 до 20 и от 28 до 32 м.кв, площадью к ухни от 6 до 12 м. кв.;\n",
    "- в данных больше всего объектов стоимостью 3-4 млн руб;\n",
    "- чаще всего объекты имеют 1 и 2 комнаты, реже 3 комнаты;\n",
    "- в наибольшем количестве представлены объекты с номерами этажей от 1 до 5;\n",
    "- чаще всего объекты расположены в пятиэтажных и девятиэтажных домах;\n",
    "- чаще встречаются объекты с расстоянием 10 - 14 км до центра города. В целом наибольшая часть выборки представлена объектами, находящимися на расстоянии до 18 км от центра города;\n",
    "- наиболее часто встречаются объекты с расстоянием от 10 до 38 км до аэропорта;\n",
    "- среди объектов выборки, для которых указано расстояние до ближайшего парка (примерно 30% выборки), наиболее часто встречаются объекты, на расстоянии 200-600 м от которых находится парк;\n",
    "- в будние дни объявления публикуются чаще, чем в выходные;\n",
    "- можно отметить некую сезонность. Чаще всего объявления публикуются с февраля по апрель. Также с сентября отмечается рост количества публикации объявлений, который достигает пика в ноябре.\n",
    "\n",
    "Среднее время продажи квартиры из архива данных составляет **95 дней**.\n",
    "\n",
    "В ходе анализа также проверены гипотезы о наличии зависимости между ценой объекта и следующими критериями: общая площадь; жилая площадь; площадь кухни; количество комнат; этаж, на котором расположена квартира (первый, последний, другой); дата размещения (день недели, месяц, год).\n",
    "\n",
    "**Стоимость квартиры зависит от его общей площади**\\\n",
    "Чем больше площадь объекта, тем больше его стоимость.\n",
    "\n",
    "**Стоимость квартиры незначительно зависит от его жилой площади и площади кухни**\\\n",
    "С увеличением отдельно жилой площади или площади кухни прослеживается незначительное увеличение стоимости жилья. Более целесообразно ориентироваться на зависимость стоимости объекта от его общей площади.\n",
    "\n",
    "**Стоимость квартиры зависит от количества комнат**\\\n",
    "С увеличением количества комнат увеличивается стоимость объекта.\n",
    "\n",
    "**Стоимость квартиры зависит от типа этажа (первый, последний или другой)**\\\n",
    "Медианная стоимость жилья, расположенного на первом этаже самая низкая, выше на последнем этаже, самая высокая - для объектов, расположенных не на первом и не на последнем этаже.\n",
    "\n",
    "**Стоимость квартиры не зависит от дня недели размещения и месяца размещения объявления**\n",
    "\n",
    "Для того, чтобы определить зависимость цены квартиры от года размещения объявления, необходимо получить более полную и однородную по годам размещения выборку данных.\n",
    "\n",
    "На основании данных по 10 населенным пунктам с наибольшим числом объявлений установлено следующее:\n",
    "- *самая высокая цена квадратного метра жилья в Санкт-Петербурге (112260 руб.), ниже в Пушкине (103123 руб.) и деревне Кудрово (95326 руб.)*\n",
    "- *самые низкие цены за метр квадратный в представленном выше списке в Выборге (68719 руб.) и Всеволожске (68719 руб.)*\n",
    "\n",
    "Также в ходе анализа установлено, что **цена квадратного метра квартиры зависит от расстояния до центра города**. Чем ближе к центру находится объект, тем выше цена за квадратный метр его площади. Данное исследование выполнено для города Санкт-Петербург.\n",
    "\n",
    "**Рекомендации:**\n",
    "1. Для построения автоматизированной системы для отслеживания аномалий и мошеннической деятельности целесообразно использовать следующие параметры: *общая площадь, количество комнат, тип этажа и расстояние до центра города.*\n",
    "2. Для оценки влияния года размещения объявления на стоимость квартиры необходимо получить более полную и по-возможности сбалансированную выборку данных.\n",
    "3. Для предотвращения получения неявных дубликатов в названиях населенных пунктов целесообразно предотвратить введение пользователями названий с различным написанием (например, показывать пользователю выпадающий список с предлагаемыми названиями после того, как будет введено определенное количество символов названия)."
   ]
  }
 ],
 "metadata": {
  "ExecuteTimeLog": [
   {
    "duration": 530,
    "start_time": "2023-01-12T12:27:03.835Z"
   },
   {
    "duration": 39,
    "start_time": "2023-01-12T12:27:04.367Z"
   },
   {
    "duration": 28,
    "start_time": "2023-01-12T12:27:04.408Z"
   },
   {
    "duration": 23,
    "start_time": "2023-01-12T12:27:04.438Z"
   },
   {
    "duration": 2560,
    "start_time": "2023-01-12T12:27:04.463Z"
   },
   {
    "duration": 7,
    "start_time": "2023-01-12T12:27:07.025Z"
   },
   {
    "duration": 10,
    "start_time": "2023-01-12T12:27:07.034Z"
   },
   {
    "duration": 9,
    "start_time": "2023-01-12T12:27:07.046Z"
   },
   {
    "duration": 12,
    "start_time": "2023-01-12T12:27:07.057Z"
   },
   {
    "duration": 38,
    "start_time": "2023-01-12T12:27:07.073Z"
   },
   {
    "duration": 16,
    "start_time": "2023-01-12T12:27:07.114Z"
   },
   {
    "duration": 21,
    "start_time": "2023-01-12T12:27:07.133Z"
   },
   {
    "duration": 14,
    "start_time": "2023-01-12T12:27:07.157Z"
   },
   {
    "duration": 11,
    "start_time": "2023-01-12T12:27:07.173Z"
   },
   {
    "duration": 26,
    "start_time": "2023-01-12T12:27:07.185Z"
   },
   {
    "duration": 28,
    "start_time": "2023-01-12T12:27:07.218Z"
   },
   {
    "duration": 8,
    "start_time": "2023-01-12T12:27:07.248Z"
   },
   {
    "duration": 10,
    "start_time": "2023-01-12T12:27:07.258Z"
   },
   {
    "duration": 80,
    "start_time": "2023-01-12T12:27:07.270Z"
   },
   {
    "duration": 64,
    "start_time": "2023-01-12T12:27:07.353Z"
   },
   {
    "duration": 9,
    "start_time": "2023-01-12T12:27:07.424Z"
   },
   {
    "duration": 24,
    "start_time": "2023-01-12T12:27:07.436Z"
   },
   {
    "duration": 111,
    "start_time": "2023-01-12T12:27:07.462Z"
   },
   {
    "duration": 11,
    "start_time": "2023-01-12T12:27:07.575Z"
   },
   {
    "duration": 72,
    "start_time": "2023-01-12T12:27:07.588Z"
   },
   {
    "duration": 20,
    "start_time": "2023-01-12T12:27:07.662Z"
   },
   {
    "duration": 9,
    "start_time": "2023-01-12T12:27:07.684Z"
   },
   {
    "duration": 63,
    "start_time": "2023-01-12T12:27:07.698Z"
   },
   {
    "duration": 566,
    "start_time": "2023-01-12T12:27:07.763Z"
   },
   {
    "duration": 14,
    "start_time": "2023-01-12T12:27:08.331Z"
   },
   {
    "duration": 70,
    "start_time": "2023-01-12T12:27:08.346Z"
   },
   {
    "duration": 10,
    "start_time": "2023-01-12T12:27:08.420Z"
   },
   {
    "duration": 482,
    "start_time": "2023-01-12T12:27:08.433Z"
   },
   {
    "duration": 10,
    "start_time": "2023-01-12T12:27:08.917Z"
   },
   {
    "duration": 35,
    "start_time": "2023-01-12T12:27:08.929Z"
   },
   {
    "duration": 4,
    "start_time": "2023-01-12T12:27:08.966Z"
   },
   {
    "duration": 284,
    "start_time": "2023-01-12T12:27:08.972Z"
   },
   {
    "duration": 5,
    "start_time": "2023-01-12T12:27:09.258Z"
   },
   {
    "duration": 63,
    "start_time": "2023-01-12T12:27:09.265Z"
   },
   {
    "duration": 195,
    "start_time": "2023-01-12T12:27:09.330Z"
   },
   {
    "duration": 165,
    "start_time": "2023-01-12T12:27:09.527Z"
   },
   {
    "duration": 198,
    "start_time": "2023-01-12T12:27:09.694Z"
   },
   {
    "duration": 322,
    "start_time": "2023-01-12T12:27:09.894Z"
   },
   {
    "duration": 158,
    "start_time": "2023-01-12T12:27:10.218Z"
   },
   {
    "duration": 206,
    "start_time": "2023-01-12T12:27:10.377Z"
   },
   {
    "duration": 147,
    "start_time": "2023-01-12T12:27:10.584Z"
   },
   {
    "duration": 202,
    "start_time": "2023-01-12T12:27:10.732Z"
   },
   {
    "duration": 238,
    "start_time": "2023-01-12T12:27:10.936Z"
   },
   {
    "duration": 244,
    "start_time": "2023-01-12T12:27:11.176Z"
   },
   {
    "duration": 207,
    "start_time": "2023-01-12T12:27:11.422Z"
   },
   {
    "duration": 166,
    "start_time": "2023-01-12T12:27:11.630Z"
   },
   {
    "duration": 166,
    "start_time": "2023-01-12T12:27:11.797Z"
   },
   {
    "duration": 381,
    "start_time": "2023-01-12T12:27:11.965Z"
   },
   {
    "duration": 267,
    "start_time": "2023-01-12T12:27:12.348Z"
   },
   {
    "duration": 10,
    "start_time": "2023-01-12T12:27:12.623Z"
   },
   {
    "duration": 186,
    "start_time": "2023-01-12T12:27:12.635Z"
   },
   {
    "duration": 204,
    "start_time": "2023-01-12T12:27:12.823Z"
   },
   {
    "duration": 16,
    "start_time": "2023-01-12T12:27:13.029Z"
   },
   {
    "duration": 207,
    "start_time": "2023-01-12T12:27:13.046Z"
   },
   {
    "duration": 214,
    "start_time": "2023-01-12T12:27:13.254Z"
   },
   {
    "duration": 15,
    "start_time": "2023-01-12T12:27:13.470Z"
   },
   {
    "duration": 212,
    "start_time": "2023-01-12T12:27:13.487Z"
   },
   {
    "duration": 219,
    "start_time": "2023-01-12T12:27:13.701Z"
   },
   {
    "duration": 16,
    "start_time": "2023-01-12T12:27:13.923Z"
   },
   {
    "duration": 217,
    "start_time": "2023-01-12T12:27:13.941Z"
   },
   {
    "duration": 199,
    "start_time": "2023-01-12T12:27:14.160Z"
   },
   {
    "duration": 222,
    "start_time": "2023-01-12T12:27:14.361Z"
   },
   {
    "duration": 169,
    "start_time": "2023-01-12T12:27:14.585Z"
   },
   {
    "duration": 201,
    "start_time": "2023-01-12T12:27:14.756Z"
   },
   {
    "duration": 184,
    "start_time": "2023-01-12T12:27:14.958Z"
   },
   {
    "duration": 195,
    "start_time": "2023-01-12T12:27:15.143Z"
   },
   {
    "duration": 199,
    "start_time": "2023-01-12T12:27:15.340Z"
   },
   {
    "duration": 205,
    "start_time": "2023-01-12T12:27:15.541Z"
   },
   {
    "duration": 308,
    "start_time": "2023-01-12T12:27:15.748Z"
   },
   {
    "duration": 176,
    "start_time": "2023-01-12T12:27:16.057Z"
   },
   {
    "duration": 23,
    "start_time": "2023-01-12T12:27:16.235Z"
   },
   {
    "duration": 375,
    "start_time": "2023-01-12T12:27:16.259Z"
   },
   {
    "duration": 319,
    "start_time": "2023-01-12T12:27:16.636Z"
   },
   {
    "duration": 11,
    "start_time": "2023-01-12T12:50:27.722Z"
   },
   {
    "duration": 20,
    "start_time": "2023-01-12T12:50:33.995Z"
   },
   {
    "duration": 577,
    "start_time": "2023-01-12T12:51:53.499Z"
   },
   {
    "duration": 38,
    "start_time": "2023-01-12T12:51:54.078Z"
   },
   {
    "duration": 25,
    "start_time": "2023-01-12T12:51:54.121Z"
   },
   {
    "duration": 15,
    "start_time": "2023-01-12T12:51:54.148Z"
   },
   {
    "duration": 2459,
    "start_time": "2023-01-12T12:51:54.165Z"
   },
   {
    "duration": 7,
    "start_time": "2023-01-12T12:51:56.631Z"
   },
   {
    "duration": 8,
    "start_time": "2023-01-12T12:51:56.640Z"
   },
   {
    "duration": 7,
    "start_time": "2023-01-12T12:51:56.650Z"
   },
   {
    "duration": 7,
    "start_time": "2023-01-12T12:51:56.658Z"
   },
   {
    "duration": 15,
    "start_time": "2023-01-12T12:51:56.668Z"
   },
   {
    "duration": 30,
    "start_time": "2023-01-12T12:51:56.685Z"
   },
   {
    "duration": 23,
    "start_time": "2023-01-12T12:51:56.720Z"
   },
   {
    "duration": 10,
    "start_time": "2023-01-12T12:51:56.744Z"
   },
   {
    "duration": 7,
    "start_time": "2023-01-12T12:51:56.756Z"
   },
   {
    "duration": 6,
    "start_time": "2023-01-12T12:51:56.764Z"
   },
   {
    "duration": 11,
    "start_time": "2023-01-12T12:51:56.772Z"
   },
   {
    "duration": 28,
    "start_time": "2023-01-12T12:51:56.784Z"
   },
   {
    "duration": 9,
    "start_time": "2023-01-12T12:51:56.814Z"
   },
   {
    "duration": 28,
    "start_time": "2023-01-12T12:51:56.824Z"
   },
   {
    "duration": 32,
    "start_time": "2023-01-12T12:51:56.853Z"
   },
   {
    "duration": 4,
    "start_time": "2023-01-12T12:51:56.887Z"
   },
   {
    "duration": 10,
    "start_time": "2023-01-12T12:51:56.892Z"
   },
   {
    "duration": 61,
    "start_time": "2023-01-12T12:51:56.903Z"
   },
   {
    "duration": 9,
    "start_time": "2023-01-12T12:51:56.965Z"
   },
   {
    "duration": 19,
    "start_time": "2023-01-12T12:51:56.976Z"
   },
   {
    "duration": 16,
    "start_time": "2023-01-12T12:51:56.996Z"
   },
   {
    "duration": 25,
    "start_time": "2023-01-12T12:51:57.013Z"
   },
   {
    "duration": 18,
    "start_time": "2023-01-12T12:51:57.042Z"
   },
   {
    "duration": 483,
    "start_time": "2023-01-12T12:51:57.062Z"
   },
   {
    "duration": 10,
    "start_time": "2023-01-12T12:51:57.547Z"
   },
   {
    "duration": 61,
    "start_time": "2023-01-12T12:51:57.559Z"
   },
   {
    "duration": 13,
    "start_time": "2023-01-12T12:51:57.624Z"
   },
   {
    "duration": 408,
    "start_time": "2023-01-12T12:51:57.639Z"
   },
   {
    "duration": 75,
    "start_time": "2023-01-12T12:51:58.048Z"
   },
   {
    "duration": 16,
    "start_time": "2023-01-12T12:51:58.125Z"
   },
   {
    "duration": 5,
    "start_time": "2023-01-12T12:51:58.142Z"
   },
   {
    "duration": 14,
    "start_time": "2023-01-12T12:51:58.148Z"
   },
   {
    "duration": 9,
    "start_time": "2023-01-12T12:51:58.163Z"
   },
   {
    "duration": 292,
    "start_time": "2023-01-12T12:51:58.173Z"
   },
   {
    "duration": 4,
    "start_time": "2023-01-12T12:51:58.467Z"
   },
   {
    "duration": 59,
    "start_time": "2023-01-12T12:51:58.473Z"
   },
   {
    "duration": 166,
    "start_time": "2023-01-12T12:51:58.533Z"
   },
   {
    "duration": 149,
    "start_time": "2023-01-12T12:51:58.711Z"
   },
   {
    "duration": 191,
    "start_time": "2023-01-12T12:51:58.862Z"
   },
   {
    "duration": 286,
    "start_time": "2023-01-12T12:51:59.055Z"
   },
   {
    "duration": 144,
    "start_time": "2023-01-12T12:51:59.342Z"
   },
   {
    "duration": 191,
    "start_time": "2023-01-12T12:51:59.487Z"
   },
   {
    "duration": 159,
    "start_time": "2023-01-12T12:51:59.679Z"
   },
   {
    "duration": 189,
    "start_time": "2023-01-12T12:51:59.841Z"
   },
   {
    "duration": 232,
    "start_time": "2023-01-12T12:52:00.032Z"
   },
   {
    "duration": 225,
    "start_time": "2023-01-12T12:52:00.266Z"
   },
   {
    "duration": 193,
    "start_time": "2023-01-12T12:52:00.493Z"
   },
   {
    "duration": 167,
    "start_time": "2023-01-12T12:52:00.688Z"
   },
   {
    "duration": 178,
    "start_time": "2023-01-12T12:52:00.857Z"
   },
   {
    "duration": 366,
    "start_time": "2023-01-12T12:52:01.037Z"
   },
   {
    "duration": 285,
    "start_time": "2023-01-12T12:52:01.404Z"
   },
   {
    "duration": 23,
    "start_time": "2023-01-12T12:52:01.691Z"
   },
   {
    "duration": 167,
    "start_time": "2023-01-12T12:52:01.727Z"
   },
   {
    "duration": 204,
    "start_time": "2023-01-12T12:52:01.896Z"
   },
   {
    "duration": 35,
    "start_time": "2023-01-12T12:52:02.101Z"
   },
   {
    "duration": 356,
    "start_time": "2023-01-12T12:52:02.138Z"
   },
   {
    "duration": 192,
    "start_time": "2023-01-12T12:52:02.496Z"
   },
   {
    "duration": 39,
    "start_time": "2023-01-12T12:52:02.689Z"
   },
   {
    "duration": 160,
    "start_time": "2023-01-12T12:52:02.730Z"
   },
   {
    "duration": 186,
    "start_time": "2023-01-12T12:52:02.891Z"
   },
   {
    "duration": 13,
    "start_time": "2023-01-12T12:52:03.079Z"
   },
   {
    "duration": 176,
    "start_time": "2023-01-12T12:52:03.111Z"
   },
   {
    "duration": 182,
    "start_time": "2023-01-12T12:52:03.288Z"
   },
   {
    "duration": 187,
    "start_time": "2023-01-12T12:52:03.472Z"
   },
   {
    "duration": 152,
    "start_time": "2023-01-12T12:52:03.661Z"
   },
   {
    "duration": 193,
    "start_time": "2023-01-12T12:52:03.823Z"
   },
   {
    "duration": 177,
    "start_time": "2023-01-12T12:52:04.021Z"
   },
   {
    "duration": 187,
    "start_time": "2023-01-12T12:52:04.204Z"
   },
   {
    "duration": 202,
    "start_time": "2023-01-12T12:52:04.392Z"
   },
   {
    "duration": 184,
    "start_time": "2023-01-12T12:52:04.595Z"
   },
   {
    "duration": 306,
    "start_time": "2023-01-12T12:52:04.781Z"
   },
   {
    "duration": 194,
    "start_time": "2023-01-12T12:52:05.089Z"
   },
   {
    "duration": 38,
    "start_time": "2023-01-12T12:52:05.285Z"
   },
   {
    "duration": 360,
    "start_time": "2023-01-12T12:52:05.325Z"
   },
   {
    "duration": 345,
    "start_time": "2023-01-12T12:52:05.687Z"
   },
   {
    "duration": 537,
    "start_time": "2023-01-12T12:52:52.889Z"
   },
   {
    "duration": 29,
    "start_time": "2023-01-12T12:52:53.430Z"
   },
   {
    "duration": 20,
    "start_time": "2023-01-12T12:52:53.460Z"
   },
   {
    "duration": 41,
    "start_time": "2023-01-12T12:52:53.482Z"
   },
   {
    "duration": 2472,
    "start_time": "2023-01-12T12:52:53.525Z"
   },
   {
    "duration": 11,
    "start_time": "2023-01-12T12:52:55.999Z"
   },
   {
    "duration": 146,
    "start_time": "2023-01-12T12:52:56.011Z"
   },
   {
    "duration": 19,
    "start_time": "2023-01-12T12:52:56.160Z"
   },
   {
    "duration": 10,
    "start_time": "2023-01-12T12:52:56.181Z"
   },
   {
    "duration": 29,
    "start_time": "2023-01-12T12:52:56.193Z"
   },
   {
    "duration": 23,
    "start_time": "2023-01-12T12:52:56.225Z"
   },
   {
    "duration": 12,
    "start_time": "2023-01-12T12:52:56.250Z"
   },
   {
    "duration": 10,
    "start_time": "2023-01-12T12:52:56.264Z"
   },
   {
    "duration": 7,
    "start_time": "2023-01-12T12:52:56.276Z"
   },
   {
    "duration": 27,
    "start_time": "2023-01-12T12:52:56.285Z"
   },
   {
    "duration": 30,
    "start_time": "2023-01-12T12:52:56.321Z"
   },
   {
    "duration": 36,
    "start_time": "2023-01-12T12:52:56.353Z"
   },
   {
    "duration": 10,
    "start_time": "2023-01-12T12:52:56.391Z"
   },
   {
    "duration": 23,
    "start_time": "2023-01-12T12:52:56.402Z"
   },
   {
    "duration": 40,
    "start_time": "2023-01-12T12:52:56.427Z"
   },
   {
    "duration": 52,
    "start_time": "2023-01-12T12:52:56.469Z"
   },
   {
    "duration": 42,
    "start_time": "2023-01-12T12:52:56.527Z"
   },
   {
    "duration": 4,
    "start_time": "2023-01-12T12:52:56.571Z"
   },
   {
    "duration": 10,
    "start_time": "2023-01-12T12:52:56.577Z"
   },
   {
    "duration": 52,
    "start_time": "2023-01-12T12:52:56.589Z"
   },
   {
    "duration": 9,
    "start_time": "2023-01-12T12:52:56.643Z"
   },
   {
    "duration": 25,
    "start_time": "2023-01-12T12:52:56.653Z"
   },
   {
    "duration": 35,
    "start_time": "2023-01-12T12:52:56.683Z"
   },
   {
    "duration": 5,
    "start_time": "2023-01-12T12:52:56.719Z"
   },
   {
    "duration": 41,
    "start_time": "2023-01-12T12:52:56.725Z"
   },
   {
    "duration": 466,
    "start_time": "2023-01-12T12:52:56.768Z"
   },
   {
    "duration": 8,
    "start_time": "2023-01-12T12:52:57.235Z"
   },
   {
    "duration": 56,
    "start_time": "2023-01-12T12:52:57.245Z"
   },
   {
    "duration": 149,
    "start_time": "2023-01-12T12:52:57.302Z"
   },
   {
    "duration": 458,
    "start_time": "2023-01-12T12:52:57.454Z"
   },
   {
    "duration": 11,
    "start_time": "2023-01-12T12:52:57.920Z"
   },
   {
    "duration": 42,
    "start_time": "2023-01-12T12:52:57.933Z"
   },
   {
    "duration": 12,
    "start_time": "2023-01-12T12:52:57.977Z"
   },
   {
    "duration": 274,
    "start_time": "2023-01-12T12:52:57.991Z"
   },
   {
    "duration": 5,
    "start_time": "2023-01-12T12:52:58.267Z"
   },
   {
    "duration": 57,
    "start_time": "2023-01-12T12:52:58.274Z"
   },
   {
    "duration": 204,
    "start_time": "2023-01-12T12:52:58.333Z"
   },
   {
    "duration": 167,
    "start_time": "2023-01-12T12:52:58.539Z"
   },
   {
    "duration": 181,
    "start_time": "2023-01-12T12:52:58.713Z"
   },
   {
    "duration": 287,
    "start_time": "2023-01-12T12:52:58.896Z"
   },
   {
    "duration": 153,
    "start_time": "2023-01-12T12:52:59.185Z"
   },
   {
    "duration": 191,
    "start_time": "2023-01-12T12:52:59.339Z"
   },
   {
    "duration": 114,
    "start_time": "2023-01-12T12:52:59.531Z"
   },
   {
    "duration": 192,
    "start_time": "2023-01-12T12:52:59.647Z"
   },
   {
    "duration": 213,
    "start_time": "2023-01-12T12:52:59.841Z"
   },
   {
    "duration": 232,
    "start_time": "2023-01-12T12:53:00.056Z"
   },
   {
    "duration": 173,
    "start_time": "2023-01-12T12:53:00.290Z"
   },
   {
    "duration": 151,
    "start_time": "2023-01-12T12:53:00.464Z"
   },
   {
    "duration": 157,
    "start_time": "2023-01-12T12:53:00.617Z"
   },
   {
    "duration": 390,
    "start_time": "2023-01-12T12:53:00.776Z"
   },
   {
    "duration": 272,
    "start_time": "2023-01-12T12:53:01.167Z"
   },
   {
    "duration": 10,
    "start_time": "2023-01-12T12:53:01.441Z"
   },
   {
    "duration": 311,
    "start_time": "2023-01-12T12:53:01.452Z"
   },
   {
    "duration": 202,
    "start_time": "2023-01-12T12:53:01.765Z"
   },
   {
    "duration": 15,
    "start_time": "2023-01-12T12:53:01.968Z"
   },
   {
    "duration": 233,
    "start_time": "2023-01-12T12:53:01.985Z"
   },
   {
    "duration": 185,
    "start_time": "2023-01-12T12:53:02.222Z"
   },
   {
    "duration": 20,
    "start_time": "2023-01-12T12:53:02.408Z"
   },
   {
    "duration": 169,
    "start_time": "2023-01-12T12:53:02.430Z"
   },
   {
    "duration": 188,
    "start_time": "2023-01-12T12:53:02.604Z"
   },
   {
    "duration": 26,
    "start_time": "2023-01-12T12:53:02.794Z"
   },
   {
    "duration": 166,
    "start_time": "2023-01-12T12:53:02.828Z"
   },
   {
    "duration": 178,
    "start_time": "2023-01-12T12:53:02.996Z"
   },
   {
    "duration": 184,
    "start_time": "2023-01-12T12:53:03.176Z"
   },
   {
    "duration": 150,
    "start_time": "2023-01-12T12:53:03.362Z"
   },
   {
    "duration": 173,
    "start_time": "2023-01-12T12:53:03.515Z"
   },
   {
    "duration": 174,
    "start_time": "2023-01-12T12:53:03.690Z"
   },
   {
    "duration": 186,
    "start_time": "2023-01-12T12:53:03.866Z"
   },
   {
    "duration": 209,
    "start_time": "2023-01-12T12:53:04.053Z"
   },
   {
    "duration": 186,
    "start_time": "2023-01-12T12:53:04.264Z"
   },
   {
    "duration": 290,
    "start_time": "2023-01-12T12:53:04.451Z"
   },
   {
    "duration": 178,
    "start_time": "2023-01-12T12:53:04.743Z"
   },
   {
    "duration": 28,
    "start_time": "2023-01-12T12:53:04.923Z"
   },
   {
    "duration": 340,
    "start_time": "2023-01-12T12:53:04.952Z"
   },
   {
    "duration": 348,
    "start_time": "2023-01-12T12:53:05.293Z"
   },
   {
    "duration": 8,
    "start_time": "2023-01-12T12:54:12.897Z"
   },
   {
    "duration": 5,
    "start_time": "2023-01-12T12:54:24.380Z"
   },
   {
    "duration": 625,
    "start_time": "2023-01-13T18:23:01.883Z"
   },
   {
    "duration": 102,
    "start_time": "2023-01-13T18:23:02.510Z"
   },
   {
    "duration": 32,
    "start_time": "2023-01-13T18:23:02.615Z"
   },
   {
    "duration": 22,
    "start_time": "2023-01-13T18:23:02.649Z"
   },
   {
    "duration": 14,
    "start_time": "2023-01-13T18:23:02.672Z"
   },
   {
    "duration": 1981,
    "start_time": "2023-01-13T18:23:02.688Z"
   },
   {
    "duration": 3,
    "start_time": "2023-01-13T18:23:04.671Z"
   },
   {
    "duration": 14,
    "start_time": "2023-01-13T18:23:04.675Z"
   },
   {
    "duration": 14,
    "start_time": "2023-01-13T18:23:04.690Z"
   },
   {
    "duration": 11,
    "start_time": "2023-01-13T18:23:04.707Z"
   },
   {
    "duration": 27,
    "start_time": "2023-01-13T18:23:04.720Z"
   },
   {
    "duration": 29,
    "start_time": "2023-01-13T18:23:04.749Z"
   },
   {
    "duration": 14,
    "start_time": "2023-01-13T18:23:04.779Z"
   },
   {
    "duration": 13,
    "start_time": "2023-01-13T18:23:04.794Z"
   },
   {
    "duration": 21,
    "start_time": "2023-01-13T18:23:04.808Z"
   },
   {
    "duration": 15,
    "start_time": "2023-01-13T18:23:04.831Z"
   },
   {
    "duration": 8,
    "start_time": "2023-01-13T18:23:04.847Z"
   },
   {
    "duration": 17,
    "start_time": "2023-01-13T18:23:04.857Z"
   },
   {
    "duration": 20,
    "start_time": "2023-01-13T18:23:04.876Z"
   },
   {
    "duration": 7,
    "start_time": "2023-01-13T18:23:04.898Z"
   },
   {
    "duration": 11,
    "start_time": "2023-01-13T18:23:04.906Z"
   },
   {
    "duration": 28,
    "start_time": "2023-01-13T18:23:04.919Z"
   },
   {
    "duration": 40,
    "start_time": "2023-01-13T18:23:04.949Z"
   },
   {
    "duration": 3,
    "start_time": "2023-01-13T18:23:04.991Z"
   },
   {
    "duration": 11,
    "start_time": "2023-01-13T18:23:04.995Z"
   },
   {
    "duration": 21,
    "start_time": "2023-01-13T18:23:05.007Z"
   },
   {
    "duration": 26,
    "start_time": "2023-01-13T18:23:05.030Z"
   },
   {
    "duration": 29,
    "start_time": "2023-01-13T18:23:05.061Z"
   },
   {
    "duration": 18,
    "start_time": "2023-01-13T18:23:05.092Z"
   },
   {
    "duration": 24,
    "start_time": "2023-01-13T18:23:05.111Z"
   },
   {
    "duration": 18,
    "start_time": "2023-01-13T18:23:05.136Z"
   },
   {
    "duration": 42,
    "start_time": "2023-01-13T18:23:05.156Z"
   },
   {
    "duration": 7,
    "start_time": "2023-01-13T18:23:05.200Z"
   },
   {
    "duration": 22,
    "start_time": "2023-01-13T18:23:05.209Z"
   },
   {
    "duration": 13,
    "start_time": "2023-01-13T18:23:05.235Z"
   },
   {
    "duration": 20,
    "start_time": "2023-01-13T18:23:05.249Z"
   },
   {
    "duration": 29,
    "start_time": "2023-01-13T18:23:05.270Z"
   },
   {
    "duration": 711,
    "start_time": "2023-01-13T18:23:05.301Z"
   },
   {
    "duration": 24,
    "start_time": "2023-01-13T18:23:06.014Z"
   },
   {
    "duration": 112,
    "start_time": "2023-01-13T18:23:06.040Z"
   },
   {
    "duration": 9,
    "start_time": "2023-01-13T18:23:06.154Z"
   },
   {
    "duration": 637,
    "start_time": "2023-01-13T18:23:06.164Z"
   },
   {
    "duration": 5,
    "start_time": "2023-01-13T18:23:06.802Z"
   },
   {
    "duration": 14,
    "start_time": "2023-01-13T18:23:06.808Z"
   },
   {
    "duration": 32,
    "start_time": "2023-01-13T18:23:06.824Z"
   },
   {
    "duration": 8,
    "start_time": "2023-01-13T18:23:06.857Z"
   },
   {
    "duration": 403,
    "start_time": "2023-01-13T18:23:06.866Z"
   },
   {
    "duration": 5,
    "start_time": "2023-01-13T18:23:07.270Z"
   },
   {
    "duration": 62,
    "start_time": "2023-01-13T18:23:07.277Z"
   },
   {
    "duration": 160,
    "start_time": "2023-01-13T18:23:07.341Z"
   },
   {
    "duration": 177,
    "start_time": "2023-01-13T18:23:07.503Z"
   },
   {
    "duration": 253,
    "start_time": "2023-01-13T18:23:07.682Z"
   },
   {
    "duration": 201,
    "start_time": "2023-01-13T18:23:07.937Z"
   },
   {
    "duration": 170,
    "start_time": "2023-01-13T18:23:08.140Z"
   },
   {
    "duration": 173,
    "start_time": "2023-01-13T18:23:08.312Z"
   },
   {
    "duration": 139,
    "start_time": "2023-01-13T18:23:08.487Z"
   },
   {
    "duration": 173,
    "start_time": "2023-01-13T18:23:08.628Z"
   },
   {
    "duration": 190,
    "start_time": "2023-01-13T18:23:08.803Z"
   },
   {
    "duration": 231,
    "start_time": "2023-01-13T18:23:08.994Z"
   },
   {
    "duration": 192,
    "start_time": "2023-01-13T18:23:09.226Z"
   },
   {
    "duration": 156,
    "start_time": "2023-01-13T18:23:09.419Z"
   },
   {
    "duration": 146,
    "start_time": "2023-01-13T18:23:09.576Z"
   },
   {
    "duration": 321,
    "start_time": "2023-01-13T18:23:09.725Z"
   },
   {
    "duration": 10,
    "start_time": "2023-01-13T18:23:10.048Z"
   },
   {
    "duration": 6,
    "start_time": "2023-01-13T18:23:10.060Z"
   },
   {
    "duration": 206,
    "start_time": "2023-01-13T18:23:10.067Z"
   },
   {
    "duration": 6,
    "start_time": "2023-01-13T18:23:10.274Z"
   },
   {
    "duration": 200,
    "start_time": "2023-01-13T18:23:10.282Z"
   },
   {
    "duration": 5,
    "start_time": "2023-01-13T18:23:10.484Z"
   },
   {
    "duration": 187,
    "start_time": "2023-01-13T18:23:10.490Z"
   },
   {
    "duration": 5,
    "start_time": "2023-01-13T18:23:10.679Z"
   },
   {
    "duration": 185,
    "start_time": "2023-01-13T18:23:10.685Z"
   },
   {
    "duration": 159,
    "start_time": "2023-01-13T18:23:10.871Z"
   },
   {
    "duration": 132,
    "start_time": "2023-01-13T18:23:11.034Z"
   },
   {
    "duration": 174,
    "start_time": "2023-01-13T18:23:11.167Z"
   },
   {
    "duration": 140,
    "start_time": "2023-01-13T18:23:11.343Z"
   },
   {
    "duration": 179,
    "start_time": "2023-01-13T18:23:11.485Z"
   },
   {
    "duration": 243,
    "start_time": "2023-01-13T18:23:11.665Z"
   },
   {
    "duration": 181,
    "start_time": "2023-01-13T18:23:11.909Z"
   },
   {
    "duration": 155,
    "start_time": "2023-01-13T18:23:12.091Z"
   },
   {
    "duration": 176,
    "start_time": "2023-01-13T18:23:12.247Z"
   },
   {
    "duration": 26,
    "start_time": "2023-01-13T18:23:12.436Z"
   },
   {
    "duration": 372,
    "start_time": "2023-01-13T18:23:12.465Z"
   },
   {
    "duration": 310,
    "start_time": "2023-01-13T18:23:12.839Z"
   },
   {
    "duration": 261,
    "start_time": "2023-01-13T18:23:13.150Z"
   },
   {
    "duration": 2,
    "start_time": "2023-01-13T18:23:13.413Z"
   },
   {
    "duration": 15,
    "start_time": "2023-01-13T18:24:01.696Z"
   },
   {
    "duration": 88,
    "start_time": "2023-01-13T18:24:05.776Z"
   },
   {
    "duration": 90,
    "start_time": "2023-01-13T18:25:39.628Z"
   },
   {
    "duration": 89,
    "start_time": "2023-01-13T18:26:12.269Z"
   },
   {
    "duration": 36,
    "start_time": "2023-01-13T18:26:16.270Z"
   }
  ],
  "kernelspec": {
   "display_name": "Python 3 (ipykernel)",
   "language": "python",
   "name": "python3"
  },
  "language_info": {
   "codemirror_mode": {
    "name": "ipython",
    "version": 3
   },
   "file_extension": ".py",
   "mimetype": "text/x-python",
   "name": "python",
   "nbconvert_exporter": "python",
   "pygments_lexer": "ipython3",
   "version": "3.9.12"
  },
  "toc": {
   "base_numbering": 1,
   "nav_menu": {},
   "number_sections": true,
   "sideBar": true,
   "skip_h1_title": true,
   "title_cell": "Table of Contents",
   "title_sidebar": "Contents",
   "toc_cell": false,
   "toc_position": {},
   "toc_section_display": true,
   "toc_window_display": true
  }
 },
 "nbformat": 4,
 "nbformat_minor": 2
}
